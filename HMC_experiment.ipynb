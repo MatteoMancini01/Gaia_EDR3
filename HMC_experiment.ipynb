{
 "cells": [
  {
   "cell_type": "markdown",
   "id": "70121ef9",
   "metadata": {},
   "source": [
    "# HMC"
   ]
  },
  {
   "cell_type": "code",
   "execution_count": 1,
   "id": "66971915",
   "metadata": {},
   "outputs": [
    {
     "name": "stderr",
     "output_type": "stream",
     "text": [
      "/root/Document/Gaia_Project/mem97/src/models/vsh_model.py:93: SyntaxWarning: invalid escape sequence '\\d'\n",
      "  \"\"\"\n",
      "/root/Document/Gaia_Project/mem97/src/models/vsh_model.py:144: SyntaxWarning: invalid escape sequence '\\d'\n",
      "  \"\"\"\n",
      "/root/Document/Gaia_Project/mem97/src/models/vsh_model.py:203: SyntaxWarning: invalid escape sequence '\\d'\n",
      "  \"\"\"\n",
      "/root/Document/Gaia_Project/mem97/gaia_venv/lib/python3.12/site-packages/tqdm/auto.py:21: TqdmWarning: IProgress not found. Please update jupyter and ipywidgets. See https://ipywidgets.readthedocs.io/en/stable/user_install.html\n",
      "  from .autonotebook import tqdm as notebook_tqdm\n"
     ]
    }
   ],
   "source": [
    "import jax \n",
    "import jax.numpy as jnp\n",
    "from jax import jit, vmap\n",
    "from jax import random\n",
    "from src.models.vsh_model import*\n",
    "from src.models.configuration import*\n",
    "from src.data.data_utils import*\n",
    "from numpyro.infer import MCMC, NUTS\n",
    "import numpyro\n",
    "import numpyro.distributions as dist"
   ]
  },
  {
   "cell_type": "code",
   "execution_count": 2,
   "id": "8bf6baae",
   "metadata": {},
   "outputs": [],
   "source": [
    "df = load_qso_dataframe()\n",
    "angles, obs, error = config_data(df)"
   ]
  },
  {
   "cell_type": "code",
   "execution_count": 3,
   "id": "117d0203",
   "metadata": {},
   "outputs": [],
   "source": [
    "def model_for_HMC(angles, obs, error, lmax):\n",
    "    total_params = count_vsh_coeffs(lmax)//2\n",
    "    \n",
    "    # Prior on all VSH coefficients (both toroidal and spheroidal)\n",
    "    theta_t = numpyro.sample(\"theta_t\", dist.Uniform(-0.05, 0.05).expand([total_params]))\n",
    "    theta_s = numpyro.sample(\"theta_s\", dist.Uniform(-0.008, 0.008).expand([total_params]))\n",
    "    # Least-squares residuals: we assume Gaussian-distributed residuals\n",
    "    chi2_val = least_square_hmc(angles, obs, error, theta_t, theta_s, lmax=lmax, grid=False)\n",
    "\n",
    "    # The log-likelihood is proportional to -0.5*chi^2\n",
    "    numpyro.factor(\"likelihood\", -0.5*chi2_val)\n"
   ]
  },
  {
   "cell_type": "code",
   "execution_count": 4,
   "id": "c13381ea",
   "metadata": {},
   "outputs": [
    {
     "name": "stderr",
     "output_type": "stream",
     "text": [
      "/tmp/ipykernel_38919/2368269286.py:3: UserWarning: There are not enough devices to run parallel chains: expected 4 but got 1. Chains will be drawn sequentially. If you are running MCMC in CPU, consider using `numpyro.set_host_device_count(4)` at the beginning of your program. You can double-check how many devices are available in your system using `jax.local_device_count()`.\n",
      "  mcmc = MCMC(kernel, num_warmup=100, num_samples=2000, num_chains=4, progress_bar=True)\n",
      "  0%|          | 0/2100 [00:00<?, ?it/s]2025-05-18 23:53:49.869989: E external/xla/xla/service/slow_operation_alarm.cc:73] Constant folding an instruction is taking > 1s:\n",
      "\n",
      "  %multiply.4844 = f32[1215942]{0} multiply(%constant.5562, %broadcast.3368), metadata={op_name=\"jit(_body_fn)/jit(main)/while/body/while/body/jvp(jit(least_square_hmc))/vmap(jit(model_vsh_hmc))/jit(T_lm)/jit(T_lm_scalar)/jvp(jit(Y_lm))/exp\" source_file=\"/root/Document/Gaia_Project/mem97/src/models/vsh_model.py\" source_line=196}\n",
      "\n",
      "This isn't necessarily a bug; constant-folding is inherently a trade-off between compilation time and speed at runtime. XLA has some guards that attempt to keep constant folding from taking too long, but fundamentally you'll always be able to come up with an input program that takes a long time.\n",
      "\n",
      "If you'd like to file a bug, run with envvar XLA_FLAGS=--xla_dump_to=/tmp/foo and attach the results.\n",
      "2025-05-18 23:53:49.872492: E external/xla/xla/service/slow_operation_alarm.cc:140] The operation took 1.699740912s\n",
      "Constant folding an instruction is taking > 1s:\n",
      "\n",
      "  %multiply.4844 = f32[1215942]{0} multiply(%constant.5562, %broadcast.3368), metadata={op_name=\"jit(_body_fn)/jit(main)/while/body/while/body/jvp(jit(least_square_hmc))/vmap(jit(model_vsh_hmc))/jit(T_lm)/jit(T_lm_scalar)/jvp(jit(Y_lm))/exp\" source_file=\"/root/Document/Gaia_Project/mem97/src/models/vsh_model.py\" source_line=196}\n",
      "\n",
      "This isn't necessarily a bug; constant-folding is inherently a trade-off between compilation time and speed at runtime. XLA has some guards that attempt to keep constant folding from taking too long, but fundamentally you'll always be able to come up with an input program that takes a long time.\n",
      "\n",
      "If you'd like to file a bug, run with envvar XLA_FLAGS=--xla_dump_to=/tmp/foo and attach the results.\n",
      "sample: 100%|██████████| 2100/2100 [03:11<00:00, 10.95it/s, 15 steps of size 3.85e-01. acc. prob=0.92]\n",
      "sample: 100%|██████████| 2100/2100 [03:30<00:00,  9.96it/s, 15 steps of size 3.25e-01. acc. prob=0.94]\n",
      "sample: 100%|██████████| 2100/2100 [03:40<00:00,  9.54it/s, 15 steps of size 3.24e-01. acc. prob=0.93]\n",
      "sample: 100%|██████████| 2100/2100 [03:22<00:00, 10.36it/s, 15 steps of size 3.57e-01. acc. prob=0.92]\n"
     ]
    }
   ],
   "source": [
    "kernel = NUTS(model_for_HMC, target_accept_prob=0.8)\n",
    "rng_key = jax.random.key(0)\n",
    "mcmc = MCMC(kernel, num_warmup=100, num_samples=2000, num_chains=4, progress_bar=True)\n",
    "mcmc.run(rng_key, angles=angles, obs=obs, error=error, lmax=2)\n",
    "\n",
    "posterior_sample = mcmc.get_samples()"
   ]
  },
  {
   "cell_type": "code",
   "execution_count": 5,
   "id": "ce14ad94",
   "metadata": {},
   "outputs": [
    {
     "name": "stdout",
     "output_type": "stream",
     "text": [
      "\n",
      "                mean       std    median      5.0%     95.0%     n_eff     r_hat\n",
      "theta_s[0]     -0.01      0.00     -0.01     -0.01     -0.01   5961.28      1.00\n",
      "theta_s[1]      0.00      0.00      0.00      0.00      0.01   8988.67      1.00\n",
      "theta_s[2]     -0.01      0.00     -0.01     -0.01     -0.01  10613.53      1.00\n",
      "theta_s[3]     -0.00      0.00     -0.00     -0.00     -0.00   8346.74      1.00\n",
      "theta_s[4]      0.01      0.00      0.01      0.01      0.01   6399.99      1.00\n",
      "theta_s[5]      0.01      0.00      0.01      0.01      0.01   5728.62      1.00\n",
      "theta_s[6]     -0.00      0.00     -0.00     -0.01     -0.00   5907.73      1.00\n",
      "theta_s[7]      0.01      0.00      0.01      0.00      0.01   5828.49      1.00\n",
      "theta_t[0]     -0.00      0.00     -0.00     -0.00     -0.00   7829.94      1.00\n",
      "theta_t[1]     -0.01      0.00     -0.01     -0.01     -0.01   9833.46      1.00\n",
      "theta_t[2]      0.01      0.00      0.01      0.00      0.01   9484.70      1.00\n",
      "theta_t[3]      0.01      0.00      0.01      0.01      0.01   8885.95      1.00\n",
      "theta_t[4]      0.00      0.00      0.00     -0.00      0.00  11439.96      1.00\n",
      "theta_t[5]      0.00      0.00      0.00      0.00      0.01   9110.96      1.00\n",
      "theta_t[6]     -0.00      0.00     -0.00     -0.01     -0.00  10258.13      1.00\n",
      "theta_t[7]      0.01      0.00      0.01      0.00      0.01   9327.35      1.00\n",
      "\n",
      "Number of divergences: 0\n"
     ]
    }
   ],
   "source": [
    "mcmc.print_summary()"
   ]
  },
  {
   "cell_type": "code",
   "execution_count": 6,
   "id": "c82e4ca0",
   "metadata": {},
   "outputs": [],
   "source": [
    "s_lm = jnp.mean(posterior_sample['theta_s'], axis=0)\n",
    "t_lm = jnp.mean(posterior_sample['theta_t'], axis=0)\n",
    "std_s = jnp.std(posterior_sample['theta_s'], axis=0)\n",
    "std_t = jnp.std(posterior_sample['theta_t'], axis=0)"
   ]
  },
  {
   "cell_type": "code",
   "execution_count": 7,
   "id": "4267104e",
   "metadata": {},
   "outputs": [
    {
     "name": "stdout",
     "output_type": "stream",
     "text": [
      "Equatorial components:\n",
      "G_vec = [-1.4547749 -3.8274574 -2.1835685] +/- [0.6650398  0.08050711 0.27697843](μas/yr)\n",
      "Magnitude = 4.640449523925781 +/- 0.585536539554596 (μas/yr)\n",
      "RA = 249.18875122070312 +/- 17.822141647338867 (deg)\n",
      "Dec = -28.070072174072266 +/- 2.8098304271698 (deg)\n",
      "\n",
      "Galactic components:\n",
      "G_vec = [ 4.47936163 -0.64733841  1.024716  ] +/- [0.15567797 0.38996001 0.59090767](μas/yr)\n",
      "l = 351.77678753104533 +/- 4.89408390807209 (deg)\n",
      "d = 12.757351775152259 +/- 0.42132514388443626 (deg)\n"
     ]
    }
   ],
   "source": [
    "spheroidal_vector_summary(s_lm, std_s**2, index = np.array([0,1,2]))"
   ]
  },
  {
   "cell_type": "code",
   "execution_count": 8,
   "id": "75a0cb07",
   "metadata": {},
   "outputs": [
    {
     "name": "stdout",
     "output_type": "stream",
     "text": [
      "R_vec = [ 5.5001535 -2.4638968 -0.7120509] +/- [17.297695 16.898705 10.669681](μas/yr)\n",
      "Magnitude = 6.06873083114624 +/- 35.2105598449707 (μas/yr)\n",
      "RA = 335.8691101074219 +/- 330.11083984375 (deg)\n",
      "Dec = -6.738097667694092 +/- 35.832176208496094 (deg)\n"
     ]
    }
   ],
   "source": [
    "toroidal_vector_summary(t_lm, std_t, index = np.array([0,1,2]))"
   ]
  },
  {
   "cell_type": "markdown",
   "id": "b1457da3",
   "metadata": {},
   "source": [
    "Try to extract covariance of VSH coefficients after determining posterior distribution"
   ]
  },
  {
   "cell_type": "code",
   "execution_count": 14,
   "id": "d67689e8",
   "metadata": {},
   "outputs": [],
   "source": [
    "def cov_matrix_hmc(posterior_sample, indices=None):\n",
    "    theta_samples = np.array(posterior_sample)\n",
    "    cov_matrix = np.cov(theta_samples, rowvar=False)\n",
    "    \n",
    "    if indices is not None:\n",
    "        cov_matrix = cov_matrix[np.ix_(indices, indices)]\n",
    "\n",
    "    return cov_matrix\n"
   ]
  },
  {
   "cell_type": "code",
   "execution_count": 15,
   "id": "31a53c23",
   "metadata": {},
   "outputs": [],
   "source": [
    "cov_slm = cov_matrix_hmc(posterior_sample[\"theta_s\"], indices=[0,1,2])"
   ]
  },
  {
   "cell_type": "code",
   "execution_count": 16,
   "id": "c96a45b9",
   "metadata": {},
   "outputs": [
    {
     "name": "stdout",
     "output_type": "stream",
     "text": [
      "(3, 3)\n",
      "Correlation matrix of spheroidal coefficients of VSH\n",
      "[[ 1.         -0.02017899 -0.00758782]\n",
      " [-0.02017899  1.         -0.00990544]\n",
      " [-0.00758782 -0.00990544  1.        ]]\n",
      "\n",
      "Example:\n",
      "rho(s11r,s11i) = -0.020178985647500453\n"
     ]
    }
   ],
   "source": [
    "correlation_slm = rho_matrix(cov_slm)\n",
    "print(correlation_slm.shape)\n",
    "print(\"Correlation matrix of spheroidal coefficients of VSH\")\n",
    "print(correlation_slm)\n",
    "print('')\n",
    "print(\"Example:\")\n",
    "print(f\"rho(s11r,s11i) = {correlation_slm[0][1]}\")"
   ]
  },
  {
   "cell_type": "code",
   "execution_count": 17,
   "id": "efd506e1",
   "metadata": {},
   "outputs": [],
   "source": [
    "summary_equatorial, v_vec, Sigma_v = vsh_vector_summary(s_lm, cov_slm)"
   ]
  },
  {
   "cell_type": "code",
   "execution_count": 18,
   "id": "f4ab33e0",
   "metadata": {},
   "outputs": [
    {
     "data": {
      "text/plain": [
       "{'|g| (μas/yr)': np.float32(4.6404495),\n",
       " 'g (μas/yr)': array([-1.4547749, -3.8274574, -2.1835685], dtype=float32),\n",
       " '|sigma_g| (μas/yr)': np.float64(0.5649745527185548),\n",
       " 'sigma_g (μas/yr)': array([0.39173117, 0.66508133, 0.05693069]),\n",
       " 'Corr_gx_gy': np.float64(0.020178985647500453),\n",
       " 'Corr_gx_gz': np.float64(0.007587822208358225),\n",
       " 'Corr_gy_gz': np.float64(-0.009905442567999235)}"
      ]
     },
     "execution_count": 18,
     "metadata": {},
     "output_type": "execute_result"
    }
   ],
   "source": [
    "summary_equatorial"
   ]
  },
  {
   "cell_type": "code",
   "execution_count": 19,
   "id": "ec900b88",
   "metadata": {},
   "outputs": [],
   "source": [
    "alpha_delta_result = alpha_delta_summary(v_vec, Sigma_v)"
   ]
  },
  {
   "cell_type": "code",
   "execution_count": 20,
   "id": "135ecd66",
   "metadata": {},
   "outputs": [
    {
     "data": {
      "text/plain": [
       "{'RA (deg)': np.float32(249.18875),\n",
       " 'Sigma_RA (deg)': np.float64(3.9594852777931036),\n",
       " 'Dec (deg)': np.float32(-28.070072),\n",
       " 'Sigma_Dec (deg)': np.float64(3.9594852777931036),\n",
       " 'Corr_RA_dec': np.float64(0.9721501459177418)}"
      ]
     },
     "execution_count": 20,
     "metadata": {},
     "output_type": "execute_result"
    }
   ],
   "source": [
    "alpha_delta_result"
   ]
  }
 ],
 "metadata": {
  "kernelspec": {
   "display_name": "gaia_venv",
   "language": "python",
   "name": "python3"
  },
  "language_info": {
   "codemirror_mode": {
    "name": "ipython",
    "version": 3
   },
   "file_extension": ".py",
   "mimetype": "text/x-python",
   "name": "python",
   "nbconvert_exporter": "python",
   "pygments_lexer": "ipython3",
   "version": "3.12.3"
  }
 },
 "nbformat": 4,
 "nbformat_minor": 5
}
