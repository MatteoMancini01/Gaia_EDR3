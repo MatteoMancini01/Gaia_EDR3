{
 "cells": [
  {
   "cell_type": "code",
   "execution_count": 1,
   "id": "9e2dbe5a",
   "metadata": {},
   "outputs": [
    {
     "name": "stderr",
     "output_type": "stream",
     "text": [
      "/root/Document/Gaia_Project/mem97/gaia_venv/lib/python3.12/site-packages/tqdm/auto.py:21: TqdmWarning: IProgress not found. Please update jupyter and ipywidgets. See https://ipywidgets.readthedocs.io/en/stable/user_install.html\n",
      "  from .autonotebook import tqdm as notebook_tqdm\n"
     ]
    }
   ],
   "source": [
    "import jax\n",
    "import jax.numpy as jnp\n",
    "import numpyro\n",
    "from numpyro.infer import NUTS, MCMC, Predictive\n",
    "from numpyro import handlers\n",
    "from numpyro.diagnostics import summary, autocorrelation\n",
    "import numpyro.distributions as dist\n",
    "from src.models.vsh_model import*\n",
    "from src.models.configuration import*\n",
    "from src.data.data_utils import*\n",
    "from src.plot.plots import*\n",
    "from src.save_load_pkl.save_load import*"
   ]
  },
  {
   "cell_type": "code",
   "execution_count": 2,
   "id": "ac6d876b",
   "metadata": {},
   "outputs": [],
   "source": [
    "def chi2_jit(angles, obs, error, theta, lmax):\n",
    "    return least_square(angles, obs, error, theta, lmax=lmax, grid=False)\n",
    "chi2_jit = jit(chi2_jit, static_argnames=['lmax'])\n",
    "\n",
    "\n",
    "def model_for_HMC(angles, obs, error, lmax):\n",
    "    total_params = count_vsh_coeffs(lmax)\n",
    "    \n",
    "    # Prior on all VSH coefficients (both toroidal and spheroidal)\n",
    "    theta = numpyro.sample(\"theta\", dist.Normal(0.0, 1.0).expand([total_params]))\n",
    "    # Least-squares residuals: we assume Gaussian-distributed residuals\n",
    "    chi2_val = chi2_jit(angles, obs, error, theta, lmax=lmax)\n",
    "\n",
    "    # The log-likelihood is proportional to -0.5*chi^2\n",
    "    numpyro.factor(\"likelihood\", -0.5*chi2_val)\n",
    "\n",
    "n_s = 1000 # number of samples\n",
    "n_warmup = 200 #  number of warmups \n",
    "n_chains = 3 # numbe of chains"
   ]
  },
  {
   "cell_type": "code",
   "execution_count": 3,
   "id": "e6fa7860",
   "metadata": {},
   "outputs": [],
   "source": [
    "df = load_filtered_qso_df() # load filtered data\n",
    "angles, obs, error = config_data(df)"
   ]
  },
  {
   "cell_type": "code",
   "execution_count": 4,
   "id": "f5c16897",
   "metadata": {},
   "outputs": [
    {
     "name": "stderr",
     "output_type": "stream",
     "text": [
      "sample: 100%|██████████| 1200/1200 [01:25<00:00, 14.00it/s, 7 steps of size 3.58e-02. acc. prob=0.85]  \n",
      "sample: 100%|██████████| 1200/1200 [00:37<00:00, 31.63it/s, 7 steps of size 3.90e-02. acc. prob=0.82] \n",
      "sample: 100%|██████████| 1200/1200 [00:43<00:00, 27.81it/s, 15 steps of size 3.40e-02. acc. prob=0.87] \n"
     ]
    },
    {
     "name": "stdout",
     "output_type": "stream",
     "text": [
      "Coefficients of interest, s_10, s_11r and s_11i\n",
      "Their respsecive r_hat values are: 1.0000629425048828, 0.9995251297950745 and 0.999615490436554\n",
      "Their respective effective sample size are : 1987.2052544820829, 2642.5333554772883 and 3845.410651009035\n",
      "\n",
      "                mean       std    median      5.0%     95.0%     n_eff     r_hat\n",
      "  theta[0]      0.00      0.00      0.00     -0.00      0.00   1380.22      1.00\n",
      "  theta[1]     -0.01      0.00     -0.01     -0.01     -0.01   1987.21      1.00\n",
      "  theta[2]     -0.01      0.00     -0.01     -0.01     -0.00   3124.36      1.00\n",
      "  theta[3]      0.00      0.00      0.00      0.00      0.00   3976.41      1.00\n",
      "  theta[4]      0.00      0.00      0.00     -0.00      0.00   2642.53      1.00\n",
      "  theta[5]     -0.01      0.00     -0.01     -0.01     -0.01   3845.41      1.00\n",
      "  theta[6]      0.00      0.00      0.00      0.00      0.01   1953.43      1.00\n",
      "  theta[7]     -0.00      0.00     -0.00     -0.01     -0.00   2103.70      1.00\n",
      "  theta[8]      0.00      0.00      0.00      0.00      0.00   4341.47      1.00\n",
      "  theta[9]      0.00      0.00      0.00     -0.00      0.00   3570.90      1.00\n",
      " theta[10]      0.00      0.00      0.00      0.00      0.01   4609.03      1.00\n",
      " theta[11]      0.01      0.00      0.01      0.00      0.01   3461.24      1.00\n",
      " theta[12]     -0.00      0.00     -0.00     -0.00     -0.00   3578.55      1.00\n",
      " theta[13]      0.00      0.00      0.00      0.00      0.00   3672.45      1.00\n",
      " theta[14]     -0.01      0.00     -0.01     -0.01     -0.00   3308.71      1.00\n",
      " theta[15]      0.00      0.00      0.00      0.00      0.00   2692.36      1.00\n",
      " theta[16]      0.00      0.00      0.00      0.00      0.01   2377.58      1.00\n",
      " theta[17]      0.00      0.00      0.00      0.00      0.00   2430.09      1.00\n",
      " theta[18]     -0.00      0.00     -0.00     -0.01     -0.00   5315.83      1.00\n",
      " theta[19]      0.00      0.00      0.00      0.00      0.00   2444.94      1.00\n",
      " theta[20]      0.00      0.00      0.00      0.00      0.00   5946.99      1.00\n",
      " theta[21]      0.00      0.00      0.00      0.00      0.00   3861.99      1.00\n",
      " theta[22]     -0.00      0.00     -0.00     -0.00     -0.00   4012.53      1.00\n",
      " theta[23]     -0.00      0.00     -0.00     -0.01     -0.00   4746.70      1.00\n",
      " theta[24]      0.00      0.00      0.00      0.00      0.00   4416.15      1.00\n",
      " theta[25]     -0.00      0.00     -0.00     -0.00     -0.00   4457.99      1.00\n",
      " theta[26]      0.00      0.00      0.00      0.00      0.00   4323.13      1.00\n",
      " theta[27]     -0.01      0.00     -0.01     -0.01     -0.00   3361.44      1.00\n",
      " theta[28]      0.00      0.00      0.00      0.00      0.00   3418.16      1.00\n",
      " theta[29]     -0.00      0.00     -0.00     -0.00     -0.00   3938.18      1.00\n",
      "\n",
      "Number of divergences: 0\n"
     ]
    }
   ],
   "source": [
    "rng_key = jax.random.key(0)\n",
    "\n",
    "kernel_norm = NUTS(model_for_HMC, target_accept_prob=0.75) # this is to make sure acceptance does not exceed 90%\n",
    "mcmc_norm = MCMC(kernel_norm, num_warmup=n_warmup, num_samples=n_s, num_chains=n_chains, chain_method='sequential', progress_bar=True)\n",
    "mcmc_norm.run(rng_key, angles = angles, obs = obs, error = error, lmax=3)\n",
    "posterior_sample_norm = mcmc_norm.get_samples()\n",
    "\n",
    "diagnostic_norm = summary(mcmc_norm.get_samples(group_by_chain=True))\n",
    "\n",
    "r_hat_norm = diagnostic_norm['theta']['r_hat']\n",
    "n_eff_norm = diagnostic_norm['theta']['n_eff']\n",
    "iat = estimate_iat(n_s, n_chains, n_eff_norm)\n",
    "\n",
    "print('Coefficients of interest, s_10, s_11r and s_11i')\n",
    "print(f'Their respsecive r_hat values are: {r_hat_norm[1]}, {r_hat_norm[4]} and {r_hat_norm[5]}')\n",
    "print(f'Their respective effective sample size are : {n_eff_norm[1]}, {n_eff_norm[4]} and {n_eff_norm[5]}')\n",
    "\n",
    "mcmc_norm.print_summary()"
   ]
  },
  {
   "cell_type": "code",
   "execution_count": 5,
   "id": "0039bbe1",
   "metadata": {},
   "outputs": [
    {
     "name": "stdout",
     "output_type": "stream",
     "text": [
      "3\n"
     ]
    }
   ],
   "source": [
    "print(iat)"
   ]
  },
  {
   "cell_type": "code",
   "execution_count": 7,
   "id": "726bc4bc",
   "metadata": {},
   "outputs": [
    {
     "name": "stdout",
     "output_type": "stream",
     "text": [
      "\n",
      "                mean       std    median      5.0%     95.0%     n_eff     r_hat\n",
      "  theta[0]      0.00      0.00      0.00     -0.00      0.00   1380.22      1.00\n",
      "  theta[1]     -0.01      0.00     -0.01     -0.01     -0.01   1987.21      1.00\n",
      "  theta[2]     -0.01      0.00     -0.01     -0.01     -0.00   3124.36      1.00\n",
      "  theta[3]      0.00      0.00      0.00      0.00      0.00   3976.41      1.00\n",
      "  theta[4]      0.00      0.00      0.00     -0.00      0.00   2642.53      1.00\n",
      "  theta[5]     -0.01      0.00     -0.01     -0.01     -0.01   3845.41      1.00\n",
      "  theta[6]      0.00      0.00      0.00      0.00      0.01   1953.43      1.00\n",
      "  theta[7]     -0.00      0.00     -0.00     -0.01     -0.00   2103.70      1.00\n",
      "  theta[8]      0.00      0.00      0.00      0.00      0.00   4341.47      1.00\n",
      "  theta[9]      0.00      0.00      0.00     -0.00      0.00   3570.90      1.00\n",
      " theta[10]      0.00      0.00      0.00      0.00      0.01   4609.03      1.00\n",
      " theta[11]      0.01      0.00      0.01      0.00      0.01   3461.24      1.00\n",
      " theta[12]     -0.00      0.00     -0.00     -0.00     -0.00   3578.55      1.00\n",
      " theta[13]      0.00      0.00      0.00      0.00      0.00   3672.45      1.00\n",
      " theta[14]     -0.01      0.00     -0.01     -0.01     -0.00   3308.71      1.00\n",
      " theta[15]      0.00      0.00      0.00      0.00      0.00   2692.36      1.00\n",
      " theta[16]      0.00      0.00      0.00      0.00      0.01   2377.58      1.00\n",
      " theta[17]      0.00      0.00      0.00      0.00      0.00   2430.09      1.00\n",
      " theta[18]     -0.00      0.00     -0.00     -0.01     -0.00   5315.83      1.00\n",
      " theta[19]      0.00      0.00      0.00      0.00      0.00   2444.94      1.00\n",
      " theta[20]      0.00      0.00      0.00      0.00      0.00   5946.99      1.00\n",
      " theta[21]      0.00      0.00      0.00      0.00      0.00   3861.99      1.00\n",
      " theta[22]     -0.00      0.00     -0.00     -0.00     -0.00   4012.53      1.00\n",
      " theta[23]     -0.00      0.00     -0.00     -0.01     -0.00   4746.70      1.00\n",
      " theta[24]      0.00      0.00      0.00      0.00      0.00   4416.15      1.00\n",
      " theta[25]     -0.00      0.00     -0.00     -0.00     -0.00   4457.99      1.00\n",
      " theta[26]      0.00      0.00      0.00      0.00      0.00   4323.13      1.00\n",
      " theta[27]     -0.01      0.00     -0.01     -0.01     -0.00   3361.44      1.00\n",
      " theta[28]      0.00      0.00      0.00      0.00      0.00   3418.16      1.00\n",
      " theta[29]     -0.00      0.00     -0.00     -0.00     -0.00   3938.18      1.00\n",
      "\n",
      "Number of divergences: 0\n"
     ]
    }
   ],
   "source": [
    "mcmc_norm.print_summary()"
   ]
  },
  {
   "cell_type": "code",
   "execution_count": null,
   "id": "6ceeebfe",
   "metadata": {},
   "outputs": [],
   "source": [
    "save_pickle('test',mcmc_norm)\n"
   ]
  },
  {
   "cell_type": "code",
   "execution_count": 9,
   "id": "3283ab4b",
   "metadata": {},
   "outputs": [],
   "source": [
    "mcmc = load_pickle('test')"
   ]
  },
  {
   "cell_type": "code",
   "execution_count": 17,
   "id": "9156dad8",
   "metadata": {},
   "outputs": [
    {
     "data": {
      "text/plain": [
       "360232"
      ]
     },
     "execution_count": 17,
     "metadata": {},
     "output_type": "execute_result"
    }
   ],
   "source": [
    "import os\n",
    "os.path.getsize('hmc_samples/posterior_samples/test2.pkl')"
   ]
  },
  {
   "cell_type": "code",
   "execution_count": 18,
   "id": "88440dd3",
   "metadata": {},
   "outputs": [],
   "source": [
    "save_pickle('test2', posterior_sample_norm, dir = 'hmc_samples/posterior_samples')\n",
    "save_pickle('diag', diagnostic_norm, dir = 'hmc_samples/diagnostic_hmc')"
   ]
  },
  {
   "cell_type": "code",
   "execution_count": 19,
   "id": "059bdaff",
   "metadata": {},
   "outputs": [
    {
     "data": {
      "text/plain": [
       "1421"
      ]
     },
     "execution_count": 19,
     "metadata": {},
     "output_type": "execute_result"
    }
   ],
   "source": [
    "os.path.getsize('hmc_samples/diagnostic_hmc/diag.pkl')"
   ]
  }
 ],
 "metadata": {
  "kernelspec": {
   "display_name": "gaia_venv",
   "language": "python",
   "name": "python3"
  },
  "language_info": {
   "codemirror_mode": {
    "name": "ipython",
    "version": 3
   },
   "file_extension": ".py",
   "mimetype": "text/x-python",
   "name": "python",
   "nbconvert_exporter": "python",
   "pygments_lexer": "ipython3",
   "version": "3.12.3"
  }
 },
 "nbformat": 4,
 "nbformat_minor": 5
}
