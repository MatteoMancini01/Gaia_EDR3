{
 "cells": [
  {
   "cell_type": "code",
   "execution_count": 1,
   "id": "b601c4fa",
   "metadata": {},
   "outputs": [
    {
     "name": "stderr",
     "output_type": "stream",
     "text": [
      "/root/Document/Gaia_Project/mem97/gaia_venv/lib/python3.12/site-packages/tqdm/auto.py:21: TqdmWarning: IProgress not found. Please update jupyter and ipywidgets. See https://ipywidgets.readthedocs.io/en/stable/user_install.html\n",
      "  from .autonotebook import tqdm as notebook_tqdm\n"
     ]
    }
   ],
   "source": [
    "import jax \n",
    "import jax.numpy as jnp\n",
    "import math\n",
    "from jax import jit, vmap\n",
    "from functools import partial, lru_cache\n",
    "from src.models.vsh_model import*\n",
    "from jax import random\n",
    "import pandas as pd\n",
    "from iminuit import Minuit # to perform least square\n",
    "from src.models.configuration import*\n",
    "from numpyro.infer import MCMC, NUTS\n",
    "import numpyro\n",
    "import numpyro.distributions as dist\n",
    "from src.data.data_utils import*"
   ]
  },
  {
   "cell_type": "markdown",
   "id": "da853b7c",
   "metadata": {},
   "source": [
    "# Plan \n",
    "\n",
    "1. Initial Least Square Fit $\\rightarrow$ Fit the VSH model using all data.\n",
    "2. Compute $X^2$ Values $\\rightarrow$ For each QSO\n",
    "3. Compute the Median $\\rightarrow$ Compute the median of all $X$ values.\n",
    "4. Reject Outliers $\\rightarrow$ If $X>\\kappa \\times \\text{ median}(X)$, mark the source as outlier.\n",
    "5. Refit $\\rightarrow$ Exclude outliers and re-run the fit.\n",
    "6. Iterate $\\rightarrow$ Repeate steps (e.g. 2-5) until convergence (i.e. outlier stops changing).\n",
    "\n",
    "## Procedure In EDR3\n",
    "1. Perform Least Square $\\rightarrow$ estimate VSH coefficients\n",
    "2. $\\kappa$-Clipping $\\rightarrow$ remove outliers\n",
    "3. Perform Bootstrapping $\\rightarrow$ quantify the uncertainty of results\n",
    "\n",
    "## Our approach\n",
    "Keep step 1 and 2 from EDR3, nut instrad:\n",
    "1. Perform Least Square $+$ $\\kappa$-Clipping $\\rightarrow$ filter the data\n",
    "2. Perform HMC (Bayesian inference) sampling on filtered dataset $\\rightarrow$ achieving posterior samples, with VSH coefficient estimate and uncertainities."
   ]
  },
  {
   "cell_type": "code",
   "execution_count": 2,
   "id": "514426d0",
   "metadata": {},
   "outputs": [],
   "source": [
    "# Load data\n",
    "df = load_qso_dataframe()\n",
    "angles, obs, error = config_data(df)\n"
   ]
  },
  {
   "cell_type": "code",
   "execution_count": 4,
   "id": "8fa17b67",
   "metadata": {},
   "outputs": [
    {
     "name": "stdout",
     "output_type": "stream",
     "text": [
      "┌───┬──────┬───────────┬───────────┬────────────┬────────────┬─────────┬─────────┬───────┐\n",
      "│   │ Name │   Value   │ Hesse Err │ Minos Err- │ Minos Err+ │ Limit-  │ Limit+  │ Fixed │\n",
      "├───┼──────┼───────────┼───────────┼────────────┼────────────┼─────────┼─────────┼───────┤\n",
      "│ 0 │ x0   │  -3.1e-3  │  0.9e-3   │            │            │  -0.01  │  0.01   │       │\n",
      "│ 1 │ x1   │  -2.0e-3  │  0.1e-3   │            │            │ -0.002  │  0.002  │       │\n",
      "│ 2 │ x2   │ -10.0e-3  │  0.7e-3   │            │            │  -0.01  │  0.01   │       │\n",
      "│ 3 │ x3   │  5.1e-3   │  1.0e-3   │            │            │  -0.01  │  0.01   │       │\n",
      "│ 4 │ x4   │  -0.0005  │  0.0010   │            │            │ -0.002  │  0.002  │       │\n",
      "│ 5 │ x5   │ -2.000e-3 │ 0.034e-3  │            │            │ -0.002  │  0.002  │       │\n",
      "└───┴──────┴───────────┴───────────┴────────────┴────────────┴─────────┴─────────┴───────┘\n",
      "Converged to miminum? False\n"
     ]
    }
   ],
   "source": [
    "lmax = 1\n",
    "total_params = count_vsh_coeffs(lmax) \n",
    "limits = vsh_minuit_limits(lmax=lmax, t_bound=0.01, s_bound=0.002)\n",
    "\n",
    "# Flat vector theta: [t10, ..., t_lmaxm, s10, ..., s_lmaxm]\n",
    "theta_init = jnp.zeros(total_params)\n",
    "\n",
    "# Fix everything except theta\n",
    "#bound_least_square = partial(least_square, data, obs, error, lmax=lmax, grid=False)\n",
    "\n",
    "def least_square_wrapper(*theta_flat):\n",
    "    theta = jnp.array(theta_flat)  # reconstructs the vector from scalars\n",
    "    return least_square(angles, obs, error, theta, lmax=lmax, grid=False)\n",
    "\n",
    "\n",
    "m = Minuit(least_square_wrapper, *theta_init)\n",
    "\n",
    "m.errordef = Minuit.LEAST_SQUARES\n",
    "for i, name in enumerate(m.parameters):\n",
    "    m.limits[name] = limits[name]\n",
    "\n",
    "\n",
    "m.migrad()\n",
    "print(m.params)\n",
    "print('Converged to miminum?', m.fmin.is_valid)"
   ]
  },
  {
   "cell_type": "code",
   "execution_count": 5,
   "id": "717a31fe",
   "metadata": {},
   "outputs": [],
   "source": [
    "\n",
    "\n",
    "def compute_X2(alpha, delta, mu_a_obs, mu_d_obs, s_mu_a, s_mu_d, rho, theta, lmax):\n",
    "    \"\"\"Compute X^2 residuals for each source.\"\"\"\n",
    "\n",
    "    def per_point(alpha_i, delta_i, mu_a_i, mu_d_i, s_a, s_d, r):\n",
    "        e_a, e_d = basis_vectors(alpha_i, delta_i)\n",
    "        A = jnp.array([\n",
    "            [s_a**2, r * s_a * s_d],\n",
    "            [r * s_a * s_d, s_d**2]\n",
    "        ])\n",
    "        V = model_vsh(alpha_i, delta_i, theta, lmax, grid=False)\n",
    "        V_alpha = jnp.vdot(V, e_a).real\n",
    "        V_delta = jnp.vdot(V, e_d).real\n",
    "\n",
    "        D = jnp.array([mu_a_i - V_alpha, mu_d_i - V_delta])\n",
    "        return D.T @ jnp.linalg.inv(A) @ D\n",
    "\n",
    "    batched_fn = jnp.vectorize(per_point, signature='(),(),(),(),(),(),()->()')\n",
    "    return batched_fn(alpha, delta, mu_a_obs, mu_d_obs, s_mu_a, s_mu_d, rho)\n"
   ]
  },
  {
   "cell_type": "code",
   "execution_count": 7,
   "id": "57f998ec",
   "metadata": {},
   "outputs": [],
   "source": [
    "ra, dec = angles[0], angles[1]\n",
    "pmra_obs, pmdec_obs = obs[0], obs[1]\n",
    "s_pmra, s_pmdec, rho = error[0], error[1], error[2]\n",
    "\n",
    "coeff = jnp.array([m.values[k] for k in m.parameters])"
   ]
  },
  {
   "cell_type": "code",
   "execution_count": 8,
   "id": "da860f22",
   "metadata": {},
   "outputs": [],
   "source": [
    "X2 = compute_X2(ra, dec, pmra_obs, pmdec_obs, s_pmra, s_pmdec, rho, coeff, lmax = 1, )"
   ]
  },
  {
   "cell_type": "code",
   "execution_count": 13,
   "id": "4fbb362b",
   "metadata": {},
   "outputs": [
    {
     "name": "stdout",
     "output_type": "stream",
     "text": [
      "1215942\n",
      "1.5344973\n",
      "25.034359\n",
      "7.8481844e-07\n"
     ]
    }
   ],
   "source": [
    "print(len(X2))\n",
    "print(jnp.median(X2))\n",
    "print(jnp.max(X2))\n",
    "print(jnp.min(X2))"
   ]
  },
  {
   "cell_type": "code",
   "execution_count": 16,
   "id": "659505b2",
   "metadata": {},
   "outputs": [],
   "source": [
    "def robust_least_squares_fit(angles, obs, error, theta_init, lmax, t_bound, s_bound, kappa=3.0, max_iter=10):\n",
    "\n",
    "    limits = vsh_minuit_limits(lmax=lmax, t_bound=t_bound, s_bound=s_bound)\n",
    "\n",
    "    alpha, delta = angles\n",
    "    mu_a_obs, mu_d_obs = obs\n",
    "    s_mu_a, s_mu_d, rho = error\n",
    "\n",
    "    keep = jnp.ones_like(alpha, dtype=bool)\n",
    "    theta = theta_init\n",
    "\n",
    "    prev_outliers = None\n",
    "\n",
    "    for iteration in range(max_iter):\n",
    "        alpha_k, delta_k = alpha[keep], delta[keep]\n",
    "        obs_k = (mu_a_obs[keep], mu_d_obs[keep])\n",
    "        err_k = (s_mu_a[keep], s_mu_d[keep], rho[keep])\n",
    "        angles_k = (alpha_k, delta_k)\n",
    "\n",
    "        def least_square_wrapper(*theta_flat):\n",
    "            theta_arr = jnp.array(theta_flat)\n",
    "            return least_square(angles_k, obs_k, err_k, theta_arr, lmax=lmax, grid=False)\n",
    "\n",
    "        m = Minuit(least_square_wrapper, *theta)\n",
    "        m.errordef = Minuit.LEAST_SQUARES\n",
    "\n",
    "        for j, name in enumerate(m.parameters):\n",
    "            m.limits[name] = limits[name]\n",
    "\n",
    "        m.migrad()\n",
    "\n",
    "        theta = jnp.array([m.values[name] for name in m.parameters])\n",
    "\n",
    "        # Compute X^2 over full dataset (not just kept subset)\n",
    "        X2 = compute_X2(alpha, delta, mu_a_obs, mu_d_obs, s_mu_a, s_mu_d, rho, theta, lmax)\n",
    "        median_X = jnp.median(X2)\n",
    "        keep = X2 < (kappa**2) * median_X\n",
    "\n",
    "        if prev_outliers is not None and jnp.array_equal(keep, prev_outliers):\n",
    "            print(f\"Converged after {iteration+1} iterations.\")\n",
    "            break\n",
    "        prev_outliers = keep\n",
    "\n",
    "    return theta, keep\n"
   ]
  },
  {
   "cell_type": "code",
   "execution_count": 30,
   "id": "3af6932b",
   "metadata": {},
   "outputs": [
    {
     "name": "stdout",
     "output_type": "stream",
     "text": [
      "Converged after 3 iterations.\n"
     ]
    }
   ],
   "source": [
    "lmax = 3\n",
    "total_params = count_vsh_coeffs(lmax)\n",
    "theta_init = jnp.zeros(total_params)\n",
    "\n",
    "theta, keep = robust_least_squares_fit(angles, obs, error, theta_init, lmax, 0.05, 0.01)"
   ]
  },
  {
   "cell_type": "code",
   "execution_count": 31,
   "id": "66ef1f19",
   "metadata": {},
   "outputs": [
    {
     "data": {
      "text/plain": [
       "1215942"
      ]
     },
     "execution_count": 31,
     "metadata": {},
     "output_type": "execute_result"
    }
   ],
   "source": [
    "len(keep)"
   ]
  },
  {
   "cell_type": "code",
   "execution_count": 32,
   "id": "5bb21e1e",
   "metadata": {},
   "outputs": [],
   "source": [
    "df_clean = df.loc[np.array(keep)]"
   ]
  },
  {
   "cell_type": "code",
   "execution_count": 33,
   "id": "7126001f",
   "metadata": {},
   "outputs": [],
   "source": [
    "angles_clean, obs_clean, error_clean = config_data(df_clean)"
   ]
  },
  {
   "cell_type": "code",
   "execution_count": 34,
   "id": "5b372ea9",
   "metadata": {},
   "outputs": [
    {
     "name": "stdout",
     "output_type": "stream",
     "text": [
      "3792\n"
     ]
    }
   ],
   "source": [
    "print(len(angles[0]) - len(angles_clean[0]))"
   ]
  }
 ],
 "metadata": {
  "kernelspec": {
   "display_name": "gaia_venv",
   "language": "python",
   "name": "python3"
  },
  "language_info": {
   "codemirror_mode": {
    "name": "ipython",
    "version": 3
   },
   "file_extension": ".py",
   "mimetype": "text/x-python",
   "name": "python",
   "nbconvert_exporter": "python",
   "pygments_lexer": "ipython3",
   "version": "3.12.3"
  }
 },
 "nbformat": 4,
 "nbformat_minor": 5
}
