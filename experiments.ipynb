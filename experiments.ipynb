{
 "cells": [
  {
   "cell_type": "markdown",
   "id": "fd8fa52e",
   "metadata": {},
   "source": [
    "## Need to add the codes below to plots.ipynb"
   ]
  },
  {
   "cell_type": "markdown",
   "id": "5a9c0e7c",
   "metadata": {},
   "source": [
    "Reproducint plot 8"
   ]
  },
  {
   "cell_type": "code",
   "execution_count": 2,
   "id": "b601c4fa",
   "metadata": {},
   "outputs": [],
   "source": [
    "import jax \n",
    "import jax.numpy as jnp\n",
    "from jax import jit, vmap\n",
    "from src.models.vsh_model import*\n",
    "from jax import random\n",
    "import pandas as pd\n",
    "import gc\n",
    "from src.models.configuration import*\n",
    "from numpyro.infer import MCMC, NUTS\n",
    "import numpyro\n",
    "import numpyro.distributions as dist\n",
    "from src.data.data_utils import*"
   ]
  },
  {
   "cell_type": "code",
   "execution_count": 3,
   "id": "14493278",
   "metadata": {},
   "outputs": [],
   "source": [
    "df = load_qso_dataframe() # load full dataset for 5 param solution"
   ]
  },
  {
   "cell_type": "markdown",
   "id": "e145d3b1",
   "metadata": {},
   "source": [
    "### $G_{mag}$"
   ]
  },
  {
   "cell_type": "markdown",
   "id": "676595bd",
   "metadata": {},
   "source": [
    "interested in `phot_g_mean_mag` this will be used to separate the data"
   ]
  },
  {
   "cell_type": "code",
   "execution_count": 4,
   "id": "4dc7edae",
   "metadata": {},
   "outputs": [],
   "source": [
    "G_mag0 = df[df['phot_g_mean_mag']<=18]          # G_mag <= 18\n",
    "mid0= df[df['phot_g_mean_mag'] > 18]            # middle step\n",
    "G_mag1 = mid0[mid0['phot_g_mean_mag'] <= 19]    # 18 < G_mag <= 19\n",
    "mid1 = df[df['phot_g_mean_mag'] > 19] \n",
    "G_mag2 = mid1[mid1['phot_g_mean_mag'] <= 20]    # 19 < G_mag <= 20\n",
    "G_mag3 = df[df['phot_g_mean_mag'] > 20]         # G_mag > 20"
   ]
  },
  {
   "cell_type": "markdown",
   "id": "e302d310",
   "metadata": {},
   "source": [
    "Check shape of results (see if it matches the paper results)"
   ]
  },
  {
   "cell_type": "code",
   "execution_count": 5,
   "id": "ee2f5318",
   "metadata": {},
   "outputs": [
    {
     "name": "stdout",
     "output_type": "stream",
     "text": [
      "Shape dataset for G_mag <= 18 (29200, 14)\n",
      "Shape dataset for 18 < G_mag <= 19 (146614, 14)\n",
      "Shape dataset for 19 < G_mag <= 20 (490161, 14)\n",
      "Shape dataset for G_mag > 20 (549966, 14)\n"
     ]
    }
   ],
   "source": [
    "print('Shape dataset for G_mag <= 18',G_mag0.shape)\n",
    "print('Shape dataset for 18 < G_mag <= 19',G_mag1.shape)\n",
    "print('Shape dataset for 19 < G_mag <= 20',G_mag2.shape)\n",
    "print('Shape dataset for G_mag > 20',G_mag3.shape)\n",
    "full_data = df\n",
    "G_mag_list = [G_mag0, G_mag1, G_mag2, G_mag3, full_data] # collecting everthing into a list"
   ]
  },
  {
   "cell_type": "markdown",
   "id": "47701d6d",
   "metadata": {},
   "source": [
    "Perform HMC for $l_{max} = 3$"
   ]
  },
  {
   "cell_type": "code",
   "execution_count": null,
   "id": "4e835682",
   "metadata": {},
   "outputs": [],
   "source": [
    "def chi2_jit(angles, obs, error, theta, lmax):\n",
    "    return least_square(angles, obs, error, theta, lmax=lmax, grid=False)\n",
    "chi2_jit = jit(chi2_jit, static_argnames=['lmax'])\n",
    "\n",
    "\n",
    "def model_for_HMC(angles, obs, error, lmax):\n",
    "    total_params = count_vsh_coeffs(lmax)\n",
    "    \n",
    "    # Prior on all VSH coefficients (both toroidal and spheroidal)\n",
    "    theta = numpyro.sample(\"theta\", dist.Uniform(-.05, .05).expand([total_params]))\n",
    "    # Least-squares residuals: we assume Gaussian-distributed residuals\n",
    "    chi2_val = chi2_jit(angles, obs, error, theta, lmax=lmax)\n",
    "\n",
    "    # The log-likelihood is proportional to -0.5*chi^2\n",
    "    numpyro.factor(\"likelihood\", -0.5*chi2_val)\n",
    "\n",
    "n_s = 4000 # number of samples\n",
    "n_warmup = 2000 #  number of warmups \n",
    "n_chains = 4 # numbe of chains"
   ]
  },
  {
   "cell_type": "code",
   "execution_count": 7,
   "id": "d7cb3756",
   "metadata": {},
   "outputs": [
    {
     "name": "stdout",
     "output_type": "stream",
     "text": [
      "G_mag0\n"
     ]
    },
    {
     "name": "stderr",
     "output_type": "stream",
     "text": [
      "/tmp/ipykernel_8347/2245952749.py:12: UserWarning: There are not enough devices to run parallel chains: expected 4 but got 1. Chains will be drawn sequentially. If you are running MCMC in CPU, consider using `numpyro.set_host_device_count(4)` at the beginning of your program. You can double-check how many devices are available in your system using `jax.local_device_count()`.\n",
      "  mcmc = MCMC(kernel, num_warmup=n_warmup, num_samples=n_s, num_chains=n_chains, progress_bar=True)\n",
      "sample: 100%|██████████| 6000/6000 [03:43<00:00, 26.87it/s, 15 steps of size 3.25e-01. acc. prob=0.90]\n",
      "sample: 100%|██████████| 6000/6000 [03:29<00:00, 28.62it/s, 7 steps of size 3.35e-01. acc. prob=0.89] \n",
      "sample: 100%|██████████| 6000/6000 [03:06<00:00, 32.13it/s, 15 steps of size 3.84e-01. acc. prob=0.86]\n",
      "sample: 100%|██████████| 6000/6000 [05:10<00:00, 19.31it/s, 7 steps of size 3.72e-01. acc. prob=0.87] \n"
     ]
    },
    {
     "name": "stdout",
     "output_type": "stream",
     "text": [
      "G_mag1\n"
     ]
    },
    {
     "name": "stderr",
     "output_type": "stream",
     "text": [
      "sample: 100%|██████████| 6000/6000 [13:00<00:00,  7.68it/s, 15 steps of size 3.04e-01. acc. prob=0.90] \n",
      "sample: 100%|██████████| 6000/6000 [08:27<00:00, 11.83it/s, 15 steps of size 3.29e-01. acc. prob=0.89]\n",
      "sample: 100%|██████████| 6000/6000 [02:15<00:00, 44.40it/s, 15 steps of size 3.50e-01. acc. prob=0.88]\n",
      "sample: 100%|██████████| 6000/6000 [02:20<00:00, 42.58it/s, 7 steps of size 3.34e-01. acc. prob=0.88] \n"
     ]
    },
    {
     "name": "stdout",
     "output_type": "stream",
     "text": [
      "G_mag2\n"
     ]
    },
    {
     "name": "stderr",
     "output_type": "stream",
     "text": [
      "sample: 100%|██████████| 6000/6000 [04:30<00:00, 22.20it/s, 15 steps of size 3.35e-01. acc. prob=0.88]\n",
      "sample: 100%|██████████| 6000/6000 [04:20<00:00, 23.01it/s, 7 steps of size 3.25e-01. acc. prob=0.88] \n",
      "sample: 100%|██████████| 6000/6000 [03:52<00:00, 25.78it/s, 7 steps of size 3.76e-01. acc. prob=0.86] \n",
      "sample: 100%|██████████| 6000/6000 [04:14<00:00, 23.57it/s, 15 steps of size 3.11e-01. acc. prob=0.90]\n"
     ]
    },
    {
     "name": "stdout",
     "output_type": "stream",
     "text": [
      "G_mag3\n"
     ]
    },
    {
     "name": "stderr",
     "output_type": "stream",
     "text": [
      "sample: 100%|██████████| 6000/6000 [04:33<00:00, 21.91it/s, 7 steps of size 3.52e-01. acc. prob=0.89] \n",
      "sample: 100%|██████████| 6000/6000 [03:51<00:00, 25.96it/s, 7 steps of size 3.78e-01. acc. prob=0.87] \n",
      "sample: 100%|██████████| 6000/6000 [04:12<00:00, 23.76it/s, 15 steps of size 3.61e-01. acc. prob=0.88]\n",
      "sample: 100%|██████████| 6000/6000 [03:44<00:00, 26.70it/s, 7 steps of size 3.87e-01. acc. prob=0.87] \n"
     ]
    },
    {
     "name": "stdout",
     "output_type": "stream",
     "text": [
      "G_mag4\n"
     ]
    },
    {
     "name": "stderr",
     "output_type": "stream",
     "text": [
      "sample: 100%|██████████| 6000/6000 [09:52<00:00, 10.13it/s, 15 steps of size 3.03e-01. acc. prob=0.88]\n",
      "sample: 100%|██████████| 6000/6000 [09:34<00:00, 10.45it/s, 7 steps of size 3.02e-01. acc. prob=0.88] \n",
      "sample: 100%|██████████| 6000/6000 [08:21<00:00, 11.97it/s, 7 steps of size 3.66e-01. acc. prob=0.86] \n",
      "sample: 100%|██████████| 6000/6000 [09:31<00:00, 10.49it/s, 15 steps of size 3.01e-01. acc. prob=0.88]\n"
     ]
    }
   ],
   "source": [
    "rng_key = jax.random.key(0)\n",
    "\n",
    "kernel = NUTS(model_for_HMC, target_accept_prob=0.75) # this is to make sure acceptance does not exceed 90%\n",
    "\n",
    "posterior_samples_upper = [] # collect posterior samples based on l\n",
    "step = 0\n",
    "for G_mag in G_mag_list:\n",
    "\n",
    "    print(f'G_mag{step}')\n",
    "    angles, obs, error = config_data(G_mag)\n",
    "    # Run sampling algoeithm (HMC)\n",
    "    mcmc = MCMC(kernel, num_warmup=n_warmup, num_samples=n_s, num_chains=n_chains, progress_bar=True)\n",
    "    mcmc.run(rng_key, angles = angles, obs = obs, error = error, lmax=3)\n",
    "    ps = mcmc.get_samples()\n",
    "    posterior_samples_upper.append(ps)\n",
    "    \n",
    "    step += 1\n",
    "    \n",
    "    # Free memory after each iteration\n",
    "    del mcmc\n",
    "    del angles\n",
    "    del obs\n",
    "    del error\n",
    "    gc.collect()\n",
    "    jax.clear_caches()"
   ]
  },
  {
   "cell_type": "markdown",
   "id": "b085df08",
   "metadata": {},
   "source": [
    "plotting results "
   ]
  },
  {
   "cell_type": "code",
   "execution_count": 8,
   "id": "c9c8c7f9",
   "metadata": {},
   "outputs": [],
   "source": [
    "import matplotlib.pyplot as plt"
   ]
  },
  {
   "cell_type": "code",
   "execution_count": null,
   "id": "4fcc6f3d",
   "metadata": {},
   "outputs": [
    {
     "data": {
      "image/png": "[encoded data removed]",
      "text/plain": [
       "<Figure size 650x400 with 1 Axes>"
      ]
     },
     "metadata": {},
     "output_type": "display_data"
    }
   ],
   "source": [
    "# For upper panel:\n",
    "coef_pred = [jnp.mean(ps['theta'], axis=0) for ps in posterior_samples_upper]\n",
    "std_pred = [jnp.std(ps['theta'], axis=0) for ps in posterior_samples_upper]\n",
    "\n",
    "G_mag_val = [17.5, 18.5, 19.5, 20.5]\n",
    "G_mag_label = [17, 18, 19, 20, 21]\n",
    "\n",
    "C0 = np.sqrt(8*np.pi/3)/1000\n",
    "C1 = np.sqrt(4*np.pi/3)/1000\n",
    "\n",
    "# G_mag Vector componets:\n",
    "gz, gz_error = [coef_pred[z][1]/C0 for z in range(0,4)], [std_pred[z][1]/C0 for z in range(0,4)]\n",
    "gx, gx_error = [-coef_pred[x][4]/C1 for x in range(0,4)], [std_pred[x][4]/C1 for x in range(0,4)]\n",
    "gy, gy_error = [coef_pred[y][5]/C1 for y in range(0,4)], [std_pred[y][5]/C1 for y in range(0,4)]\n",
    "\n",
    "# On full dataset\n",
    "agz, agz_er = coef_pred[4][1], std_pred[4][1]\n",
    "agx, agx_er = coef_pred[4][4], std_pred[4][4]\n",
    "agy, agy_er = coef_pred[4][5], std_pred[4][5]\n",
    "\n",
    "plt.figure(figsize=(6.5, 4))  \n",
    "plt.errorbar(G_mag_val, gx, yerr=gx_error, fmt='o', capsize=3, markersize=5, elinewidth=1, label=r'$g_x$', color = 'red')\n",
    "plt.errorbar(G_mag_val, gy, yerr=gy_error, fmt='o', capsize=3, markersize=5, elinewidth=1, label=r'$g_y$', color = 'green')\n",
    "plt.errorbar(G_mag_val, gz, yerr=gz_error, fmt='o', capsize=3, markersize=5, elinewidth=1, label=r'$g_z$', color = 'blue')\n",
    "\n",
    "# Plotting bands\n",
    "plt.axhspan((agz - agz_er)/C0, (agz + agz_er)/C0, color='blue', alpha=0.3)\n",
    "plt.axhspan((-agx - agx_er)/C1, (-agx + agx_er)/C1, color='red', alpha=0.3)\n",
    "plt.axhspan((agy - agy_er)/C1, (agy + agy_er)/C1, color='green', alpha=0.3)\n",
    "\n",
    "# Plotting gray bands\n",
    "plt.axvspan(18, 19, alpha = 0.15, color = 'gray')\n",
    "plt.axvspan(19, 20, alpha = 0.3, color = 'gray')\n",
    "plt.axvspan(20, 21, alpha = 0.45, color = 'gray')\n",
    "\n",
    "#plt.title(\"Equatorial Upper Panel\")\n",
    "plt.xlabel(r'G[mag]')\n",
    "plt.ylabel(r'Equatorial Frame [$\\mu$as/yr]')\n",
    "plt.legend(loc='center left', bbox_to_anchor=(1, 0.5))\n",
    "plt.xticks(G_mag_label, label = G_mag_label)\n",
    "plt.xlim(17,21)\n",
    "plt.ylim(-7, 4)\n",
    "#plt.savefig(\"plots/main_plots/G_mag_plot.png\", dpi=300, bbox_inches='tight')\n",
    "plt.show()\n",
    "\n"
   ]
  },
  {
   "cell_type": "markdown",
   "id": "2b97f80c",
   "metadata": {},
   "source": [
    "## $\\nu_{eff}$"
   ]
  },
  {
   "cell_type": "code",
   "execution_count": 22,
   "id": "b1572f07",
   "metadata": {},
   "outputs": [
    {
     "data": {
      "text/html": [
       "<div>\n",
       "<style scoped>\n",
       "    .dataframe tbody tr th:only-of-type {\n",
       "        vertical-align: middle;\n",
       "    }\n",
       "\n",
       "    .dataframe tbody tr th {\n",
       "        vertical-align: top;\n",
       "    }\n",
       "\n",
       "    .dataframe thead th {\n",
       "        text-align: right;\n",
       "    }\n",
       "</style>\n",
       "<table border=\"1\" class=\"dataframe\">\n",
       "  <thead>\n",
       "    <tr style=\"text-align: right;\">\n",
       "      <th></th>\n",
       "      <th>source_id</th>\n",
       "      <th>ra</th>\n",
       "      <th>dec</th>\n",
       "      <th>pmra</th>\n",
       "      <th>pmdec</th>\n",
       "      <th>parallax</th>\n",
       "      <th>parallax_error</th>\n",
       "      <th>ruwe</th>\n",
       "      <th>phot_g_mean_mag</th>\n",
       "      <th>nu_eff_used_in_astrometry</th>\n",
       "      <th>pmra_error</th>\n",
       "      <th>pmdec_error</th>\n",
       "      <th>pmra_pmdec_corr</th>\n",
       "      <th>astrometric_params_solved</th>\n",
       "    </tr>\n",
       "  </thead>\n",
       "  <tbody>\n",
       "    <tr>\n",
       "      <th>0</th>\n",
       "      <td>3470333738112</td>\n",
       "      <td>45.075505</td>\n",
       "      <td>0.152316</td>\n",
       "      <td>-1.072371</td>\n",
       "      <td>-3.191011</td>\n",
       "      <td>0.366321</td>\n",
       "      <td>0.901633</td>\n",
       "      <td>0.889714</td>\n",
       "      <td>20.571114</td>\n",
       "      <td>1.526179</td>\n",
       "      <td>1.552507</td>\n",
       "      <td>1.226259</td>\n",
       "      <td>0.207769</td>\n",
       "      <td>31</td>\n",
       "    </tr>\n",
       "    <tr>\n",
       "      <th>1</th>\n",
       "      <td>5944234902272</td>\n",
       "      <td>44.884761</td>\n",
       "      <td>0.164806</td>\n",
       "      <td>-0.121274</td>\n",
       "      <td>0.725026</td>\n",
       "      <td>-0.395659</td>\n",
       "      <td>1.340139</td>\n",
       "      <td>1.087911</td>\n",
       "      <td>20.704517</td>\n",
       "      <td>1.647388</td>\n",
       "      <td>1.482424</td>\n",
       "      <td>1.402002</td>\n",
       "      <td>0.285303</td>\n",
       "      <td>31</td>\n",
       "    </tr>\n",
       "    <tr>\n",
       "      <th>4</th>\n",
       "      <td>10892037246720</td>\n",
       "      <td>45.188575</td>\n",
       "      <td>0.282424</td>\n",
       "      <td>-0.098037</td>\n",
       "      <td>-0.120580</td>\n",
       "      <td>0.001630</td>\n",
       "      <td>0.246332</td>\n",
       "      <td>0.974657</td>\n",
       "      <td>18.787239</td>\n",
       "      <td>1.565118</td>\n",
       "      <td>0.257395</td>\n",
       "      <td>0.223107</td>\n",
       "      <td>0.164329</td>\n",
       "      <td>31</td>\n",
       "    </tr>\n",
       "    <tr>\n",
       "      <th>5</th>\n",
       "      <td>15839839588736</td>\n",
       "      <td>45.189480</td>\n",
       "      <td>0.359195</td>\n",
       "      <td>-0.316088</td>\n",
       "      <td>0.318781</td>\n",
       "      <td>-0.333154</td>\n",
       "      <td>0.345819</td>\n",
       "      <td>1.282568</td>\n",
       "      <td>18.888464</td>\n",
       "      <td>1.613716</td>\n",
       "      <td>0.360595</td>\n",
       "      <td>0.326582</td>\n",
       "      <td>0.215161</td>\n",
       "      <td>31</td>\n",
       "    </tr>\n",
       "    <tr>\n",
       "      <th>6</th>\n",
       "      <td>19275813399552</td>\n",
       "      <td>44.835496</td>\n",
       "      <td>0.237432</td>\n",
       "      <td>1.062588</td>\n",
       "      <td>0.221073</td>\n",
       "      <td>0.366343</td>\n",
       "      <td>0.603236</td>\n",
       "      <td>0.947865</td>\n",
       "      <td>20.330523</td>\n",
       "      <td>1.584296</td>\n",
       "      <td>0.739487</td>\n",
       "      <td>0.625105</td>\n",
       "      <td>0.258542</td>\n",
       "      <td>31</td>\n",
       "    </tr>\n",
       "    <tr>\n",
       "      <th>...</th>\n",
       "      <td>...</td>\n",
       "      <td>...</td>\n",
       "      <td>...</td>\n",
       "      <td>...</td>\n",
       "      <td>...</td>\n",
       "      <td>...</td>\n",
       "      <td>...</td>\n",
       "      <td>...</td>\n",
       "      <td>...</td>\n",
       "      <td>...</td>\n",
       "      <td>...</td>\n",
       "      <td>...</td>\n",
       "      <td>...</td>\n",
       "      <td>...</td>\n",
       "    </tr>\n",
       "    <tr>\n",
       "      <th>1614100</th>\n",
       "      <td>6917241161753591552</td>\n",
       "      <td>315.796881</td>\n",
       "      <td>-0.783980</td>\n",
       "      <td>-0.533850</td>\n",
       "      <td>-0.327224</td>\n",
       "      <td>-0.222744</td>\n",
       "      <td>0.547038</td>\n",
       "      <td>1.091291</td>\n",
       "      <td>19.947210</td>\n",
       "      <td>1.619118</td>\n",
       "      <td>0.638116</td>\n",
       "      <td>0.501641</td>\n",
       "      <td>0.116656</td>\n",
       "      <td>31</td>\n",
       "    </tr>\n",
       "    <tr>\n",
       "      <th>1614101</th>\n",
       "      <td>6917243154618290560</td>\n",
       "      <td>315.612393</td>\n",
       "      <td>-0.816968</td>\n",
       "      <td>0.282871</td>\n",
       "      <td>0.062107</td>\n",
       "      <td>-0.583253</td>\n",
       "      <td>0.269573</td>\n",
       "      <td>0.963784</td>\n",
       "      <td>18.960646</td>\n",
       "      <td>1.622210</td>\n",
       "      <td>0.274757</td>\n",
       "      <td>0.220609</td>\n",
       "      <td>0.268015</td>\n",
       "      <td>31</td>\n",
       "    </tr>\n",
       "    <tr>\n",
       "      <th>1614109</th>\n",
       "      <td>6917274181462513280</td>\n",
       "      <td>314.319446</td>\n",
       "      <td>-1.446190</td>\n",
       "      <td>-0.375845</td>\n",
       "      <td>-0.410474</td>\n",
       "      <td>-0.026856</td>\n",
       "      <td>0.351059</td>\n",
       "      <td>1.015857</td>\n",
       "      <td>19.559574</td>\n",
       "      <td>1.653227</td>\n",
       "      <td>0.347343</td>\n",
       "      <td>0.247361</td>\n",
       "      <td>0.251226</td>\n",
       "      <td>31</td>\n",
       "    </tr>\n",
       "    <tr>\n",
       "      <th>1614114</th>\n",
       "      <td>6917314588515490048</td>\n",
       "      <td>314.608908</td>\n",
       "      <td>-1.021087</td>\n",
       "      <td>0.046539</td>\n",
       "      <td>0.671721</td>\n",
       "      <td>1.268803</td>\n",
       "      <td>1.377943</td>\n",
       "      <td>0.991573</td>\n",
       "      <td>20.776117</td>\n",
       "      <td>1.502613</td>\n",
       "      <td>2.028663</td>\n",
       "      <td>0.947577</td>\n",
       "      <td>-0.118151</td>\n",
       "      <td>31</td>\n",
       "    </tr>\n",
       "    <tr>\n",
       "      <th>1614149</th>\n",
       "      <td>6917418561083280512</td>\n",
       "      <td>315.098150</td>\n",
       "      <td>-0.735378</td>\n",
       "      <td>-0.092321</td>\n",
       "      <td>0.123947</td>\n",
       "      <td>-0.247049</td>\n",
       "      <td>0.432662</td>\n",
       "      <td>0.976049</td>\n",
       "      <td>19.653727</td>\n",
       "      <td>1.617653</td>\n",
       "      <td>0.400308</td>\n",
       "      <td>0.297783</td>\n",
       "      <td>0.221441</td>\n",
       "      <td>31</td>\n",
       "    </tr>\n",
       "  </tbody>\n",
       "</table>\n",
       "<p>1215942 rows × 14 columns</p>\n",
       "</div>"
      ],
      "text/plain": [
       "                   source_id          ra       dec      pmra     pmdec  \\\n",
       "0              3470333738112   45.075505  0.152316 -1.072371 -3.191011   \n",
       "1              5944234902272   44.884761  0.164806 -0.121274  0.725026   \n",
       "4             10892037246720   45.188575  0.282424 -0.098037 -0.120580   \n",
       "5             15839839588736   45.189480  0.359195 -0.316088  0.318781   \n",
       "6             19275813399552   44.835496  0.237432  1.062588  0.221073   \n",
       "...                      ...         ...       ...       ...       ...   \n",
       "1614100  6917241161753591552  315.796881 -0.783980 -0.533850 -0.327224   \n",
       "1614101  6917243154618290560  315.612393 -0.816968  0.282871  0.062107   \n",
       "1614109  6917274181462513280  314.319446 -1.446190 -0.375845 -0.410474   \n",
       "1614114  6917314588515490048  314.608908 -1.021087  0.046539  0.671721   \n",
       "1614149  6917418561083280512  315.098150 -0.735378 -0.092321  0.123947   \n",
       "\n",
       "         parallax  parallax_error      ruwe  phot_g_mean_mag  \\\n",
       "0        0.366321        0.901633  0.889714        20.571114   \n",
       "1       -0.395659        1.340139  1.087911        20.704517   \n",
       "4        0.001630        0.246332  0.974657        18.787239   \n",
       "5       -0.333154        0.345819  1.282568        18.888464   \n",
       "6        0.366343        0.603236  0.947865        20.330523   \n",
       "...           ...             ...       ...              ...   \n",
       "1614100 -0.222744        0.547038  1.091291        19.947210   \n",
       "1614101 -0.583253        0.269573  0.963784        18.960646   \n",
       "1614109 -0.026856        0.351059  1.015857        19.559574   \n",
       "1614114  1.268803        1.377943  0.991573        20.776117   \n",
       "1614149 -0.247049        0.432662  0.976049        19.653727   \n",
       "\n",
       "         nu_eff_used_in_astrometry  pmra_error  pmdec_error  pmra_pmdec_corr  \\\n",
       "0                         1.526179    1.552507     1.226259         0.207769   \n",
       "1                         1.647388    1.482424     1.402002         0.285303   \n",
       "4                         1.565118    0.257395     0.223107         0.164329   \n",
       "5                         1.613716    0.360595     0.326582         0.215161   \n",
       "6                         1.584296    0.739487     0.625105         0.258542   \n",
       "...                            ...         ...          ...              ...   \n",
       "1614100                   1.619118    0.638116     0.501641         0.116656   \n",
       "1614101                   1.622210    0.274757     0.220609         0.268015   \n",
       "1614109                   1.653227    0.347343     0.247361         0.251226   \n",
       "1614114                   1.502613    2.028663     0.947577        -0.118151   \n",
       "1614149                   1.617653    0.400308     0.297783         0.221441   \n",
       "\n",
       "         astrometric_params_solved  \n",
       "0                               31  \n",
       "1                               31  \n",
       "4                               31  \n",
       "5                               31  \n",
       "6                               31  \n",
       "...                            ...  \n",
       "1614100                         31  \n",
       "1614101                         31  \n",
       "1614109                         31  \n",
       "1614114                         31  \n",
       "1614149                         31  \n",
       "\n",
       "[1215942 rows x 14 columns]"
      ]
     },
     "execution_count": 22,
     "metadata": {},
     "output_type": "execute_result"
    }
   ],
   "source": [
    "df"
   ]
  },
  {
   "cell_type": "code",
   "execution_count": 32,
   "id": "5faae599",
   "metadata": {},
   "outputs": [],
   "source": [
    "nu_eff0 = df[df['nu_eff_used_in_astrometry']<=1.55]          # nu_eff <= 1.55\n",
    "mid0= df[df['nu_eff_used_in_astrometry'] > 1.55]            # middle step\n",
    "nu_eff1 = mid0[mid0['nu_eff_used_in_astrometry'] <= 1.59]    # 1.55 < nu_mag <= 1.59\n",
    "mid1 = df[df['nu_eff_used_in_astrometry'] > 1.59] \n",
    "nu_eff2 = mid1[mid1['nu_eff_used_in_astrometry'] <= 1.62]    # 1.59 < nu_mag <= 1.62\n",
    "nu_eff3 = df[df['nu_eff_used_in_astrometry'] > 1.62]         # nu_mag > 1.62"
   ]
  },
  {
   "cell_type": "code",
   "execution_count": 33,
   "id": "817a956e",
   "metadata": {},
   "outputs": [
    {
     "name": "stdout",
     "output_type": "stream",
     "text": [
      "Shape dataset for ν_eff <= 1.55 (315233, 14)\n",
      "Shape dataset for 1.55 < ν_mag <= 1.59 (302515, 14)\n",
      "Shape dataset for 1.59 < ν_mag <= 1.62 (281541, 14)\n",
      "Shape dataset for ν_mag > 1.62 (316653, 14)\n"
     ]
    }
   ],
   "source": [
    "print('Shape dataset for ν_eff <= 1.55',nu_eff0.shape)\n",
    "print('Shape dataset for 1.55 < ν_mag <= 1.59',nu_eff1.shape)\n",
    "print('Shape dataset for 1.59 < ν_mag <= 1.62',nu_eff2.shape)\n",
    "print('Shape dataset for ν_mag > 1.62',nu_eff3.shape)\n",
    "full_data = df\n",
    "nu_eff_list = [nu_eff0, nu_eff1, nu_eff2, nu_eff3, full_data] # collecting everthing into a list"
   ]
  },
  {
   "cell_type": "code",
   "execution_count": 36,
   "id": "3be43ebe",
   "metadata": {},
   "outputs": [
    {
     "name": "stdout",
     "output_type": "stream",
     "text": [
      "Mean number of datapoint for each sub-set ~ 303986.0\n"
     ]
    }
   ],
   "source": [
    "print('Mean number of datapoint for each sub-set ~', np.round(np.mean([315233, 302515, 281541, 316653])))"
   ]
  },
  {
   "cell_type": "code",
   "execution_count": null,
   "id": "38d21308",
   "metadata": {},
   "outputs": [],
   "source": [
    "rng_key = jax.random.key(0)\n",
    "\n",
    "kernel = NUTS(model_for_HMC, target_accept_prob=0.75) # this is to make sure acceptance does not exceed 90%\n",
    "\n",
    "posterior_samples_upper = [] # collect posterior samples based on l\n",
    "step = 0\n",
    "for nu_eff in nu_eff_list:\n",
    "\n",
    "    print(f'nu_eff{step}')\n",
    "    angles, obs, error = config_data(G_mag)\n",
    "    # Run sampling algoeithm (HMC)\n",
    "    mcmc = MCMC(kernel, num_warmup=n_warmup, num_samples=n_s, num_chains=n_chains, progress_bar=True)\n",
    "    mcmc.run(rng_key, angles = angles, obs = obs, error = error, lmax=3)\n",
    "    ps = mcmc.get_samples()\n",
    "    posterior_samples_upper.append(ps)\n",
    "    \n",
    "    step += 1\n",
    "    \n",
    "    # Free memory after each iteration\n",
    "    del mcmc\n",
    "    del angles\n",
    "    del obs\n",
    "    del error\n",
    "    gc.collect()\n",
    "    jax.clear_caches()"
   ]
  },
  {
   "cell_type": "code",
   "execution_count": 37,
   "id": "df12a027",
   "metadata": {},
   "outputs": [
    {
     "data": {
      "image/png": "[encoded data removed]",
      "text/plain": [
       "<Figure size 650x400 with 1 Axes>"
      ]
     },
     "metadata": {},
     "output_type": "display_data"
    }
   ],
   "source": [
    "# For upper panel:\n",
    "coef_pred = [jnp.mean(ps['theta'], axis=0) for ps in posterior_samples_upper]\n",
    "std_pred = [jnp.std(ps['theta'], axis=0) for ps in posterior_samples_upper]\n",
    "\n",
    "nu_eff_val = [1.39, 1.56, 1.61, (1.62+2.3)/2]\n",
    "nu_eff_label = [1.3, 1.4, 1.5, 1.6, 1.7, 1.8, 1.9, 2., 2.1, 2.2, 2.3]\n",
    "\n",
    "C0 = np.sqrt(8*np.pi/3)/1000\n",
    "C1 = np.sqrt(4*np.pi/3)/1000\n",
    "\n",
    "# G_mag Vector componets:\n",
    "gz, gz_error = [coef_pred[z][1]/C0 for z in range(0,4)], [std_pred[z][1]/C0 for z in range(0,4)]\n",
    "gx, gx_error = [-coef_pred[x][4]/C1 for x in range(0,4)], [std_pred[x][4]/C1 for x in range(0,4)]\n",
    "gy, gy_error = [coef_pred[y][5]/C1 for y in range(0,4)], [std_pred[y][5]/C1 for y in range(0,4)]\n",
    "\n",
    "# On full dataset\n",
    "agz, agz_er = coef_pred[4][1], std_pred[4][1]\n",
    "agx, agx_er = coef_pred[4][4], std_pred[4][4]\n",
    "agy, agy_er = coef_pred[4][5], std_pred[4][5]\n",
    "\n",
    "plt.figure(figsize=(6.5, 4))  \n",
    "plt.errorbar(nu_eff_val, gx, yerr=gx_error, fmt='o', capsize=3, markersize=5, elinewidth=1, label=r'$g_x$', color = 'red')\n",
    "plt.errorbar(nu_eff_val, gy, yerr=gy_error, fmt='o', capsize=3, markersize=5, elinewidth=1, label=r'$g_y$', color = 'green')\n",
    "plt.errorbar(nu_eff_val, gz, yerr=gz_error, fmt='o', capsize=3, markersize=5, elinewidth=1, label=r'$g_z$', color = 'blue')\n",
    "\n",
    "# Plotting bands\n",
    "plt.axhspan((agz - agz_er)/C0, (agz + agz_er)/C0, color='blue', alpha=0.3)\n",
    "plt.axhspan((-agx - agx_er)/C1, (-agx + agx_er)/C1, color='red', alpha=0.3)\n",
    "plt.axhspan((agy - agy_er)/C1, (agy + agy_er)/C1, color='green', alpha=0.3)\n",
    "\n",
    "# Plotting gray bands\n",
    "plt.axvspan(1.2, 1.55, alpha = 0.1, color = 'red')\n",
    "plt.axvspan(1.55, 1.59, alpha = 0.1, color = 'yellow')\n",
    "plt.axvspan(1.59, 1.62, alpha = 0.1, color = 'blue')\n",
    "plt.axvspan(1.62, 2.3, alpha = 0.1, color = 'purple')\n",
    "\n",
    "#plt.title(\"Equatorial Upper Panel\")\n",
    "plt.xlabel(r'$nu_{eff}$[$\\mu \\text{m}^{-1}$]')\n",
    "plt.ylabel(r'Equatorial Frame [$\\mu$as/yr]')\n",
    "plt.legend(loc='center left', bbox_to_anchor=(1, 0.5))\n",
    "plt.xticks(nu_eff_label, label = nu_eff_label)\n",
    "plt.xlim(1.2, 2.3)\n",
    "#plt.ylim(-7, 4)\n",
    "#plt.savefig(\"plots/main_plots/G_mag_plot.png\", dpi=300, bbox_inches='tight')\n",
    "plt.show()\n",
    "\n"
   ]
  }
 ],
 "metadata": {
  "kernelspec": {
   "display_name": "gaia_venv",
   "language": "python",
   "name": "python3"
  },
  "language_info": {
   "codemirror_mode": {
    "name": "ipython",
    "version": 3
   },
   "file_extension": ".py",
   "mimetype": "text/x-python",
   "name": "python",
   "nbconvert_exporter": "python",
   "pygments_lexer": "ipython3",
   "version": "3.12.3"
  }
 },
 "nbformat": 4,
 "nbformat_minor": 5
}
