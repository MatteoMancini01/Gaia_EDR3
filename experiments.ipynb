{
 "cells": [
  {
   "cell_type": "code",
   "execution_count": 59,
   "id": "b601c4fa",
   "metadata": {},
   "outputs": [],
   "source": [
    "import jax \n",
    "import jax.numpy as jnp\n",
    "import math\n",
    "from jax import jit, vmap\n",
    "from functools import partial, lru_cache\n",
    "from src.models.vsh_model import*\n",
    "from jax import random\n",
    "import pandas as pd\n",
    "from iminuit import Minuit # to perform least square\n",
    "from src.models.configuration import*\n",
    "from numpyro.infer import MCMC, NUTS\n",
    "import numpyro\n",
    "import numpyro.distributions as dist"
   ]
  },
  {
   "cell_type": "code",
   "execution_count": 102,
   "id": "514426d0",
   "metadata": {},
   "outputs": [],
   "source": [
    "df = load_5p_data()\n",
    "angles, obs, error = config_data(df)\n"
   ]
  },
  {
   "cell_type": "code",
   "execution_count": 103,
   "id": "a4e09a0b",
   "metadata": {},
   "outputs": [
    {
     "name": "stdout",
     "output_type": "stream",
     "text": [
      "-1368.3303 1195.4039\n",
      "-986.4631 1010.71436\n"
     ]
    }
   ],
   "source": [
    "print(jnp.min(obs[0]), jnp.max(obs[0]))\n",
    "print(jnp.min(obs[1]), jnp.max(obs[1]))"
   ]
  },
  {
   "cell_type": "code",
   "execution_count": 104,
   "id": "d2214a24",
   "metadata": {},
   "outputs": [
    {
     "name": "stdout",
     "output_type": "stream",
     "text": [
      "0.97243935 330.97748\n",
      "1.291789 338.21484\n"
     ]
    }
   ],
   "source": [
    "print(jnp.min(error[0]), jnp.max(error[0]))\n",
    "print(jnp.min(error[1]), jnp.max(error[1]))"
   ]
  },
  {
   "cell_type": "code",
   "execution_count": 91,
   "id": "9db8ad01",
   "metadata": {},
   "outputs": [],
   "source": [
    "def model_for_HMC(angles, obs, error, lmax):\n",
    "    total_params = count_vsh_coeffs(lmax)\n",
    "    \n",
    "    # Prior on all VSH coefficients (both toroidal and spheroidal)\n",
    "    theta = numpyro.sample(\"theta\", dist.Uniform(-10., 10.).expand([total_params]))\n",
    "\n",
    "    # Least-squares residuals: we assume Gaussian-distributed residuals\n",
    "    chi2_val = least_square(angles, obs, error, theta, lmax=lmax, grid=False)\n",
    "\n",
    "    # The log-likelihood is proportional to -0.5*chi^2\n",
    "    numpyro.factor(\"likelihood\", -0.5*chi2_val)"
   ]
  },
  {
   "cell_type": "code",
   "execution_count": 92,
   "id": "07e0e1a0",
   "metadata": {},
   "outputs": [
    {
     "name": "stderr",
     "output_type": "stream",
     "text": [
      "/tmp/ipykernel_29499/77864599.py:4: UserWarning: There are not enough devices to run parallel chains: expected 2 but got 1. Chains will be drawn sequentially. If you are running MCMC in CPU, consider using `numpyro.set_host_device_count(2)` at the beginning of your program. You can double-check how many devices are available in your system using `jax.local_device_count()`.\n",
      "  mcmc = MCMC(kernel, num_warmup=1000, num_samples=3000, num_chains=2, progress_bar=True)\n",
      "warmup:  11%|█         | 438/4000 [00:43<05:56,  9.99it/s, 7 steps of size 6.74e-01. acc. prob=0.74]  \n"
     ]
    },
    {
     "ename": "KeyboardInterrupt",
     "evalue": "",
     "output_type": "error",
     "traceback": [
      "\u001b[0;31m---------------------------------------------------------------------------\u001b[0m",
      "\u001b[0;31mKeyboardInterrupt\u001b[0m                         Traceback (most recent call last)",
      "Cell \u001b[0;32mIn[92], line 5\u001b[0m\n\u001b[1;32m      3\u001b[0m numpyro\u001b[38;5;241m.\u001b[39mset_host_device_count(\u001b[38;5;241m2\u001b[39m)\n\u001b[1;32m      4\u001b[0m mcmc \u001b[38;5;241m=\u001b[39m MCMC(kernel, num_warmup\u001b[38;5;241m=\u001b[39m\u001b[38;5;241m1000\u001b[39m, num_samples\u001b[38;5;241m=\u001b[39m\u001b[38;5;241m3000\u001b[39m, num_chains\u001b[38;5;241m=\u001b[39m\u001b[38;5;241m2\u001b[39m, progress_bar\u001b[38;5;241m=\u001b[39m\u001b[38;5;28;01mTrue\u001b[39;00m)\n\u001b[0;32m----> 5\u001b[0m \u001b[43mmcmc\u001b[49m\u001b[38;5;241;43m.\u001b[39;49m\u001b[43mrun\u001b[49m\u001b[43m(\u001b[49m\u001b[43mrng_key\u001b[49m\u001b[43m,\u001b[49m\u001b[43m \u001b[49m\u001b[43mangles\u001b[49m\u001b[38;5;241;43m=\u001b[39;49m\u001b[43mangles\u001b[49m\u001b[43m,\u001b[49m\u001b[43m \u001b[49m\u001b[43mobs\u001b[49m\u001b[38;5;241;43m=\u001b[39;49m\u001b[43mobs\u001b[49m\u001b[43m,\u001b[49m\u001b[43m \u001b[49m\u001b[43merror\u001b[49m\u001b[38;5;241;43m=\u001b[39;49m\u001b[43merror\u001b[49m\u001b[43m,\u001b[49m\u001b[43m \u001b[49m\u001b[43mlmax\u001b[49m\u001b[38;5;241;43m=\u001b[39;49m\u001b[38;5;241;43m2\u001b[39;49m\u001b[43m)\u001b[49m\n\u001b[1;32m      7\u001b[0m posterior_sample \u001b[38;5;241m=\u001b[39m mcmc\u001b[38;5;241m.\u001b[39mget_samples()\n",
      "File \u001b[0;32m~/Document/Gaia_Project/mem97/gaia_venv/lib/python3.12/site-packages/numpyro/infer/mcmc.py:706\u001b[0m, in \u001b[0;36mMCMC.run\u001b[0;34m(self, rng_key, extra_fields, init_params, *args, **kwargs)\u001b[0m\n\u001b[1;32m    704\u001b[0m \u001b[38;5;28;01melse\u001b[39;00m:\n\u001b[1;32m    705\u001b[0m     \u001b[38;5;28;01mif\u001b[39;00m \u001b[38;5;28mself\u001b[39m\u001b[38;5;241m.\u001b[39mchain_method \u001b[38;5;241m==\u001b[39m \u001b[38;5;124m\"\u001b[39m\u001b[38;5;124msequential\u001b[39m\u001b[38;5;124m\"\u001b[39m:\n\u001b[0;32m--> 706\u001b[0m         states, last_state \u001b[38;5;241m=\u001b[39m \u001b[43m_laxmap\u001b[49m\u001b[43m(\u001b[49m\u001b[43mpartial_map_fn\u001b[49m\u001b[43m,\u001b[49m\u001b[43m \u001b[49m\u001b[43mmap_args\u001b[49m\u001b[43m)\u001b[49m\n\u001b[1;32m    707\u001b[0m     \u001b[38;5;28;01melif\u001b[39;00m \u001b[38;5;28mself\u001b[39m\u001b[38;5;241m.\u001b[39mchain_method \u001b[38;5;241m==\u001b[39m \u001b[38;5;124m\"\u001b[39m\u001b[38;5;124mparallel\u001b[39m\u001b[38;5;124m\"\u001b[39m:\n\u001b[1;32m    708\u001b[0m         states, last_state \u001b[38;5;241m=\u001b[39m pmap(partial_map_fn)(map_args)\n",
      "File \u001b[0;32m~/Document/Gaia_Project/mem97/gaia_venv/lib/python3.12/site-packages/numpyro/infer/mcmc.py:177\u001b[0m, in \u001b[0;36m_laxmap\u001b[0;34m(f, xs)\u001b[0m\n\u001b[1;32m    175\u001b[0m \u001b[38;5;28;01mfor\u001b[39;00m i \u001b[38;5;129;01min\u001b[39;00m \u001b[38;5;28mrange\u001b[39m(n):\n\u001b[1;32m    176\u001b[0m     x \u001b[38;5;241m=\u001b[39m jit(_get_value_from_index)(xs, i)\n\u001b[0;32m--> 177\u001b[0m     ys\u001b[38;5;241m.\u001b[39mappend(\u001b[43mf\u001b[49m\u001b[43m(\u001b[49m\u001b[43mx\u001b[49m\u001b[43m)\u001b[49m)\n\u001b[1;32m    179\u001b[0m \u001b[38;5;28;01mreturn\u001b[39;00m jax\u001b[38;5;241m.\u001b[39mtree\u001b[38;5;241m.\u001b[39mmap(\u001b[38;5;28;01mlambda\u001b[39;00m \u001b[38;5;241m*\u001b[39margs: jnp\u001b[38;5;241m.\u001b[39mstack(args), \u001b[38;5;241m*\u001b[39mys)\n",
      "File \u001b[0;32m~/Document/Gaia_Project/mem97/gaia_venv/lib/python3.12/site-packages/numpyro/infer/mcmc.py:489\u001b[0m, in \u001b[0;36mMCMC._single_chain_mcmc\u001b[0;34m(self, init, args, kwargs, collect_fields, remove_sites)\u001b[0m\n\u001b[1;32m    483\u001b[0m collection_size \u001b[38;5;241m=\u001b[39m \u001b[38;5;28mself\u001b[39m\u001b[38;5;241m.\u001b[39m_collection_params[\u001b[38;5;124m\"\u001b[39m\u001b[38;5;124mcollection_size\u001b[39m\u001b[38;5;124m\"\u001b[39m]\n\u001b[1;32m    484\u001b[0m collection_size \u001b[38;5;241m=\u001b[39m (\n\u001b[1;32m    485\u001b[0m     collection_size\n\u001b[1;32m    486\u001b[0m     \u001b[38;5;28;01mif\u001b[39;00m collection_size \u001b[38;5;129;01mis\u001b[39;00m \u001b[38;5;28;01mNone\u001b[39;00m\n\u001b[1;32m    487\u001b[0m     \u001b[38;5;28;01melse\u001b[39;00m collection_size \u001b[38;5;241m/\u001b[39m\u001b[38;5;241m/\u001b[39m \u001b[38;5;28mself\u001b[39m\u001b[38;5;241m.\u001b[39mthinning\n\u001b[1;32m    488\u001b[0m )\n\u001b[0;32m--> 489\u001b[0m collect_vals \u001b[38;5;241m=\u001b[39m \u001b[43mfori_collect\u001b[49m\u001b[43m(\u001b[49m\n\u001b[1;32m    490\u001b[0m \u001b[43m    \u001b[49m\u001b[43mlower_idx\u001b[49m\u001b[43m,\u001b[49m\n\u001b[1;32m    491\u001b[0m \u001b[43m    \u001b[49m\u001b[43mupper_idx\u001b[49m\u001b[43m,\u001b[49m\n\u001b[1;32m    492\u001b[0m \u001b[43m    \u001b[49m\u001b[43msample_fn\u001b[49m\u001b[43m,\u001b[49m\n\u001b[1;32m    493\u001b[0m \u001b[43m    \u001b[49m\u001b[43minit_val\u001b[49m\u001b[43m,\u001b[49m\n\u001b[1;32m    494\u001b[0m \u001b[43m    \u001b[49m\u001b[43mtransform\u001b[49m\u001b[38;5;241;43m=\u001b[39;49m\u001b[43m_collect_and_postprocess\u001b[49m\u001b[43m(\u001b[49m\n\u001b[1;32m    495\u001b[0m \u001b[43m        \u001b[49m\u001b[43mpostprocess_fn\u001b[49m\u001b[43m,\u001b[49m\u001b[43m \u001b[49m\u001b[43mcollect_fields\u001b[49m\u001b[43m,\u001b[49m\u001b[43m \u001b[49m\u001b[43mremove_sites\u001b[49m\n\u001b[1;32m    496\u001b[0m \u001b[43m    \u001b[49m\u001b[43m)\u001b[49m\u001b[43m,\u001b[49m\n\u001b[1;32m    497\u001b[0m \u001b[43m    \u001b[49m\u001b[43mprogbar\u001b[49m\u001b[38;5;241;43m=\u001b[39;49m\u001b[38;5;28;43mself\u001b[39;49m\u001b[38;5;241;43m.\u001b[39;49m\u001b[43mprogress_bar\u001b[49m\u001b[43m,\u001b[49m\n\u001b[1;32m    498\u001b[0m \u001b[43m    \u001b[49m\u001b[43mreturn_last_val\u001b[49m\u001b[38;5;241;43m=\u001b[39;49m\u001b[38;5;28;43;01mTrue\u001b[39;49;00m\u001b[43m,\u001b[49m\n\u001b[1;32m    499\u001b[0m \u001b[43m    \u001b[49m\u001b[43mthinning\u001b[49m\u001b[38;5;241;43m=\u001b[39;49m\u001b[38;5;28;43mself\u001b[39;49m\u001b[38;5;241;43m.\u001b[39;49m\u001b[43mthinning\u001b[49m\u001b[43m,\u001b[49m\n\u001b[1;32m    500\u001b[0m \u001b[43m    \u001b[49m\u001b[43mcollection_size\u001b[49m\u001b[38;5;241;43m=\u001b[39;49m\u001b[43mcollection_size\u001b[49m\u001b[43m,\u001b[49m\n\u001b[1;32m    501\u001b[0m \u001b[43m    \u001b[49m\u001b[43mprogbar_desc\u001b[49m\u001b[38;5;241;43m=\u001b[39;49m\u001b[43mpartial\u001b[49m\u001b[43m(\u001b[49m\u001b[43m_get_progbar_desc_str\u001b[49m\u001b[43m,\u001b[49m\u001b[43m \u001b[49m\u001b[43mlower_idx\u001b[49m\u001b[43m,\u001b[49m\u001b[43m \u001b[49m\u001b[43mphase\u001b[49m\u001b[43m)\u001b[49m\u001b[43m,\u001b[49m\n\u001b[1;32m    502\u001b[0m \u001b[43m    \u001b[49m\u001b[43mdiagnostics_fn\u001b[49m\u001b[38;5;241;43m=\u001b[39;49m\u001b[43mdiagnostics\u001b[49m\u001b[43m,\u001b[49m\n\u001b[1;32m    503\u001b[0m \u001b[43m    \u001b[49m\u001b[43mnum_chains\u001b[49m\u001b[38;5;241;43m=\u001b[39;49m\u001b[38;5;28;43mself\u001b[39;49m\u001b[38;5;241;43m.\u001b[39;49m\u001b[43mnum_chains\u001b[49m\n\u001b[1;32m    504\u001b[0m \u001b[43m    \u001b[49m\u001b[38;5;28;43;01mif\u001b[39;49;00m\u001b[43m \u001b[49m\u001b[43m(\u001b[49m\u001b[38;5;28;43mcallable\u001b[39;49m\u001b[43m(\u001b[49m\u001b[38;5;28;43mself\u001b[39;49m\u001b[38;5;241;43m.\u001b[39;49m\u001b[43mchain_method\u001b[49m\u001b[43m)\u001b[49m\u001b[43m \u001b[49m\u001b[38;5;129;43;01mor\u001b[39;49;00m\u001b[43m \u001b[49m\u001b[38;5;28;43mself\u001b[39;49m\u001b[38;5;241;43m.\u001b[39;49m\u001b[43mchain_method\u001b[49m\u001b[43m \u001b[49m\u001b[38;5;241;43m==\u001b[39;49m\u001b[43m \u001b[49m\u001b[38;5;124;43m\"\u001b[39;49m\u001b[38;5;124;43mparallel\u001b[39;49m\u001b[38;5;124;43m\"\u001b[39;49m\u001b[43m)\u001b[49m\n\u001b[1;32m    505\u001b[0m \u001b[43m    \u001b[49m\u001b[38;5;28;43;01melse\u001b[39;49;00m\u001b[43m \u001b[49m\u001b[38;5;241;43m1\u001b[39;49m\u001b[43m,\u001b[49m\n\u001b[1;32m    506\u001b[0m \u001b[43m\u001b[49m\u001b[43m)\u001b[49m\n\u001b[1;32m    507\u001b[0m states, last_val \u001b[38;5;241m=\u001b[39m collect_vals\n\u001b[1;32m    508\u001b[0m \u001b[38;5;66;03m# Get first argument of type `HMCState`\u001b[39;00m\n",
      "File \u001b[0;32m~/Document/Gaia_Project/mem97/gaia_venv/lib/python3.12/site-packages/numpyro/util.py:399\u001b[0m, in \u001b[0;36mfori_collect\u001b[0;34m(lower, upper, body_fun, init_val, transform, progbar, return_last_val, collection_size, thinning, **progbar_opts)\u001b[0m\n\u001b[1;32m    397\u001b[0m \u001b[38;5;28;01mwith\u001b[39;00m tqdm\u001b[38;5;241m.\u001b[39mtrange(upper) \u001b[38;5;28;01mas\u001b[39;00m t:\n\u001b[1;32m    398\u001b[0m     \u001b[38;5;28;01mfor\u001b[39;00m i \u001b[38;5;129;01min\u001b[39;00m t:\n\u001b[0;32m--> 399\u001b[0m         vals \u001b[38;5;241m=\u001b[39m \u001b[43m_body_fn\u001b[49m\u001b[43m(\u001b[49m\u001b[43mi\u001b[49m\u001b[43m,\u001b[49m\u001b[43m \u001b[49m\u001b[38;5;241;43m*\u001b[39;49m\u001b[43mvals\u001b[49m\u001b[43m)\u001b[49m\n\u001b[1;32m    401\u001b[0m         t\u001b[38;5;241m.\u001b[39mset_description(progbar_desc(i), refresh\u001b[38;5;241m=\u001b[39m\u001b[38;5;28;01mFalse\u001b[39;00m)\n\u001b[1;32m    402\u001b[0m         \u001b[38;5;28;01mif\u001b[39;00m diagnostics_fn:\n",
      "File \u001b[0;32m~/Document/Gaia_Project/mem97/gaia_venv/lib/python3.12/site-packages/jax/_src/prng.py:328\u001b[0m, in \u001b[0;36mprngkeyarray_unflatten\u001b[0;34m(impl, children)\u001b[0m\n\u001b[1;32m    325\u001b[0m \u001b[38;5;28;01mdef\u001b[39;00m\u001b[38;5;250m \u001b[39m\u001b[38;5;21mprngkeyarray_flatten\u001b[39m(x):\n\u001b[1;32m    326\u001b[0m   \u001b[38;5;28;01mreturn\u001b[39;00m (x\u001b[38;5;241m.\u001b[39m_base_array,), x\u001b[38;5;241m.\u001b[39m_impl\n\u001b[0;32m--> 328\u001b[0m \u001b[38;5;28;01mdef\u001b[39;00m\u001b[38;5;250m \u001b[39m\u001b[38;5;21mprngkeyarray_unflatten\u001b[39m(impl, children):\n\u001b[1;32m    329\u001b[0m   base_array, \u001b[38;5;241m=\u001b[39m children\n\u001b[1;32m    330\u001b[0m   \u001b[38;5;28;01mreturn\u001b[39;00m PRNGKeyArray(impl, base_array)\n",
      "\u001b[0;31mKeyboardInterrupt\u001b[0m: "
     ]
    }
   ],
   "source": [
    "kernel = NUTS(model_for_HMC, target_accept_prob=0.75)\n",
    "rng_key = jax.random.key(0)\n",
    "numpyro.set_host_device_count(2)\n",
    "mcmc = MCMC(kernel, num_warmup=1000, num_samples=3000, num_chains=2, progress_bar=True)\n",
    "mcmc.run(rng_key, angles=angles, obs=obs, error=error, lmax=2)\n",
    "\n",
    "posterior_sample = mcmc.get_samples()"
   ]
  },
  {
   "cell_type": "code",
   "execution_count": 35,
   "id": "a28e1f6b",
   "metadata": {},
   "outputs": [
    {
     "name": "stdout",
     "output_type": "stream",
     "text": [
      "\n",
      "                mean       std    median      5.0%     95.0%     n_eff     r_hat\n",
      "  theta[0]     -0.00      0.00     -0.00     -0.00     -0.00   5447.69      1.00\n",
      "  theta[1]     -0.01      0.00     -0.01     -0.01     -0.00   4795.49      1.00\n",
      "  theta[2]     -0.01      0.00     -0.01     -0.01     -0.01   7687.13      1.00\n",
      "  theta[3]      0.00      0.00      0.00      0.00      0.01   6026.91      1.00\n",
      "  theta[4]      0.00      0.00      0.00      0.00      0.01   5142.31      1.00\n",
      "  theta[5]     -0.01      0.00     -0.01     -0.01     -0.01   8780.23      1.00\n",
      "  theta[6]      0.01      0.00      0.01      0.00      0.01   4814.40      1.00\n",
      "  theta[7]     -0.00      0.00     -0.00     -0.00     -0.00   5693.77      1.00\n",
      "  theta[8]      0.00      0.00      0.00     -0.00      0.00   5481.01      1.00\n",
      "  theta[9]      0.00      0.00      0.00      0.00      0.01   5051.60      1.00\n",
      " theta[10]      0.01      0.00      0.01      0.01      0.01   3754.23      1.00\n",
      " theta[11]      0.01      0.00      0.01      0.00      0.01   4680.89      1.00\n",
      " theta[12]     -0.00      0.00     -0.00     -0.01     -0.00   5763.99      1.00\n",
      " theta[13]      0.00      0.00      0.00      0.00      0.01   4956.48      1.00\n",
      " theta[14]     -0.00      0.00     -0.00     -0.01     -0.00   5159.72      1.00\n",
      " theta[15]      0.01      0.00      0.01      0.00      0.01   5380.38      1.00\n",
      "\n",
      "Number of divergences: 0\n"
     ]
    }
   ],
   "source": [
    "mcmc.print_summary()"
   ]
  },
  {
   "cell_type": "code",
   "execution_count": 36,
   "id": "ca5af6e1",
   "metadata": {},
   "outputs": [],
   "source": [
    "parameters = jnp.mean(posterior_sample['theta'], axis=0)"
   ]
  },
  {
   "cell_type": "code",
   "execution_count": 37,
   "id": "d0c1a145",
   "metadata": {},
   "outputs": [
    {
     "data": {
      "text/plain": [
       "Array([-0.00169466, -0.00632678, -0.00933125,  0.00493235,  0.00281017,\n",
       "       -0.00979357,  0.00614095, -0.00360828,  0.00146974,  0.00383913,\n",
       "        0.0071694 ,  0.0066481 , -0.0046057 ,  0.0047964 , -0.00497876,\n",
       "        0.00526761], dtype=float32)"
      ]
     },
     "execution_count": 37,
     "metadata": {},
     "output_type": "execute_result"
    }
   ],
   "source": [
    "parameters"
   ]
  },
  {
   "cell_type": "code",
   "execution_count": 38,
   "id": "75af274e",
   "metadata": {},
   "outputs": [
    {
     "name": "stdout",
     "output_type": "stream",
     "text": [
      "t_10 = -0.00169, index = 0\n",
      "t_11r = -0.00933, index = 2\n",
      "t_11i = 0.00493, index = 3\n",
      "s_10 = -0.00633, index = 1\n",
      "s_11r = 0.00281, index = 4\n",
      "s_11i = -0.00979, index = 5\n"
     ]
    }
   ],
   "source": [
    "index = get_vsh_index_map(5)\n",
    "for i in [0,2,3,1,4,5]:\n",
    "    print(f'{index[i]} = {parameters[i]:.5f}, index = {i}')"
   ]
  },
  {
   "cell_type": "code",
   "execution_count": 39,
   "id": "347ae2db",
   "metadata": {},
   "outputs": [],
   "source": [
    "param = jnp.array([parameters[1], parameters[4], parameters[5]])\n",
    "cov_slm, _, cov_matrix = cov_matrix_hmc(posterior_sample)\n",
    "summary_equatorial, g_vec, Sigma_g = vsh_vector_summary(param, cov_slm)"
   ]
  },
  {
   "cell_type": "code",
   "execution_count": 40,
   "id": "4309ea48",
   "metadata": {},
   "outputs": [
    {
     "name": "stdout",
     "output_type": "stream",
     "text": [
      "[-0.00169466 -0.00632678 -0.00933125  0.00493235  0.00281017 -0.00979357\n",
      "  0.00614095 -0.00360828  0.00146974  0.00383913  0.0071694   0.0066481\n",
      " -0.0046057   0.0047964  -0.00497876  0.00526761]\n",
      "[-0.00632678  0.00281017 -0.00979357]\n"
     ]
    }
   ],
   "source": [
    "print(parameters)\n",
    "print(param)"
   ]
  },
  {
   "cell_type": "code",
   "execution_count": 41,
   "id": "f8c0b89c",
   "metadata": {},
   "outputs": [
    {
     "data": {
      "text/plain": [
       "{'|g| (μas/yr)': Array(5.437011, dtype=float32),\n",
       " 'g (μas/yr)': Array([-1.3730539, -4.785165 , -2.1858656], dtype=float32),\n",
       " '|sigma_g| (μas/yr)': Array(0.22540908, dtype=float32),\n",
       " 'sigma_g (μas/yr)': Array([0.66025776, 0.09914982, 0.30857253], dtype=float32),\n",
       " 'Corr_gx_gy': Array(-0.01184584, dtype=float32),\n",
       " 'Corr_gx_gz': Array(-0.00017933, dtype=float32),\n",
       " 'Corr_gy_gz': Array(0.01635787, dtype=float32)}"
      ]
     },
     "execution_count": 41,
     "metadata": {},
     "output_type": "execute_result"
    }
   ],
   "source": [
    "summary_equatorial"
   ]
  },
  {
   "cell_type": "code",
   "execution_count": 42,
   "id": "9f0e9ea8",
   "metadata": {},
   "outputs": [
    {
     "data": {
      "text/plain": [
       "Array(0.0071694, dtype=float32)"
      ]
     },
     "execution_count": 42,
     "metadata": {},
     "output_type": "execute_result"
    }
   ],
   "source": [
    "max(parameters)"
   ]
  },
  {
   "cell_type": "code",
   "execution_count": 43,
   "id": "373f00c0",
   "metadata": {},
   "outputs": [],
   "source": [
    "diag_hmc = jnp.diag(cov_matrix)\n",
    "limits = {}\n",
    "idx = 0\n",
    "for i in range(0, len(diag_hmc)+1):\n",
    "    limits[f'x{idx}'] = (parameters[i]-1000*diag_hmc[i], parameters[i]+1000*diag_hmc[i])\n",
    "    idx +=1"
   ]
  },
  {
   "cell_type": "code",
   "execution_count": 15,
   "id": "f5575926",
   "metadata": {},
   "outputs": [
    {
     "ename": "NameError",
     "evalue": "name 'angles' is not defined",
     "output_type": "error",
     "traceback": [
      "\u001b[0;31m---------------------------------------------------------------------------\u001b[0m",
      "\u001b[0;31mNameError\u001b[0m                                 Traceback (most recent call last)",
      "Cell \u001b[0;32mIn[15], line 24\u001b[0m\n\u001b[1;32m     20\u001b[0m \u001b[38;5;28;01mfor\u001b[39;00m i, name \u001b[38;5;129;01min\u001b[39;00m \u001b[38;5;28menumerate\u001b[39m(m\u001b[38;5;241m.\u001b[39mparameters):\n\u001b[1;32m     21\u001b[0m     m\u001b[38;5;241m.\u001b[39mlimits[name] \u001b[38;5;241m=\u001b[39m limits[name]\n\u001b[0;32m---> 24\u001b[0m \u001b[43mm\u001b[49m\u001b[38;5;241;43m.\u001b[39;49m\u001b[43mmigrad\u001b[49m\u001b[43m(\u001b[49m\u001b[43m)\u001b[49m\n\u001b[1;32m     25\u001b[0m m\u001b[38;5;241m.\u001b[39mparams\n",
      "File \u001b[0;32m~/Document/Gaia_Project/mem97/gaia_venv/lib/python3.12/site-packages/iminuit/minuit.py:789\u001b[0m, in \u001b[0;36mMinuit.migrad\u001b[0;34m(self, ncall, iterate, use_simplex)\u001b[0m\n\u001b[1;32m    787\u001b[0m t \u001b[38;5;241m=\u001b[39m mutil\u001b[38;5;241m.\u001b[39m_Timer(\u001b[38;5;28mself\u001b[39m\u001b[38;5;241m.\u001b[39m_fmin)\n\u001b[1;32m    788\u001b[0m \u001b[38;5;28;01mwith\u001b[39;00m t:\n\u001b[0;32m--> 789\u001b[0m     fm \u001b[38;5;241m=\u001b[39m \u001b[43m_robust_low_level_fit\u001b[49m\u001b[43m(\u001b[49m\n\u001b[1;32m    790\u001b[0m \u001b[43m        \u001b[49m\u001b[38;5;28;43mself\u001b[39;49m\u001b[38;5;241;43m.\u001b[39;49m\u001b[43m_fcn\u001b[49m\u001b[43m,\u001b[49m\n\u001b[1;32m    791\u001b[0m \u001b[43m        \u001b[49m\u001b[38;5;28;43mself\u001b[39;49m\u001b[38;5;241;43m.\u001b[39;49m\u001b[43m_last_state\u001b[49m\u001b[43m,\u001b[49m\n\u001b[1;32m    792\u001b[0m \u001b[43m        \u001b[49m\u001b[43mreplace_none\u001b[49m\u001b[43m(\u001b[49m\u001b[43mncall\u001b[49m\u001b[43m,\u001b[49m\u001b[43m \u001b[49m\u001b[38;5;241;43m0\u001b[39;49m\u001b[43m)\u001b[49m\u001b[43m,\u001b[49m\n\u001b[1;32m    793\u001b[0m \u001b[43m        \u001b[49m\u001b[38;5;28;43mself\u001b[39;49m\u001b[38;5;241;43m.\u001b[39;49m\u001b[43m_strategy\u001b[49m\u001b[43m,\u001b[49m\n\u001b[1;32m    794\u001b[0m \u001b[43m        \u001b[49m\u001b[38;5;28;43mself\u001b[39;49m\u001b[38;5;241;43m.\u001b[39;49m\u001b[43m_tolerance\u001b[49m\u001b[43m,\u001b[49m\n\u001b[1;32m    795\u001b[0m \u001b[43m        \u001b[49m\u001b[38;5;28;43mself\u001b[39;49m\u001b[38;5;241;43m.\u001b[39;49m\u001b[43m_precision\u001b[49m\u001b[43m,\u001b[49m\n\u001b[1;32m    796\u001b[0m \u001b[43m        \u001b[49m\u001b[43miterate\u001b[49m\u001b[43m,\u001b[49m\n\u001b[1;32m    797\u001b[0m \u001b[43m        \u001b[49m\u001b[43muse_simplex\u001b[49m\u001b[43m,\u001b[49m\n\u001b[1;32m    798\u001b[0m \u001b[43m    \u001b[49m\u001b[43m)\u001b[49m\n\u001b[1;32m    800\u001b[0m \u001b[38;5;28mself\u001b[39m\u001b[38;5;241m.\u001b[39m_last_state \u001b[38;5;241m=\u001b[39m fm\u001b[38;5;241m.\u001b[39mstate\n\u001b[1;32m    802\u001b[0m \u001b[38;5;28mself\u001b[39m\u001b[38;5;241m.\u001b[39m_fmin \u001b[38;5;241m=\u001b[39m mutil\u001b[38;5;241m.\u001b[39mFMin(\n\u001b[1;32m    803\u001b[0m     fm,\n\u001b[1;32m    804\u001b[0m     \u001b[38;5;124m\"\u001b[39m\u001b[38;5;124mMigrad\u001b[39m\u001b[38;5;124m\"\u001b[39m,\n\u001b[0;32m   (...)\u001b[0m\n\u001b[1;32m    809\u001b[0m     t\u001b[38;5;241m.\u001b[39mvalue,\n\u001b[1;32m    810\u001b[0m )\n",
      "File \u001b[0;32m~/Document/Gaia_Project/mem97/gaia_venv/lib/python3.12/site-packages/iminuit/minuit.py:2781\u001b[0m, in \u001b[0;36m_robust_low_level_fit\u001b[0;34m(fcn, state, ncall, strategy, tolerance, precision, iterate, use_simplex)\u001b[0m\n\u001b[1;32m   2779\u001b[0m \u001b[38;5;28;01mif\u001b[39;00m precision \u001b[38;5;129;01mis\u001b[39;00m \u001b[38;5;129;01mnot\u001b[39;00m \u001b[38;5;28;01mNone\u001b[39;00m:\n\u001b[1;32m   2780\u001b[0m     migrad\u001b[38;5;241m.\u001b[39mprecision \u001b[38;5;241m=\u001b[39m precision\n\u001b[0;32m-> 2781\u001b[0m fm \u001b[38;5;241m=\u001b[39m \u001b[43mmigrad\u001b[49m\u001b[43m(\u001b[49m\u001b[43mncall\u001b[49m\u001b[43m,\u001b[49m\u001b[43m \u001b[49m\u001b[43mtolerance\u001b[49m\u001b[43m)\u001b[49m\n\u001b[1;32m   2782\u001b[0m strategy \u001b[38;5;241m=\u001b[39m MnStrategy(\u001b[38;5;241m2\u001b[39m)\n\u001b[1;32m   2783\u001b[0m migrad \u001b[38;5;241m=\u001b[39m MnMigrad(fcn, fm\u001b[38;5;241m.\u001b[39mstate, strategy)\n",
      "Cell \u001b[0;32mIn[15], line 14\u001b[0m, in \u001b[0;36mleast_square_wrapper\u001b[0;34m(*theta_flat)\u001b[0m\n\u001b[1;32m     12\u001b[0m \u001b[38;5;28;01mdef\u001b[39;00m\u001b[38;5;250m \u001b[39m\u001b[38;5;21mleast_square_wrapper\u001b[39m(\u001b[38;5;241m*\u001b[39mtheta_flat):\n\u001b[1;32m     13\u001b[0m     theta \u001b[38;5;241m=\u001b[39m jnp\u001b[38;5;241m.\u001b[39marray(theta_flat)  \u001b[38;5;66;03m# reconstructs the vector from scalars\u001b[39;00m\n\u001b[0;32m---> 14\u001b[0m     \u001b[38;5;28;01mreturn\u001b[39;00m least_square(\u001b[43mangles\u001b[49m, obs, error, theta, lmax\u001b[38;5;241m=\u001b[39mlmax, grid\u001b[38;5;241m=\u001b[39m\u001b[38;5;28;01mFalse\u001b[39;00m)\n",
      "\u001b[0;31mNameError\u001b[0m: name 'angles' is not defined"
     ]
    }
   ],
   "source": [
    "lmax = 2\n",
    "total_params = count_vsh_coeffs(lmax) \n",
    "limits = vsh_minuit_limits(lmax, t_bound=.08, s_bound=.08)\n",
    "\n",
    "\n",
    "# Flat vector theta: [t10, ..., t_lmaxm, s10, ..., s_lmaxm]\n",
    "theta_init = jnp.zeros(total_params)#parameters[:total_params] # initial points from HMC\n",
    "\n",
    "# Fix everything except theta\n",
    "#bound_least_square = partial(least_square, data, obs, error, lmax=lmax, grid=False)\n",
    "\n",
    "def least_square_wrapper(*theta_flat):\n",
    "    theta = jnp.array(theta_flat)  # reconstructs the vector from scalars\n",
    "    return least_square(angles, obs, error, theta, lmax=lmax, grid=False)\n",
    "\n",
    "\n",
    "m = Minuit(least_square_wrapper, *theta_init)\n",
    "\n",
    "m.errordef = Minuit.LEAST_SQUARES\n",
    "for i, name in enumerate(m.parameters):\n",
    "    m.limits[name] = limits[name]\n",
    "\n",
    "\n",
    "m.migrad()\n",
    "m.params"
   ]
  },
  {
   "cell_type": "code",
   "execution_count": 94,
   "id": "da5b8850",
   "metadata": {},
   "outputs": [
    {
     "data": {
      "text/html": [
       "<table>\n",
       "    <tr>\n",
       "        <th colspan=\"2\" style=\"text-align:center\" title=\"Minimizer\"> Migrad </th>\n",
       "    </tr>\n",
       "    <tr>\n",
       "        <td style=\"text-align:left\" title=\"Minimum value of function\"> FCN = 2.728e+06 </td>\n",
       "        <td style=\"text-align:center\" title=\"Total number of function and (optional) gradient evaluations\"> Nfcn = 3470 </td>\n",
       "    </tr>\n",
       "    <tr>\n",
       "        <td style=\"text-align:left\" title=\"Estimated distance to minimum and goal\"> EDM = 0.706 (Goal: 0.0002) </td>\n",
       "        <td style=\"text-align:center\" title=\"Total run time of algorithms\"> time = 12.5 sec </td>\n",
       "    </tr>\n",
       "    <tr>\n",
       "        <td style=\"text-align:center;background-color:#c15ef7;color:black\"> INVALID Minimum </td>\n",
       "        <td style=\"text-align:center;background-color:#c15ef7;color:black\"> ABOVE EDM threshold (goal x 10) </td>\n",
       "    </tr>\n",
       "    <tr>\n",
       "        <td style=\"text-align:center;background-color:#92CCA6;color:black\"> No parameters at limit </td>\n",
       "        <td style=\"text-align:center;background-color:#92CCA6;color:black\"> Below call limit </td>\n",
       "    </tr>\n",
       "    <tr>\n",
       "        <td style=\"text-align:center;background-color:#92CCA6;color:black\"> Hesse ok </td>\n",
       "        <td style=\"text-align:center;background-color:#92CCA6;color:black\"> Covariance accurate </td>\n",
       "    </tr>\n",
       "</table><table>\n",
       "    <tr>\n",
       "        <td></td>\n",
       "        <th title=\"Variable name\"> Name </th>\n",
       "        <th title=\"Value of parameter\"> Value </th>\n",
       "        <th title=\"Hesse error\"> Hesse Error </th>\n",
       "        <th title=\"Minos lower error\"> Minos Error- </th>\n",
       "        <th title=\"Minos upper error\"> Minos Error+ </th>\n",
       "        <th title=\"Lower limit of the parameter\"> Limit- </th>\n",
       "        <th title=\"Upper limit of the parameter\"> Limit+ </th>\n",
       "        <th title=\"Is the parameter fixed in the fit\"> Fixed </th>\n",
       "    </tr>\n",
       "    <tr>\n",
       "        <th> 0 </th>\n",
       "        <td> x0 </td>\n",
       "        <td> -0.21 </td>\n",
       "        <td> 0.10 </td>\n",
       "        <td>  </td>\n",
       "        <td>  </td>\n",
       "        <td> -80 </td>\n",
       "        <td> 80 </td>\n",
       "        <td>  </td>\n",
       "    </tr>\n",
       "    <tr>\n",
       "        <th> 1 </th>\n",
       "        <td> x1 </td>\n",
       "        <td> -0.64 </td>\n",
       "        <td> 0.09 </td>\n",
       "        <td>  </td>\n",
       "        <td>  </td>\n",
       "        <td> -80 </td>\n",
       "        <td> 80 </td>\n",
       "        <td>  </td>\n",
       "    </tr>\n",
       "    <tr>\n",
       "        <th> 2 </th>\n",
       "        <td> x2 </td>\n",
       "        <td> -1.12 </td>\n",
       "        <td> 0.13 </td>\n",
       "        <td>  </td>\n",
       "        <td>  </td>\n",
       "        <td> -80 </td>\n",
       "        <td> 80 </td>\n",
       "        <td>  </td>\n",
       "    </tr>\n",
       "    <tr>\n",
       "        <th> 3 </th>\n",
       "        <td> x3 </td>\n",
       "        <td> 0.51 </td>\n",
       "        <td> 0.12 </td>\n",
       "        <td>  </td>\n",
       "        <td>  </td>\n",
       "        <td> -80 </td>\n",
       "        <td> 80 </td>\n",
       "        <td>  </td>\n",
       "    </tr>\n",
       "    <tr>\n",
       "        <th> 4 </th>\n",
       "        <td> x4 </td>\n",
       "        <td> 0.27 </td>\n",
       "        <td> 0.14 </td>\n",
       "        <td>  </td>\n",
       "        <td>  </td>\n",
       "        <td> -80 </td>\n",
       "        <td> 80 </td>\n",
       "        <td>  </td>\n",
       "    </tr>\n",
       "    <tr>\n",
       "        <th> 5 </th>\n",
       "        <td> x5 </td>\n",
       "        <td> -1.73 </td>\n",
       "        <td> 0.13 </td>\n",
       "        <td>  </td>\n",
       "        <td>  </td>\n",
       "        <td> -80 </td>\n",
       "        <td> 80 </td>\n",
       "        <td>  </td>\n",
       "    </tr>\n",
       "    <tr>\n",
       "        <th> 6 </th>\n",
       "        <td> x6 </td>\n",
       "        <td> 0.42 </td>\n",
       "        <td> 0.09 </td>\n",
       "        <td>  </td>\n",
       "        <td>  </td>\n",
       "        <td> -80 </td>\n",
       "        <td> 80 </td>\n",
       "        <td>  </td>\n",
       "    </tr>\n",
       "    <tr>\n",
       "        <th> 7 </th>\n",
       "        <td> x7 </td>\n",
       "        <td> -0.35 </td>\n",
       "        <td> 0.08 </td>\n",
       "        <td>  </td>\n",
       "        <td>  </td>\n",
       "        <td> -80 </td>\n",
       "        <td> 80 </td>\n",
       "        <td>  </td>\n",
       "    </tr>\n",
       "    <tr>\n",
       "        <th> 8 </th>\n",
       "        <td> x8 </td>\n",
       "        <td> 0.17 </td>\n",
       "        <td> 0.13 </td>\n",
       "        <td>  </td>\n",
       "        <td>  </td>\n",
       "        <td> -80 </td>\n",
       "        <td> 80 </td>\n",
       "        <td>  </td>\n",
       "    </tr>\n",
       "    <tr>\n",
       "        <th> 9 </th>\n",
       "        <td> x9 </td>\n",
       "        <td> 0.39 </td>\n",
       "        <td> 0.13 </td>\n",
       "        <td>  </td>\n",
       "        <td>  </td>\n",
       "        <td> -80 </td>\n",
       "        <td> 80 </td>\n",
       "        <td>  </td>\n",
       "    </tr>\n",
       "    <tr>\n",
       "        <th> 10 </th>\n",
       "        <td> x10 </td>\n",
       "        <td> 0.74 </td>\n",
       "        <td> 0.12 </td>\n",
       "        <td>  </td>\n",
       "        <td>  </td>\n",
       "        <td> -80 </td>\n",
       "        <td> 80 </td>\n",
       "        <td>  </td>\n",
       "    </tr>\n",
       "    <tr>\n",
       "        <th> 11 </th>\n",
       "        <td> x11 </td>\n",
       "        <td> 0.70 </td>\n",
       "        <td> 0.13 </td>\n",
       "        <td>  </td>\n",
       "        <td>  </td>\n",
       "        <td> -80 </td>\n",
       "        <td> 80 </td>\n",
       "        <td>  </td>\n",
       "    </tr>\n",
       "    <tr>\n",
       "        <th> 12 </th>\n",
       "        <td> x12 </td>\n",
       "        <td> -0.30 </td>\n",
       "        <td> 0.12 </td>\n",
       "        <td>  </td>\n",
       "        <td>  </td>\n",
       "        <td> -80 </td>\n",
       "        <td> 80 </td>\n",
       "        <td>  </td>\n",
       "    </tr>\n",
       "    <tr>\n",
       "        <th> 13 </th>\n",
       "        <td> x13 </td>\n",
       "        <td> 0.39 </td>\n",
       "        <td> 0.12 </td>\n",
       "        <td>  </td>\n",
       "        <td>  </td>\n",
       "        <td> -80 </td>\n",
       "        <td> 80 </td>\n",
       "        <td>  </td>\n",
       "    </tr>\n",
       "    <tr>\n",
       "        <th> 14 </th>\n",
       "        <td> x14 </td>\n",
       "        <td> -0.50 </td>\n",
       "        <td> 0.13 </td>\n",
       "        <td>  </td>\n",
       "        <td>  </td>\n",
       "        <td> -80 </td>\n",
       "        <td> 80 </td>\n",
       "        <td>  </td>\n",
       "    </tr>\n",
       "    <tr>\n",
       "        <th> 15 </th>\n",
       "        <td> x15 </td>\n",
       "        <td> 0.57 </td>\n",
       "        <td> 0.13 </td>\n",
       "        <td>  </td>\n",
       "        <td>  </td>\n",
       "        <td> -80 </td>\n",
       "        <td> 80 </td>\n",
       "        <td>  </td>\n",
       "    </tr>\n",
       "</table><table>\n",
       "    <tr>\n",
       "        <td></td>\n",
       "        <th> x0 </th>\n",
       "        <th> x1 </th>\n",
       "        <th> x2 </th>\n",
       "        <th> x3 </th>\n",
       "        <th> x4 </th>\n",
       "        <th> x5 </th>\n",
       "        <th> x6 </th>\n",
       "        <th> x7 </th>\n",
       "        <th> x8 </th>\n",
       "        <th> x9 </th>\n",
       "        <th> x10 </th>\n",
       "        <th> x11 </th>\n",
       "        <th> x12 </th>\n",
       "        <th> x13 </th>\n",
       "        <th> x14 </th>\n",
       "        <th> x15 </th>\n",
       "    </tr>\n",
       "    <tr>\n",
       "        <th> x0 </th>\n",
       "        <td> 0.0091 </td>\n",
       "        <td style=\"background-color:rgb(250,246,246);color:black\"> 0.000 <strong>(0.029)</strong> </td>\n",
       "        <td style=\"background-color:rgb(250,220,220);color:black\"> 0.002 <strong>(0.198)</strong> </td>\n",
       "        <td style=\"background-color:rgb(228,228,250);color:black\"> -0.002 <strong>(-0.173)</strong> </td>\n",
       "        <td style=\"background-color:rgb(243,243,250);color:black\"> -0.001 <strong>(-0.053)</strong> </td>\n",
       "        <td style=\"background-color:rgb(250,248,248);color:black\"> 0.000 <strong>(0.012)</strong> </td>\n",
       "        <td style=\"background-color:rgb(248,248,250);color:black\"> -0.000 <strong>(-0.019)</strong> </td>\n",
       "        <td style=\"background-color:rgb(250,241,241);color:black\"> 0.000 <strong>(0.058)</strong> </td>\n",
       "        <td style=\"background-color:rgb(247,247,250);color:black\"> -0.000 <strong>(-0.025)</strong> </td>\n",
       "        <td style=\"background-color:rgb(243,243,250);color:black\"> -0.001 <strong>(-0.053)</strong> </td>\n",
       "        <td style=\"background-color:rgb(250,240,240);color:black\"> 0.001 <strong>(0.068)</strong> </td>\n",
       "        <td style=\"background-color:rgb(250,224,224);color:black\"> 0.002 <strong>(0.171)</strong> </td>\n",
       "        <td style=\"background-color:rgb(247,247,250);color:black\"> -0.000 <strong>(-0.020)</strong> </td>\n",
       "        <td style=\"background-color:rgb(250,250,250);color:black\"> -0.000 <strong>(-0.003)</strong> </td>\n",
       "        <td style=\"background-color:rgb(250,239,239);color:black\"> 0.001 <strong>(0.071)</strong> </td>\n",
       "        <td style=\"background-color:rgb(250,226,226);color:black\"> 0.002 <strong>(0.158)</strong> </td>\n",
       "    </tr>\n",
       "    <tr>\n",
       "        <th> x1 </th>\n",
       "        <td style=\"background-color:rgb(250,246,246);color:black\"> 0.000 <strong>(0.029)</strong> </td>\n",
       "        <td> 0.00758 </td>\n",
       "        <td style=\"background-color:rgb(250,240,240);color:black\"> 0.001 <strong>(0.066)</strong> </td>\n",
       "        <td style=\"background-color:rgb(246,246,250);color:black\"> -0.000 <strong>(-0.030)</strong> </td>\n",
       "        <td style=\"background-color:rgb(247,247,250);color:black\"> -0.000 <strong>(-0.019)</strong> </td>\n",
       "        <td style=\"background-color:rgb(248,248,250);color:black\"> -0.000 <strong>(-0.014)</strong> </td>\n",
       "        <td style=\"background-color:rgb(247,247,250);color:black\"> -0.000 <strong>(-0.020)</strong> </td>\n",
       "        <td style=\"background-color:rgb(246,246,250);color:black\"> -0.000 <strong>(-0.030)</strong> </td>\n",
       "        <td style=\"background-color:rgb(230,230,250);color:black\"> -0.002 <strong>(-0.156)</strong> </td>\n",
       "        <td style=\"background-color:rgb(219,219,250);color:black\"> -0.003 <strong>(-0.241)</strong> </td>\n",
       "        <td style=\"background-color:rgb(245,245,250);color:black\"> -0.000 <strong>(-0.037)</strong> </td>\n",
       "        <td style=\"background-color:rgb(244,244,250);color:black\"> -0.001 <strong>(-0.050)</strong> </td>\n",
       "        <td style=\"background-color:rgb(247,247,250);color:black\"> -0.000 <strong>(-0.024)</strong> </td>\n",
       "        <td style=\"background-color:rgb(224,224,250);color:black\"> -0.002 <strong>(-0.196)</strong> </td>\n",
       "        <td style=\"background-color:rgb(250,250,250);color:black\"> 0.000 <strong>(0.003)</strong> </td>\n",
       "        <td style=\"background-color:rgb(250,249,249);color:black\"> 0.000 <strong>(0.005)</strong> </td>\n",
       "    </tr>\n",
       "    <tr>\n",
       "        <th> x2 </th>\n",
       "        <td style=\"background-color:rgb(250,220,220);color:black\"> 0.002 <strong>(0.198)</strong> </td>\n",
       "        <td style=\"background-color:rgb(250,240,240);color:black\"> 0.001 <strong>(0.066)</strong> </td>\n",
       "        <td> 0.016 </td>\n",
       "        <td style=\"background-color:rgb(250,250,250);color:black\"> -0.000 <strong>(-0.001)</strong> </td>\n",
       "        <td style=\"background-color:rgb(247,247,250);color:black\"> -0.000 <strong>(-0.024)</strong> </td>\n",
       "        <td style=\"background-color:rgb(248,248,250);color:black\"> -0.000 <strong>(-0.015)</strong> </td>\n",
       "        <td style=\"background-color:rgb(249,249,250);color:black\"> -0.000 <strong>(-0.009)</strong> </td>\n",
       "        <td style=\"background-color:rgb(232,232,250);color:black\"> -0.001 <strong>(-0.135)</strong> </td>\n",
       "        <td style=\"background-color:rgb(246,246,250);color:black\"> -0.001 <strong>(-0.031)</strong> </td>\n",
       "        <td style=\"background-color:rgb(247,247,250);color:black\"> -0.000 <strong>(-0.021)</strong> </td>\n",
       "        <td style=\"background-color:rgb(244,244,250);color:black\"> -0.001 <strong>(-0.046)</strong> </td>\n",
       "        <td style=\"background-color:rgb(237,237,250);color:black\"> -0.002 <strong>(-0.099)</strong> </td>\n",
       "        <td style=\"background-color:rgb(243,243,250);color:black\"> -0.001 <strong>(-0.053)</strong> </td>\n",
       "        <td style=\"background-color:rgb(245,245,250);color:black\"> -0.001 <strong>(-0.037)</strong> </td>\n",
       "        <td style=\"background-color:rgb(242,242,250);color:black\"> -0.001 <strong>(-0.063)</strong> </td>\n",
       "        <td style=\"background-color:rgb(227,227,250);color:black\"> -0.003 <strong>(-0.179)</strong> </td>\n",
       "    </tr>\n",
       "    <tr>\n",
       "        <th> x3 </th>\n",
       "        <td style=\"background-color:rgb(228,228,250);color:black\"> -0.002 <strong>(-0.173)</strong> </td>\n",
       "        <td style=\"background-color:rgb(246,246,250);color:black\"> -0.000 <strong>(-0.030)</strong> </td>\n",
       "        <td style=\"background-color:rgb(250,250,250);color:black\"> -0.000 <strong>(-0.001)</strong> </td>\n",
       "        <td> 0.0145 </td>\n",
       "        <td style=\"background-color:rgb(250,246,246);color:black\"> 0.000 <strong>(0.026)</strong> </td>\n",
       "        <td style=\"background-color:rgb(248,248,250);color:black\"> -0.000 <strong>(-0.012)</strong> </td>\n",
       "        <td style=\"background-color:rgb(250,250,250);color:black\"> 0.000 </td>\n",
       "        <td style=\"background-color:rgb(214,214,250);color:black\"> -0.003 <strong>(-0.279)</strong> </td>\n",
       "        <td style=\"background-color:rgb(250,248,248);color:black\"> 0.000 <strong>(0.016)</strong> </td>\n",
       "        <td style=\"background-color:rgb(249,249,250);color:black\"> -0.000 <strong>(-0.009)</strong> </td>\n",
       "        <td style=\"background-color:rgb(230,230,250);color:black\"> -0.002 <strong>(-0.155)</strong> </td>\n",
       "        <td style=\"background-color:rgb(245,245,250);color:black\"> -0.001 <strong>(-0.041)</strong> </td>\n",
       "        <td style=\"background-color:rgb(250,246,246);color:black\"> 0.000 <strong>(0.024)</strong> </td>\n",
       "        <td style=\"background-color:rgb(249,249,250);color:black\"> -0.000 <strong>(-0.007)</strong> </td>\n",
       "        <td style=\"background-color:rgb(250,223,223);color:black\"> 0.003 <strong>(0.180)</strong> </td>\n",
       "        <td style=\"background-color:rgb(239,239,250);color:black\"> -0.001 <strong>(-0.083)</strong> </td>\n",
       "    </tr>\n",
       "    <tr>\n",
       "        <th> x4 </th>\n",
       "        <td style=\"background-color:rgb(243,243,250);color:black\"> -0.001 <strong>(-0.053)</strong> </td>\n",
       "        <td style=\"background-color:rgb(247,247,250);color:black\"> -0.000 <strong>(-0.019)</strong> </td>\n",
       "        <td style=\"background-color:rgb(247,247,250);color:black\"> -0.000 <strong>(-0.024)</strong> </td>\n",
       "        <td style=\"background-color:rgb(250,246,246);color:black\"> 0.000 <strong>(0.026)</strong> </td>\n",
       "        <td> 0.0187 </td>\n",
       "        <td style=\"background-color:rgb(250,245,245);color:black\"> 0.001 <strong>(0.036)</strong> </td>\n",
       "        <td style=\"background-color:rgb(250,209,209);color:black\"> 0.003 <strong>(0.274)</strong> </td>\n",
       "        <td style=\"background-color:rgb(250,247,247);color:black\"> 0.000 <strong>(0.021)</strong> </td>\n",
       "        <td style=\"background-color:rgb(250,248,248);color:black\"> 0.000 <strong>(0.013)</strong> </td>\n",
       "        <td style=\"background-color:rgb(250,212,212);color:black\"> 0.005 <strong>(0.253)</strong> </td>\n",
       "        <td style=\"background-color:rgb(248,248,250);color:black\"> -0.000 <strong>(-0.018)</strong> </td>\n",
       "        <td style=\"background-color:rgb(250,246,246);color:black\"> 0.000 <strong>(0.026)</strong> </td>\n",
       "        <td style=\"background-color:rgb(250,226,226);color:black\"> 0.003 <strong>(0.162)</strong> </td>\n",
       "        <td style=\"background-color:rgb(250,215,215);color:black\"> 0.004 <strong>(0.234)</strong> </td>\n",
       "        <td style=\"background-color:rgb(246,246,250);color:black\"> -0.001 <strong>(-0.030)</strong> </td>\n",
       "        <td style=\"background-color:rgb(244,244,250);color:black\"> -0.001 <strong>(-0.049)</strong> </td>\n",
       "    </tr>\n",
       "    <tr>\n",
       "        <th> x5 </th>\n",
       "        <td style=\"background-color:rgb(250,248,248);color:black\"> 0.000 <strong>(0.012)</strong> </td>\n",
       "        <td style=\"background-color:rgb(248,248,250);color:black\"> -0.000 <strong>(-0.014)</strong> </td>\n",
       "        <td style=\"background-color:rgb(248,248,250);color:black\"> -0.000 <strong>(-0.015)</strong> </td>\n",
       "        <td style=\"background-color:rgb(248,248,250);color:black\"> -0.000 <strong>(-0.012)</strong> </td>\n",
       "        <td style=\"background-color:rgb(250,245,245);color:black\"> 0.001 <strong>(0.036)</strong> </td>\n",
       "        <td> 0.0165 </td>\n",
       "        <td style=\"background-color:rgb(250,194,194);color:black\"> 0.004 <strong>(0.376)</strong> </td>\n",
       "        <td style=\"background-color:rgb(250,247,247);color:black\"> 0.000 <strong>(0.018)</strong> </td>\n",
       "        <td style=\"background-color:rgb(249,249,250);color:black\"> -0.000 <strong>(-0.010)</strong> </td>\n",
       "        <td style=\"background-color:rgb(250,249,249);color:black\"> 0.000 <strong>(0.005)</strong> </td>\n",
       "        <td style=\"background-color:rgb(248,248,250);color:black\"> -0.000 <strong>(-0.017)</strong> </td>\n",
       "        <td style=\"background-color:rgb(250,250,250);color:black\"> -0.000 <strong>(-0.003)</strong> </td>\n",
       "        <td style=\"background-color:rgb(224,224,250);color:black\"> -0.003 <strong>(-0.196)</strong> </td>\n",
       "        <td style=\"background-color:rgb(250,227,227);color:black\"> 0.002 <strong>(0.155)</strong> </td>\n",
       "        <td style=\"background-color:rgb(250,247,247);color:black\"> 0.000 <strong>(0.023)</strong> </td>\n",
       "        <td style=\"background-color:rgb(250,250,250);color:black\"> -0.000 <strong>(-0.002)</strong> </td>\n",
       "    </tr>\n",
       "    <tr>\n",
       "        <th> x6 </th>\n",
       "        <td style=\"background-color:rgb(248,248,250);color:black\"> -0.000 <strong>(-0.019)</strong> </td>\n",
       "        <td style=\"background-color:rgb(247,247,250);color:black\"> -0.000 <strong>(-0.020)</strong> </td>\n",
       "        <td style=\"background-color:rgb(249,249,250);color:black\"> -0.000 <strong>(-0.009)</strong> </td>\n",
       "        <td style=\"background-color:rgb(250,250,250);color:black\"> 0.000 </td>\n",
       "        <td style=\"background-color:rgb(250,209,209);color:black\"> 0.003 <strong>(0.274)</strong> </td>\n",
       "        <td style=\"background-color:rgb(250,194,194);color:black\"> 0.004 <strong>(0.376)</strong> </td>\n",
       "        <td> 0.0081 </td>\n",
       "        <td style=\"background-color:rgb(250,247,247);color:black\"> 0.000 <strong>(0.018)</strong> </td>\n",
       "        <td style=\"background-color:rgb(250,247,247);color:black\"> 0.000 <strong>(0.019)</strong> </td>\n",
       "        <td style=\"background-color:rgb(250,216,216);color:black\"> 0.003 <strong>(0.225)</strong> </td>\n",
       "        <td style=\"background-color:rgb(249,249,250);color:black\"> -0.000 <strong>(-0.005)</strong> </td>\n",
       "        <td style=\"background-color:rgb(250,247,247);color:black\"> 0.000 <strong>(0.021)</strong> </td>\n",
       "        <td style=\"background-color:rgb(250,233,233);color:black\"> 0.001 <strong>(0.112)</strong> </td>\n",
       "        <td style=\"background-color:rgb(250,243,243);color:black\"> 0.001 <strong>(0.049)</strong> </td>\n",
       "        <td style=\"background-color:rgb(249,249,250);color:black\"> -0.000 <strong>(-0.010)</strong> </td>\n",
       "        <td style=\"background-color:rgb(246,246,250);color:black\"> -0.000 <strong>(-0.028)</strong> </td>\n",
       "    </tr>\n",
       "    <tr>\n",
       "        <th> x7 </th>\n",
       "        <td style=\"background-color:rgb(250,241,241);color:black\"> 0.000 <strong>(0.058)</strong> </td>\n",
       "        <td style=\"background-color:rgb(246,246,250);color:black\"> -0.000 <strong>(-0.030)</strong> </td>\n",
       "        <td style=\"background-color:rgb(232,232,250);color:black\"> -0.001 <strong>(-0.135)</strong> </td>\n",
       "        <td style=\"background-color:rgb(214,214,250);color:black\"> -0.003 <strong>(-0.279)</strong> </td>\n",
       "        <td style=\"background-color:rgb(250,247,247);color:black\"> 0.000 <strong>(0.021)</strong> </td>\n",
       "        <td style=\"background-color:rgb(250,247,247);color:black\"> 0.000 <strong>(0.018)</strong> </td>\n",
       "        <td style=\"background-color:rgb(250,247,247);color:black\"> 0.000 <strong>(0.018)</strong> </td>\n",
       "        <td> 0.00714 </td>\n",
       "        <td style=\"background-color:rgb(250,249,249);color:black\"> 0.000 <strong>(0.010)</strong> </td>\n",
       "        <td style=\"background-color:rgb(248,248,250);color:black\"> -0.000 <strong>(-0.013)</strong> </td>\n",
       "        <td style=\"background-color:rgb(250,246,246);color:black\"> 0.000 <strong>(0.024)</strong> </td>\n",
       "        <td style=\"background-color:rgb(250,239,239);color:black\"> 0.001 <strong>(0.076)</strong> </td>\n",
       "        <td style=\"background-color:rgb(250,248,248);color:black\"> 0.000 <strong>(0.015)</strong> </td>\n",
       "        <td style=\"background-color:rgb(250,246,246);color:black\"> 0.000 <strong>(0.026)</strong> </td>\n",
       "        <td style=\"background-color:rgb(245,245,250);color:black\"> -0.000 <strong>(-0.038)</strong> </td>\n",
       "        <td style=\"background-color:rgb(250,242,242);color:black\"> 0.001 <strong>(0.053)</strong> </td>\n",
       "    </tr>\n",
       "    <tr>\n",
       "        <th> x8 </th>\n",
       "        <td style=\"background-color:rgb(247,247,250);color:black\"> -0.000 <strong>(-0.025)</strong> </td>\n",
       "        <td style=\"background-color:rgb(230,230,250);color:black\"> -0.002 <strong>(-0.156)</strong> </td>\n",
       "        <td style=\"background-color:rgb(246,246,250);color:black\"> -0.001 <strong>(-0.031)</strong> </td>\n",
       "        <td style=\"background-color:rgb(250,248,248);color:black\"> 0.000 <strong>(0.016)</strong> </td>\n",
       "        <td style=\"background-color:rgb(250,248,248);color:black\"> 0.000 <strong>(0.013)</strong> </td>\n",
       "        <td style=\"background-color:rgb(249,249,250);color:black\"> -0.000 <strong>(-0.010)</strong> </td>\n",
       "        <td style=\"background-color:rgb(250,247,247);color:black\"> 0.000 <strong>(0.019)</strong> </td>\n",
       "        <td style=\"background-color:rgb(250,249,249);color:black\"> 0.000 <strong>(0.010)</strong> </td>\n",
       "        <td> 0.0176 </td>\n",
       "        <td style=\"background-color:rgb(250,244,244);color:black\"> 0.001 <strong>(0.039)</strong> </td>\n",
       "        <td style=\"background-color:rgb(250,249,249);color:black\"> 0.000 <strong>(0.009)</strong> </td>\n",
       "        <td style=\"background-color:rgb(248,248,250);color:black\"> -0.000 <strong>(-0.014)</strong> </td>\n",
       "        <td style=\"background-color:rgb(229,229,250);color:black\"> -0.003 <strong>(-0.158)</strong> </td>\n",
       "        <td style=\"background-color:rgb(247,247,250);color:black\"> -0.000 <strong>(-0.024)</strong> </td>\n",
       "        <td style=\"background-color:rgb(247,247,250);color:black\"> -0.000 <strong>(-0.020)</strong> </td>\n",
       "        <td style=\"background-color:rgb(248,248,250);color:black\"> -0.000 <strong>(-0.019)</strong> </td>\n",
       "    </tr>\n",
       "    <tr>\n",
       "        <th> x9 </th>\n",
       "        <td style=\"background-color:rgb(243,243,250);color:black\"> -0.001 <strong>(-0.053)</strong> </td>\n",
       "        <td style=\"background-color:rgb(219,219,250);color:black\"> -0.003 <strong>(-0.241)</strong> </td>\n",
       "        <td style=\"background-color:rgb(247,247,250);color:black\"> -0.000 <strong>(-0.021)</strong> </td>\n",
       "        <td style=\"background-color:rgb(249,249,250);color:black\"> -0.000 <strong>(-0.009)</strong> </td>\n",
       "        <td style=\"background-color:rgb(250,212,212);color:black\"> 0.005 <strong>(0.253)</strong> </td>\n",
       "        <td style=\"background-color:rgb(250,249,249);color:black\"> 0.000 <strong>(0.005)</strong> </td>\n",
       "        <td style=\"background-color:rgb(250,216,216);color:black\"> 0.003 <strong>(0.225)</strong> </td>\n",
       "        <td style=\"background-color:rgb(248,248,250);color:black\"> -0.000 <strong>(-0.013)</strong> </td>\n",
       "        <td style=\"background-color:rgb(250,244,244);color:black\"> 0.001 <strong>(0.039)</strong> </td>\n",
       "        <td> 0.0174 </td>\n",
       "        <td style=\"background-color:rgb(250,246,246);color:black\"> 0.000 <strong>(0.028)</strong> </td>\n",
       "        <td style=\"background-color:rgb(250,248,248);color:black\"> 0.000 <strong>(0.016)</strong> </td>\n",
       "        <td style=\"background-color:rgb(250,233,233);color:black\"> 0.002 <strong>(0.114)</strong> </td>\n",
       "        <td style=\"background-color:rgb(250,235,235);color:black\"> 0.002 <strong>(0.097)</strong> </td>\n",
       "        <td style=\"background-color:rgb(246,246,250);color:black\"> -0.001 <strong>(-0.032)</strong> </td>\n",
       "        <td style=\"background-color:rgb(246,246,250);color:black\"> -0.001 <strong>(-0.032)</strong> </td>\n",
       "    </tr>\n",
       "    <tr>\n",
       "        <th> x10 </th>\n",
       "        <td style=\"background-color:rgb(250,240,240);color:black\"> 0.001 <strong>(0.068)</strong> </td>\n",
       "        <td style=\"background-color:rgb(245,245,250);color:black\"> -0.000 <strong>(-0.037)</strong> </td>\n",
       "        <td style=\"background-color:rgb(244,244,250);color:black\"> -0.001 <strong>(-0.046)</strong> </td>\n",
       "        <td style=\"background-color:rgb(230,230,250);color:black\"> -0.002 <strong>(-0.155)</strong> </td>\n",
       "        <td style=\"background-color:rgb(248,248,250);color:black\"> -0.000 <strong>(-0.018)</strong> </td>\n",
       "        <td style=\"background-color:rgb(248,248,250);color:black\"> -0.000 <strong>(-0.017)</strong> </td>\n",
       "        <td style=\"background-color:rgb(249,249,250);color:black\"> -0.000 <strong>(-0.005)</strong> </td>\n",
       "        <td style=\"background-color:rgb(250,246,246);color:black\"> 0.000 <strong>(0.024)</strong> </td>\n",
       "        <td style=\"background-color:rgb(250,249,249);color:black\"> 0.000 <strong>(0.009)</strong> </td>\n",
       "        <td style=\"background-color:rgb(250,246,246);color:black\"> 0.000 <strong>(0.028)</strong> </td>\n",
       "        <td> 0.0136 </td>\n",
       "        <td style=\"background-color:rgb(250,244,244);color:black\"> 0.001 <strong>(0.041)</strong> </td>\n",
       "        <td style=\"background-color:rgb(250,246,246);color:black\"> 0.000 <strong>(0.027)</strong> </td>\n",
       "        <td style=\"background-color:rgb(250,249,249);color:black\"> 0.000 <strong>(0.007)</strong> </td>\n",
       "        <td style=\"background-color:rgb(215,215,250);color:black\"> -0.004 <strong>(-0.272)</strong> </td>\n",
       "        <td style=\"background-color:rgb(250,227,227);color:black\"> 0.002 <strong>(0.156)</strong> </td>\n",
       "    </tr>\n",
       "    <tr>\n",
       "        <th> x11 </th>\n",
       "        <td style=\"background-color:rgb(250,224,224);color:black\"> 0.002 <strong>(0.171)</strong> </td>\n",
       "        <td style=\"background-color:rgb(244,244,250);color:black\"> -0.001 <strong>(-0.050)</strong> </td>\n",
       "        <td style=\"background-color:rgb(237,237,250);color:black\"> -0.002 <strong>(-0.099)</strong> </td>\n",
       "        <td style=\"background-color:rgb(245,245,250);color:black\"> -0.001 <strong>(-0.041)</strong> </td>\n",
       "        <td style=\"background-color:rgb(250,246,246);color:black\"> 0.000 <strong>(0.026)</strong> </td>\n",
       "        <td style=\"background-color:rgb(250,250,250);color:black\"> -0.000 <strong>(-0.003)</strong> </td>\n",
       "        <td style=\"background-color:rgb(250,247,247);color:black\"> 0.000 <strong>(0.021)</strong> </td>\n",
       "        <td style=\"background-color:rgb(250,239,239);color:black\"> 0.001 <strong>(0.076)</strong> </td>\n",
       "        <td style=\"background-color:rgb(248,248,250);color:black\"> -0.000 <strong>(-0.014)</strong> </td>\n",
       "        <td style=\"background-color:rgb(250,248,248);color:black\"> 0.000 <strong>(0.016)</strong> </td>\n",
       "        <td style=\"background-color:rgb(250,244,244);color:black\"> 0.001 <strong>(0.041)</strong> </td>\n",
       "        <td> 0.0158 </td>\n",
       "        <td style=\"background-color:rgb(250,241,241);color:black\"> 0.001 <strong>(0.057)</strong> </td>\n",
       "        <td style=\"background-color:rgb(250,244,244);color:black\"> 0.001 <strong>(0.041)</strong> </td>\n",
       "        <td style=\"background-color:rgb(240,240,250);color:black\"> -0.001 <strong>(-0.075)</strong> </td>\n",
       "        <td style=\"background-color:rgb(240,240,250);color:black\"> -0.001 <strong>(-0.076)</strong> </td>\n",
       "    </tr>\n",
       "    <tr>\n",
       "        <th> x12 </th>\n",
       "        <td style=\"background-color:rgb(247,247,250);color:black\"> -0.000 <strong>(-0.020)</strong> </td>\n",
       "        <td style=\"background-color:rgb(247,247,250);color:black\"> -0.000 <strong>(-0.024)</strong> </td>\n",
       "        <td style=\"background-color:rgb(243,243,250);color:black\"> -0.001 <strong>(-0.053)</strong> </td>\n",
       "        <td style=\"background-color:rgb(250,246,246);color:black\"> 0.000 <strong>(0.024)</strong> </td>\n",
       "        <td style=\"background-color:rgb(250,226,226);color:black\"> 0.003 <strong>(0.162)</strong> </td>\n",
       "        <td style=\"background-color:rgb(224,224,250);color:black\"> -0.003 <strong>(-0.196)</strong> </td>\n",
       "        <td style=\"background-color:rgb(250,233,233);color:black\"> 0.001 <strong>(0.112)</strong> </td>\n",
       "        <td style=\"background-color:rgb(250,248,248);color:black\"> 0.000 <strong>(0.015)</strong> </td>\n",
       "        <td style=\"background-color:rgb(229,229,250);color:black\"> -0.003 <strong>(-0.158)</strong> </td>\n",
       "        <td style=\"background-color:rgb(250,233,233);color:black\"> 0.002 <strong>(0.114)</strong> </td>\n",
       "        <td style=\"background-color:rgb(250,246,246);color:black\"> 0.000 <strong>(0.027)</strong> </td>\n",
       "        <td style=\"background-color:rgb(250,241,241);color:black\"> 0.001 <strong>(0.057)</strong> </td>\n",
       "        <td> 0.0145 </td>\n",
       "        <td style=\"background-color:rgb(250,249,249);color:black\"> 0.000 <strong>(0.008)</strong> </td>\n",
       "        <td style=\"background-color:rgb(248,248,250);color:black\"> -0.000 <strong>(-0.017)</strong> </td>\n",
       "        <td style=\"background-color:rgb(248,248,250);color:black\"> -0.000 <strong>(-0.012)</strong> </td>\n",
       "    </tr>\n",
       "    <tr>\n",
       "        <th> x13 </th>\n",
       "        <td style=\"background-color:rgb(250,250,250);color:black\"> -0.000 <strong>(-0.003)</strong> </td>\n",
       "        <td style=\"background-color:rgb(224,224,250);color:black\"> -0.002 <strong>(-0.196)</strong> </td>\n",
       "        <td style=\"background-color:rgb(245,245,250);color:black\"> -0.001 <strong>(-0.037)</strong> </td>\n",
       "        <td style=\"background-color:rgb(249,249,250);color:black\"> -0.000 <strong>(-0.007)</strong> </td>\n",
       "        <td style=\"background-color:rgb(250,215,215);color:black\"> 0.004 <strong>(0.234)</strong> </td>\n",
       "        <td style=\"background-color:rgb(250,227,227);color:black\"> 0.002 <strong>(0.155)</strong> </td>\n",
       "        <td style=\"background-color:rgb(250,243,243);color:black\"> 0.001 <strong>(0.049)</strong> </td>\n",
       "        <td style=\"background-color:rgb(250,246,246);color:black\"> 0.000 <strong>(0.026)</strong> </td>\n",
       "        <td style=\"background-color:rgb(247,247,250);color:black\"> -0.000 <strong>(-0.024)</strong> </td>\n",
       "        <td style=\"background-color:rgb(250,235,235);color:black\"> 0.002 <strong>(0.097)</strong> </td>\n",
       "        <td style=\"background-color:rgb(250,249,249);color:black\"> 0.000 <strong>(0.007)</strong> </td>\n",
       "        <td style=\"background-color:rgb(250,244,244);color:black\"> 0.001 <strong>(0.041)</strong> </td>\n",
       "        <td style=\"background-color:rgb(250,249,249);color:black\"> 0.000 <strong>(0.008)</strong> </td>\n",
       "        <td> 0.0154 </td>\n",
       "        <td style=\"background-color:rgb(250,249,249);color:black\"> 0.000 <strong>(0.010)</strong> </td>\n",
       "        <td style=\"background-color:rgb(248,248,250);color:black\"> -0.000 <strong>(-0.015)</strong> </td>\n",
       "    </tr>\n",
       "    <tr>\n",
       "        <th> x14 </th>\n",
       "        <td style=\"background-color:rgb(250,239,239);color:black\"> 0.001 <strong>(0.071)</strong> </td>\n",
       "        <td style=\"background-color:rgb(250,250,250);color:black\"> 0.000 <strong>(0.003)</strong> </td>\n",
       "        <td style=\"background-color:rgb(242,242,250);color:black\"> -0.001 <strong>(-0.063)</strong> </td>\n",
       "        <td style=\"background-color:rgb(250,223,223);color:black\"> 0.003 <strong>(0.180)</strong> </td>\n",
       "        <td style=\"background-color:rgb(246,246,250);color:black\"> -0.001 <strong>(-0.030)</strong> </td>\n",
       "        <td style=\"background-color:rgb(250,247,247);color:black\"> 0.000 <strong>(0.023)</strong> </td>\n",
       "        <td style=\"background-color:rgb(249,249,250);color:black\"> -0.000 <strong>(-0.010)</strong> </td>\n",
       "        <td style=\"background-color:rgb(245,245,250);color:black\"> -0.000 <strong>(-0.038)</strong> </td>\n",
       "        <td style=\"background-color:rgb(247,247,250);color:black\"> -0.000 <strong>(-0.020)</strong> </td>\n",
       "        <td style=\"background-color:rgb(246,246,250);color:black\"> -0.001 <strong>(-0.032)</strong> </td>\n",
       "        <td style=\"background-color:rgb(215,215,250);color:black\"> -0.004 <strong>(-0.272)</strong> </td>\n",
       "        <td style=\"background-color:rgb(240,240,250);color:black\"> -0.001 <strong>(-0.075)</strong> </td>\n",
       "        <td style=\"background-color:rgb(248,248,250);color:black\"> -0.000 <strong>(-0.017)</strong> </td>\n",
       "        <td style=\"background-color:rgb(250,249,249);color:black\"> 0.000 <strong>(0.010)</strong> </td>\n",
       "        <td> 0.0166 </td>\n",
       "        <td style=\"background-color:rgb(250,243,243);color:black\"> 0.001 <strong>(0.047)</strong> </td>\n",
       "    </tr>\n",
       "    <tr>\n",
       "        <th> x15 </th>\n",
       "        <td style=\"background-color:rgb(250,226,226);color:black\"> 0.002 <strong>(0.158)</strong> </td>\n",
       "        <td style=\"background-color:rgb(250,249,249);color:black\"> 0.000 <strong>(0.005)</strong> </td>\n",
       "        <td style=\"background-color:rgb(227,227,250);color:black\"> -0.003 <strong>(-0.179)</strong> </td>\n",
       "        <td style=\"background-color:rgb(239,239,250);color:black\"> -0.001 <strong>(-0.083)</strong> </td>\n",
       "        <td style=\"background-color:rgb(244,244,250);color:black\"> -0.001 <strong>(-0.049)</strong> </td>\n",
       "        <td style=\"background-color:rgb(250,250,250);color:black\"> -0.000 <strong>(-0.002)</strong> </td>\n",
       "        <td style=\"background-color:rgb(246,246,250);color:black\"> -0.000 <strong>(-0.028)</strong> </td>\n",
       "        <td style=\"background-color:rgb(250,242,242);color:black\"> 0.001 <strong>(0.053)</strong> </td>\n",
       "        <td style=\"background-color:rgb(248,248,250);color:black\"> -0.000 <strong>(-0.019)</strong> </td>\n",
       "        <td style=\"background-color:rgb(246,246,250);color:black\"> -0.001 <strong>(-0.032)</strong> </td>\n",
       "        <td style=\"background-color:rgb(250,227,227);color:black\"> 0.002 <strong>(0.156)</strong> </td>\n",
       "        <td style=\"background-color:rgb(240,240,250);color:black\"> -0.001 <strong>(-0.076)</strong> </td>\n",
       "        <td style=\"background-color:rgb(248,248,250);color:black\"> -0.000 <strong>(-0.012)</strong> </td>\n",
       "        <td style=\"background-color:rgb(248,248,250);color:black\"> -0.000 <strong>(-0.015)</strong> </td>\n",
       "        <td style=\"background-color:rgb(250,243,243);color:black\"> 0.001 <strong>(0.047)</strong> </td>\n",
       "        <td> 0.017 </td>\n",
       "    </tr>\n",
       "</table>"
      ],
      "text/plain": [
       "┌─────────────────────────────────────────────────────────────────────────┐\n",
       "│                                Migrad                                   │\n",
       "├──────────────────────────────────┬──────────────────────────────────────┤\n",
       "│ FCN = 2.728e+06                  │             Nfcn = 3470              │\n",
       "│ EDM = 0.706 (Goal: 0.0002)       │           time = 12.5 sec            │\n",
       "├──────────────────────────────────┼──────────────────────────────────────┤\n",
       "│         INVALID Minimum          │   ABOVE EDM threshold (goal x 10)    │\n",
       "├──────────────────────────────────┼──────────────────────────────────────┤\n",
       "│      No parameters at limit      │           Below call limit           │\n",
       "├──────────────────────────────────┼──────────────────────────────────────┤\n",
       "│             Hesse ok             │         Covariance accurate          │\n",
       "└──────────────────────────────────┴──────────────────────────────────────┘\n",
       "┌───┬──────┬───────────┬───────────┬────────────┬────────────┬─────────┬─────────┬───────┐\n",
       "│   │ Name │   Value   │ Hesse Err │ Minos Err- │ Minos Err+ │ Limit-  │ Limit+  │ Fixed │\n",
       "├───┼──────┼───────────┼───────────┼────────────┼────────────┼─────────┼─────────┼───────┤\n",
       "│ 0 │ x0   │   -0.21   │   0.10    │            │            │   -80   │   80    │       │\n",
       "│ 1 │ x1   │   -0.64   │   0.09    │            │            │   -80   │   80    │       │\n",
       "│ 2 │ x2   │   -1.12   │   0.13    │            │            │   -80   │   80    │       │\n",
       "│ 3 │ x3   │   0.51    │   0.12    │            │            │   -80   │   80    │       │\n",
       "│ 4 │ x4   │   0.27    │   0.14    │            │            │   -80   │   80    │       │\n",
       "│ 5 │ x5   │   -1.73   │   0.13    │            │            │   -80   │   80    │       │\n",
       "│ 6 │ x6   │   0.42    │   0.09    │            │            │   -80   │   80    │       │\n",
       "│ 7 │ x7   │   -0.35   │   0.08    │            │            │   -80   │   80    │       │\n",
       "│ 8 │ x8   │   0.17    │   0.13    │            │            │   -80   │   80    │       │\n",
       "│ 9 │ x9   │   0.39    │   0.13    │            │            │   -80   │   80    │       │\n",
       "│ 10│ x10  │   0.74    │   0.12    │            │            │   -80   │   80    │       │\n",
       "│ 11│ x11  │   0.70    │   0.13    │            │            │   -80   │   80    │       │\n",
       "│ 12│ x12  │   -0.30   │   0.12    │            │            │   -80   │   80    │       │\n",
       "│ 13│ x13  │   0.39    │   0.12    │            │            │   -80   │   80    │       │\n",
       "│ 14│ x14  │   -0.50   │   0.13    │            │            │   -80   │   80    │       │\n",
       "│ 15│ x15  │   0.57    │   0.13    │            │            │   -80   │   80    │       │\n",
       "└───┴──────┴───────────┴───────────┴────────────┴────────────┴─────────┴─────────┴───────┘\n",
       "┌─────┬─────────────────────────────────────────────────────────────────────────────────────────────────────────────────────────────────┐\n",
       "│     │      x0      x1      x2      x3      x4      x5      x6      x7      x8      x9     x10     x11     x12     x13     x14     x15 │\n",
       "├─────┼─────────────────────────────────────────────────────────────────────────────────────────────────────────────────────────────────┤\n",
       "│  x0 │  0.0091   0.000   0.002  -0.002  -0.001   0.000  -0.000   0.000  -0.000  -0.001   0.001   0.002  -0.000  -0.000   0.001   0.002 │\n",
       "│  x1 │   0.000 0.00758   0.001  -0.000  -0.000  -0.000  -0.000  -0.000  -0.002  -0.003  -0.000  -0.001  -0.000  -0.002   0.000   0.000 │\n",
       "│  x2 │   0.002   0.001   0.016  -0.000  -0.000  -0.000  -0.000  -0.001  -0.001  -0.000  -0.001  -0.002  -0.001  -0.001  -0.001  -0.003 │\n",
       "│  x3 │  -0.002  -0.000  -0.000  0.0145   0.000  -0.000   0.000  -0.003   0.000  -0.000  -0.002  -0.001   0.000  -0.000   0.003  -0.001 │\n",
       "│  x4 │  -0.001  -0.000  -0.000   0.000  0.0187   0.001   0.003   0.000   0.000   0.005  -0.000   0.000   0.003   0.004  -0.001  -0.001 │\n",
       "│  x5 │   0.000  -0.000  -0.000  -0.000   0.001  0.0165   0.004   0.000  -0.000   0.000  -0.000  -0.000  -0.003   0.002   0.000  -0.000 │\n",
       "│  x6 │  -0.000  -0.000  -0.000   0.000   0.003   0.004  0.0081   0.000   0.000   0.003  -0.000   0.000   0.001   0.001  -0.000  -0.000 │\n",
       "│  x7 │   0.000  -0.000  -0.001  -0.003   0.000   0.000   0.000 0.00714   0.000  -0.000   0.000   0.001   0.000   0.000  -0.000   0.001 │\n",
       "│  x8 │  -0.000  -0.002  -0.001   0.000   0.000  -0.000   0.000   0.000  0.0176   0.001   0.000  -0.000  -0.003  -0.000  -0.000  -0.000 │\n",
       "│  x9 │  -0.001  -0.003  -0.000  -0.000   0.005   0.000   0.003  -0.000   0.001  0.0174   0.000   0.000   0.002   0.002  -0.001  -0.001 │\n",
       "│ x10 │   0.001  -0.000  -0.001  -0.002  -0.000  -0.000  -0.000   0.000   0.000   0.000  0.0136   0.001   0.000   0.000  -0.004   0.002 │\n",
       "│ x11 │   0.002  -0.001  -0.002  -0.001   0.000  -0.000   0.000   0.001  -0.000   0.000   0.001  0.0158   0.001   0.001  -0.001  -0.001 │\n",
       "│ x12 │  -0.000  -0.000  -0.001   0.000   0.003  -0.003   0.001   0.000  -0.003   0.002   0.000   0.001  0.0145   0.000  -0.000  -0.000 │\n",
       "│ x13 │  -0.000  -0.002  -0.001  -0.000   0.004   0.002   0.001   0.000  -0.000   0.002   0.000   0.001   0.000  0.0154   0.000  -0.000 │\n",
       "│ x14 │   0.001   0.000  -0.001   0.003  -0.001   0.000  -0.000  -0.000  -0.000  -0.001  -0.004  -0.001  -0.000   0.000  0.0166   0.001 │\n",
       "│ x15 │   0.002   0.000  -0.003  -0.001  -0.001  -0.000  -0.000   0.001  -0.000  -0.001   0.002  -0.001  -0.000  -0.000   0.001   0.017 │\n",
       "└─────┴─────────────────────────────────────────────────────────────────────────────────────────────────────────────────────────────────┘"
      ]
     },
     "execution_count": 94,
     "metadata": {},
     "output_type": "execute_result"
    }
   ],
   "source": [
    "m"
   ]
  },
  {
   "cell_type": "code",
   "execution_count": 95,
   "id": "ef29be52",
   "metadata": {},
   "outputs": [
    {
     "data": {
      "text/plain": [
       "False"
      ]
     },
     "execution_count": 95,
     "metadata": {},
     "output_type": "execute_result"
    }
   ],
   "source": [
    "m.fmin.is_valid"
   ]
  },
  {
   "cell_type": "code",
   "execution_count": 96,
   "id": "b86364f2",
   "metadata": {},
   "outputs": [],
   "source": [
    "cov_slm_iminuit, _, _ = cov_matrix_minuit(m.covariance)\n",
    "parame_iminuit = jnp.array([m.values[k] for k in m.parameters])"
   ]
  },
  {
   "cell_type": "code",
   "execution_count": 97,
   "id": "3314d199",
   "metadata": {},
   "outputs": [],
   "source": [
    "param_m = jnp.array([parame_iminuit[1], parame_iminuit[4], parame_iminuit[5]])"
   ]
  },
  {
   "cell_type": "code",
   "execution_count": 98,
   "id": "1631723b",
   "metadata": {},
   "outputs": [
    {
     "data": {
      "text/plain": [
       "{'|g| (μas/yr)': Array(884.5348, dtype=float32),\n",
       " 'g (μas/yr)': Array([-130.4742 , -846.7209 , -220.09552], dtype=float32),\n",
       " '|sigma_g| (μas/yr)': Array(60.897095, dtype=float32),\n",
       " 'sigma_g (μas/yr)': Array([66.865776, 62.747753, 30.08553 ], dtype=float32),\n",
       " 'Corr_gx_gy': Array(-0.03614026, dtype=float32),\n",
       " 'Corr_gx_gz': Array(0.01933538, dtype=float32),\n",
       " 'Corr_gy_gz': Array(-0.01416517, dtype=float32)}"
      ]
     },
     "execution_count": 98,
     "metadata": {},
     "output_type": "execute_result"
    }
   ],
   "source": [
    "summary_iminuit, g_vec_im, Sigma_g_im = vsh_vector_summary(param_m, cov_slm_iminuit)\n",
    "summary_iminuit"
   ]
  },
  {
   "cell_type": "code",
   "execution_count": 106,
   "id": "e2abd1c9",
   "metadata": {},
   "outputs": [
    {
     "data": {
      "text/plain": [
       "{'RA (deg)': Array(261.24002, dtype=float32),\n",
       " 'Sigma_RA (deg)': Array(2.218604, dtype=float32),\n",
       " 'Dec (deg)': Array(-14.408071, dtype=float32),\n",
       " 'Sigma_Dec (deg)': Array(2.218604, dtype=float32),\n",
       " 'Corr_RA_dec': Array(0.7113742, dtype=float32)}"
      ]
     },
     "execution_count": 106,
     "metadata": {},
     "output_type": "execute_result"
    }
   ],
   "source": [
    "ra_dec_im = alpha_delta_summary(g_vec_im, Sigma_g_im)\n",
    "ra_dec_im"
   ]
  },
  {
   "cell_type": "markdown",
   "id": "57cd21ff",
   "metadata": {},
   "source": [
    "# Generated Data Experiment."
   ]
  },
  {
   "cell_type": "markdown",
   "id": "d7eef50f",
   "metadata": {},
   "source": [
    "Generating fake data for $l_{max}=2$ to then fit the data for $l=1,2,3$, what we aim to show is that, for the $l=2$ least square fit we will recover the right parameters and the function will be at its mimimum, while when performing the least square fit for VSH function with $l=1$ and $l=3$ we will recover the dominant parmaters, however the function will not be at the minimum."
   ]
  },
  {
   "cell_type": "code",
   "execution_count": 3,
   "id": "1cf302e7",
   "metadata": {},
   "outputs": [
    {
     "name": "stderr",
     "output_type": "stream",
     "text": [
      "/root/Document/Gaia_Project/mem97/gaia_venv/lib/python3.12/site-packages/tqdm/auto.py:21: TqdmWarning: IProgress not found. Please update jupyter and ipywidgets. See https://ipywidgets.readthedocs.io/en/stable/user_install.html\n",
      "  from .autonotebook import tqdm as notebook_tqdm\n"
     ]
    }
   ],
   "source": [
    "import jax \n",
    "import jax.numpy as jnp\n",
    "import numpy as np\n",
    "from src.models.vsh_model import*\n",
    "import pandas as pd\n",
    "from iminuit import Minuit # to perform least square\n",
    "from src.models.configuration import*\n",
    "from numpyro.infer import MCMC, NUTS\n",
    "import numpyro\n",
    "import numpyro.distributions as dist\n",
    "from tqdm import tqdm\n",
    "import gc"
   ]
  },
  {
   "cell_type": "markdown",
   "id": "45843d4f",
   "metadata": {},
   "source": [
    "Load fake data"
   ]
  },
  {
   "cell_type": "code",
   "execution_count": 4,
   "id": "ed906e98",
   "metadata": {},
   "outputs": [],
   "source": [
    "vsh_coeff_gen = np.load('fake_data/vsh_gen_cov.npy') # Load true coefficient values\n",
    "\n",
    "fake_data = pd.read_csv('fake_data/fake_vsh_data.csv')\n",
    "angles_gen, obs_gen, error_gen = config_data(fake_data)"
   ]
  },
  {
   "cell_type": "markdown",
   "id": "131fad4d",
   "metadata": {},
   "source": [
    "Run HMC to find a initial guest of the parameter to feed to imimuit"
   ]
  },
  {
   "cell_type": "code",
   "execution_count": 66,
   "id": "5c8923e4",
   "metadata": {},
   "outputs": [],
   "source": [
    "def chi2_jit(angles, obs, error, theta, lmax):\n",
    "    return least_square(angles, obs, error, theta, lmax=lmax, grid=False)\n",
    "chi2_jit = jit(chi2_jit, static_argnames=['lmax'])\n",
    "\n",
    "\n",
    "def model_for_HMC(angles, obs, error, lmax):\n",
    "    total_params = count_vsh_coeffs(lmax)\n",
    "    theta = numpyro.sample(\"theta\", dist.Uniform(-0.08, 0.08).expand([total_params]))\n",
    "    chi2_val = chi2_jit(angles, obs, error, theta, lmax) \n",
    "    numpyro.factor(\"likelihood\", -0.5*chi2_val)\n"
   ]
  },
  {
   "cell_type": "code",
   "execution_count": 67,
   "id": "06e6c3ae",
   "metadata": {},
   "outputs": [
    {
     "name": "stderr",
     "output_type": "stream",
     "text": [
      "/tmp/ipykernel_22239/2619420033.py:4: UserWarning: There are not enough devices to run parallel chains: expected 2 but got 1. Chains will be drawn sequentially. If you are running MCMC in CPU, consider using `numpyro.set_host_device_count(2)` at the beginning of your program. You can double-check how many devices are available in your system using `jax.local_device_count()`.\n",
      "  mcmc = MCMC(kernel, num_warmup=100, num_samples=2000, num_chains=2, progress_bar=True)\n",
      "sample: 100%|██████████| 2100/2100 [04:06<00:00,  8.51it/s, 95 steps of size 3.16e-02. acc. prob=0.87] \n",
      "sample:  38%|███▊      | 803/2100 [01:22<02:12,  9.76it/s, 63 steps of size 3.81e-02. acc. prob=0.95] \n"
     ]
    },
    {
     "ename": "KeyboardInterrupt",
     "evalue": "",
     "output_type": "error",
     "traceback": [
      "\u001b[0;31m---------------------------------------------------------------------------\u001b[0m",
      "\u001b[0;31mKeyboardInterrupt\u001b[0m                         Traceback (most recent call last)",
      "Cell \u001b[0;32mIn[67], line 5\u001b[0m\n\u001b[1;32m      3\u001b[0m numpyro\u001b[38;5;241m.\u001b[39mset_host_device_count(\u001b[38;5;241m2\u001b[39m)\n\u001b[1;32m      4\u001b[0m mcmc \u001b[38;5;241m=\u001b[39m MCMC(kernel, num_warmup\u001b[38;5;241m=\u001b[39m\u001b[38;5;241m100\u001b[39m, num_samples\u001b[38;5;241m=\u001b[39m\u001b[38;5;241m2000\u001b[39m, num_chains\u001b[38;5;241m=\u001b[39m\u001b[38;5;241m2\u001b[39m, progress_bar\u001b[38;5;241m=\u001b[39m\u001b[38;5;28;01mTrue\u001b[39;00m)\n\u001b[0;32m----> 5\u001b[0m \u001b[43mmcmc\u001b[49m\u001b[38;5;241;43m.\u001b[39;49m\u001b[43mrun\u001b[49m\u001b[43m(\u001b[49m\u001b[43mrng_key\u001b[49m\u001b[43m,\u001b[49m\u001b[43m \u001b[49m\u001b[43mangles\u001b[49m\u001b[38;5;241;43m=\u001b[39;49m\u001b[43mangles_gen\u001b[49m\u001b[43m,\u001b[49m\u001b[43m \u001b[49m\u001b[43mobs\u001b[49m\u001b[38;5;241;43m=\u001b[39;49m\u001b[43mobs_gen\u001b[49m\u001b[43m,\u001b[49m\u001b[43m \u001b[49m\u001b[43merror\u001b[49m\u001b[38;5;241;43m=\u001b[39;49m\u001b[43merror_gen\u001b[49m\u001b[43m,\u001b[49m\u001b[43m \u001b[49m\u001b[43mlmax\u001b[49m\u001b[38;5;241;43m=\u001b[39;49m\u001b[38;5;241;43m2\u001b[39;49m\u001b[43m)\u001b[49m\n\u001b[1;32m      7\u001b[0m posterior_sample \u001b[38;5;241m=\u001b[39m mcmc\u001b[38;5;241m.\u001b[39mget_samples()\n",
      "File \u001b[0;32m~/Document/Gaia_Project/mem97/gaia_venv/lib/python3.12/site-packages/numpyro/infer/mcmc.py:706\u001b[0m, in \u001b[0;36mMCMC.run\u001b[0;34m(self, rng_key, extra_fields, init_params, *args, **kwargs)\u001b[0m\n\u001b[1;32m    704\u001b[0m \u001b[38;5;28;01melse\u001b[39;00m:\n\u001b[1;32m    705\u001b[0m     \u001b[38;5;28;01mif\u001b[39;00m \u001b[38;5;28mself\u001b[39m\u001b[38;5;241m.\u001b[39mchain_method \u001b[38;5;241m==\u001b[39m \u001b[38;5;124m\"\u001b[39m\u001b[38;5;124msequential\u001b[39m\u001b[38;5;124m\"\u001b[39m:\n\u001b[0;32m--> 706\u001b[0m         states, last_state \u001b[38;5;241m=\u001b[39m \u001b[43m_laxmap\u001b[49m\u001b[43m(\u001b[49m\u001b[43mpartial_map_fn\u001b[49m\u001b[43m,\u001b[49m\u001b[43m \u001b[49m\u001b[43mmap_args\u001b[49m\u001b[43m)\u001b[49m\n\u001b[1;32m    707\u001b[0m     \u001b[38;5;28;01melif\u001b[39;00m \u001b[38;5;28mself\u001b[39m\u001b[38;5;241m.\u001b[39mchain_method \u001b[38;5;241m==\u001b[39m \u001b[38;5;124m\"\u001b[39m\u001b[38;5;124mparallel\u001b[39m\u001b[38;5;124m\"\u001b[39m:\n\u001b[1;32m    708\u001b[0m         states, last_state \u001b[38;5;241m=\u001b[39m pmap(partial_map_fn)(map_args)\n",
      "File \u001b[0;32m~/Document/Gaia_Project/mem97/gaia_venv/lib/python3.12/site-packages/numpyro/infer/mcmc.py:177\u001b[0m, in \u001b[0;36m_laxmap\u001b[0;34m(f, xs)\u001b[0m\n\u001b[1;32m    175\u001b[0m \u001b[38;5;28;01mfor\u001b[39;00m i \u001b[38;5;129;01min\u001b[39;00m \u001b[38;5;28mrange\u001b[39m(n):\n\u001b[1;32m    176\u001b[0m     x \u001b[38;5;241m=\u001b[39m jit(_get_value_from_index)(xs, i)\n\u001b[0;32m--> 177\u001b[0m     ys\u001b[38;5;241m.\u001b[39mappend(\u001b[43mf\u001b[49m\u001b[43m(\u001b[49m\u001b[43mx\u001b[49m\u001b[43m)\u001b[49m)\n\u001b[1;32m    179\u001b[0m \u001b[38;5;28;01mreturn\u001b[39;00m jax\u001b[38;5;241m.\u001b[39mtree\u001b[38;5;241m.\u001b[39mmap(\u001b[38;5;28;01mlambda\u001b[39;00m \u001b[38;5;241m*\u001b[39margs: jnp\u001b[38;5;241m.\u001b[39mstack(args), \u001b[38;5;241m*\u001b[39mys)\n",
      "File \u001b[0;32m~/Document/Gaia_Project/mem97/gaia_venv/lib/python3.12/site-packages/numpyro/infer/mcmc.py:489\u001b[0m, in \u001b[0;36mMCMC._single_chain_mcmc\u001b[0;34m(self, init, args, kwargs, collect_fields, remove_sites)\u001b[0m\n\u001b[1;32m    483\u001b[0m collection_size \u001b[38;5;241m=\u001b[39m \u001b[38;5;28mself\u001b[39m\u001b[38;5;241m.\u001b[39m_collection_params[\u001b[38;5;124m\"\u001b[39m\u001b[38;5;124mcollection_size\u001b[39m\u001b[38;5;124m\"\u001b[39m]\n\u001b[1;32m    484\u001b[0m collection_size \u001b[38;5;241m=\u001b[39m (\n\u001b[1;32m    485\u001b[0m     collection_size\n\u001b[1;32m    486\u001b[0m     \u001b[38;5;28;01mif\u001b[39;00m collection_size \u001b[38;5;129;01mis\u001b[39;00m \u001b[38;5;28;01mNone\u001b[39;00m\n\u001b[1;32m    487\u001b[0m     \u001b[38;5;28;01melse\u001b[39;00m collection_size \u001b[38;5;241m/\u001b[39m\u001b[38;5;241m/\u001b[39m \u001b[38;5;28mself\u001b[39m\u001b[38;5;241m.\u001b[39mthinning\n\u001b[1;32m    488\u001b[0m )\n\u001b[0;32m--> 489\u001b[0m collect_vals \u001b[38;5;241m=\u001b[39m \u001b[43mfori_collect\u001b[49m\u001b[43m(\u001b[49m\n\u001b[1;32m    490\u001b[0m \u001b[43m    \u001b[49m\u001b[43mlower_idx\u001b[49m\u001b[43m,\u001b[49m\n\u001b[1;32m    491\u001b[0m \u001b[43m    \u001b[49m\u001b[43mupper_idx\u001b[49m\u001b[43m,\u001b[49m\n\u001b[1;32m    492\u001b[0m \u001b[43m    \u001b[49m\u001b[43msample_fn\u001b[49m\u001b[43m,\u001b[49m\n\u001b[1;32m    493\u001b[0m \u001b[43m    \u001b[49m\u001b[43minit_val\u001b[49m\u001b[43m,\u001b[49m\n\u001b[1;32m    494\u001b[0m \u001b[43m    \u001b[49m\u001b[43mtransform\u001b[49m\u001b[38;5;241;43m=\u001b[39;49m\u001b[43m_collect_and_postprocess\u001b[49m\u001b[43m(\u001b[49m\n\u001b[1;32m    495\u001b[0m \u001b[43m        \u001b[49m\u001b[43mpostprocess_fn\u001b[49m\u001b[43m,\u001b[49m\u001b[43m \u001b[49m\u001b[43mcollect_fields\u001b[49m\u001b[43m,\u001b[49m\u001b[43m \u001b[49m\u001b[43mremove_sites\u001b[49m\n\u001b[1;32m    496\u001b[0m \u001b[43m    \u001b[49m\u001b[43m)\u001b[49m\u001b[43m,\u001b[49m\n\u001b[1;32m    497\u001b[0m \u001b[43m    \u001b[49m\u001b[43mprogbar\u001b[49m\u001b[38;5;241;43m=\u001b[39;49m\u001b[38;5;28;43mself\u001b[39;49m\u001b[38;5;241;43m.\u001b[39;49m\u001b[43mprogress_bar\u001b[49m\u001b[43m,\u001b[49m\n\u001b[1;32m    498\u001b[0m \u001b[43m    \u001b[49m\u001b[43mreturn_last_val\u001b[49m\u001b[38;5;241;43m=\u001b[39;49m\u001b[38;5;28;43;01mTrue\u001b[39;49;00m\u001b[43m,\u001b[49m\n\u001b[1;32m    499\u001b[0m \u001b[43m    \u001b[49m\u001b[43mthinning\u001b[49m\u001b[38;5;241;43m=\u001b[39;49m\u001b[38;5;28;43mself\u001b[39;49m\u001b[38;5;241;43m.\u001b[39;49m\u001b[43mthinning\u001b[49m\u001b[43m,\u001b[49m\n\u001b[1;32m    500\u001b[0m \u001b[43m    \u001b[49m\u001b[43mcollection_size\u001b[49m\u001b[38;5;241;43m=\u001b[39;49m\u001b[43mcollection_size\u001b[49m\u001b[43m,\u001b[49m\n\u001b[1;32m    501\u001b[0m \u001b[43m    \u001b[49m\u001b[43mprogbar_desc\u001b[49m\u001b[38;5;241;43m=\u001b[39;49m\u001b[43mpartial\u001b[49m\u001b[43m(\u001b[49m\u001b[43m_get_progbar_desc_str\u001b[49m\u001b[43m,\u001b[49m\u001b[43m \u001b[49m\u001b[43mlower_idx\u001b[49m\u001b[43m,\u001b[49m\u001b[43m \u001b[49m\u001b[43mphase\u001b[49m\u001b[43m)\u001b[49m\u001b[43m,\u001b[49m\n\u001b[1;32m    502\u001b[0m \u001b[43m    \u001b[49m\u001b[43mdiagnostics_fn\u001b[49m\u001b[38;5;241;43m=\u001b[39;49m\u001b[43mdiagnostics\u001b[49m\u001b[43m,\u001b[49m\n\u001b[1;32m    503\u001b[0m \u001b[43m    \u001b[49m\u001b[43mnum_chains\u001b[49m\u001b[38;5;241;43m=\u001b[39;49m\u001b[38;5;28;43mself\u001b[39;49m\u001b[38;5;241;43m.\u001b[39;49m\u001b[43mnum_chains\u001b[49m\n\u001b[1;32m    504\u001b[0m \u001b[43m    \u001b[49m\u001b[38;5;28;43;01mif\u001b[39;49;00m\u001b[43m \u001b[49m\u001b[43m(\u001b[49m\u001b[38;5;28;43mcallable\u001b[39;49m\u001b[43m(\u001b[49m\u001b[38;5;28;43mself\u001b[39;49m\u001b[38;5;241;43m.\u001b[39;49m\u001b[43mchain_method\u001b[49m\u001b[43m)\u001b[49m\u001b[43m \u001b[49m\u001b[38;5;129;43;01mor\u001b[39;49;00m\u001b[43m \u001b[49m\u001b[38;5;28;43mself\u001b[39;49m\u001b[38;5;241;43m.\u001b[39;49m\u001b[43mchain_method\u001b[49m\u001b[43m \u001b[49m\u001b[38;5;241;43m==\u001b[39;49m\u001b[43m \u001b[49m\u001b[38;5;124;43m\"\u001b[39;49m\u001b[38;5;124;43mparallel\u001b[39;49m\u001b[38;5;124;43m\"\u001b[39;49m\u001b[43m)\u001b[49m\n\u001b[1;32m    505\u001b[0m \u001b[43m    \u001b[49m\u001b[38;5;28;43;01melse\u001b[39;49;00m\u001b[43m \u001b[49m\u001b[38;5;241;43m1\u001b[39;49m\u001b[43m,\u001b[49m\n\u001b[1;32m    506\u001b[0m \u001b[43m\u001b[49m\u001b[43m)\u001b[49m\n\u001b[1;32m    507\u001b[0m states, last_val \u001b[38;5;241m=\u001b[39m collect_vals\n\u001b[1;32m    508\u001b[0m \u001b[38;5;66;03m# Get first argument of type `HMCState`\u001b[39;00m\n",
      "File \u001b[0;32m~/Document/Gaia_Project/mem97/gaia_venv/lib/python3.12/site-packages/numpyro/util.py:399\u001b[0m, in \u001b[0;36mfori_collect\u001b[0;34m(lower, upper, body_fun, init_val, transform, progbar, return_last_val, collection_size, thinning, **progbar_opts)\u001b[0m\n\u001b[1;32m    397\u001b[0m \u001b[38;5;28;01mwith\u001b[39;00m tqdm\u001b[38;5;241m.\u001b[39mtrange(upper) \u001b[38;5;28;01mas\u001b[39;00m t:\n\u001b[1;32m    398\u001b[0m     \u001b[38;5;28;01mfor\u001b[39;00m i \u001b[38;5;129;01min\u001b[39;00m t:\n\u001b[0;32m--> 399\u001b[0m         vals \u001b[38;5;241m=\u001b[39m \u001b[43m_body_fn\u001b[49m\u001b[43m(\u001b[49m\u001b[43mi\u001b[49m\u001b[43m,\u001b[49m\u001b[43m \u001b[49m\u001b[38;5;241;43m*\u001b[39;49m\u001b[43mvals\u001b[49m\u001b[43m)\u001b[49m\n\u001b[1;32m    401\u001b[0m         t\u001b[38;5;241m.\u001b[39mset_description(progbar_desc(i), refresh\u001b[38;5;241m=\u001b[39m\u001b[38;5;28;01mFalse\u001b[39;00m)\n\u001b[1;32m    402\u001b[0m         \u001b[38;5;28;01mif\u001b[39;00m diagnostics_fn:\n",
      "File \u001b[0;32m~/Document/Gaia_Project/mem97/gaia_venv/lib/python3.12/site-packages/jax/_src/prng.py:328\u001b[0m, in \u001b[0;36mprngkeyarray_unflatten\u001b[0;34m(impl, children)\u001b[0m\n\u001b[1;32m    325\u001b[0m \u001b[38;5;28;01mdef\u001b[39;00m\u001b[38;5;250m \u001b[39m\u001b[38;5;21mprngkeyarray_flatten\u001b[39m(x):\n\u001b[1;32m    326\u001b[0m   \u001b[38;5;28;01mreturn\u001b[39;00m (x\u001b[38;5;241m.\u001b[39m_base_array,), x\u001b[38;5;241m.\u001b[39m_impl\n\u001b[0;32m--> 328\u001b[0m \u001b[38;5;28;01mdef\u001b[39;00m\u001b[38;5;250m \u001b[39m\u001b[38;5;21mprngkeyarray_unflatten\u001b[39m(impl, children):\n\u001b[1;32m    329\u001b[0m   base_array, \u001b[38;5;241m=\u001b[39m children\n\u001b[1;32m    330\u001b[0m   \u001b[38;5;28;01mreturn\u001b[39;00m PRNGKeyArray(impl, base_array)\n",
      "\u001b[0;31mKeyboardInterrupt\u001b[0m: "
     ]
    }
   ],
   "source": [
    "kernel = NUTS(model_for_HMC, target_accept_prob=0.75)\n",
    "rng_key = jax.random.key(0)\n",
    "numpyro.set_host_device_count(2)\n",
    "mcmc = MCMC(kernel, num_warmup=100, num_samples=2000, num_chains=2, progress_bar=True)\n",
    "mcmc.run(rng_key, angles=angles_gen, obs=obs_gen, error=error_gen, lmax=2)\n",
    "\n",
    "posterior_sample = mcmc.get_samples()"
   ]
  },
  {
   "cell_type": "code",
   "execution_count": 5,
   "id": "0267efab",
   "metadata": {},
   "outputs": [
    {
     "name": "stdout",
     "output_type": "stream",
     "text": [
      "\n",
      "                mean       std    median      5.0%     95.0%     n_eff     r_hat\n",
      "  theta[0]      0.05      0.00      0.05      0.05      0.05   1762.72      1.00\n",
      "  theta[1]      0.06      0.00      0.06      0.05      0.06   2951.01      1.00\n",
      "  theta[2]     -0.02      0.00     -0.02     -0.02     -0.02   2149.80      1.00\n",
      "  theta[3]     -0.00      0.00     -0.00     -0.00     -0.00   3086.96      1.00\n",
      "  theta[4]      0.01      0.00      0.01      0.01      0.02   1446.65      1.00\n",
      "  theta[5]     -0.04      0.00     -0.04     -0.04     -0.04   3454.74      1.00\n",
      "  theta[6]     -0.02      0.00     -0.02     -0.02     -0.01   1442.78      1.00\n",
      "  theta[7]      0.02      0.00      0.02      0.02      0.03   1903.33      1.00\n",
      "  theta[8]      0.03      0.00      0.03      0.03      0.03   1528.86      1.00\n",
      "  theta[9]     -0.04      0.00     -0.04     -0.04     -0.03   2217.34      1.00\n",
      " theta[10]      0.06      0.00      0.06      0.06      0.06   3187.32      1.00\n",
      " theta[11]     -0.06      0.00     -0.06     -0.06     -0.06   1380.65      1.00\n",
      " theta[12]      0.01      0.00      0.01      0.01      0.02   1638.17      1.00\n",
      " theta[13]      0.01      0.00      0.01      0.01      0.01   3490.44      1.00\n",
      " theta[14]      0.05      0.00      0.05      0.04      0.05   2889.20      1.00\n",
      " theta[15]      0.05      0.00      0.05      0.05      0.05   1770.80      1.00\n",
      "\n",
      "Number of divergences: 0\n"
     ]
    }
   ],
   "source": [
    "mcmc.print_summary()"
   ]
  },
  {
   "cell_type": "code",
   "execution_count": 6,
   "id": "c813ee55",
   "metadata": {},
   "outputs": [
    {
     "data": {
      "text/plain": [
       "Array([0.00088651, 0.00086876, 0.00254539, 0.00067689, 0.00254179,\n",
       "       0.00069147, 0.0024203 , 0.00244607, 0.00129023, 0.0022534 ,\n",
       "       0.0012672 , 0.0022979 , 0.00104722, 0.00086756, 0.00100339,\n",
       "       0.00085477], dtype=float32)"
      ]
     },
     "execution_count": 6,
     "metadata": {},
     "output_type": "execute_result"
    }
   ],
   "source": [
    "jnp.std(posterior_sample['theta'], axis=0)"
   ]
  },
  {
   "cell_type": "markdown",
   "id": "1e2b5846",
   "metadata": {},
   "source": [
    "$l_{max}=2$ `iminuit.Minuit` least square fit"
   ]
  },
  {
   "cell_type": "code",
   "execution_count": null,
   "id": "0d120206",
   "metadata": {},
   "outputs": [
    {
     "name": "stdout",
     "output_type": "stream",
     "text": [
      "Fitted parameters values:\n",
      "[ 0.05249041  0.05554223 -0.02023    -0.00364052  0.01248626 -0.0390929\n",
      " -0.01700586  0.02229834  0.03157498 -0.0358141   0.05911672 -0.06064666\n",
      "  0.01466664  0.00676478  0.04517596  0.052738  ]\n",
      "Sampled from HMC:\n",
      "True values:\n",
      "[ 0.05372004  0.05742959 -0.02012502 -0.00375978  0.00838665 -0.04013964\n",
      " -0.02277664  0.02273766  0.02961199 -0.03947825  0.05824246 -0.05696608\n",
      "  0.01680502  0.0075229   0.04790566  0.0521445 ]\n",
      "Is the function minimum valid? False\n"
     ]
    }
   ],
   "source": [
    "lmax = 2\n",
    "total_params = count_vsh_coeffs(lmax) \n",
    "limits = vsh_minuit_limits(lmax, t_bound=0.08, s_bound=0.08)\n",
    "\n",
    "\n",
    "# Flat vector theta: [t10, ..., t_lmaxm, s10, ..., s_lmaxm]\n",
    "theta_init = jnp.zeros(total_params)\n",
    "\n",
    "def least_square_wrapper(*theta_flat):\n",
    "    theta = jnp.array(theta_flat)  # reconstructs the vector from scalars\n",
    "    return least_square(angles_gen, obs_gen, error_gen, theta, lmax=lmax, grid=False)\n",
    "\n",
    "\n",
    "m = Minuit(least_square_wrapper, *theta_init)\n",
    "\n",
    "m.errordef = Minuit.LEAST_SQUARES\n",
    "for i, name in enumerate(m.parameters):\n",
    "    m.limits[name] = limits[name]\n",
    "\n",
    "m.migrad()\n",
    "theta_fit = jnp.array([m.values[k] for k in m.parameters])\n",
    "print(\"Fitted parameters values:\")\n",
    "print(theta_fit)\n",
    "print(\"Sampled from HMC:\")\n",
    "print(jnp.mean(posterior_sample['theta'], axis=0))\n",
    "print(\"True values:\")\n",
    "print(vsh_coeff_gen)\n",
    "print('Is the function minimum valid?', m.fmin.is_valid)"
   ]
  },
  {
   "cell_type": "markdown",
   "id": "638d092c",
   "metadata": {},
   "source": [
    "Coefficients that we care abaut are $s_{10}$, $s_{11}^{\\real}$ and $s_{11}^{i}$"
   ]
  },
  {
   "cell_type": "code",
   "execution_count": 8,
   "id": "3d822a16",
   "metadata": {},
   "outputs": [
    {
     "name": "stdout",
     "output_type": "stream",
     "text": [
      "Index 1 : s_10\n",
      "Index 4 : s_11r\n",
      "Index 5 : s_11i\n"
     ]
    }
   ],
   "source": [
    "index_val = get_vsh_index_map(lmax)\n",
    "print(f'Index {1} : {index_val[1]}')\n",
    "print(f'Index {4} : {index_val[4]}')\n",
    "print(f'Index {5} : {index_val[5]}')"
   ]
  },
  {
   "cell_type": "code",
   "execution_count": null,
   "id": "8ef23521",
   "metadata": {},
   "outputs": [],
   "source": [
    "hmc_coef = jnp.mean(posterior_sample['theta'], axis=0)\n",
    "hmc_std = jnp.std(posterior_sample['theta'], axis=0)\n",
    "\n",
    "im_var = jnp.sqrt(jnp.diag(m.covariance))"
   ]
  },
  {
   "cell_type": "code",
   "execution_count": 10,
   "id": "e8fd55ec",
   "metadata": {},
   "outputs": [
    {
     "name": "stdout",
     "output_type": "stream",
     "text": [
      "Comparisons:\n",
      "Least Square fit:\n",
      "s_10 = 0.0555422306060791 +/- 6.136519346000568e-07, s_11r = 0.01248625572770834 +/- 2.934761141659692e-05 \n",
      "      and s_11i = -0.03909290209412575 +/- 9.823775144468527e-07\n",
      "HMC sampling result:\n",
      "s_10 = 0.055638715624809265 +/- 0.029474686831235886, s_11r = 0.011668037623167038 +/- 0.050416141748428345 \n",
      "      and s_11i = -0.0391148142516613 +/- 0.026295771822333336\n",
      "True values:\n",
      "s_10 = 0.057429585605859756, s_11r = 0.008386645466089249 and s_11i = -0.040139637887477875\n"
     ]
    }
   ],
   "source": [
    "print('Comparisons:')\n",
    "print('Least Square fit:')\n",
    "print(f\"\"\"s_10 = {theta_fit[1]} +/- {im_var[1]}, s_11r = {theta_fit[4]} +/- {im_var[4]} \n",
    "      and s_11i = {theta_fit[5]} +/- {im_var[5]}\"\"\")\n",
    "print('HMC sampling result:')\n",
    "print(f\"\"\"s_10 = {hmc_coef[1]} +/- {hmc_std[1]}, s_11r = {hmc_coef[4]} +/- {hmc_std[4]} \n",
    "      and s_11i = {hmc_coef[5]} +/- {hmc_std[5]}\"\"\")\n",
    "print(\"True values:\")\n",
    "print(f\"\"\"s_10 = {vsh_coeff_gen[1]}, s_11r = {vsh_coeff_gen[4]} and s_11i = {vsh_coeff_gen[5]}\"\"\")"
   ]
  },
  {
   "cell_type": "markdown",
   "id": "8bdeca8a",
   "metadata": {},
   "source": [
    "Running sampling on fake data for $l_{max}=1,2,3$.\n",
    "\n",
    "First HMC:"
   ]
  },
  {
   "cell_type": "code",
   "execution_count": 11,
   "id": "e8b6d551",
   "metadata": {},
   "outputs": [
    {
     "name": "stderr",
     "output_type": "stream",
     "text": [
      "/tmp/ipykernel_1140/3530956422.py:8: UserWarning: There are not enough devices to run parallel chains: expected 2 but got 1. Chains will be drawn sequentially. If you are running MCMC in CPU, consider using `numpyro.set_host_device_count(2)` at the beginning of your program. You can double-check how many devices are available in your system using `jax.local_device_count()`.\n",
      "  mcmc = MCMC(kernel, num_warmup=100, num_samples=2000, num_chains=2, progress_bar=True)\n",
      "sample: 100%|██████████| 2100/2100 [00:29<00:00, 70.27it/s, 7 steps of size 3.29e-01. acc. prob=0.85] \n",
      "sample: 100%|██████████| 2100/2100 [00:27<00:00, 75.97it/s, 7 steps of size 3.67e-01. acc. prob=0.92] \n",
      "sample: 100%|██████████| 2100/2100 [04:16<00:00,  8.20it/s, 127 steps of size 2.87e-02. acc. prob=0.90]\n",
      "sample: 100%|██████████| 2100/2100 [02:55<00:00, 11.98it/s, 63 steps of size 4.04e-02. acc. prob=0.94] \n",
      "sample: 100%|██████████| 2100/2100 [44:06<00:00,  1.26s/it, 1023 steps of size 6.00e-03. acc. prob=0.89] \n",
      "sample: 100%|██████████| 2100/2100 [44:28<00:00,  1.27s/it, 1023 steps of size 6.80e-03. acc. prob=0.85]\n"
     ]
    }
   ],
   "source": [
    "posterior_samples = []\n",
    "rng_key = jax.random.key(0)\n",
    "\n",
    "for i in range(1,4):\n",
    "    \n",
    "    kernel = NUTS(model_for_HMC, target_accept_prob=0.75)\n",
    "    numpyro.set_host_device_count(2)\n",
    "    mcmc = MCMC(kernel, num_warmup=100, num_samples=2000, num_chains=2, progress_bar=True)\n",
    "    mcmc.run(rng_key, angles=angles_gen, obs=obs_gen, error=error_gen, lmax=i)\n",
    "\n",
    "    posterior_sample = mcmc.get_samples()\n",
    "    \n",
    "    posterior_samples.append(posterior_sample)"
   ]
  },
  {
   "cell_type": "code",
   "execution_count": 12,
   "id": "6dbc3f27",
   "metadata": {},
   "outputs": [],
   "source": [
    "coef_pred = [jnp.mean(ps['theta'], axis=0) for ps in posterior_samples]\n",
    "std_pred = [jnp.std(ps['theta'], axis=0) for ps in posterior_samples]"
   ]
  },
  {
   "cell_type": "code",
   "execution_count": 15,
   "id": "d770b38f",
   "metadata": {},
   "outputs": [],
   "source": [
    "import numpy as np\n",
    "\n",
    "coef_pred_np = np.array([np.array(x) for x in coef_pred], dtype=object)\n",
    "std_pred_np = np.array([np.array(x) for x in std_pred], dtype=object)\n",
    "\n",
    "np.savez('fake_data/posterior_summary.npz', coef=coef_pred_np, std=std_pred_np)\n"
   ]
  },
  {
   "cell_type": "markdown",
   "id": "d607d3a9",
   "metadata": {},
   "source": [
    "Then `iminuit`."
   ]
  },
  {
   "cell_type": "code",
   "execution_count": 37,
   "id": "bcc05a74",
   "metadata": {},
   "outputs": [],
   "source": [
    "def eval_loss(theta, lmax):\n",
    "    return least_square(angles_gen, obs_gen, error_gen, theta, lmax=lmax, grid=False)\n",
    "eval_loss = jit(eval_loss, static_argnames=['lmax'])\n",
    "\n",
    "def run_iminuit(lmax, t_bound, s_bound):\n",
    "\n",
    "    def least_square_wrapper(*theta_flat):\n",
    "        theta = jnp.array(theta_flat)\n",
    "        return float(eval_loss(theta, lmax)) \n",
    "\n",
    "    total_params = count_vsh_coeffs(lmax) \n",
    "    limits = vsh_minuit_limits(lmax, t_bound=t_bound, s_bound=s_bound)\n",
    "    \n",
    "    theta_init = jnp.zeros(total_params)    \n",
    "\n",
    "    m = Minuit(least_square_wrapper, *theta_init)\n",
    "\n",
    "    m.errordef = Minuit.LEAST_SQUARES\n",
    "    for i, name in enumerate(m.parameters):\n",
    "        m.limits[name] = limits[name]\n",
    "\n",
    "    m.migrad()\n",
    "\n",
    "    return m"
   ]
  },
  {
   "cell_type": "code",
   "execution_count": 38,
   "id": "80f69fd9",
   "metadata": {},
   "outputs": [],
   "source": [
    "m = run_iminuit(3, 0.08, 0.08)"
   ]
  },
  {
   "cell_type": "code",
   "execution_count": 41,
   "id": "e4bd9a40",
   "metadata": {},
   "outputs": [
    {
     "name": "stdout",
     "output_type": "stream",
     "text": [
      "[0.00061001 0.00094115 0.00105731 0.0025324  0.00306712 0.00222983\n",
      " 0.00217035 0.00162861 0.0013746  0.00333035 0.00110783 0.00055441\n",
      " 0.00123883 0.00078152 0.00104788 0.00069853 0.00058112 0.00126882\n",
      " 0.00090143 0.00059729 0.00065255 0.00052328 0.00198376 0.00057256\n",
      " 0.00133678 0.00149117 0.00070963 0.00091827 0.00051415 0.00057266]\n"
     ]
    }
   ],
   "source": [
    "print(jnp.sqrt(jnp.diag(m.covariance)))"
   ]
  },
  {
   "cell_type": "code",
   "execution_count": 31,
   "id": "c72dc8b5",
   "metadata": {},
   "outputs": [
    {
     "name": "stderr",
     "output_type": "stream",
     "text": [
      "Running Minuit fits: 100%|██████████| 3/3 [00:35<00:00, 11.94s/it]\n"
     ]
    }
   ],
   "source": [
    "fitted_thetas = []\n",
    "std_theta_fit = []\n",
    "\n",
    "for i in tqdm(range(1, 4), desc=\"Running Minuit fits\"):\n",
    "\n",
    "    m = run_iminuit(i, 0.08, 0.08)\n",
    "\n",
    "    theta_fit = jnp.array([m.values[name] for name in m.parameters])\n",
    "    fitted_thetas.append(theta_fit)\n",
    "    std_theta_fit.append(jnp.sqrt(jnp.diag(m.covariance)))\n",
    "\n",
    "    del m\n",
    "    gc.collect()\n",
    "    jax.clear_caches()\n"
   ]
  },
  {
   "cell_type": "code",
   "execution_count": 21,
   "id": "a64f3e83",
   "metadata": {},
   "outputs": [],
   "source": [
    "data = np.load('fake_data/posterior_summary.npz', allow_pickle=True)\n",
    "\n",
    "coef_pred = [jnp.array(x) for x in data['coef']]\n",
    "std_pred = [jnp.array(x) for x in data['std']]\n"
   ]
  },
  {
   "cell_type": "markdown",
   "id": "c2985fb0",
   "metadata": {},
   "source": [
    "Plotting error bars from predicted sampling HMC and least square method `iminuit`"
   ]
  },
  {
   "cell_type": "code",
   "execution_count": 69,
   "id": "41049478",
   "metadata": {},
   "outputs": [
    {
     "data": {
      "image/png": "[encoded data removed]",
      "text/plain": [
       "<Figure size 640x480 with 1 Axes>"
      ]
     },
     "metadata": {},
     "output_type": "display_data"
    },
    {
     "data": {
      "image/png": "[encoded data removed]",
      "text/plain": [
       "<Figure size 640x480 with 1 Axes>"
      ]
     },
     "metadata": {},
     "output_type": "display_data"
    }
   ],
   "source": [
    "import matplotlib.pyplot as plt\n",
    "\n",
    "# HMC\n",
    "lmax_values = [1,2,3]\n",
    "\n",
    "s10_hmc, er10_hmc = [coef_pred[z][1] for z in range(0,3)], [std_pred[z][1] for z in range(0,3)]\n",
    "s11r_hmc, er11r_hmc = [coef_pred[x][4] for x in range(0,3)], [std_pred[x][4] for x in range(0,3)]\n",
    "s11i_hmc, er11i_hmc = [coef_pred[y][5] for y in range(0,3)], [std_pred[y][5] for y in range(0,3)]\n",
    "\n",
    "\n",
    "plt.errorbar(lmax_values, s11r_hmc, yerr=er11r_hmc, fmt='o', capsize=3, markersize=5, elinewidth=1, label=r'$s_{11}^{R}$-pred')\n",
    "plt.errorbar(lmax_values, s11i_hmc, yerr=er11i_hmc, fmt='o', capsize=3, markersize=5, elinewidth=1, label=r'$s_{11}^i$-pred')\n",
    "plt.errorbar(lmax_values, s10_hmc, yerr=er10_hmc, fmt='o', capsize=3, markersize=5, elinewidth=1, label=r'$s_{10}$-pred')\n",
    "\n",
    "plt.axhline(vsh_coeff_gen[4], linestyle='--', color='tab:blue', label=r'$s_{11}^{R}$-true')\n",
    "plt.axhline(vsh_coeff_gen[5], linestyle='--', color='tab:orange', label=r'$s_{11}^{i}$-true')\n",
    "plt.axhline(vsh_coeff_gen[1], linestyle='--', color='tab:green', label=r'$s_{10}$-true')\n",
    "\n",
    "plt.title(\"HMC Sampling Results\")\n",
    "plt.xlabel(r'$l_{max}$')\n",
    "plt.ylabel(r'$s_{lm}$')\n",
    "plt.legend(loc='center left', bbox_to_anchor=(1, 0.5))\n",
    "plt.xticks(lmax_values)\n",
    "plt.savefig(\"plots/plots_test/hmc_on_fake_data.png\", dpi=300, bbox_inches='tight')\n",
    "plt.show()\n",
    "\n",
    "# Least-Square\n",
    "\n",
    "s10_ls, er10_ls = [fitted_thetas[z][1] for z in range(0,3)], [std_theta_fit[z][1] for z in range(0,3)]\n",
    "s11r_ls, er11r_ls = [fitted_thetas[x][4] for x in range(0,3)], [std_theta_fit[x][4] for x in range(0,3)]\n",
    "s11i_ls, er11i_ls = [fitted_thetas[y][5] for y in range(0,3)], [std_theta_fit[y][5] for y in range(0,3)]\n",
    "\n",
    "\n",
    "plt.errorbar(lmax_values, s11r_ls, yerr=er11r_ls, fmt='o', capsize=3, markersize=5, elinewidth=1, label=r'$s_{11}^{R}$-pred')\n",
    "plt.errorbar(lmax_values, s11i_ls, yerr=er11i_ls, fmt='o', capsize=3, markersize=5, elinewidth=1, label=r'$s_{11}^i$-pred')\n",
    "plt.errorbar(lmax_values, s10_ls, yerr=er10_ls, fmt='o', capsize=3, markersize=5, elinewidth=1, label=r'$s_{10}$-pred')\n",
    "\n",
    "plt.axhline(vsh_coeff_gen[4], linestyle='--', color='tab:blue', label=r'$s_{11}^{R}$-true')\n",
    "plt.axhline(vsh_coeff_gen[5], linestyle='--', color='tab:orange', label=r'$s_{11}^{i}$-true')\n",
    "plt.axhline(vsh_coeff_gen[1], linestyle='--', color='tab:green', label=r'$s_{10}$-true')\n",
    "\n",
    "plt.title(\"Least-Square Fit Results\")\n",
    "plt.xlabel(r'$l_{max}$')\n",
    "plt.ylabel(r'$s_{lm}$')\n",
    "plt.legend(loc='center left', bbox_to_anchor=(1, 0.5))\n",
    "plt.xticks(lmax_values)\n",
    "plt.savefig(\"plots/plots_test/iminuit_on_fake_data.png\", dpi=300, bbox_inches='tight')\n",
    "plt.show()"
   ]
  },
  {
   "cell_type": "code",
   "execution_count": 47,
   "id": "cec42e25",
   "metadata": {},
   "outputs": [],
   "source": [
    "def model_for_HMC(angles, obs, error, lmax):\n",
    "    total_params = count_vsh_coeffs(lmax)\n",
    "    \n",
    "    # Prior on all VSH coefficients (both toroidal and spheroidal)\n",
    "    theta = numpyro.sample(\"theta\", dist.Uniform(-0.08, 0.08).expand([total_params]))\n",
    "\n",
    "    # Least-squares residuals: we assume Gaussian-distributed residuals\n",
    "    chi2_val = least_square(angles, obs, error, theta, lmax=lmax, grid=False)\n",
    "\n",
    "    # The log-likelihood is proportional to -0.5*chi^2\n",
    "    numpyro.factor(\"likelihood\", -0.5*chi2_val)"
   ]
  },
  {
   "cell_type": "code",
   "execution_count": null,
   "id": "d55337cc",
   "metadata": {},
   "outputs": [],
   "source": [
    "\n",
    "\n",
    "def chi2_jit(angles, obs, error, theta, lmax):\n",
    "    return least_square(angles, obs, error, theta, lmax=lmax, grid=False)\n",
    "chi2_jit = jit(chi2_jit, static_argnames=['lmax'])\n",
    "\n",
    "\n",
    "def model_for_HMC(angles, obs, error, lmax):\n",
    "    total_params = count_vsh_coeffs(lmax)\n",
    "    theta = numpyro.sample(\"theta\", dist.Uniform(-0.08, 0.08).expand([total_params]))\n",
    "    chi2_val = chi2_jit(angles, obs, error, theta, lmax) \n",
    "    numpyro.factor(\"likelihood\", -0.5*chi2_val)\n"
   ]
  },
  {
   "cell_type": "code",
   "execution_count": 55,
   "id": "ecf37524",
   "metadata": {},
   "outputs": [
    {
     "name": "stderr",
     "output_type": "stream",
     "text": [
      "/tmp/ipykernel_22239/3319190644.py:5: UserWarning: There are not enough devices to run parallel chains: expected 2 but got 1. Chains will be drawn sequentially. If you are running MCMC in CPU, consider using `numpyro.set_host_device_count(2)` at the beginning of your program. You can double-check how many devices are available in your system using `jax.local_device_count()`.\n",
      "  mcmc = MCMC(kernel, num_warmup=100, num_samples=2000, num_chains=2, progress_bar=True)\n",
      "sample: 100%|██████████| 2100/2100 [00:28<00:00, 72.63it/s, 7 steps of size 3.44e-01. acc. prob=0.78] \n",
      "sample: 100%|██████████| 2100/2100 [00:34<00:00, 61.59it/s, 7 steps of size 2.91e-01. acc. prob=0.95] \n",
      "sample:  98%|█████████▊| 2048/2100 [04:05<00:06,  8.34it/s, 127 steps of size 3.16e-02. acc. prob=0.87]\n"
     ]
    },
    {
     "ename": "KeyboardInterrupt",
     "evalue": "",
     "output_type": "error",
     "traceback": [
      "\u001b[0;31m---------------------------------------------------------------------------\u001b[0m",
      "\u001b[0;31mKeyboardInterrupt\u001b[0m                         Traceback (most recent call last)",
      "Cell \u001b[0;32mIn[55], line 13\u001b[0m\n\u001b[1;32m      9\u001b[0m error_gen_jnp \u001b[38;5;241m=\u001b[39m jnp\u001b[38;5;241m.\u001b[39marray(error_gen)\n\u001b[1;32m     11\u001b[0m \u001b[38;5;28;01mfor\u001b[39;00m i \u001b[38;5;129;01min\u001b[39;00m \u001b[38;5;28mrange\u001b[39m(\u001b[38;5;241m1\u001b[39m,\u001b[38;5;241m4\u001b[39m):\n\u001b[0;32m---> 13\u001b[0m     \u001b[43mmcmc\u001b[49m\u001b[38;5;241;43m.\u001b[39;49m\u001b[43mrun\u001b[49m\u001b[43m(\u001b[49m\u001b[43mrng_key\u001b[49m\u001b[43m,\u001b[49m\u001b[43m \u001b[49m\u001b[43mangles\u001b[49m\u001b[38;5;241;43m=\u001b[39;49m\u001b[43mangles_gen_jnp\u001b[49m\u001b[43m,\u001b[49m\u001b[43m \u001b[49m\u001b[43mobs\u001b[49m\u001b[38;5;241;43m=\u001b[39;49m\u001b[43mobs_gen_jnp\u001b[49m\u001b[43m,\u001b[49m\u001b[43m \u001b[49m\u001b[43merror\u001b[49m\u001b[38;5;241;43m=\u001b[39;49m\u001b[43merror_gen_jnp\u001b[49m\u001b[43m,\u001b[49m\u001b[43m \u001b[49m\u001b[43mlmax\u001b[49m\u001b[38;5;241;43m=\u001b[39;49m\u001b[43mi\u001b[49m\u001b[43m)\u001b[49m\n\u001b[1;32m     14\u001b[0m     posterior_sample \u001b[38;5;241m=\u001b[39m mcmc\u001b[38;5;241m.\u001b[39mget_samples()\n\u001b[1;32m     16\u001b[0m     posterior_samples\u001b[38;5;241m.\u001b[39mappend(posterior_sample)\n",
      "File \u001b[0;32m~/Document/Gaia_Project/mem97/gaia_venv/lib/python3.12/site-packages/numpyro/infer/mcmc.py:706\u001b[0m, in \u001b[0;36mMCMC.run\u001b[0;34m(self, rng_key, extra_fields, init_params, *args, **kwargs)\u001b[0m\n\u001b[1;32m    704\u001b[0m \u001b[38;5;28;01melse\u001b[39;00m:\n\u001b[1;32m    705\u001b[0m     \u001b[38;5;28;01mif\u001b[39;00m \u001b[38;5;28mself\u001b[39m\u001b[38;5;241m.\u001b[39mchain_method \u001b[38;5;241m==\u001b[39m \u001b[38;5;124m\"\u001b[39m\u001b[38;5;124msequential\u001b[39m\u001b[38;5;124m\"\u001b[39m:\n\u001b[0;32m--> 706\u001b[0m         states, last_state \u001b[38;5;241m=\u001b[39m \u001b[43m_laxmap\u001b[49m\u001b[43m(\u001b[49m\u001b[43mpartial_map_fn\u001b[49m\u001b[43m,\u001b[49m\u001b[43m \u001b[49m\u001b[43mmap_args\u001b[49m\u001b[43m)\u001b[49m\n\u001b[1;32m    707\u001b[0m     \u001b[38;5;28;01melif\u001b[39;00m \u001b[38;5;28mself\u001b[39m\u001b[38;5;241m.\u001b[39mchain_method \u001b[38;5;241m==\u001b[39m \u001b[38;5;124m\"\u001b[39m\u001b[38;5;124mparallel\u001b[39m\u001b[38;5;124m\"\u001b[39m:\n\u001b[1;32m    708\u001b[0m         states, last_state \u001b[38;5;241m=\u001b[39m pmap(partial_map_fn)(map_args)\n",
      "File \u001b[0;32m~/Document/Gaia_Project/mem97/gaia_venv/lib/python3.12/site-packages/numpyro/infer/mcmc.py:177\u001b[0m, in \u001b[0;36m_laxmap\u001b[0;34m(f, xs)\u001b[0m\n\u001b[1;32m    175\u001b[0m \u001b[38;5;28;01mfor\u001b[39;00m i \u001b[38;5;129;01min\u001b[39;00m \u001b[38;5;28mrange\u001b[39m(n):\n\u001b[1;32m    176\u001b[0m     x \u001b[38;5;241m=\u001b[39m jit(_get_value_from_index)(xs, i)\n\u001b[0;32m--> 177\u001b[0m     ys\u001b[38;5;241m.\u001b[39mappend(\u001b[43mf\u001b[49m\u001b[43m(\u001b[49m\u001b[43mx\u001b[49m\u001b[43m)\u001b[49m)\n\u001b[1;32m    179\u001b[0m \u001b[38;5;28;01mreturn\u001b[39;00m jax\u001b[38;5;241m.\u001b[39mtree\u001b[38;5;241m.\u001b[39mmap(\u001b[38;5;28;01mlambda\u001b[39;00m \u001b[38;5;241m*\u001b[39margs: jnp\u001b[38;5;241m.\u001b[39mstack(args), \u001b[38;5;241m*\u001b[39mys)\n",
      "File \u001b[0;32m~/Document/Gaia_Project/mem97/gaia_venv/lib/python3.12/site-packages/numpyro/infer/mcmc.py:489\u001b[0m, in \u001b[0;36mMCMC._single_chain_mcmc\u001b[0;34m(self, init, args, kwargs, collect_fields, remove_sites)\u001b[0m\n\u001b[1;32m    483\u001b[0m collection_size \u001b[38;5;241m=\u001b[39m \u001b[38;5;28mself\u001b[39m\u001b[38;5;241m.\u001b[39m_collection_params[\u001b[38;5;124m\"\u001b[39m\u001b[38;5;124mcollection_size\u001b[39m\u001b[38;5;124m\"\u001b[39m]\n\u001b[1;32m    484\u001b[0m collection_size \u001b[38;5;241m=\u001b[39m (\n\u001b[1;32m    485\u001b[0m     collection_size\n\u001b[1;32m    486\u001b[0m     \u001b[38;5;28;01mif\u001b[39;00m collection_size \u001b[38;5;129;01mis\u001b[39;00m \u001b[38;5;28;01mNone\u001b[39;00m\n\u001b[1;32m    487\u001b[0m     \u001b[38;5;28;01melse\u001b[39;00m collection_size \u001b[38;5;241m/\u001b[39m\u001b[38;5;241m/\u001b[39m \u001b[38;5;28mself\u001b[39m\u001b[38;5;241m.\u001b[39mthinning\n\u001b[1;32m    488\u001b[0m )\n\u001b[0;32m--> 489\u001b[0m collect_vals \u001b[38;5;241m=\u001b[39m \u001b[43mfori_collect\u001b[49m\u001b[43m(\u001b[49m\n\u001b[1;32m    490\u001b[0m \u001b[43m    \u001b[49m\u001b[43mlower_idx\u001b[49m\u001b[43m,\u001b[49m\n\u001b[1;32m    491\u001b[0m \u001b[43m    \u001b[49m\u001b[43mupper_idx\u001b[49m\u001b[43m,\u001b[49m\n\u001b[1;32m    492\u001b[0m \u001b[43m    \u001b[49m\u001b[43msample_fn\u001b[49m\u001b[43m,\u001b[49m\n\u001b[1;32m    493\u001b[0m \u001b[43m    \u001b[49m\u001b[43minit_val\u001b[49m\u001b[43m,\u001b[49m\n\u001b[1;32m    494\u001b[0m \u001b[43m    \u001b[49m\u001b[43mtransform\u001b[49m\u001b[38;5;241;43m=\u001b[39;49m\u001b[43m_collect_and_postprocess\u001b[49m\u001b[43m(\u001b[49m\n\u001b[1;32m    495\u001b[0m \u001b[43m        \u001b[49m\u001b[43mpostprocess_fn\u001b[49m\u001b[43m,\u001b[49m\u001b[43m \u001b[49m\u001b[43mcollect_fields\u001b[49m\u001b[43m,\u001b[49m\u001b[43m \u001b[49m\u001b[43mremove_sites\u001b[49m\n\u001b[1;32m    496\u001b[0m \u001b[43m    \u001b[49m\u001b[43m)\u001b[49m\u001b[43m,\u001b[49m\n\u001b[1;32m    497\u001b[0m \u001b[43m    \u001b[49m\u001b[43mprogbar\u001b[49m\u001b[38;5;241;43m=\u001b[39;49m\u001b[38;5;28;43mself\u001b[39;49m\u001b[38;5;241;43m.\u001b[39;49m\u001b[43mprogress_bar\u001b[49m\u001b[43m,\u001b[49m\n\u001b[1;32m    498\u001b[0m \u001b[43m    \u001b[49m\u001b[43mreturn_last_val\u001b[49m\u001b[38;5;241;43m=\u001b[39;49m\u001b[38;5;28;43;01mTrue\u001b[39;49;00m\u001b[43m,\u001b[49m\n\u001b[1;32m    499\u001b[0m \u001b[43m    \u001b[49m\u001b[43mthinning\u001b[49m\u001b[38;5;241;43m=\u001b[39;49m\u001b[38;5;28;43mself\u001b[39;49m\u001b[38;5;241;43m.\u001b[39;49m\u001b[43mthinning\u001b[49m\u001b[43m,\u001b[49m\n\u001b[1;32m    500\u001b[0m \u001b[43m    \u001b[49m\u001b[43mcollection_size\u001b[49m\u001b[38;5;241;43m=\u001b[39;49m\u001b[43mcollection_size\u001b[49m\u001b[43m,\u001b[49m\n\u001b[1;32m    501\u001b[0m \u001b[43m    \u001b[49m\u001b[43mprogbar_desc\u001b[49m\u001b[38;5;241;43m=\u001b[39;49m\u001b[43mpartial\u001b[49m\u001b[43m(\u001b[49m\u001b[43m_get_progbar_desc_str\u001b[49m\u001b[43m,\u001b[49m\u001b[43m \u001b[49m\u001b[43mlower_idx\u001b[49m\u001b[43m,\u001b[49m\u001b[43m \u001b[49m\u001b[43mphase\u001b[49m\u001b[43m)\u001b[49m\u001b[43m,\u001b[49m\n\u001b[1;32m    502\u001b[0m \u001b[43m    \u001b[49m\u001b[43mdiagnostics_fn\u001b[49m\u001b[38;5;241;43m=\u001b[39;49m\u001b[43mdiagnostics\u001b[49m\u001b[43m,\u001b[49m\n\u001b[1;32m    503\u001b[0m \u001b[43m    \u001b[49m\u001b[43mnum_chains\u001b[49m\u001b[38;5;241;43m=\u001b[39;49m\u001b[38;5;28;43mself\u001b[39;49m\u001b[38;5;241;43m.\u001b[39;49m\u001b[43mnum_chains\u001b[49m\n\u001b[1;32m    504\u001b[0m \u001b[43m    \u001b[49m\u001b[38;5;28;43;01mif\u001b[39;49;00m\u001b[43m \u001b[49m\u001b[43m(\u001b[49m\u001b[38;5;28;43mcallable\u001b[39;49m\u001b[43m(\u001b[49m\u001b[38;5;28;43mself\u001b[39;49m\u001b[38;5;241;43m.\u001b[39;49m\u001b[43mchain_method\u001b[49m\u001b[43m)\u001b[49m\u001b[43m \u001b[49m\u001b[38;5;129;43;01mor\u001b[39;49;00m\u001b[43m \u001b[49m\u001b[38;5;28;43mself\u001b[39;49m\u001b[38;5;241;43m.\u001b[39;49m\u001b[43mchain_method\u001b[49m\u001b[43m \u001b[49m\u001b[38;5;241;43m==\u001b[39;49m\u001b[43m \u001b[49m\u001b[38;5;124;43m\"\u001b[39;49m\u001b[38;5;124;43mparallel\u001b[39;49m\u001b[38;5;124;43m\"\u001b[39;49m\u001b[43m)\u001b[49m\n\u001b[1;32m    505\u001b[0m \u001b[43m    \u001b[49m\u001b[38;5;28;43;01melse\u001b[39;49;00m\u001b[43m \u001b[49m\u001b[38;5;241;43m1\u001b[39;49m\u001b[43m,\u001b[49m\n\u001b[1;32m    506\u001b[0m \u001b[43m\u001b[49m\u001b[43m)\u001b[49m\n\u001b[1;32m    507\u001b[0m states, last_val \u001b[38;5;241m=\u001b[39m collect_vals\n\u001b[1;32m    508\u001b[0m \u001b[38;5;66;03m# Get first argument of type `HMCState`\u001b[39;00m\n",
      "File \u001b[0;32m~/Document/Gaia_Project/mem97/gaia_venv/lib/python3.12/site-packages/numpyro/util.py:399\u001b[0m, in \u001b[0;36mfori_collect\u001b[0;34m(lower, upper, body_fun, init_val, transform, progbar, return_last_val, collection_size, thinning, **progbar_opts)\u001b[0m\n\u001b[1;32m    397\u001b[0m \u001b[38;5;28;01mwith\u001b[39;00m tqdm\u001b[38;5;241m.\u001b[39mtrange(upper) \u001b[38;5;28;01mas\u001b[39;00m t:\n\u001b[1;32m    398\u001b[0m     \u001b[38;5;28;01mfor\u001b[39;00m i \u001b[38;5;129;01min\u001b[39;00m t:\n\u001b[0;32m--> 399\u001b[0m         vals \u001b[38;5;241m=\u001b[39m \u001b[43m_body_fn\u001b[49m\u001b[43m(\u001b[49m\u001b[43mi\u001b[49m\u001b[43m,\u001b[49m\u001b[43m \u001b[49m\u001b[38;5;241;43m*\u001b[39;49m\u001b[43mvals\u001b[49m\u001b[43m)\u001b[49m\n\u001b[1;32m    401\u001b[0m         t\u001b[38;5;241m.\u001b[39mset_description(progbar_desc(i), refresh\u001b[38;5;241m=\u001b[39m\u001b[38;5;28;01mFalse\u001b[39;00m)\n\u001b[1;32m    402\u001b[0m         \u001b[38;5;28;01mif\u001b[39;00m diagnostics_fn:\n",
      "File \u001b[0;32m~/Document/Gaia_Project/mem97/gaia_venv/lib/python3.12/site-packages/jax/_src/prng.py:328\u001b[0m, in \u001b[0;36mprngkeyarray_unflatten\u001b[0;34m(impl, children)\u001b[0m\n\u001b[1;32m    325\u001b[0m \u001b[38;5;28;01mdef\u001b[39;00m\u001b[38;5;250m \u001b[39m\u001b[38;5;21mprngkeyarray_flatten\u001b[39m(x):\n\u001b[1;32m    326\u001b[0m   \u001b[38;5;28;01mreturn\u001b[39;00m (x\u001b[38;5;241m.\u001b[39m_base_array,), x\u001b[38;5;241m.\u001b[39m_impl\n\u001b[0;32m--> 328\u001b[0m \u001b[38;5;28;01mdef\u001b[39;00m\u001b[38;5;250m \u001b[39m\u001b[38;5;21mprngkeyarray_unflatten\u001b[39m(impl, children):\n\u001b[1;32m    329\u001b[0m   base_array, \u001b[38;5;241m=\u001b[39m children\n\u001b[1;32m    330\u001b[0m   \u001b[38;5;28;01mreturn\u001b[39;00m PRNGKeyArray(impl, base_array)\n",
      "\u001b[0;31mKeyboardInterrupt\u001b[0m: "
     ]
    }
   ],
   "source": [
    "posterior_samples = []\n",
    "rng_key = jax.random.key(0)\n",
    "\n",
    "kernel = NUTS(model_for_HMC, target_accept_prob=0.75)\n",
    "mcmc = MCMC(kernel, num_warmup=100, num_samples=2000, num_chains=2, progress_bar=True)\n",
    "\n",
    "angles_gen_jnp = jnp.array(angles_gen)\n",
    "obs_gen_jnp = jnp.array(obs_gen)\n",
    "error_gen_jnp = jnp.array(error_gen)\n",
    "\n",
    "for i in range(1,4):\n",
    "    \n",
    "    mcmc.run(rng_key, angles=angles_gen_jnp, obs=obs_gen_jnp, error=error_gen_jnp, lmax=i)\n",
    "    posterior_sample = mcmc.get_samples()\n",
    "    \n",
    "    posterior_samples.append(posterior_sample)"
   ]
  }
 ],
 "metadata": {
  "kernelspec": {
   "display_name": "gaia_venv",
   "language": "python",
   "name": "python3"
  },
  "language_info": {
   "codemirror_mode": {
    "name": "ipython",
    "version": 3
   },
   "file_extension": ".py",
   "mimetype": "text/x-python",
   "name": "python",
   "nbconvert_exporter": "python",
   "pygments_lexer": "ipython3",
   "version": "3.12.3"
  }
 },
 "nbformat": 4,
 "nbformat_minor": 5
}
