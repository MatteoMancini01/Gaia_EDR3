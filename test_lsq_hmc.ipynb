{
 "cells": [
  {
   "cell_type": "markdown",
   "id": "22be24d4",
   "metadata": {},
   "source": [
    "The objective of this notebook is to test least square fit and HMC sampling, verifying the model predictive power on synthetic data, generated from known VSH coefficients. \n",
    "The designed script will generate data of sample size 100,000. The number of VSH coefficients depends on the desired value of $l_{max}$ (in our case $l_{max} = 2$, i.e. 16 VSH coefficients in total). \n",
    "-\tWe randomly drew the VSH coefficients from a uniform distribution with amplitude 0.01. \n",
    "-\tWe also drew the RA $\\in [0, 2\\pi]$ and Dec $\\in [-1,1]$ (uniform in the sphere) angles from uniform distributions\n",
    "-\t Then using the functions [`basis_vectors`](src/models/vsh_model.py) and [`model_vsh`](src/models/vsh_model.py) we used the generated angles RA and Dec to convert them into proper motions\n",
    "-\tWe then drew the uncertainties on the proper motions from a Gaussian distribution centred around 0.0 and with a noise level (std) of 0.03.\n",
    "-\tThere is no correlation in the synthetic dataset between proper motions.\n",
    "\n",
    "Below we import the required packages and functions from `src`."
   ]
  },
  {
   "cell_type": "code",
   "execution_count": 1,
   "id": "12c7551e",
   "metadata": {},
   "outputs": [
    {
     "name": "stderr",
     "output_type": "stream",
     "text": [
      "/root/Document/Gaia_Project/mem97/gaia_venv/lib/python3.12/site-packages/tqdm/auto.py:21: TqdmWarning: IProgress not found. Please update jupyter and ipywidgets. See https://ipywidgets.readthedocs.io/en/stable/user_install.html\n",
      "  from .autonotebook import tqdm as notebook_tqdm\n"
     ]
    }
   ],
   "source": [
    "from iminuit import Minuit # to perform least square\n",
    "from src.models.configuration import*\n",
    "from src.data.data_utils import*\n",
    "from src.models.vsh_model import*\n",
    "import jax.numpy as jnp\n",
    "from jax import jit, vmap\n",
    "from functools import partial, lru_cache"
   ]
  },
  {
   "cell_type": "markdown",
   "id": "de545890",
   "metadata": {},
   "source": [
    "The cell below will generate and store the syntheic data along with the randomly generated VSH coefficients (true values)."
   ]
  },
  {
   "cell_type": "code",
   "execution_count": null,
   "id": "08dcc480",
   "metadata": {},
   "outputs": [],
   "source": [
    "from src.data import generate_synthetic_data\n",
    "generate_synthetic_data # Generate synthetic data"
   ]
  },
  {
   "cell_type": "markdown",
   "id": "eb92c1b9",
   "metadata": {},
   "source": [
    "Load synthetic data and true VSH coefficient values. "
   ]
  },
  {
   "cell_type": "code",
   "execution_count": 2,
   "id": "8d593c63",
   "metadata": {},
   "outputs": [],
   "source": [
    "import pandas as pd\n",
    "import numpy as np\n",
    "\n",
    "df_synthetic = pd.read_csv('synthetic_data/synthetic_vsh_data.csv') # loead synthetic \n",
    "true_coeff = np.load('synthetic_data/theta_true.npy') # loead true VSH coefficients\n",
    "angles_gen, obs_gen, error_gen = config_data(df_synthetic) # configurate the data for input"
   ]
  },
  {
   "cell_type": "markdown",
   "id": "48eefc8d",
   "metadata": {},
   "source": [
    "# Test Least Square Fit \\& HMC Sampling on the Synthetic Dataset\n",
    "\n",
    "- First by fitting the least square (see function `toy_least_square` in [`src.models.vsh_model.py`](src/models/vsh_model.py)) with `iminuit`.\n",
    "- Additionaly testing both least square fit and HMC on universal vsh model and least square fucntion (respectivelly `model_vsh` and `least_square` and [`src.models.vsh_model.py`](src/models/vsh_model.py)).\n",
    "\n",
    "Note \"toy model\" (by toy model I mean a static function designed for $l=1$) only work for $l_{max}$ = 1, recall synthetic data was generated with $l=2$."
   ]
  },
  {
   "cell_type": "code",
   "execution_count": 3,
   "id": "f5662eb3",
   "metadata": {},
   "outputs": [
    {
     "name": "stdout",
     "output_type": "stream",
     "text": [
      "Toy Model Result l = 1:\n",
      "Fitted parameters values:\n",
      "[ 0.03217079  0.01450661  0.0113407   0.1311283   0.02000312 -0.06413274]\n",
      "True values:\n",
      "[ 0.05372004  0.05742959 -0.02012502 -0.00375978  0.00838665 -0.04013964]\n"
     ]
    }
   ],
   "source": [
    "# Bind fixed arguments into a new function\n",
    "bound_least_square = partial(toy_least_square, angles_gen, obs_gen, error_gen) \n",
    "\n",
    "# Now Minuit only sees the 6 free parameters\n",
    "m_toy = Minuit(bound_least_square,\n",
    "           t_10=0.0, t_11r=0.0, t_11i=0.0,\n",
    "           s_10=0.0, s_11r=0.0, s_11i=0.0)\n",
    "\n",
    "m_toy.errordef=Minuit.LEAST_SQUARES\n",
    "\n",
    "m_toy.migrad()\n",
    "\n",
    "print('Toy Model Result l = 1:')\n",
    "theta_fit_toy = jnp.array([m_toy.values[k] for k in m_toy.parameters])\n",
    "print(\"Fitted parameters values:\")\n",
    "print(theta_fit_toy)\n",
    "print(\"True values:\")\n",
    "print(true_coeff[:count_vsh_coeffs(1)])"
   ]
  },
  {
   "cell_type": "markdown",
   "id": "72eab826",
   "metadata": {},
   "source": [
    "\"Universal\" (by universal I mean for any desired values of $l_{max}$), least square."
   ]
  },
  {
   "cell_type": "code",
   "execution_count": 4,
   "id": "3d3c46c7",
   "metadata": {},
   "outputs": [
    {
     "name": "stdout",
     "output_type": "stream",
     "text": [
      "Compleate least square result l = 1:\n",
      "Fitted parameters values:\n",
      "[ 0.03216825  0.13111432  0.01450038  0.01133812  0.02000075 -0.0641298 ]\n",
      "True values:\n",
      "[ 0.05372004  0.05742959 -0.02012502 -0.00375978  0.00838665 -0.04013964]\n"
     ]
    }
   ],
   "source": [
    "lmax = 1\n",
    "total_params = count_vsh_coeffs(lmax) \n",
    "\n",
    "# Flat vector theta: [t10, ..., t_lmaxm, s10, ..., s_lmaxm]\n",
    "theta_init = jnp.zeros(total_params)\n",
    "\n",
    "# Fix everything except theta\n",
    "def least_square_wrapper(*theta_flat):\n",
    "    theta = jnp.array(theta_flat)  # reconstructs the vector from scalars\n",
    "    return least_square(angles_gen, obs_gen, error_gen, theta, lmax=lmax, grid=False)\n",
    "\n",
    "m1 = Minuit(least_square_wrapper, *theta_init)\n",
    "\n",
    "m1.errordef = Minuit.LEAST_SQUARES\n",
    "\n",
    "m1.migrad()\n",
    "\n",
    "print('Compleate least square result l = 1:')\n",
    "theta_fit_1 = jnp.array([m1.values[k] for k in m1.parameters])\n",
    "print(\"Fitted parameters values:\")\n",
    "print(theta_fit_1)\n",
    "print(\"True values:\")\n",
    "print(true_coeff[:count_vsh_coeffs(1)])"
   ]
  },
  {
   "cell_type": "markdown",
   "id": "fe4915be",
   "metadata": {},
   "source": [
    "Least square fit for $l=2$"
   ]
  },
  {
   "cell_type": "code",
   "execution_count": 5,
   "id": "3d43f405",
   "metadata": {},
   "outputs": [
    {
     "name": "stdout",
     "output_type": "stream",
     "text": [
      "Compleate least square result l = 2:\n",
      "Fitted parameters values:\n",
      "[ 0.05237787  0.05555838 -0.02015737 -0.00370113  0.01000114 -0.0395992\n",
      " -0.01779413  0.02249806  0.03067211 -0.03782388  0.05861543 -0.05849521\n",
      "  0.01581841  0.0072174   0.0466077   0.05248069]\n",
      "True values:\n",
      "[ 0.05372004  0.05742959 -0.02012502 -0.00375978  0.00838665 -0.04013964\n",
      " -0.02277664  0.02273766  0.02961199 -0.03947825  0.05824246 -0.05696608\n",
      "  0.01680502  0.0075229   0.04790566  0.0521445 ]\n"
     ]
    }
   ],
   "source": [
    "lmax = 2\n",
    "total_params = count_vsh_coeffs(lmax) \n",
    "\n",
    "# Flat vector theta: [t10, ..., t_lmaxm, s10, ..., s_lmaxm]\n",
    "theta_init = jnp.zeros(total_params)\n",
    "\n",
    "# Fix everything except theta\n",
    "def least_square_wrapper(*theta_flat):\n",
    "    theta = jnp.array(theta_flat)  # reconstructs the vector from scalars\n",
    "    return least_square(angles_gen, obs_gen, error_gen, theta, lmax=lmax, grid=False)\n",
    "\n",
    "m2 = Minuit(least_square_wrapper, *theta_init)\n",
    "\n",
    "m2.errordef = Minuit.LEAST_SQUARES\n",
    "\n",
    "m2.migrad()\n",
    "\n",
    "print('Compleate least square result l = 2:')\n",
    "theta_fit_2 = jnp.array([m2.values[k] for k in m2.parameters])\n",
    "print(\"Fitted parameters values:\")\n",
    "print(theta_fit_2)\n",
    "print(\"True values:\")\n",
    "print(true_coeff[:count_vsh_coeffs(2)])"
   ]
  },
  {
   "cell_type": "markdown",
   "id": "2d3125ac",
   "metadata": {},
   "source": [
    "Least square fit for $l=3$."
   ]
  },
  {
   "cell_type": "code",
   "execution_count": 6,
   "id": "3810a49a",
   "metadata": {},
   "outputs": [
    {
     "name": "stdout",
     "output_type": "stream",
     "text": [
      "Compleate least square result l = 2:\n",
      "Fitted parameters values:\n",
      "[ 0.03014502  0.03355306 -0.0007573   0.01433174  0.01033522 -0.01194067\n",
      " -0.01777831  0.00241366  0.02045461 -0.04025296  0.04289113 -0.06602865\n",
      "  0.00887562  0.01604122  0.03837589  0.01503773]\n",
      "True values:\n",
      "[ 0.05372004  0.05742959 -0.02012502 -0.00375978  0.00838665 -0.04013964\n",
      " -0.02277664  0.02273766  0.02961199 -0.03947825  0.05824246 -0.05696608\n",
      "  0.01680502  0.0075229   0.04790566  0.0521445 ]\n"
     ]
    }
   ],
   "source": [
    "lmax = 3\n",
    "total_params = count_vsh_coeffs(lmax) \n",
    "\n",
    "# Flat vector theta: [t10, ..., t_lmaxm, s10, ..., s_lmaxm]\n",
    "theta_init = jnp.zeros(total_params)\n",
    "\n",
    "# Fix everything except theta\n",
    "def least_square_wrapper(*theta_flat):\n",
    "    theta = jnp.array(theta_flat)  # reconstructs the vector from scalars\n",
    "    return least_square(angles_gen, obs_gen, error_gen, theta, lmax=lmax, grid=False)\n",
    "\n",
    "m3 = Minuit(least_square_wrapper, *theta_init)\n",
    "\n",
    "m3.errordef = Minuit.LEAST_SQUARES\n",
    "\n",
    "m3.migrad()\n",
    "\n",
    "print('Compleate least square result l = 2:')\n",
    "theta_fit_3 = jnp.array([m3.values[k] for k in m3.parameters])\n",
    "print(\"Fitted parameters values:\")\n",
    "print(theta_fit_3[:count_vsh_coeffs(2)])\n",
    "print(\"True values:\")\n",
    "print(true_coeff[:count_vsh_coeffs(2)])"
   ]
  },
  {
   "cell_type": "code",
   "execution_count": null,
   "id": "3611c0f8",
   "metadata": {},
   "outputs": [],
   "source": [
    "theta_list = [theta_fit_toy, theta_fit_1, theta_fit_2, theta_fit_3]\n",
    "\n",
    "s_val = []\n",
    "for theta in theta_list:\n",
    "    s_10 = theta[1]\n",
    "    s_11r = theta[4]\n",
    "    s_11i = theta[5]\n",
    "    arr = np.array([s_10, s_11r, s_11i])\n",
    "    s_val.append(arr)\n",
    "\n",
    "lsq_result = np.array(s_val)"
   ]
  },
  {
   "cell_type": "markdown",
   "id": "7e524f6c",
   "metadata": {},
   "source": [
    "# Test HMC Sampling on Synthetic Data"
   ]
  },
  {
   "cell_type": "code",
   "execution_count": 1,
   "id": "992ffe25",
   "metadata": {},
   "outputs": [
    {
     "name": "stderr",
     "output_type": "stream",
     "text": [
      "/root/Document/Gaia_Project/mem97/gaia_venv/lib/python3.12/site-packages/tqdm/auto.py:21: TqdmWarning: IProgress not found. Please update jupyter and ipywidgets. See https://ipywidgets.readthedocs.io/en/stable/user_install.html\n",
      "  from .autonotebook import tqdm as notebook_tqdm\n"
     ]
    }
   ],
   "source": [
    "import jax\n",
    "from numpyro.infer import NUTS, MCMC\n",
    "from numpyro.diagnostics import summary\n",
    "import numpyro\n",
    "import gc\n",
    "from src.models.vsh_model import*\n",
    "from src.models.configuration import*"
   ]
  },
  {
   "cell_type": "code",
   "execution_count": 2,
   "id": "8fbfa4a6",
   "metadata": {},
   "outputs": [],
   "source": [
    "import pandas as pd\n",
    "import numpy as np\n",
    "\n",
    "df_synthetic = pd.read_csv('synthetic_data/synthetic_vsh_data.csv') # loead synthetic \n",
    "true_coeff = np.load('synthetic_data/theta_true.npy') # loead true VSH coefficients\n",
    "angles_gen, obs_gen, error_gen = config_data(df_synthetic) # configurate the data for input\n",
    "lsq_result = np.load('lsq_result_deleteme.npy')"
   ]
  },
  {
   "cell_type": "markdown",
   "id": "bfdd9c74",
   "metadata": {},
   "source": [
    "Define two HMC models, with priors\n",
    "- ~ Uniform $(-0.2, 0.2)$\n",
    "- ~ Normal $(0.0, 0.2)$"
   ]
  },
  {
   "cell_type": "code",
   "execution_count": 3,
   "id": "ec4b70ec",
   "metadata": {},
   "outputs": [],
   "source": [
    "def chi2_jit(angles, obs, error, theta, lmax):\n",
    "    return least_square(angles, obs, error, theta, lmax=lmax, grid=False)\n",
    "chi2_jit = jit(chi2_jit, static_argnames=['lmax'])\n",
    "\n",
    "# Define Model with Uniform prior\n",
    "def model_w_uni_prior(angles, obs, error, limit = 0.2, lmax = 3):\n",
    "    total_params = count_vsh_coeffs(lmax)\n",
    "    # Prior on all VSH coefficients (both toroidal and spheroidal)\n",
    "    theta = numpyro.sample(\"theta\", dist.Uniform(-limit, limit).expand([total_params]))\n",
    "    # Least-squares residuals: we assume Gaussian-distributed residuals\n",
    "    chi2_val = chi2_jit(angles, obs, error, theta, lmax=lmax)\n",
    "\n",
    "    # The log-likelihood is proportional to -0.5*chi^2\n",
    "    numpyro.factor(\"likelihood\", -0.5*chi2_val)\n",
    "\n",
    "# Definie Model with Gaussian Prior\n",
    "def model_w_norm_prior(angles, obs, error, std = 0.2, lmax = 3):\n",
    "\n",
    "    total_params = count_vsh_coeffs(lmax)\n",
    "    # Prior on all VSH coefficients (both toroidal and spheroidal)\n",
    "    theta = numpyro.sample(\"theta\", dist.Normal(0., std).expand([total_params]))\n",
    "    # Least-squares residuals: we assume Gaussian-distributed residuals\n",
    "    chi2_val = chi2_jit(angles, obs, error, theta, lmax=lmax)\n",
    "\n",
    "    # The log-likelihood is proportional to -0.5*chi^2\n",
    "    numpyro.factor(\"likelihood\", -0.5*chi2_val)\n",
    "\n",
    "\n",
    "n_s = 100 # number of samples\n",
    "n_warmup = 2000 #  number of warmups \n",
    "n_chains = 2 # numbe of chains"
   ]
  },
  {
   "cell_type": "markdown",
   "id": "68f6820d",
   "metadata": {},
   "source": [
    "HMC sampling with uniform prior.\n",
    "\n",
    "- $l_{max} = 2$ :"
   ]
  },
  {
   "cell_type": "code",
   "execution_count": 4,
   "id": "7012c857",
   "metadata": {},
   "outputs": [
    {
     "name": "stderr",
     "output_type": "stream",
     "text": [
      "sample: 100%|██████████| 2100/2100 [01:22<00:00, 25.58it/s, 31 steps of size 1.11e-01. acc. prob=0.90] \n",
      "sample: 100%|██████████| 2100/2100 [01:23<00:00, 25.03it/s, 63 steps of size 1.05e-01. acc. prob=0.91] \n"
     ]
    },
    {
     "name": "stdout",
     "output_type": "stream",
     "text": [
      "Number of divergences: 0\n"
     ]
    }
   ],
   "source": [
    "rng_key = jax.random.key(0)\n",
    "\n",
    "kernel_uni = NUTS(model_w_uni_prior, target_accept_prob=0.75) # this is to make sure acceptance does not exceed 90%\n",
    "mcmc_uni = MCMC(kernel_uni, num_warmup=n_warmup, num_samples=n_s, num_chains=n_chains, chain_method='sequential', progress_bar=True)\n",
    "mcmc_uni.run(rng_key, angles = angles_gen, obs = obs_gen, error = error_gen, lmax=2)\n",
    "ps_w_uni_prior = mcmc_uni.get_samples()\n",
    "\n",
    "diagnostics = summary(mcmc_uni.get_samples(group_by_chain=True))\n",
    "divergences = mcmc_uni.get_extra_fields()[\"diverging\"]  # shape: (num_samples * num_chains,)\n",
    "num_divergences = divergences.sum()\n",
    "print(\"Number of divergences:\", num_divergences)\n",
    "\n",
    "del mcmc_uni\n",
    "gc.collect()\n",
    "jax.clear_caches()"
   ]
  },
  {
   "cell_type": "markdown",
   "id": "ac5c4d63",
   "metadata": {},
   "source": [
    "HMC sampling with Gaussian prior.\n",
    "\n",
    "- $l_{max} = 2$ :"
   ]
  },
  {
   "cell_type": "code",
   "execution_count": 6,
   "id": "7d6d2ddd",
   "metadata": {},
   "outputs": [
    {
     "name": "stderr",
     "output_type": "stream",
     "text": [
      "/tmp/ipykernel_15787/4185418975.py:4: UserWarning: There are not enough devices to run parallel chains: expected 2 but got 1. Chains will be drawn sequentially. If you are running MCMC in CPU, consider using `numpyro.set_host_device_count(2)` at the beginning of your program. You can double-check how many devices are available in your system using `jax.local_device_count()`.\n",
      "  mcmc_norm = MCMC(kernel_norm, num_warmup=n_warmup, num_samples=n_s, num_chains=n_chains, progress_bar=True)\n",
      "sample: 100%|██████████| 2100/2100 [01:19<00:00, 26.49it/s, 15 steps of size 6.24e-02. acc. prob=0.87] \n",
      "sample: 100%|██████████| 2100/2100 [01:09<00:00, 30.04it/s, 63 steps of size 5.75e-02. acc. prob=0.90] \n"
     ]
    },
    {
     "name": "stdout",
     "output_type": "stream",
     "text": [
      "Number of divergences: 0\n"
     ]
    }
   ],
   "source": [
    "rng_key = jax.random.key(0)\n",
    "\n",
    "kernel_norm = NUTS(model_w_norm_prior, target_accept_prob=0.75)\n",
    "mcmc_norm = MCMC(kernel_norm, num_warmup=n_warmup, num_samples=n_s, num_chains=n_chains, progress_bar=True)\n",
    "mcmc_norm.run(rng_key, angles = angles_gen, obs = obs_gen, error = error_gen, lmax=2)\n",
    "\n",
    "ps_w_norm_prior2 = mcmc_norm.get_samples()\n",
    "\n",
    "diagnostics = summary(mcmc_norm.get_samples(group_by_chain=True))\n",
    "divergences = mcmc_norm.get_extra_fields()[\"diverging\"]  # shape: (num_samples * num_chains,)\n",
    "num_divergences = divergences.sum()\n",
    "print(\"Number of divergences:\", num_divergences)\n",
    "\n",
    "del mcmc_norm\n",
    "gc.collect()\n",
    "jax.clear_caches()"
   ]
  },
  {
   "cell_type": "code",
   "execution_count": 7,
   "id": "3bbc7c0b",
   "metadata": {},
   "outputs": [],
   "source": [
    "sample_uni_l2 = jnp.mean(ps_w_uni_prior['theta'], axis=0)\n",
    "error_uni_l2 = jnp.std(ps_w_uni_prior['theta'], axis=0)\n",
    "\n",
    "\n",
    "sample_norm_l2 = jnp.mean(ps_w_norm_prior2['theta'], axis=0)\n",
    "error_norm_l2 = jnp.std(ps_w_norm_prior2['theta'], axis=0)\n"
   ]
  },
  {
   "cell_type": "markdown",
   "id": "f652c228",
   "metadata": {},
   "source": [
    "# Collecting Results\n",
    "\n",
    "We are going to collect the above results in a DataFrame fromat and display them. For the general objective of this project, we only need to consider the spheroidal VSH coefficeint of the dipole ($l=1$), i.e. $s_{10}$, $s_{11}^{\\real}$ and $s_{11}^{\\Im}$, hence these are the ones we are going to display."
   ]
  },
  {
   "cell_type": "code",
   "execution_count": 13,
   "id": "e54c8cfe",
   "metadata": {},
   "outputs": [
    {
     "data": {
      "text/html": [
       "<div>\n",
       "<style scoped>\n",
       "    .dataframe tbody tr th:only-of-type {\n",
       "        vertical-align: middle;\n",
       "    }\n",
       "\n",
       "    .dataframe tbody tr th {\n",
       "        vertical-align: top;\n",
       "    }\n",
       "\n",
       "    .dataframe thead th {\n",
       "        text-align: right;\n",
       "    }\n",
       "</style>\n",
       "<table border=\"1\" class=\"dataframe\">\n",
       "  <thead>\n",
       "    <tr style=\"text-align: right;\">\n",
       "      <th></th>\n",
       "      <th>True VSH Values</th>\n",
       "      <th>Least Square Toy Model</th>\n",
       "      <th>Least Square l = 1</th>\n",
       "      <th>Least Square l = 2</th>\n",
       "      <th>Least Square l = 3</th>\n",
       "      <th>HMC w uniform (l = 2)</th>\n",
       "      <th>HMC w normal (l = 2)</th>\n",
       "    </tr>\n",
       "  </thead>\n",
       "  <tbody>\n",
       "    <tr>\n",
       "      <th>s_10</th>\n",
       "      <td>0.057430</td>\n",
       "      <td>0.014507</td>\n",
       "      <td>0.131114</td>\n",
       "      <td>0.055558</td>\n",
       "      <td>0.033553</td>\n",
       "      <td>0.055663+/-0.000858</td>\n",
       "      <td>0.055714+/-0.000981</td>\n",
       "    </tr>\n",
       "    <tr>\n",
       "      <th>s_11r</th>\n",
       "      <td>0.008387</td>\n",
       "      <td>0.020003</td>\n",
       "      <td>0.020001</td>\n",
       "      <td>0.010001</td>\n",
       "      <td>0.010335</td>\n",
       "      <td>0.010170+/-0.001390</td>\n",
       "      <td>0.010037+/-0.001133</td>\n",
       "    </tr>\n",
       "    <tr>\n",
       "      <th>s_11i</th>\n",
       "      <td>-0.040140</td>\n",
       "      <td>-0.064133</td>\n",
       "      <td>-0.064130</td>\n",
       "      <td>-0.039599</td>\n",
       "      <td>-0.011941</td>\n",
       "      <td>-0.039626+/-0.000353</td>\n",
       "      <td>-0.039627+/-0.000321</td>\n",
       "    </tr>\n",
       "  </tbody>\n",
       "</table>\n",
       "</div>"
      ],
      "text/plain": [
       "       True VSH Values  Least Square Toy Model  Least Square l = 1  \\\n",
       "s_10          0.057430                0.014507            0.131114   \n",
       "s_11r         0.008387                0.020003            0.020001   \n",
       "s_11i        -0.040140               -0.064133           -0.064130   \n",
       "\n",
       "       Least Square l = 2  Least Square l = 3 HMC w uniform (l = 2)  \\\n",
       "s_10             0.055558            0.033553   0.055663+/-0.000858   \n",
       "s_11r            0.010001            0.010335   0.010170+/-0.001390   \n",
       "s_11i           -0.039599           -0.011941  -0.039626+/-0.000353   \n",
       "\n",
       "       HMC w normal (l = 2)  \n",
       "s_10    0.055714+/-0.000981  \n",
       "s_11r   0.010037+/-0.001133  \n",
       "s_11i  -0.039627+/-0.000321  "
      ]
     },
     "execution_count": 13,
     "metadata": {},
     "output_type": "execute_result"
    }
   ],
   "source": [
    "collect = {\n",
    "    'True VSH Values': [true_coeff[1], true_coeff[4], true_coeff[5]],\n",
    "    'Least Square Toy Model': [lsq_result[0][0], lsq_result[0][1], lsq_result[0][2]],\n",
    "    'Least Square l = 1' : [lsq_result[1][0], lsq_result[1][1], lsq_result[1][2]],\n",
    "    'Least Square l = 2' : [lsq_result[2][0], lsq_result[2][1], lsq_result[2][2]],\n",
    "    'Least Square l = 3' : [lsq_result[3][0], lsq_result[3][1], lsq_result[3][2]],\n",
    "    'HMC w uniform (l = 2)': [f'{sample_uni_l2[1]:.6f}+/-{error_uni_l2[1]:.6f}', f'{sample_uni_l2[4]:.6f}+/-{error_uni_l2[4]:.6f}', f'{sample_uni_l2[5]:.6f}+/-{error_uni_l2[5]:.6f}'],\n",
    "    'HMC w normal (l = 2)': [f'{sample_norm_l2[1]:.6f}+/-{error_norm_l2[1]:.6f}', f'{sample_norm_l2[4]:.6f}+/-{error_norm_l2[4]:.6f}', f'{sample_norm_l2[5]:.6f}+/-{error_norm_l2[5]:.6f}']\n",
    "    }\n",
    "results = pd.DataFrame(data=collect, index = ['s_10', 's_11r', 's_11i'])\n",
    "results"
   ]
  },
  {
   "cell_type": "markdown",
   "id": "656c9d6d",
   "metadata": {},
   "source": [
    "The above results show that both HMC sampling provide similar results even with different priors, this is very important! Furthermore, we can recall that the synthetic data was degenerated with a quadrupole setting, i.e. l=2, of course the least square fir and the HMC sampling will work best with quadrupole setting. Nevertheless, considering the least square fit performance is acceptable even with other VSH settings. I did not bother providing and example in higher dimension for the HMC sampling as it is time consuming and our objective is not to focus on some synthetic data; this was only a matter of showing model consistency."
   ]
  }
 ],
 "metadata": {
  "kernelspec": {
   "display_name": "gaia_venv",
   "language": "python",
   "name": "python3"
  },
  "language_info": {
   "codemirror_mode": {
    "name": "ipython",
    "version": 3
   },
   "file_extension": ".py",
   "mimetype": "text/x-python",
   "name": "python",
   "nbconvert_exporter": "python",
   "pygments_lexer": "ipython3",
   "version": "3.12.3"
  }
 },
 "nbformat": 4,
 "nbformat_minor": 5
}
