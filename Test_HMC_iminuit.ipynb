{
 "cells": [
  {
   "cell_type": "markdown",
   "id": "057621b1",
   "metadata": {},
   "source": [
    "# Generated Data Experiment."
   ]
  },
  {
   "cell_type": "markdown",
   "id": "7ef812b5",
   "metadata": {},
   "source": [
    "Generating fake data for $l_{max}=2$ to then fit the data for $l=1,2,3$, what we aim to show is that, for the $l=2$ least square fit we will recover the right parameters and the function will be at its mimimum, while when performing the least square fit for VSH function with $l=1$ and $l=3$ we will recover the dominant parmaters, however the function will not be at the minimum."
   ]
  },
  {
   "cell_type": "code",
   "execution_count": 1,
   "id": "cd5035e3",
   "metadata": {},
   "outputs": [
    {
     "name": "stderr",
     "output_type": "stream",
     "text": [
      "/root/Document/Gaia_Project/mem97/gaia_venv/lib/python3.12/site-packages/tqdm/auto.py:21: TqdmWarning: IProgress not found. Please update jupyter and ipywidgets. See https://ipywidgets.readthedocs.io/en/stable/user_install.html\n",
      "  from .autonotebook import tqdm as notebook_tqdm\n"
     ]
    }
   ],
   "source": [
    "import jax \n",
    "import jax.numpy as jnp\n",
    "import numpy as np\n",
    "from src.models.vsh_model import*\n",
    "import pandas as pd\n",
    "from iminuit import Minuit # to perform least square\n",
    "from src.models.configuration import*\n",
    "from numpyro.infer import MCMC, NUTS\n",
    "import numpyro\n",
    "import numpyro.distributions as dist\n",
    "from tqdm import tqdm\n",
    "import gc"
   ]
  },
  {
   "cell_type": "markdown",
   "id": "421e296f",
   "metadata": {},
   "source": [
    "Load fake data"
   ]
  },
  {
   "cell_type": "code",
   "execution_count": 2,
   "id": "d8a6a769",
   "metadata": {},
   "outputs": [],
   "source": [
    "vsh_coeff_gen = np.load('fake_data/vsh_gen_cov.npy') # Load true coefficient values\n",
    "\n",
    "fake_data = pd.read_csv('fake_data/fake_vsh_data.csv')\n",
    "angles_gen, obs_gen, error_gen = config_data(fake_data)"
   ]
  },
  {
   "cell_type": "markdown",
   "id": "e060d59e",
   "metadata": {},
   "source": [
    "### HMC"
   ]
  },
  {
   "cell_type": "code",
   "execution_count": null,
   "id": "b236c100",
   "metadata": {},
   "outputs": [],
   "source": [
    "def chi2_jit(angles, obs, error, theta, lmax):\n",
    "    return least_square(angles, obs, error, theta, lmax=lmax, grid=False)\n",
    "chi2_jit = jit(chi2_jit, static_argnames=['lmax'])\n",
    "\n",
    "\n",
    "def model_for_HMC(angles, obs, error, lmax):\n",
    "    total_params = count_vsh_coeffs(lmax)\n",
    "    theta = numpyro.sample(\"theta\", dist.Uniform(-0.08, 0.08).expand([total_params]))\n",
    "    chi2_val = chi2_jit(angles, obs, error, theta, lmax) \n",
    "    numpyro.factor(\"likelihood\", -0.5*chi2_val)"
   ]
  },
  {
   "cell_type": "code",
   "execution_count": null,
   "id": "0b424e31",
   "metadata": {},
   "outputs": [],
   "source": [
    "posterior_samples = []\n",
    "rng_key = jax.random.key(0)\n",
    "\n",
    "kernel = NUTS(model_for_HMC, target_accept_prob=0.75)\n",
    "mcmc = MCMC(kernel, num_warmup=100, num_samples=2000, num_chains=2, progress_bar=True)\n",
    "\n",
    "for i in range(1,4):\n",
    "    \n",
    "    mcmc.run(rng_key, angles=angles_gen, obs=obs_gen, error=error_gen, lmax=i)\n",
    "    posterior_sample = mcmc.get_samples()\n",
    "    \n",
    "    posterior_samples.append(posterior_sample)"
   ]
  },
  {
   "cell_type": "markdown",
   "id": "854e02cf",
   "metadata": {},
   "source": [
    "Save results"
   ]
  },
  {
   "cell_type": "code",
   "execution_count": null,
   "id": "ce62aeea",
   "metadata": {},
   "outputs": [],
   "source": [
    "coef_pred = [jnp.mean(ps['theta'], axis=0) for ps in posterior_samples]\n",
    "std_pred = [jnp.std(ps['theta'], axis=0) for ps in posterior_samples]\n",
    "\n",
    "coef_pred_np = np.array([np.array(x) for x in coef_pred], dtype=object)\n",
    "std_pred_np = np.array([np.array(x) for x in std_pred], dtype=object)\n",
    "\n",
    "#np.savez('fake_data/posterior_summary.npz', coef=coef_pred_np, std=std_pred_np)\n"
   ]
  },
  {
   "cell_type": "markdown",
   "id": "a6fd7165",
   "metadata": {},
   "source": [
    "The above code takes a little while to run. One can instead load the saved results."
   ]
  },
  {
   "cell_type": "code",
   "execution_count": 3,
   "id": "f32a9d9c",
   "metadata": {},
   "outputs": [],
   "source": [
    "data = np.load('fake_data/posterior_summary.npz', allow_pickle=True)\n",
    "\n",
    "coef_pred = [jnp.array(x) for x in data['coef']]\n",
    "std_pred = [jnp.array(x) for x in data['std']]"
   ]
  },
  {
   "cell_type": "markdown",
   "id": "7cbd345f",
   "metadata": {},
   "source": [
    "### `iminuit.Minuit` Least-Square"
   ]
  },
  {
   "cell_type": "code",
   "execution_count": 4,
   "id": "4e7130ac",
   "metadata": {},
   "outputs": [],
   "source": [
    "def eval_loss(theta, lmax):\n",
    "    return least_square(angles_gen, obs_gen, error_gen, theta, lmax=lmax, grid=False)\n",
    "eval_loss = jit(eval_loss, static_argnames=['lmax'])\n",
    "\n",
    "def run_iminuit(lmax, t_bound, s_bound):\n",
    "\n",
    "    def least_square_wrapper(*theta_flat):\n",
    "        theta = jnp.array(theta_flat)\n",
    "        return float(eval_loss(theta, lmax)) \n",
    "\n",
    "    total_params = count_vsh_coeffs(lmax) \n",
    "    limits = vsh_minuit_limits(lmax, t_bound=t_bound, s_bound=s_bound)\n",
    "    \n",
    "    theta_init = jnp.zeros(total_params)    \n",
    "\n",
    "    m = Minuit(least_square_wrapper, *theta_init)\n",
    "\n",
    "    m.errordef = Minuit.LEAST_SQUARES\n",
    "    for i, name in enumerate(m.parameters):\n",
    "        m.limits[name] = limits[name]\n",
    "\n",
    "    m.migrad()\n",
    "\n",
    "    return m"
   ]
  },
  {
   "cell_type": "code",
   "execution_count": 5,
   "id": "f6a5210a",
   "metadata": {},
   "outputs": [
    {
     "name": "stderr",
     "output_type": "stream",
     "text": [
      "Running Minuit fits: 100%|██████████| 3/3 [00:36<00:00, 12.07s/it]\n"
     ]
    }
   ],
   "source": [
    "fitted_thetas = []\n",
    "std_theta_fit = []\n",
    "\n",
    "for i in tqdm(range(1, 4), desc=\"Running Minuit fits\"):\n",
    "\n",
    "    m = run_iminuit(i, 0.08, 0.08)\n",
    "\n",
    "    theta_fit = jnp.array([m.values[name] for name in m.parameters])\n",
    "    fitted_thetas.append(theta_fit)\n",
    "    std_theta_fit.append(jnp.sqrt(jnp.diag(m.covariance)))\n",
    "\n",
    "    del m\n",
    "    gc.collect()\n",
    "    jax.clear_caches()\n"
   ]
  },
  {
   "cell_type": "markdown",
   "id": "948f8aa0",
   "metadata": {},
   "source": [
    "### Plot Results\n",
    "\n",
    "We want to visualise the performance of a least-square fit compared to HMC sampling."
   ]
  },
  {
   "cell_type": "code",
   "execution_count": null,
   "id": "672a8b2f",
   "metadata": {},
   "outputs": [
    {
     "data": {
      "image/png": "[encoded data removed]",
      "text/plain": [
       "<Figure size 640x480 with 1 Axes>"
      ]
     },
     "metadata": {},
     "output_type": "display_data"
    },
    {
     "data": {
      "image/png": "[encoded data removed]",
      "text/plain": [
       "<Figure size 640x480 with 1 Axes>"
      ]
     },
     "metadata": {},
     "output_type": "display_data"
    }
   ],
   "source": [
    "import matplotlib.pyplot as plt\n",
    "\n",
    "# HMC\n",
    "lmax_values = [1,2,3]\n",
    "\n",
    "s10_hmc, er10_hmc = [coef_pred[z][1] for z in range(0,3)], [std_pred[z][1] for z in range(0,3)]\n",
    "s11r_hmc, er11r_hmc = [coef_pred[x][4] for x in range(0,3)], [std_pred[x][4] for x in range(0,3)]\n",
    "s11i_hmc, er11i_hmc = [coef_pred[y][5] for y in range(0,3)], [std_pred[y][5] for y in range(0,3)]\n",
    "\n",
    "\n",
    "plt.errorbar(lmax_values, s11r_hmc, yerr=er11r_hmc, fmt='o', capsize=3, markersize=5, elinewidth=1, label=r'$s_{11}^{R}$-pred')\n",
    "plt.errorbar(lmax_values, s11i_hmc, yerr=er11i_hmc, fmt='o', capsize=3, markersize=5, elinewidth=1, label=r'$s_{11}^i$-pred')\n",
    "plt.errorbar(lmax_values, s10_hmc, yerr=er10_hmc, fmt='o', capsize=3, markersize=5, elinewidth=1, label=r'$s_{10}$-pred')\n",
    "\n",
    "plt.axhline(vsh_coeff_gen[4], linestyle='--', color='tab:blue', label=r'$s_{11}^{R}$-true')\n",
    "plt.axhline(vsh_coeff_gen[5], linestyle='--', color='tab:orange', label=r'$s_{11}^{i}$-true')\n",
    "plt.axhline(vsh_coeff_gen[1], linestyle='--', color='tab:green', label=r'$s_{10}$-true')\n",
    "\n",
    "plt.title(\"HMC Sampling Results\")\n",
    "plt.xlabel(r'$l_{max}$')\n",
    "plt.ylabel(r'$s_{lm}$')\n",
    "plt.legend(loc='center left', bbox_to_anchor=(1, 0.5))\n",
    "plt.xticks(lmax_values)\n",
    "#plt.savefig(\"plots/plots_test/hmc_on_fake_data.png\", dpi=300, bbox_inches='tight')\n",
    "plt.show()\n",
    "\n",
    "# Least-Square\n",
    "\n",
    "s10_ls, er10_ls = [fitted_thetas[z][1] for z in range(0,3)], [std_theta_fit[z][1] for z in range(0,3)]\n",
    "s11r_ls, er11r_ls = [fitted_thetas[x][4] for x in range(0,3)], [std_theta_fit[x][4] for x in range(0,3)]\n",
    "s11i_ls, er11i_ls = [fitted_thetas[y][5] for y in range(0,3)], [std_theta_fit[y][5] for y in range(0,3)]\n",
    "\n",
    "\n",
    "plt.errorbar(lmax_values, s11r_ls, yerr=er11r_ls, fmt='o', capsize=3, markersize=5, elinewidth=1, label=r'$s_{11}^{R}$-pred')\n",
    "plt.errorbar(lmax_values, s11i_ls, yerr=er11i_ls, fmt='o', capsize=3, markersize=5, elinewidth=1, label=r'$s_{11}^i$-pred')\n",
    "plt.errorbar(lmax_values, s10_ls, yerr=er10_ls, fmt='o', capsize=3, markersize=5, elinewidth=1, label=r'$s_{10}$-pred')\n",
    "\n",
    "plt.axhline(vsh_coeff_gen[4], linestyle='--', color='tab:blue', label=r'$s_{11}^{R}$-true')\n",
    "plt.axhline(vsh_coeff_gen[5], linestyle='--', color='tab:orange', label=r'$s_{11}^{i}$-true')\n",
    "plt.axhline(vsh_coeff_gen[1], linestyle='--', color='tab:green', label=r'$s_{10}$-true')\n",
    "\n",
    "plt.title(\"Least-Square Fit Results\")\n",
    "plt.xlabel(r'$l_{max}$')\n",
    "plt.ylabel(r'$s_{lm}$')\n",
    "plt.legend(loc='center left', bbox_to_anchor=(1, 0.5))\n",
    "plt.xticks(lmax_values)\n",
    "#plt.savefig(\"plots/plots_test/iminuit_on_fake_data.png\", dpi=300, bbox_inches='tight')\n",
    "plt.show()"
   ]
  },
  {
   "cell_type": "markdown",
   "id": "2a96d8d3",
   "metadata": {},
   "source": [
    "## Code up a different vesion of the least_square function by coding the full expansion instead"
   ]
  },
  {
   "cell_type": "code",
   "execution_count": 2,
   "id": "5cbd41b4",
   "metadata": {},
   "outputs": [
    {
     "name": "stderr",
     "output_type": "stream",
     "text": [
      "/root/Document/Gaia_Project/mem97/src/models/vsh_model.py:93: SyntaxWarning: invalid escape sequence '\\d'\n",
      "  \"\"\"\n",
      "/root/Document/Gaia_Project/mem97/src/models/vsh_model.py:144: SyntaxWarning: invalid escape sequence '\\d'\n",
      "  \"\"\"\n",
      "/root/Document/Gaia_Project/mem97/src/models/vsh_model.py:203: SyntaxWarning: invalid escape sequence '\\d'\n",
      "  \"\"\"\n",
      "/root/Document/Gaia_Project/mem97/gaia_venv/lib/python3.12/site-packages/tqdm/auto.py:21: TqdmWarning: IProgress not found. Please update jupyter and ipywidgets. See https://ipywidgets.readthedocs.io/en/stable/user_install.html\n",
      "  from .autonotebook import tqdm as notebook_tqdm\n"
     ]
    }
   ],
   "source": [
    "import jax \n",
    "import jax.numpy as jnp\n",
    "import numpy as np\n",
    "from src.models.vsh_model import*\n",
    "import pandas as pd\n",
    "from iminuit import Minuit # to perform least square\n",
    "from src.models.configuration import*\n",
    "from numpyro.infer import MCMC, NUTS\n",
    "import numpyro\n",
    "from src.data.data_utils import*\n",
    "import numpyro.distributions as dist\n",
    "from tqdm import tqdm\n",
    "import gc\n",
    "from numpyro.diagnostics import summary"
   ]
  },
  {
   "cell_type": "code",
   "execution_count": 3,
   "id": "2d0f462a",
   "metadata": {},
   "outputs": [],
   "source": [
    "df = load_qso_dataframe() # load full dataset for 5 param solution\n",
    "angles, obs, error = config_data(df)"
   ]
  },
  {
   "cell_type": "code",
   "execution_count": 3,
   "id": "c9d342a9",
   "metadata": {},
   "outputs": [],
   "source": [
    "@partial(jit, static_argnames=['lmax', 'grid'])\n",
    "def least_square0(angles, obs, error, theta, lmax, grid):\n",
    "\n",
    "\n",
    "    alpha, delta = angles\n",
    "    mu_a_obs, mu_d_obs = obs\n",
    "    s_mu_a, s_mu_d, rho = error\n",
    "\n",
    "    def per_point(alpha_i, delta_i, mu_a_i, mu_d_i, s_a, s_d, r):\n",
    "        e_a, e_d = basis_vectors(alpha_i, delta_i)\n",
    "\n",
    "        V = model_vsh(alpha_i, delta_i, theta, lmax=lmax, grid=grid)\n",
    "        V_alpha = jnp.vdot(V, e_a).real\n",
    "        V_delta = jnp.vdot(V, e_d).real\n",
    "\n",
    "        d_alpha = mu_a_i - V_alpha\n",
    "        d_delta = mu_d_i - V_delta\n",
    "\n",
    "        norm_alpha = d_alpha / s_a\n",
    "        norm_delta = d_delta / s_d\n",
    "\n",
    "        X2 = (norm_alpha**2 - 2*r*norm_alpha*norm_delta + norm_delta**2) / (1 - r**2)\n",
    "        return X2\n",
    "\n",
    "    batched_fn = vmap(per_point)\n",
    "    losses = batched_fn(alpha, delta, mu_a_obs, mu_d_obs, s_mu_a, s_mu_d, rho)\n",
    "    return jnp.sum(losses)"
   ]
  },
  {
   "cell_type": "code",
   "execution_count": 4,
   "id": "4f606dde",
   "metadata": {},
   "outputs": [
    {
     "data": {
      "text/plain": [
       "array([[ 1.55250692,  1.48242414,  0.257395  , ...,  0.34734339,\n",
       "         2.02866316,  0.40030757],\n",
       "       [ 1.22625899,  1.40200174,  0.22310686, ...,  0.24736069,\n",
       "         0.94757712,  0.29778305],\n",
       "       [ 0.20776933,  0.28530309,  0.16432883, ...,  0.2512258 ,\n",
       "        -0.11815098,  0.22144131]], shape=(3, 1215942))"
      ]
     },
     "execution_count": 4,
     "metadata": {},
     "output_type": "execute_result"
    }
   ],
   "source": [
    "error"
   ]
  },
  {
   "cell_type": "code",
   "execution_count": null,
   "id": "23b65526",
   "metadata": {},
   "outputs": [],
   "source": [
    "def chi2_jit(angles, obs, error, theta, lmax):\n",
    "    return least_square(angles, obs, error, theta, lmax=lmax, grid=False)\n",
    "chi2_jit = jit(chi2_jit, static_argnames=['lmax'])\n",
    "\n",
    "\n",
    "def model_w_uni_prior(angles, obs, error, \n",
    "                      limit = 0.1, lmax = 3):\n",
    "    total_params = count_vsh_coeffs(lmax)\n",
    "    # Prior on all VSH coefficients (both toroidal and spheroidal)\n",
    "    theta = numpyro.sample(\"theta\", dist.Uniform(-limit, limit).expand([total_params]))\n",
    "    # Least-squares residuals: we assume Gaussian-distributed residuals\n",
    "    chi2_val = chi2_jit(angles, obs, error, theta, lmax=lmax)\n",
    "\n",
    "    # The log-likelihood is proportional to -0.5*chi^2\n",
    "    numpyro.factor(\"likelihood\", -0.5*chi2_val)"
   ]
  },
  {
   "cell_type": "code",
   "execution_count": 5,
   "id": "db1f7143",
   "metadata": {},
   "outputs": [],
   "source": [
    "n_s = 1000 # number of samples\n",
    "n_warmup = 2000 #  number of warmups \n",
    "n_chains = 2 # numbe of chains"
   ]
  },
  {
   "cell_type": "code",
   "execution_count": 7,
   "id": "6a2e3943",
   "metadata": {},
   "outputs": [
    {
     "name": "stderr",
     "output_type": "stream",
     "text": [
      "/tmp/ipykernel_2614/979775106.py:5: UserWarning: There are not enough devices to run parallel chains: expected 2 but got 1. Chains will be drawn sequentially. If you are running MCMC in CPU, consider using `numpyro.set_host_device_count(2)` at the beginning of your program. You can double-check how many devices are available in your system using `jax.local_device_count()`.\n",
      "  mcmc_uni = MCMC(kernel_uni, num_warmup=n_warmup, num_samples=n_s, num_chains=n_chains, progress_bar=True)\n",
      "sample: 100%|██████████| 3000/3000 [02:45<00:00, 18.16it/s, 7 steps of size 3.17e-01. acc. prob=0.89] \n",
      "sample: 100%|██████████| 3000/3000 [01:59<00:00, 25.07it/s, 7 steps of size 3.90e-01. acc. prob=0.84] \n"
     ]
    },
    {
     "name": "stdout",
     "output_type": "stream",
     "text": [
      "Number of divergences: 0\n"
     ]
    }
   ],
   "source": [
    "x = np.random.randint(1, 101)\n",
    "rng_key = jax.random.key(x)\n",
    "\n",
    "kernel_uni = NUTS(model_w_uni_prior, target_accept_prob=0.75) # this is to make sure acceptance does not exceed 90%\n",
    "mcmc_uni = MCMC(kernel_uni, num_warmup=n_warmup, num_samples=n_s, num_chains=n_chains, progress_bar=True)\n",
    "mcmc_uni.run(rng_key, angles = angles, obs = obs, error = error, limit = 1, lmax=3)\n",
    "ps_w_uni_prior = mcmc_uni.get_samples()\n",
    "diagnostics = summary(mcmc_uni.get_samples(group_by_chain=True))\n",
    "divergences = mcmc_uni.get_extra_fields()[\"diverging\"]  # shape: (num_samples * num_chains,)\n",
    "num_divergences = divergences.sum()\n",
    "print(\"Number of divergences:\", num_divergences)\n",
    "del mcmc_uni"
   ]
  },
  {
   "cell_type": "code",
   "execution_count": 8,
   "id": "e429eba2",
   "metadata": {},
   "outputs": [
    {
     "name": "stdout",
     "output_type": "stream",
     "text": [
      "Equatorial components:\n",
      "G_vec = [-0.5495685 -8.178594  -2.839235 ] +/- [0.7191543  0.6664866  0.31583044](μas/yr)\n",
      "Magnitude = 8.674830436706543 +/- 1.3236701488494873 (μas/yr)\n",
      "RA = 266.1557312011719 +/- 10.284764289855957 (deg)\n",
      "Dec = -19.104719161987305 +/- 0.2183869481086731 (deg)\n",
      "\n",
      "Galactic components:\n",
      "G_vec = [8.54736623 1.24567559 0.80218294] +/- [0.60314875 0.51944348 0.65385493](μas/yr)\n",
      "l = 8.291793332542582 +/- 3.458055223784402 (deg)\n",
      "d = 5.305862308958555 +/- 0.3664185836100438 (deg)\n"
     ]
    }
   ],
   "source": [
    "coeff_est_uni = jnp.mean(ps_w_uni_prior['theta'], axis = 0)\n",
    "std_coeff_uni = jnp.std(ps_w_uni_prior['theta'], axis = 0)\n",
    "spheroidal_vector_summary(coeff_est_uni, std_coeff_uni**2)"
   ]
  },
  {
   "cell_type": "code",
   "execution_count": 1,
   "id": "c53f16c7",
   "metadata": {},
   "outputs": [
    {
     "name": "stderr",
     "output_type": "stream",
     "text": [
      "/root/Document/Gaia_Project/mem97/src/models/vsh_model.py:93: SyntaxWarning: invalid escape sequence '\\d'\n",
      "  \"\"\"\n",
      "/root/Document/Gaia_Project/mem97/src/models/vsh_model.py:144: SyntaxWarning: invalid escape sequence '\\d'\n",
      "  \"\"\"\n",
      "/root/Document/Gaia_Project/mem97/src/models/vsh_model.py:203: SyntaxWarning: invalid escape sequence '\\d'\n",
      "  \"\"\"\n",
      "/root/Document/Gaia_Project/mem97/gaia_venv/lib/python3.12/site-packages/tqdm/auto.py:21: TqdmWarning: IProgress not found. Please update jupyter and ipywidgets. See https://ipywidgets.readthedocs.io/en/stable/user_install.html\n",
      "  from .autonotebook import tqdm as notebook_tqdm\n"
     ]
    }
   ],
   "source": [
    "import jax \n",
    "import jax.numpy as jnp\n",
    "import numpy as np\n",
    "from src.models.vsh_model import*\n",
    "import pandas as pd\n",
    "from iminuit import Minuit # to perform least square\n",
    "from src.models.configuration import*\n",
    "from src.data.data_utils import*\n",
    "from tqdm import tqdm\n",
    "import gc"
   ]
  },
  {
   "cell_type": "code",
   "execution_count": 2,
   "id": "f54f6663",
   "metadata": {},
   "outputs": [],
   "source": [
    "df = load_qso_dataframe() # load full dataset for 5 param solution\n",
    "angles, obs, error = config_data(df)"
   ]
  },
  {
   "cell_type": "code",
   "execution_count": 3,
   "id": "174cc44c",
   "metadata": {},
   "outputs": [
    {
     "name": "stdout",
     "output_type": "stream",
     "text": [
      "┌───┬──────┬───────────┬───────────┬────────────┬────────────┬─────────┬─────────┬───────┐\n",
      "│   │ Name │   Value   │ Hesse Err │ Minos Err- │ Minos Err+ │ Limit-  │ Limit+  │ Fixed │\n",
      "├───┼──────┼───────────┼───────────┼────────────┼────────────┼─────────┼─────────┼───────┤\n",
      "│ 0 │ x0   │-2.7875e-4 │    nan    │            │            │         │         │       │\n",
      "│ 1 │ x1   │-8.2877e-3 │    nan    │            │            │         │         │       │\n",
      "│ 2 │ x2   │-5.6495e-3 │    nan    │            │            │         │         │       │\n",
      "│ 3 │ x3   │ 3.6565e-3 │    nan    │            │            │         │         │       │\n",
      "│ 4 │ x4   │ 6.0079e-4 │    nan    │            │            │         │         │       │\n",
      "│ 5 │ x5   │-8.3748e-3 │    nan    │            │            │         │         │       │\n",
      "│ 6 │ x6   │ 4.6631e-3 │    nan    │            │            │         │         │       │\n",
      "│ 7 │ x7   │-4.4139e-3 │    nan    │            │            │         │         │       │\n",
      "│ 8 │ x8   │ 1.3506e-3 │    nan    │            │            │         │         │       │\n",
      "│ 9 │ x9   │ 9.1889e-4 │    nan    │            │            │         │         │       │\n",
      "│ 10│ x10  │ 4.2423e-3 │    nan    │            │            │         │         │       │\n",
      "│ 11│ x11  │ 5.4715e-3 │    nan    │            │            │         │         │       │\n",
      "│ 12│ x12  │-9.7194e-4 │    nan    │            │            │         │         │       │\n",
      "│ 13│ x13  │ 3.0249e-3 │    nan    │            │            │         │         │       │\n",
      "│ 14│ x14  │-4.9305e-3 │    nan    │            │            │         │         │       │\n",
      "│ 15│ x15  │ 2.4194e-3 │    nan    │            │            │         │         │       │\n",
      "│ 16│ x16  │ 4.0481e-3 │    nan    │            │            │         │         │       │\n",
      "│ 17│ x17  │ 3.0921e-3 │    nan    │            │            │         │         │       │\n",
      "│ 18│ x18  │-4.3012e-3 │    nan    │            │            │         │         │       │\n",
      "│ 19│ x19  │ 2.5338e-3 │    nan    │            │            │         │         │       │\n",
      "│ 20│ x20  │ 1.0889e-3 │    nan    │            │            │         │         │       │\n",
      "│ 21│ x21  │ 1.3695e-3 │    nan    │            │            │         │         │       │\n",
      "│ 22│ x22  │-2.6456e-3 │    nan    │            │            │         │         │       │\n",
      "│ 23│ x23  │-4.3889e-3 │    nan    │            │            │         │         │       │\n",
      "│ 24│ x24  │ 2.3406e-3 │    nan    │            │            │         │         │       │\n",
      "│ 25│ x25  │-1.2315e-3 │    nan    │            │            │         │         │       │\n",
      "│ 26│ x26  │ 3.0378e-3 │    nan    │            │            │         │         │       │\n",
      "│ 27│ x27  │-5.3979e-3 │    nan    │            │            │         │         │       │\n",
      "│ 28│ x28  │ 1.8312e-3 │    nan    │            │            │         │         │       │\n",
      "│ 29│ x29  │-2.1504e-3 │    nan    │            │            │         │         │       │\n",
      "└───┴──────┴───────────┴───────────┴────────────┴────────────┴─────────┴─────────┴───────┘\n",
      "Converged to miminum? False\n"
     ]
    }
   ],
   "source": [
    "lmax = 3\n",
    "total_params = count_vsh_coeffs(lmax) \n",
    "#limits = vsh_minuit_limits(lmax=lmax, t_bound=0.05, s_bound=0.01)\n",
    "\n",
    "# Flat vector theta: [t10, ..., t_lmaxm, s10, ..., s_lmaxm]\n",
    "theta_init = jnp.zeros(total_params)\n",
    "\n",
    "# Fix everything except theta\n",
    "#bound_least_square = partial(least_square, data, obs, error, lmax=lmax, grid=False)\n",
    "\n",
    "def least_square_wrapper(*theta_flat):\n",
    "    theta = jnp.array(theta_flat)  # reconstructs the vector from scalars\n",
    "    return least_square(angles, obs, error, theta, lmax=lmax, grid=False)\n",
    "\n",
    "\n",
    "m = Minuit(least_square_wrapper, *theta_init)\n",
    "\n",
    "m.errordef = Minuit.LEAST_SQUARES\n",
    "\n",
    "m.migrad()\n",
    "print(m.params)\n",
    "print('Converged to miminum?', m.fmin.is_valid)"
   ]
  },
  {
   "cell_type": "code",
   "execution_count": 4,
   "id": "320ee20c",
   "metadata": {},
   "outputs": [
    {
     "name": "stdout",
     "output_type": "stream",
     "text": [
      "Equatorial components:\n",
      "G_vec = [-0.29354855 -4.0919294  -2.8633513 ] +/- [nan nan nan](μas/yr)\n",
      "Magnitude = 5.002883434295654 +/- nan (μas/yr)\n",
      "RA = 265.8966979980469 +/- nan (deg)\n",
      "Dec = -34.91357421875 +/- nan (deg)\n",
      "\n",
      "Galactic components:\n",
      "G_vec = [ 4.97554136 -0.46370611 -0.24042498] +/- [nan nan nan](μas/yr)\n",
      "l = 354.6755784075984 +/- nan (deg)\n",
      "d = -2.7545404725291918 +/- nan (deg)\n"
     ]
    }
   ],
   "source": [
    "parameters = jnp.array([m.values[k] for k in m.parameters])\n",
    "hessian_matrix = m.covariance\n",
    "variances = jnp.diag(hessian_matrix)\n",
    "spheroidal_vector_summary(parameters, variances)"
   ]
  }
 ],
 "metadata": {
  "kernelspec": {
   "display_name": "gaia_venv",
   "language": "python",
   "name": "python3"
  },
  "language_info": {
   "codemirror_mode": {
    "name": "ipython",
    "version": 3
   },
   "file_extension": ".py",
   "mimetype": "text/x-python",
   "name": "python",
   "nbconvert_exporter": "python",
   "pygments_lexer": "ipython3",
   "version": "3.12.3"
  }
 },
 "nbformat": 4,
 "nbformat_minor": 5
}
