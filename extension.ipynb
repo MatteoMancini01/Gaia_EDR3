{
 "cells": [
  {
   "cell_type": "markdown",
   "id": "e09a108c",
   "metadata": {},
   "source": [
    "# Extensions\n",
    "Notebook designed to run extension experiments, these experiments include\n",
    "-\tPower spectrum plots\n",
    "-\tPerform inference for different clipping values\n",
    "\n",
    "First, we want to run HMC for different values of $l_{max}$ on the full dataset, just like we did to produce Figure 7 in the original paper. This time our goal is to save the samples and their respective diagnostics, so that we can work on any other potential extensions.\n"
   ]
  },
  {
   "cell_type": "code",
   "execution_count": 2,
   "id": "8d89bc63",
   "metadata": {},
   "outputs": [
    {
     "name": "stderr",
     "output_type": "stream",
     "text": [
      "/root/Document/Gaia_Project/Gaia_EDR3/gaia_venv/lib/python3.12/site-packages/tqdm/auto.py:21: TqdmWarning: IProgress not found. Please update jupyter and ipywidgets. See https://ipywidgets.readthedocs.io/en/stable/user_install.html\n",
      "  from .autonotebook import tqdm as notebook_tqdm\n",
      "/root/Document/Gaia_Project/Gaia_EDR3/src/models/vsh_model.py:93: SyntaxWarning: invalid escape sequence '\\d'\n",
      "  \"\"\"\n",
      "/root/Document/Gaia_Project/Gaia_EDR3/src/models/vsh_model.py:144: SyntaxWarning: invalid escape sequence '\\d'\n",
      "  \"\"\"\n",
      "/root/Document/Gaia_Project/Gaia_EDR3/src/models/vsh_model.py:203: SyntaxWarning: invalid escape sequence '\\d'\n",
      "  \"\"\"\n"
     ]
    }
   ],
   "source": [
    "import jax\n",
    "import jax.numpy as jnp\n",
    "import numpyro\n",
    "from numpyro.infer import NUTS, MCMC, Predictive\n",
    "from numpyro import handlers\n",
    "from numpyro.diagnostics import summary, autocorrelation\n",
    "import numpyro.distributions as dist\n",
    "from src.models.vsh_model import*\n",
    "from src.models.configuration import*\n",
    "from src.data.data_utils import*\n",
    "from src.save_load_pkl.save_load import*\n",
    "import gc"
   ]
  },
  {
   "cell_type": "code",
   "execution_count": 3,
   "id": "490b2070",
   "metadata": {},
   "outputs": [],
   "source": [
    "df = load_filtered_qso_df() # load data\n",
    "angles, obs, error = config_data(df)"
   ]
  },
  {
   "cell_type": "code",
   "execution_count": null,
   "id": "40195859",
   "metadata": {},
   "outputs": [],
   "source": [
    "def chi2_jit(angles, obs, error, theta, lmax):\n",
    "    return least_square(angles, obs, error, theta, lmax=lmax, grid=False)\n",
    "chi2_jit = jit(chi2_jit, static_argnames=['lmax'])\n",
    "def model_for_HMC(angles, obs, error, lmax):\n",
    "    total_params = count_vsh_coeffs(lmax)\n",
    "\n",
    "    # Prior on all VSH coefficients (both toroidal and spheroidal)\n",
    "    theta = numpyro.sample(\"theta\", dist.Normal(0.0, 1.0).expand([total_params]))\n",
    "    # Least-squares residuals: we assume Gaussian-distributed residuals\n",
    "    chi2_val = chi2_jit(angles, obs, error, theta, lmax=lmax)\n",
    "\n",
    "    # The log-likelihood is proportional to -0.5*chi^2\n",
    "    numpyro.factor(\"likelihood\", -0.5*chi2_val)"
   ]
  },
  {
   "cell_type": "code",
   "execution_count": 5,
   "id": "7bf1c0e8",
   "metadata": {},
   "outputs": [],
   "source": [
    "n_s = 5000 # number of samples\n",
    "n_warmup = 2000 #  number of warmups\n",
    "n_chains = 6 # numbe of chains"
   ]
  },
  {
   "cell_type": "code",
   "execution_count": null,
   "id": "2353c8be",
   "metadata": {},
   "outputs": [],
   "source": [
    "rng_key = jax.random.key(0)\n",
    "\n",
    "kernel = NUTS(model_for_HMC, target_accept_prob=0.75) # this is to make sure acceptance does not exceed 90%\n",
    "\n",
    "posterior_samples = [] # collect posterior samples based on l\n",
    "iat_values = []\n",
    "for l in range(1, 8):\n",
    "    print(f'l = {l}')\n",
    "    # Run sampling algoeithm (HMC)\n",
    "    mcmc = MCMC(kernel, num_warmup=n_warmup, num_samples=n_s, num_chains=n_chains, chain_method='sequential', progress_bar=True)\n",
    "    mcmc.run(rng_key, angles = angles, obs = obs, error = error, lmax=l)\n",
    "    ps = mcmc.get_samples()\n",
    "    posterior_samples.append(ps)\n",
    "\n",
    "    diagnostics = summary(mcmc.get_samples(group_by_chain=True))\n",
    "    n_eff = diagnostics['theta']['n_eff']\n",
    "    iat = estimate_iat(n_s, n_chains, n_eff, index=[1,4,5])\n",
    "    iat_values.append(iat)\n",
    "    print(f'Autocorrelation length estimate: {iat}')\n",
    "\n",
    "    r_hats = diagnostics['theta']['r_hat']\n",
    "    avg_r_hat = np.sum(r_hats) / len(r_hats)\n",
    "    print(\"Average r_hat:\", avg_r_hat)\n",
    "\n",
    "    divergences = mcmc.get_extra_fields()[\"diverging\"]  # shape: (num_samples * num_chains,)\n",
    "    num_divergences = divergences.sum()\n",
    "    print(\"Number of divergences:\", num_divergences)\n",
    "\n",
    "    # == Save results ==\n",
    "    save_pickle(f'lmax_{l}', posterior_samples, dir = 'hmc_samples/posterior_samples')\n",
    "    save_pickle(f'lmax_{l}', diagnostics, dir = 'hmc_samples/diagnostic_hmc')\n",
    "\n",
    "    # Free memory after each iteration\n",
    "    del mcmc\n",
    "    gc.collect()\n",
    "    jax.clear_caches()\n"
   ]
  },
  {
   "cell_type": "markdown",
   "id": "e6601e6d",
   "metadata": {},
   "source": [
    "# Power Spectral Density (PSD) for Real-Valued VSH Coefficients\n",
    "\n",
    "To compute the **power spectra** from the Vector Spherical Harmonic (VSH) expansion, use the following formulas for each multipole $l$:\n",
    "\n",
    "#### Toroidal Power Spectrum $C_l^{T}$\n",
    "\n",
    "$$\n",
    "C_l^{T} = \\frac{1}{2l + 1} \\left( t_{l0}^2 + 2 \\sum_{m=1}^{l} \\left[ \\left( t_{lm}^{\\mathfrak{R}} \\right)^2 + \\left( t_{lm}^{\\mathfrak{I}} \\right)^2 \\right] \\right)\n",
    "$$\n",
    "\n",
    "#### Spheroidal Power Spectrum $C_l^{S}$\n",
    "\n",
    "$$\n",
    "C_l^{S} = \\frac{1}{2l + 1} \\left( s_{l0}^2 + 2 \\sum_{m=1}^{l} \\left[ \\left( s_{lm}^{\\mathfrak{R}} \\right)^2 + \\left( s_{lm}^{\\mathfrak{I}} \\right)^2 \\right] \\right)\n",
    "$$\n",
    "\n",
    "These give the **toroidal** and **spheroidal** angular power spectra, analogous to $C_l^B$ and $C_l^E$ in CMB polarisation analysis.\n",
    "\n",
    "One can then plot $C_l^T$ and $C_l^S$ versus $l$ to visualise how the power in your vector field is distributed across angular scales."
   ]
  },
  {
   "cell_type": "code",
   "execution_count": 6,
   "id": "d648ba5c",
   "metadata": {},
   "outputs": [],
   "source": [
    "cts = []\n",
    "css = []\n",
    "\n",
    "for idx in range(1,8):\n",
    "    # Load samples and respective diagnostics\n",
    "    post_sample = load_pickle(f'lmax_{idx}', dir = 'hmc_samples/posterior_samples')[0]\n",
    "    diagnostics = load_pickle(f'lmax_{idx}', dir = 'hmc_samples/diagnostic_hmc')\n",
    "    n_eff = diagnostics['theta']['n_eff']\n",
    "    iat = estimate_iat(n_s, n_chains, n_eff)\n",
    "\n",
    "    # Perform respective thinning\n",
    "    sample = post_sample['theta'][::iat]\n",
    "\n",
    "    # Compute PSD samples\n",
    "    ct, cs = psd_vsh_coeff(sample, idx)\n",
    "\n",
    "    # Collect PSD samples\n",
    "    cts.append(ct)\n",
    "    css.append(cs)"
   ]
  },
  {
   "cell_type": "code",
   "execution_count": 7,
   "id": "5e70dcf3",
   "metadata": {},
   "outputs": [
    {
     "name": "stdout",
     "output_type": "stream",
     "text": [
      "PSD violin plot for toroidal coefficients:\n"
     ]
    },
    {
     "data": {
      "image/png": "[encoded data removed]",
      "text/plain": [
       "<Figure size 600x400 with 1 Axes>"
      ]
     },
     "metadata": {},
     "output_type": "display_data"
    },
    {
     "name": "stdout",
     "output_type": "stream",
     "text": [
      "PSD violin plot for spheroidal coefficients:\n"
     ]
    },
    {
     "data": {
      "image/png": "[encoded data removed]",
      "text/plain": [
       "<Figure size 600x400 with 1 Axes>"
      ]
     },
     "metadata": {},
     "output_type": "display_data"
    }
   ],
   "source": [
    "import matplotlib.pyplot as plt\n",
    "\n",
    "print('PSD violin plot for toroidal coefficients:')\n",
    "fig, ax = plt.subplots(figsize=(6, 4))\n",
    "parts = ax.violinplot(cts, showmeans=True, showextrema=False)\n",
    "ax.set_xlabel(r'$l_{max}$')\n",
    "ax.set_ylabel(r'PSD (mas/yr)$^2$')\n",
    "ax.grid()\n",
    "plt.tight_layout()\n",
    "plt.savefig(\"plots/extension_plots/psd_t_coeff.png\", dpi=300, bbox_inches='tight')\n",
    "plt.show()\n",
    "print('PSD violin plot for spheroidal coefficients:')\n",
    "fig, ax = plt.subplots(figsize=(6, 4))\n",
    "parts = ax.violinplot(css, showmeans=True, showextrema=False)\n",
    "ax.set_xlabel(r'$l_{max}$')\n",
    "ax.set_ylabel(r'PSD (mas/yr)$^2$')\n",
    "ax.grid()\n",
    "plt.tight_layout()\n",
    "plt.savefig(\"plots/extension_plots/psd_s_coeff.png\", dpi=300, bbox_inches='tight')\n",
    "plt.show()\n"
   ]
  },
  {
   "cell_type": "markdown",
   "id": "f825e4c9",
   "metadata": {},
   "source": [
    "# Repeating Analysis With Different $\\kappa$\n",
    "In this part we want to test how outliers and different clipping stegths affect the overall results.\n"
   ]
  },
  {
   "cell_type": "code",
   "execution_count": null,
   "id": "d0877562",
   "metadata": {},
   "outputs": [],
   "source": [
    "from src.data.clip_data import*\n",
    "import jax\n",
    "import jax.numpy as jnp\n",
    "import numpyro\n",
    "from numpyro.infer import NUTS, MCMC, Predictive\n",
    "from numpyro import handlers\n",
    "from numpyro.diagnostics import summary, autocorrelation\n",
    "import numpyro.distributions as dist\n",
    "from src.models.vsh_model import*\n",
    "from src.models.configuration import*\n",
    "from src.data.data_utils import*\n",
    "from src.save_load_pkl.save_load import*\n"
   ]
  },
  {
   "cell_type": "code",
   "execution_count": null,
   "id": "4ea0f6fc",
   "metadata": {},
   "outputs": [],
   "source": [
    "df = load_qso_dataframe() # load data\n",
    "angles, obs, error = config_data(df)"
   ]
  },
  {
   "cell_type": "code",
   "execution_count": null,
   "id": "499b0e64",
   "metadata": {},
   "outputs": [],
   "source": [
    "lmax = 3\n",
    "total_params = count_vsh_coeffs(lmax)\n",
    "theta_init = jnp.zeros(total_params)\n",
    "\n",
    "keeps = []\n",
    "kappas = [2.0, 4.0]\n",
    "\n",
    "for kappa in kappas:\n",
    "\n",
    "    _, keep = least_square_clip(angles, obs, error, theta_init, kappa=kappa, max_iter=20)\n",
    "    keeps.append(keep)"
   ]
  },
  {
   "cell_type": "code",
   "execution_count": null,
   "id": "4552e7fe",
   "metadata": {},
   "outputs": [],
   "source": [
    "for i, mask in enumerate(keeps):\n",
    "    save_pickle(f'mask_{int(kappas[i])}', mask, dir = 'outlier_mask')"
   ]
  },
  {
   "cell_type": "code",
   "execution_count": null,
   "id": "c5cb80f2",
   "metadata": {},
   "outputs": [],
   "source": [
    "# Load masks\n",
    "mask_2 = load_pickle('mask_2', dir = 'outlier_mask')\n",
    "mask_4 = load_pickle('mask_4', dir = 'outlier_mask')\n",
    "df = load_qso_dataframe() # load data\n",
    "\n",
    "# Filter data according to different maskes\n",
    "df_mask_2 = df.loc[np.array(mask_2)]\n",
    "df_mask_4 = df.loc[np.array(mask_4)]"
   ]
  },
  {
   "cell_type": "markdown",
   "id": "a00cc08b",
   "metadata": {},
   "source": [
    "Run HMC"
   ]
  },
  {
   "cell_type": "code",
   "execution_count": null,
   "id": "08beb70c",
   "metadata": {},
   "outputs": [],
   "source": [
    "def chi2_jit(angles, obs, error, theta, lmax):\n",
    "    return least_square(angles, obs, error, theta, lmax=lmax, grid=False)\n",
    "chi2_jit = jit(chi2_jit, static_argnames=['lmax'])"
   ]
  },
  {
   "cell_type": "code",
   "execution_count": null,
   "id": "c1596965",
   "metadata": {},
   "outputs": [],
   "source": [
    "def model_for_HMC(angles, obs, error, lmax):\n",
    "    total_params = count_vsh_coeffs(lmax)\n",
    "\n",
    "    # Prior on all VSH coefficients (both toroidal and spheroidal)\n",
    "    theta = numpyro.sample(\"theta\", dist.Normal(0.0, 1.0).expand([total_params]))\n",
    "    # Least-squares residuals: we assume Gaussian-distributed residuals\n",
    "    chi2_val = chi2_jit(angles, obs, error, theta, lmax=lmax)\n",
    "\n",
    "    # The log-likelihood is proportional to -0.5*chi^2\n",
    "    numpyro.factor(\"likelihood\", -0.5*chi2_val)\n",
    "\n",
    "n_s = 5000 # number of samples\n",
    "n_warmup = 2000 #  number of warmups\n",
    "n_chains = 8 # numbe of chains\n",
    "\n",
    "rng_key = jax.random.key(0)\n",
    "kernel = NUTS(model_for_HMC, target_accept_prob=0.75) # this is to make sure acceptance does not exceed 90%"
   ]
  },
  {
   "cell_type": "markdown",
   "id": "33d49be8",
   "metadata": {},
   "source": [
    "1. Clipping value used is $\\kappa=2.0$"
   ]
  },
  {
   "cell_type": "code",
   "execution_count": null,
   "id": "08d8f24e",
   "metadata": {},
   "outputs": [],
   "source": [
    "angles, obs, error = config_data(df_mask_2)\n",
    "mcmc2 = MCMC(kernel, num_warmup=n_warmup, num_samples=n_s, num_chains=n_chains, chain_method='sequential', progress_bar=True)\n",
    "mcmc2.run(rng_key, angles = angles, obs = obs, error = error, lmax=3)\n",
    "ps = mcmc2.get_samples()\n",
    "\n",
    "diagnostics = summary(mcmc2.get_samples(group_by_chain=True))\n",
    "n_eff = diagnostics['theta']['n_eff']\n",
    "iat = estimate_iat(n_s, n_chains, n_eff, index=[1,4,5])\n",
    "print(f'Autocorrelation length estimate: {iat}')\n",
    "\n",
    "r_hats = diagnostics['theta']['r_hat']\n",
    "avg_r_hat = np.sum(r_hats) / len(r_hats)\n",
    "print(\"Average r_hat:\", avg_r_hat)\n",
    "\n",
    "divergences = mcmc2.get_extra_fields()[\"diverging\"]  # shape: (num_samples * num_chains,)\n",
    "num_divergences = divergences.sum()\n",
    "print(\"Number of divergences:\", num_divergences)\n",
    "\n",
    "# == Save results ==\n",
    "save_pickle(f'sample', ps, dir = 'hmc_samples/extension/mask2')\n",
    "save_pickle(f'diagnostic', diagnostics, dir = 'hmc_samples/extension/mask2')"
   ]
  },
  {
   "cell_type": "code",
   "execution_count": null,
   "id": "09b66fca",
   "metadata": {},
   "outputs": [],
   "source": [
    "cov_m = cov_matrix_hmc(ps['theta'][::iat], indices=[4,5,1])\n",
    "result = jnp.mean(ps['theta'], axis = 0)\n",
    "params = [result[1], result[4], result[5]]\n",
    "\n",
    "summary, v_vec, v_Sigma, corr_eq = vsh_vector_summary(params, cov_m)\n",
    "summary_gal, v_vec_gal, v_Sigma_gal, corr_gal = vsh_vector_summary_galactic(v_vec, v_Sigma)\n",
    "\n",
    "lb_summary_ = lb_summary(v_vec_gal, v_Sigma_gal)\n",
    "ra_dec_summary_ = ra_dec_summary(v_vec, v_Sigma)\n",
    "\n",
    "print('Results with kappa=2:')\n",
    "print_summary(summary, title='Result, Equatorial Coordinates')\n",
    "print_summary(ra_dec_summary_)\n",
    "print('')\n",
    "print_summary(summary_gal, title='Results, Galactic Coordinates')\n",
    "print_summary(lb_summary_)"
   ]
  },
  {
   "cell_type": "markdown",
   "id": "9a1152ad",
   "metadata": {},
   "source": [
    "2. Clipping value used $\\kappa=4$"
   ]
  },
  {
   "cell_type": "code",
   "execution_count": null,
   "id": "dce64752",
   "metadata": {},
   "outputs": [],
   "source": [
    "angles, obs, error = config_data(df_mask_4)\n",
    "mcmc4 = MCMC(kernel, num_warmup=n_warmup, num_samples=n_s, num_chains=n_chains, chain_method='sequential', progress_bar=True)\n",
    "mcmc4.run(rng_key, angles = angles, obs = obs, error = error, lmax=3)\n",
    "ps = mcmc4.get_samples()\n",
    "\n",
    "diagnostics = summary(mcmc4.get_samples(group_by_chain=True))\n",
    "n_eff = diagnostics['theta']['n_eff']\n",
    "iat = estimate_iat(n_s, n_chains, n_eff, index=[1,4,5])\n",
    "print(f'Autocorrelation length estimate: {iat}')\n",
    "\n",
    "r_hats = diagnostics['theta']['r_hat']\n",
    "avg_r_hat = np.sum(r_hats) / len(r_hats)\n",
    "print(\"Average r_hat:\", avg_r_hat)\n",
    "\n",
    "divergences = mcmc4.get_extra_fields()[\"diverging\"]  # shape: (num_samples * num_chains,)\n",
    "num_divergences = divergences.sum()\n",
    "print(\"Number of divergences:\", num_divergences)\n",
    "\n",
    "# == Save results ==\n",
    "save_pickle(f'sample', ps, dir = 'hmc_samples/extension/mask4')\n",
    "save_pickle(f'diagnostic', diagnostics, dir = 'hmc_samples/extension/mask4')\n"
   ]
  },
  {
   "cell_type": "code",
   "execution_count": null,
   "id": "f746fcb7",
   "metadata": {},
   "outputs": [],
   "source": [
    "cov_m = cov_matrix_hmc(ps['theta'][::iat], indices=[4,5,1])\n",
    "result = jnp.mean(ps['theta'], axis = 0)\n",
    "params = [result[1], result[4], result[5]]\n",
    "\n",
    "summary, v_vec, v_Sigma, corr_eq = vsh_vector_summary(params, cov_m)\n",
    "summary_gal, v_vec_gal, v_Sigma_gal, corr_gal = vsh_vector_summary_galactic(v_vec, v_Sigma)\n",
    "\n",
    "lb_summary_ = lb_summary(v_vec_gal, v_Sigma_gal)\n",
    "ra_dec_summary_ = ra_dec_summary(v_vec, v_Sigma)\n",
    "\n",
    "print('Results with kappa=4:')\n",
    "print_summary(summary, title='Result, Equatorial Coordinates')\n",
    "print_summary(ra_dec_summary_)\n",
    "print('')\n",
    "print_summary(summary_gal, title='Results, Galactic Coordinates')\n",
    "print_summary(lb_summary_)\n"
   ]
  },
  {
   "cell_type": "markdown",
   "id": "8956862a",
   "metadata": {},
   "source": [
    "3. Full dataset"
   ]
  },
  {
   "cell_type": "code",
   "execution_count": null,
   "id": "b6d30d74",
   "metadata": {},
   "outputs": [],
   "source": [
    "angles, obs, error = config_data(df)\n",
    "mcmc_full = MCMC(kernel, num_warmup=n_warmup, num_samples=n_s, num_chains=n_chains, chain_method='sequential', progress_bar=True)\n",
    "mcmc_full.run(rng_key, angles = angles, obs = obs, error = error, lmax=3)\n",
    "ps = mcmc_full.get_samples()\n",
    "\n",
    "\n",
    "diagnostics = summary(mcmc_full.get_samples(group_by_chain=True))\n",
    "n_eff = diagnostics['theta']['n_eff']\n",
    "iat = estimate_iat(n_s, n_chains, n_eff, index=[1,4,5])\n",
    "\n",
    "print(f'Autocorrelation length estimate: {iat}')\n",
    "\n",
    "r_hats = diagnostics['theta']['r_hat']\n",
    "avg_r_hat = np.sum(r_hats) / len(r_hats)\n",
    "print(\"Average r_hat:\", avg_r_hat)\n",
    "\n",
    "divergences = mcmc_full.get_extra_fields()[\"diverging\"]  # shape: (num_samples * num_chains,)\n",
    "num_divergences = divergences.sum()\n",
    "print(\"Number of divergences:\", num_divergences)\n",
    "\n",
    "# == Save results ==\n",
    "save_pickle(f'sample', ps, dir = 'hmc_samples/extension/full_data')\n",
    "save_pickle(f'diagnostic', diagnostics, dir = 'hmc_samples/extension/full_data')\n"
   ]
  },
  {
   "cell_type": "code",
   "execution_count": null,
   "id": "0b8d9f7d",
   "metadata": {},
   "outputs": [],
   "source": [
    "cov_m = cov_matrix_hmc(ps['theta'][::iat], indices=[4,5,1])\n",
    "result = jnp.mean(ps['theta'], axis = 0)\n",
    "params = [result[1], result[4], result[5]]\n",
    "\n",
    "summary, v_vec, v_Sigma, corr_eq = vsh_vector_summary(params, cov_m)\n",
    "summary_gal, v_vec_gal, v_Sigma_gal, corr_gal = vsh_vector_summary_galactic(v_vec, v_Sigma)\n",
    "\n",
    "lb_summary_ = lb_summary(v_vec_gal, v_Sigma_gal)\n",
    "ra_dec_summary_ = ra_dec_summary(v_vec, v_Sigma)\n",
    "\n",
    "print('Results on full dataset:')\n",
    "print_summary(summary, title='Result, Equatorial Coordinates')\n",
    "print_summary(ra_dec_summary_)\n",
    "print('')\n",
    "print_summary(summary_gal, title='Results, Galactic Coordinates')\n",
    "print_summary(lb_summary_)\n"
   ]
  }
 ],
 "metadata": {
  "kernelspec": {
   "display_name": "gaia_venv",
   "language": "python",
   "name": "python3"
  },
  "language_info": {
   "codemirror_mode": {
    "name": "ipython",
    "version": 3
   },
   "file_extension": ".py",
   "mimetype": "text/x-python",
   "name": "python",
   "nbconvert_exporter": "python",
   "pygments_lexer": "ipython3",
   "version": "3.12.3"
  }
 },
 "nbformat": 4,
 "nbformat_minor": 5
}
