{
 "cells": [
  {
   "cell_type": "markdown",
   "id": "04eeffab",
   "metadata": {},
   "source": [
    "# Extensions\n",
    "Notebook designed to run extension experiments, these experiments include \n",
    "-\tPower spectrum plots\n",
    "-\tPerform inference for different clipping values\n",
    "\n",
    "First, we want to run HMC for different values of $l_{max}$ on the full dataset, just like we did to produce Figure 7 in the original paper. This time our goal is to save the samples and their respective diagnostics, so that we can work on any other potential extensions.\n"
   ]
  },
  {
   "cell_type": "code",
   "execution_count": 6,
   "id": "0565df26",
   "metadata": {},
   "outputs": [],
   "source": [
    "import jax\n",
    "import jax.numpy as jnp\n",
    "import numpyro\n",
    "from numpyro.infer import NUTS, MCMC, Predictive\n",
    "from numpyro import handlers\n",
    "from numpyro.diagnostics import summary, autocorrelation\n",
    "import numpyro.distributions as dist\n",
    "from src.models.vsh_model import*\n",
    "from src.models.configuration import*\n",
    "from src.data.data_utils import*\n",
    "from src.plot.plots import*\n",
    "from src.save_load_pkl.save_load import*\n",
    "import gc"
   ]
  },
  {
   "cell_type": "code",
   "execution_count": 3,
   "id": "f7558b09",
   "metadata": {},
   "outputs": [],
   "source": [
    "df = load_filtered_qso_df() # load filtered data\n",
    "angles, obs, error = config_data(df)"
   ]
  },
  {
   "cell_type": "code",
   "execution_count": null,
   "id": "42344d68",
   "metadata": {},
   "outputs": [],
   "source": [
    "def chi2_jit(angles, obs, error, theta, lmax):\n",
    "    return least_square(angles, obs, error, theta, lmax=lmax, grid=False)\n",
    "chi2_jit = jit(chi2_jit, static_argnames=['lmax'])\n",
    "\n",
    "\n",
    "def model_for_HMC(angles, obs, error, lmax):\n",
    "    total_params = count_vsh_coeffs(lmax)\n",
    "    \n",
    "    # Prior on all VSH coefficients (both toroidal and spheroidal)\n",
    "    theta = numpyro.sample(\"theta\", dist.Normal(0.0, 1.0).expand([total_params]))\n",
    "    # Least-squares residuals: we assume Gaussian-distributed residuals\n",
    "    chi2_val = chi2_jit(angles, obs, error, theta, lmax=lmax)\n",
    "\n",
    "    # The log-likelihood is proportional to -0.5*chi^2\n",
    "    numpyro.factor(\"likelihood\", -0.5*chi2_val)\n",
    "\n",
    "n_s = 5000 # number of samples\n",
    "n_warmup = 2000 #  number of warmups \n",
    "n_chains = 6 # numbe of chains"
   ]
  },
  {
   "cell_type": "code",
   "execution_count": null,
   "id": "3d49ebfe",
   "metadata": {},
   "outputs": [
    {
     "name": "stdout",
     "output_type": "stream",
     "text": [
      "l = 1\n"
     ]
    },
    {
     "name": "stderr",
     "output_type": "stream",
     "text": [
      "sample: 100%|██████████| 1500/1500 [00:33<00:00, 44.50it/s, 3 steps of size 1.08e-01. acc. prob=0.85] \n",
      "sample: 100%|██████████| 1500/1500 [00:25<00:00, 58.48it/s, 3 steps of size 8.72e-02. acc. prob=0.90]\n"
     ]
    },
    {
     "name": "stdout",
     "output_type": "stream",
     "text": [
      "Autocorrelation length estimate: 2\n",
      "Average r_hat: 1.0005512\n",
      "Number of divergences: 0\n"
     ]
    }
   ],
   "source": [
    "rng_key = jax.random.key(0)\n",
    "\n",
    "kernel = NUTS(model_for_HMC, target_accept_prob=0.75) # this is to make sure acceptance does not exceed 90%\n",
    "\n",
    "posterior_samples = [] # collect posterior samples based on l\n",
    "iat_values = []\n",
    "for l in range(1, 8):\n",
    "    print(f'l = {l}')\n",
    "    # Run sampling algoeithm (HMC)\n",
    "    mcmc = MCMC(kernel, num_warmup=n_warmup, num_samples=n_s, num_chains=n_chains, chain_method='sequential', progress_bar=True)\n",
    "    mcmc.run(rng_key, angles = angles, obs = obs, error = error, lmax=l)\n",
    "    ps = mcmc.get_samples()\n",
    "    posterior_samples.append(ps)\n",
    "    \n",
    "    diagnostics = summary(mcmc.get_samples(group_by_chain=True))\n",
    "    n_eff = diagnostics['theta']['n_eff']\n",
    "    iat = estimate_iat(n_s, n_chains, n_eff, index=[1,4,5])\n",
    "    iat_values.append(iat)\n",
    "    print(f'Autocorrelation length estimate: {iat}')\n",
    "\n",
    "    r_hats = diagnostics['theta']['r_hat']\n",
    "    avg_r_hat = np.sum(r_hats) / len(r_hats)\n",
    "    print(\"Average r_hat:\", avg_r_hat)\n",
    "\n",
    "    divergences = mcmc.get_extra_fields()[\"diverging\"]  # shape: (num_samples * num_chains,)\n",
    "    num_divergences = divergences.sum()\n",
    "    print(\"Number of divergences:\", num_divergences)\n",
    "\n",
    "    # == Save results ==\n",
    "    save_pickle(f'lmax_{l}', posterior_samples, dir = 'hmc_samples/posterior_samples')\n",
    "    save_pickle(f'lmax_{l}', diagnostics, dir = 'hmc_samples/diagnostic_hmc')\n",
    "    \n",
    "    # Free memory after each iteration\n",
    "    del mcmc\n",
    "    gc.collect()\n",
    "    jax.clear_caches()"
   ]
  },
  {
   "cell_type": "code",
   "execution_count": 21,
   "id": "32f84bd3",
   "metadata": {},
   "outputs": [
    {
     "name": "stdout",
     "output_type": "stream",
     "text": [
      "2\n"
     ]
    }
   ],
   "source": [
    "posterior_sample_norm = load_pickle('lmax_1', dir = 'hmc_samples/posterior_samples')[0]\n",
    "diagnostics = load_pickle('lmax_1', dir = 'hmc_samples/diagnostic_hmc')\n",
    "n_eff = diagnostics['theta']['n_eff']\n",
    "iat = estimate_iat(n_s, n_chains, n_eff, index=[1,4,5])\n",
    "print(iat)"
   ]
  },
  {
   "cell_type": "code",
   "execution_count": 22,
   "id": "67e545af",
   "metadata": {},
   "outputs": [],
   "source": [
    "cov_m = cov_matrix_hmc(posterior_sample_norm['theta'][::iat], indices=[1,4,5])\n",
    "result_uni = jnp.mean(posterior_sample_norm['theta'], axis = 0)\n",
    "params = [result_uni[1], result_uni[4], result_uni[5]]\n",
    "\n",
    "summary_norm, v_vec, v_Sigma,_ = vsh_vector_summary(params, cov_m)\n",
    "summary_norm_gal, v_vec_gal, v_Sigma_gal, _ = vsh_vector_summary_galactic(v_vec, v_Sigma)\n",
    "\n",
    "lb_summary_ = lb_summary(v_vec_gal, v_Sigma_gal)\n",
    "ra_dec_summary_ = ra_dec_summary(v_vec, v_Sigma)"
   ]
  },
  {
   "cell_type": "code",
   "execution_count": 23,
   "id": "936ebb48",
   "metadata": {},
   "outputs": [
    {
     "name": "stdout",
     "output_type": "stream",
     "text": [
      "Result, Equatorial Coordinates\n",
      "------------------------------\n",
      "  |g| (μas/yr)        : 5.4654\n",
      "  g (μas/yr)          : [ 0.02362784 -5.229347   -1.5886097 ]\n",
      "  |sigma_g| (μas/yr)  : 0.3019\n",
      "  sigma_g (μas/yr)    : [0.39327432 0.31327942 0.1983548 ]\n",
      "  Corr_gx_gy          : -0.0731\n",
      "  Corr_gx_gz          : -0.0149\n",
      "  Corr_gy_gz          : -0.0609\n",
      "  RA (deg)            : 270.2589\n",
      "  Sigma_RA (deg)      : 4.3077\n",
      "  Dec (deg)           : -16.8980\n",
      "  Sigma_Dec (deg)     : 2.2590\n",
      "  Corr_RA_dec         : 0.0078\n",
      "\n",
      "Results, Galactic Coordinates\n",
      "-----------------------------\n",
      "  |g|_gal (μas/yr)    : 5.4654\n",
      "  g_gal (μas/yr)      : [5.33483435 1.1511802  0.29092886]\n",
      "  |sigma_g_gal| (μas/yr): 0.3019\n",
      "  sigma_g_gal (μas/yr): [0.28359563 0.29112217 0.35633511]\n",
      "  Corr_g_galx_g_galy  : 0.3072\n",
      "  Corr_g_galx_g_galz  : 0.0933\n",
      "  Corr_g_galy_g_galz  : -0.4341\n",
      "  l (deg)             : 12.1769\n",
      "  Sigma_l (deg)       : 2.8578\n",
      "  b (deg)             : 3.0514\n",
      "  Sigma_b (deg)       : 3.7346\n",
      "  Corr_l_b            : -0.0085\n"
     ]
    }
   ],
   "source": [
    "print_summary(summary_norm, title='Result, Equatorial Coordinates')\n",
    "print_summary(ra_dec_summary_)\n",
    "print('')\n",
    "print_summary(summary_norm_gal, title='Results, Galactic Coordinates')\n",
    "print_summary(lb_summary_)"
   ]
  }
 ],
 "metadata": {
  "kernelspec": {
   "display_name": "gaia_venv",
   "language": "python",
   "name": "python3"
  },
  "language_info": {
   "codemirror_mode": {
    "name": "ipython",
    "version": 3
   },
   "file_extension": ".py",
   "mimetype": "text/x-python",
   "name": "python",
   "nbconvert_exporter": "python",
   "pygments_lexer": "ipython3",
   "version": "3.12.3"
  }
 },
 "nbformat": 4,
 "nbformat_minor": 5
}
