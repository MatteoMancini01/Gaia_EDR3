{
 "cells": [
  {
   "cell_type": "markdown",
   "metadata": {},
   "source": [
    "# Importing Data \n",
    "\n",
    "Once the data is successfuly downloaded from [https://gea.esac.esa.int/archive/](https://gea.esac.esa.int/archive/), and correctly decompressed following the instroctions provided in [Neeed to add link to README from personal github](add-link), we can now import the data on Python and store it as a data frame using the package [pandas](https://pandas.pydata.org/)."
   ]
  },
  {
   "cell_type": "markdown",
   "metadata": {},
   "source": [
    "Optional, add the following to the sql code to remove impurity in data:\n",
    "```sql\n",
    "WHERE gs.parallax < 5 * gs.parallax_error  -- Remove potential stars\n",
    "AND gs.ruwe < 1.4  -- Ensure good astrometric quality\n",
    "AND gs.phot_g_mean_mag < 21  -- Bright enough for good measurements\n",
    "```"
   ]
  },
  {
   "cell_type": "code",
   "execution_count": 9,
   "metadata": {},
   "outputs": [
    {
     "name": "stdout",
     "output_type": "stream",
     "text": [
      "INFO: Query finished. [astroquery.utils.tap.core]\n"
     ]
    }
   ],
   "source": [
    "from astroquery.gaia import Gaia\n",
    "import pandas as pd\n",
    "\n",
    "# Query to get the astrometric properties of QSO-like objects\n",
    "query = \"\"\"\n",
    "SELECT \n",
    "    agn.source_id, \n",
    "    gs.ra, gs.dec, \n",
    "    gs.pmra, gs.pmdec, \n",
    "    gs.parallax, gs.parallax_error, \n",
    "    gs.ruwe, gs.phot_g_mean_mag,\n",
    "    gs.nu_eff_used_in_astrometry\n",
    "FROM gaiadr3.agn_cross_id AS agn\n",
    "JOIN gaiadr3.gaia_source AS gs \n",
    "ON agn.source_id = gs.source_id\n",
    "\n",
    "\"\"\"\n",
    "\n",
    "# Launch query and download data\n",
    "job = Gaia.launch_job_async(query)\n",
    "result = job.get_results()\n",
    "\n",
    "# Save as CSV\n",
    "result.write(\"qso_full_data.csv\", format=\"csv\", overwrite=True) # overwrite = True will allow to replace existing data when redownloaded.\n"
   ]
  },
  {
   "cell_type": "code",
   "execution_count": 10,
   "metadata": {},
   "outputs": [
    {
     "name": "stdout",
     "output_type": "stream",
     "text": [
      "        source_id         ra       dec      pmra     pmdec  parallax  \\\n",
      "0   3470333738112  45.075505  0.152316 -1.072371 -3.191011  0.366321   \n",
      "1   5944234902272  44.884761  0.164806 -0.121274  0.725026 -0.395659   \n",
      "2   6459630980096  44.910498  0.189649  0.217806 -0.316007 -0.626561   \n",
      "3   9517648372480  45.254655  0.228999 -0.552941 -1.895446 -0.917219   \n",
      "4  10892037246720  45.188575  0.282424 -0.098037 -0.120580  0.001630   \n",
      "\n",
      "   parallax_error      ruwe  phot_g_mean_mag  nu_eff_used_in_astrometry  \n",
      "0        0.901633  0.889714        20.571114                   1.526179  \n",
      "1        1.340139  1.087911        20.704517                   1.647388  \n",
      "2        0.548536  1.020956        20.173105                        NaN  \n",
      "3        1.507964  1.031971        20.634562                        NaN  \n",
      "4        0.246332  0.974657        18.787239                   1.565118  \n"
     ]
    }
   ],
   "source": [
    "import pandas as pd\n",
    "# Load into Pandas\n",
    "df = pd.read_csv(\"qso_full_data.csv\")\n",
    "print(df.head())  # Check the data"
   ]
  },
  {
   "cell_type": "markdown",
   "metadata": {},
   "source": [
    "### Column Content\n",
    "\n",
    "Before we procede, we need to understand what each column contains, to do so let us print the heading of each column."
   ]
  },
  {
   "cell_type": "code",
   "execution_count": 11,
   "metadata": {},
   "outputs": [
    {
     "name": "stdout",
     "output_type": "stream",
     "text": [
      "Index(['source_id', 'ra', 'dec', 'pmra', 'pmdec', 'parallax', 'parallax_error',\n",
      "       'ruwe', 'phot_g_mean_mag', 'nu_eff_used_in_astrometry'],\n",
      "      dtype='object')\n"
     ]
    }
   ],
   "source": [
    "# Check column names\n",
    "print(df.columns)"
   ]
  },
  {
   "cell_type": "markdown",
   "metadata": {},
   "source": [
    "The output above, displays:\n",
    "\n",
    "1. <b>source_id</b>, Unique Gaia identifier for the object\n",
    "2. <b>ra</b>, Right Ascension (celestial longitude) in degrees\n",
    "3. <b>dec</b>, Declination (celestial latitude) in degrees\n",
    "4. <b>pmra</b>, Proper motion in Right Ascension (mas/yr)\n",
    "5. <b>pmdec</b>, Proper motion in Declination (mas/yr)\n",
    "6. <b>parallax</b>, Parallax measurament (this is expected to be near zero for distant QSOs)\n",
    "7. <b>ruwe</b>, Renormalised Unit Weight Error (this indicates the quality of the data point)\n",
    "8. <b>phot_g_mean_mag</b>, Mean magnitude in Gaia's G-band \n",
    "9. <b>nu_eff_used_in_astrometry</b>, Efficient wavenumber denoted as $\\nu_{eff}$, this is used to charecterise the color of a celestial object by describing how its light is distributed across different wavelenghts."
   ]
  },
  {
   "cell_type": "markdown",
   "metadata": {},
   "source": [
    "We want to make suere the data matches the description provided in the papaer, i.e. we expect there to be 1614173 sources which are identified as QSO-like objects. "
   ]
  },
  {
   "cell_type": "code",
   "execution_count": 12,
   "metadata": {},
   "outputs": [
    {
     "data": {
      "text/plain": [
       "(1614173, 10)"
      ]
     },
     "execution_count": 12,
     "metadata": {},
     "output_type": "execute_result"
    }
   ],
   "source": [
    "# Display the shape of the dataset\n",
    "df.shape"
   ]
  },
  {
   "cell_type": "markdown",
   "metadata": {},
   "source": [
    "As expected, the above output confirms that there are 1614173 QSO-like objects in the dataset."
   ]
  },
  {
   "cell_type": "markdown",
   "metadata": {},
   "source": [
    "# Visualising Data\n",
    "\n",
    "In this section we are going to reproduce some of the plots presented in the paper [Gaia Early Data Realease 3, Acceleration of the Solar System from Gaia astrometry](https://www.aanda.org/articles/aa/full_html/2021/05/aa39734-20/aa39734-20.html). "
   ]
  },
  {
   "cell_type": "markdown",
   "metadata": {},
   "source": [
    "<b>Efficient wavenumber $\\nu_{eff}$</b> distribution visualisation:"
   ]
  },
  {
   "cell_type": "code",
   "execution_count": 23,
   "metadata": {},
   "outputs": [
    {
     "data": {
      "text/plain": [
       "(array([7.67985603e-04, 0.00000000e+00, 0.00000000e+00, 0.00000000e+00,\n",
       "        0.00000000e+00, 0.00000000e+00, 0.00000000e+00, 7.67985603e-04,\n",
       "        0.00000000e+00, 0.00000000e+00, 0.00000000e+00, 0.00000000e+00,\n",
       "        0.00000000e+00, 0.00000000e+00, 0.00000000e+00, 7.67985603e-04,\n",
       "        0.00000000e+00, 0.00000000e+00, 0.00000000e+00, 0.00000000e+00,\n",
       "        0.00000000e+00, 0.00000000e+00, 0.00000000e+00, 0.00000000e+00,\n",
       "        0.00000000e+00, 7.67985603e-04, 0.00000000e+00, 0.00000000e+00,\n",
       "        1.53597121e-03, 7.67985603e-04, 7.67985603e-04, 7.67985603e-04,\n",
       "        0.00000000e+00, 0.00000000e+00, 0.00000000e+00, 1.53597121e-03,\n",
       "        0.00000000e+00, 7.67985603e-04, 0.00000000e+00, 0.00000000e+00,\n",
       "        7.67985603e-04, 1.53597121e-03, 7.67985603e-04, 7.67985603e-04,\n",
       "        0.00000000e+00, 2.30395681e-03, 0.00000000e+00, 0.00000000e+00,\n",
       "        0.00000000e+00, 0.00000000e+00, 0.00000000e+00, 7.67985603e-04,\n",
       "        3.83992801e-03, 0.00000000e+00, 1.53597121e-03, 7.67985603e-04,\n",
       "        2.30395681e-03, 3.07194241e-03, 7.67985603e-04, 3.07194241e-03,\n",
       "        1.53597121e-03, 7.67985603e-04, 1.53597121e-03, 2.30395681e-03,\n",
       "        7.67985603e-04, 1.53597121e-03, 7.67985603e-04, 1.53597121e-03,\n",
       "        1.53597121e-03, 1.53597121e-03, 3.07194241e-03, 1.53597121e-03,\n",
       "        4.60791362e-03, 4.60791362e-03, 4.60791362e-03, 5.37589922e-03,\n",
       "        4.60791362e-03, 2.30395681e-03, 3.07194241e-03, 6.14388482e-03,\n",
       "        3.07194241e-03, 1.53597121e-03, 6.14388482e-03, 6.91187043e-03,\n",
       "        3.07194241e-03, 1.53597121e-03, 3.83992801e-03, 7.67985603e-03,\n",
       "        7.67985603e-03, 7.67985603e-04, 6.91187043e-03, 8.44784163e-03,\n",
       "        6.91187043e-03, 5.37589922e-03, 7.67985603e-03, 6.14388482e-03,\n",
       "        4.60791362e-03, 6.91187043e-03, 9.21582723e-03, 9.21582723e-03,\n",
       "        1.07517984e-02, 1.30557552e-02, 6.91187043e-03, 1.22877696e-02,\n",
       "        1.15197840e-02, 1.45917265e-02, 9.98381284e-03, 9.21582723e-03,\n",
       "        1.30557552e-02, 1.61276977e-02, 2.22715825e-02, 1.53597121e-02,\n",
       "        1.38237409e-02, 2.45755393e-02, 1.84316545e-02, 1.91996401e-02,\n",
       "        2.45755393e-02, 1.84316545e-02, 2.38075537e-02, 2.38075537e-02,\n",
       "        2.45755393e-02, 2.99514385e-02, 2.61115105e-02, 2.15035969e-02,\n",
       "        3.37913665e-02, 3.37913665e-02, 2.53435249e-02, 2.45755393e-02,\n",
       "        2.61115105e-02, 2.84154673e-02, 3.99352513e-02, 2.68794961e-02,\n",
       "        2.99514385e-02, 3.30233809e-02, 4.76151074e-02, 4.68471218e-02,\n",
       "        5.22230210e-02, 4.37751794e-02, 4.76151074e-02, 5.83669058e-02,\n",
       "        5.37589922e-02, 7.44946035e-02, 7.06546755e-02, 6.98866899e-02,\n",
       "        5.83669058e-02, 6.98866899e-02, 7.29586323e-02, 7.37266179e-02,\n",
       "        8.75503587e-02, 8.60143875e-02, 9.06223011e-02, 9.52302147e-02,\n",
       "        9.36942435e-02, 8.83183443e-02, 1.05214028e-01, 1.17501797e-01,\n",
       "        1.12125898e-01, 1.17501797e-01, 1.15965826e-01, 1.15197840e-01,\n",
       "        1.31325538e-01, 1.35933452e-01, 1.39773380e-01, 1.44381293e-01,\n",
       "        1.63580933e-01, 1.76636689e-01, 1.81244602e-01, 1.78172660e-01,\n",
       "        2.08124098e-01, 2.04284170e-01, 2.05052156e-01, 2.13499998e-01,\n",
       "        2.13499998e-01, 2.21179854e-01, 2.54203235e-01, 2.44219422e-01,\n",
       "        2.41915465e-01, 2.54203235e-01, 2.86458630e-01, 3.02586327e-01,\n",
       "        3.02586327e-01, 3.09498198e-01, 3.44825536e-01, 3.60185248e-01,\n",
       "        3.47129492e-01, 3.66329133e-01, 3.50201435e-01, 3.93208629e-01,\n",
       "        4.03960427e-01, 4.46967621e-01, 4.39287765e-01, 4.83062944e-01,\n",
       "        4.76151074e-01, 5.29142080e-01, 4.96886685e-01, 5.22998195e-01,\n",
       "        5.58325533e-01, 5.69845317e-01, 5.71381288e-01, 5.90580929e-01,\n",
       "        6.30516180e-01, 6.37428050e-01, 6.82739201e-01, 6.68915460e-01,\n",
       "        7.32658265e-01, 7.39570135e-01, 7.49553948e-01, 7.73361502e-01,\n",
       "        7.84113300e-01, 8.34032365e-01, 8.57071933e-01, 8.97775170e-01,\n",
       "        9.03919054e-01, 9.69965816e-01, 9.59982003e-01, 1.01374100e+00,\n",
       "        1.01604495e+00, 1.09898740e+00, 1.10282733e+00, 1.15121042e+00,\n",
       "        1.11281114e+00, 1.17348200e+00, 1.23492085e+00, 1.25335250e+00,\n",
       "        1.38160610e+00, 1.25719243e+00, 1.37085430e+00, 1.42230934e+00,\n",
       "        1.43843703e+00, 1.53443523e+00, 1.53059531e+00, 1.57667444e+00,\n",
       "        1.63888128e+00, 1.60662588e+00, 1.64886509e+00, 1.75254315e+00,\n",
       "        1.77020681e+00, 1.74793523e+00, 1.84623739e+00, 1.95759530e+00,\n",
       "        1.94837947e+00, 2.03900178e+00, 2.00367444e+00, 2.08892084e+00,\n",
       "        2.12655213e+00, 2.19183091e+00, 2.20872659e+00, 2.28322120e+00,\n",
       "        2.28782911e+00, 2.29397300e+00, 2.44219422e+00, 2.39381112e+00,\n",
       "        2.42606652e+00, 2.59425537e+00, 2.61345501e+00, 2.63419062e+00,\n",
       "        2.72097299e+00, 2.69716544e+00, 2.90452155e+00, 2.83540285e+00,\n",
       "        2.92602515e+00, 3.14413306e+00, 2.99898378e+00, 3.04506292e+00,\n",
       "        3.19482011e+00, 3.33612946e+00, 3.33536147e+00, 3.27622658e+00,\n",
       "        3.43366363e+00, 3.47283090e+00, 3.55500536e+00, 3.57958089e+00,\n",
       "        3.69938665e+00, 3.68940284e+00, 3.75237766e+00, 3.73701794e+00,\n",
       "        3.83071219e+00, 3.97893341e+00, 3.97432549e+00, 3.96434168e+00,\n",
       "        4.20088125e+00, 4.24388844e+00, 4.20548916e+00, 4.43281290e+00,\n",
       "        4.44510067e+00, 4.48503592e+00, 4.44279671e+00, 4.56183448e+00,\n",
       "        4.68087225e+00, 4.71312764e+00, 4.67549635e+00, 4.95273915e+00,\n",
       "        4.90358807e+00, 5.07945678e+00, 5.01955390e+00, 5.12246397e+00,\n",
       "        5.26607728e+00, 5.20310246e+00, 5.40047476e+00, 5.37973915e+00,\n",
       "        5.56098375e+00, 5.50338483e+00, 5.51720857e+00, 5.67925353e+00,\n",
       "        5.79368339e+00, 5.86280209e+00, 5.80289921e+00, 5.99643159e+00,\n",
       "        6.02407907e+00, 5.97032008e+00, 6.06017439e+00, 6.12391720e+00,\n",
       "        6.25677871e+00, 6.31591360e+00, 6.30592978e+00, 6.46259885e+00,\n",
       "        6.53478949e+00, 6.60774813e+00, 6.74598553e+00, 6.65766719e+00,\n",
       "        6.70528230e+00, 6.81433625e+00, 6.88883086e+00, 6.92799812e+00,\n",
       "        7.05087582e+00, 7.17375352e+00, 7.20447294e+00, 7.21983265e+00,\n",
       "        7.23212042e+00, 7.22981646e+00, 7.50014740e+00, 7.37650171e+00,\n",
       "        7.62916898e+00, 7.54238660e+00, 7.54085063e+00, 7.65528049e+00,\n",
       "        7.61688121e+00, 7.73207905e+00, 7.75204667e+00, 7.75127869e+00,\n",
       "        7.72516718e+00, 7.81425351e+00, 7.77585423e+00, 7.80657365e+00,\n",
       "        7.95940279e+00, 7.95479487e+00, 7.93713120e+00, 7.78507006e+00,\n",
       "        7.85188480e+00, 7.82807725e+00, 7.69214380e+00, 7.76817437e+00,\n",
       "        7.77892617e+00, 7.78967797e+00, 7.70519955e+00, 7.61073732e+00,\n",
       "        7.51473912e+00, 7.64606466e+00, 7.55928229e+00, 7.33119056e+00,\n",
       "        7.28587941e+00, 7.28280747e+00, 7.08313121e+00, 7.13996215e+00,\n",
       "        6.96486143e+00, 6.78976071e+00, 6.76441719e+00, 6.72294597e+00,\n",
       "        6.54400532e+00, 6.54170136e+00, 6.40960784e+00, 6.05556648e+00,\n",
       "        5.97953590e+00, 5.93038482e+00, 5.71611684e+00, 5.55176792e+00,\n",
       "        5.42581828e+00, 5.38741900e+00, 5.17161505e+00, 5.00803412e+00,\n",
       "        4.78531829e+00, 4.65706470e+00, 4.58641002e+00, 4.31607909e+00,\n",
       "        4.13406650e+00, 4.09182729e+00, 3.93592621e+00, 3.66175535e+00,\n",
       "        3.66482730e+00, 3.44748737e+00, 3.30310608e+00, 3.16026076e+00,\n",
       "        3.06426256e+00, 2.89914565e+00, 2.79853954e+00, 2.70714925e+00,\n",
       "        2.47598558e+00, 2.49134530e+00, 2.34773199e+00, 2.17032731e+00,\n",
       "        2.07663307e+00, 1.95298739e+00, 1.93532372e+00, 1.81705394e+00,\n",
       "        1.69187228e+00, 1.60124998e+00, 1.49987588e+00, 1.50294782e+00,\n",
       "        1.43690106e+00, 1.29943164e+00, 1.22340107e+00, 1.19498560e+00,\n",
       "        1.16273020e+00, 1.03601258e+00, 9.63821931e-01, 9.63053946e-01,\n",
       "        8.87023371e-01, 8.25584523e-01, 8.06384883e-01, 7.03474812e-01,\n",
       "        7.38802150e-01, 6.41267978e-01, 6.11316540e-01, 5.37589922e-01,\n",
       "        5.71381288e-01, 5.11478411e-01, 5.01494599e-01, 4.57719419e-01,\n",
       "        4.03960427e-01, 4.13944240e-01, 3.73241003e-01, 3.37913665e-01,\n",
       "        3.40217622e-01, 3.14106112e-01, 2.79546759e-01, 3.03354313e-01,\n",
       "        2.57275177e-01, 2.44987407e-01, 2.20411868e-01, 2.01212228e-01,\n",
       "        1.96604314e-01, 2.08124098e-01, 1.79708631e-01, 1.53597121e-01,\n",
       "        1.85852516e-01, 1.61276977e-01, 1.39773380e-01, 1.41309351e-01,\n",
       "        1.22877696e-01, 1.28253596e-01, 1.09821941e-01, 1.15965826e-01,\n",
       "        9.98381284e-02, 9.75341716e-02, 1.00606114e-01, 8.75503587e-02,\n",
       "        8.44784163e-02, 8.44784163e-02, 8.29424451e-02, 7.52625891e-02,\n",
       "        7.06546755e-02, 7.29586323e-02, 7.21906467e-02, 6.22068338e-02,\n",
       "        5.83669058e-02, 5.99028770e-02, 5.68309346e-02, 6.52787762e-02,\n",
       "        6.98866899e-02, 4.60791362e-02, 5.52949634e-02, 4.60791362e-02,\n",
       "        5.14550354e-02, 4.76151074e-02, 4.07032369e-02, 3.60953233e-02,\n",
       "        4.60791362e-02, 3.99352513e-02, 3.53273377e-02, 3.91672657e-02,\n",
       "        3.30233809e-02, 3.14874097e-02, 4.60791362e-02, 2.84154673e-02,\n",
       "        2.76474817e-02, 2.68794961e-02, 2.38075537e-02, 3.91672657e-02,\n",
       "        2.68794961e-02, 2.38075537e-02, 2.07356113e-02, 1.76636689e-02,\n",
       "        2.22715825e-02, 1.53597121e-02, 2.22715825e-02, 1.91996401e-02,\n",
       "        1.91996401e-02, 2.22715825e-02, 1.99676257e-02, 1.84316545e-02,\n",
       "        1.68956833e-02, 1.61276977e-02, 2.53435249e-02, 1.30557552e-02,\n",
       "        1.99676257e-02, 1.30557552e-02, 1.53597121e-02, 9.21582723e-03,\n",
       "        1.61276977e-02, 9.21582723e-03, 1.38237409e-02, 1.38237409e-02,\n",
       "        1.22877696e-02, 1.76636689e-02, 1.15197840e-02, 1.22877696e-02,\n",
       "        8.44784163e-03, 9.21582723e-03, 9.21582723e-03, 9.21582723e-03,\n",
       "        1.61276977e-02, 8.44784163e-03, 6.14388482e-03, 8.44784163e-03,\n",
       "        5.37589922e-03, 6.91187043e-03, 9.21582723e-03, 9.98381284e-03,\n",
       "        1.07517984e-02, 1.07517984e-02, 1.68956833e-02, 8.44784163e-03,\n",
       "        7.67985603e-03, 5.37589922e-03, 7.67985603e-03, 8.44784163e-03,\n",
       "        5.37589922e-03, 4.60791362e-03, 7.67985603e-03, 6.91187043e-03,\n",
       "        8.44784163e-03, 5.37589922e-03, 4.60791362e-03, 1.07517984e-02,\n",
       "        4.60791362e-03, 1.53597121e-03, 4.60791362e-03, 3.07194241e-03,\n",
       "        1.07517984e-02, 5.37589922e-03, 3.83992801e-03, 5.37589922e-03,\n",
       "        6.91187043e-03, 6.14388482e-03, 4.60791362e-03, 3.07194241e-03,\n",
       "        4.60791362e-03, 3.07194241e-03, 4.60791362e-03, 5.37589922e-03,\n",
       "        3.83992801e-03, 3.07194241e-03, 2.30395681e-03, 1.53597121e-03,\n",
       "        3.83992801e-03, 4.60791362e-03, 3.07194241e-03, 4.60791362e-03,\n",
       "        2.30395681e-03, 2.30395681e-03, 3.07194241e-03, 7.67985603e-04,\n",
       "        2.30395681e-03, 2.30395681e-03, 3.07194241e-03, 0.00000000e+00,\n",
       "        3.07194241e-03, 3.07194241e-03, 2.30395681e-03, 7.67985603e-04,\n",
       "        1.53597121e-03, 3.07194241e-03, 3.07194241e-03, 0.00000000e+00,\n",
       "        1.53597121e-03, 3.83992801e-03, 3.07194241e-03, 1.53597121e-03,\n",
       "        7.67985603e-04, 7.67985603e-04, 1.53597121e-03, 2.30395681e-03,\n",
       "        1.53597121e-03, 4.60791362e-03, 1.53597121e-03, 1.53597121e-03,\n",
       "        3.83992801e-03, 3.07194241e-03, 3.07194241e-03, 1.53597121e-03,\n",
       "        3.07194241e-03, 3.07194241e-03, 1.53597121e-03, 1.53597121e-03,\n",
       "        0.00000000e+00, 0.00000000e+00, 7.67985603e-04, 7.67985603e-04,\n",
       "        7.67985603e-04, 3.07194241e-03, 2.30395681e-03, 2.30395681e-03,\n",
       "        1.53597121e-03, 0.00000000e+00, 0.00000000e+00, 7.67985603e-04,\n",
       "        7.67985603e-04, 0.00000000e+00, 7.67985603e-04, 1.53597121e-03,\n",
       "        0.00000000e+00, 2.30395681e-03, 7.67985603e-04, 1.53597121e-03,\n",
       "        3.07194241e-03, 1.53597121e-03, 0.00000000e+00, 7.67985603e-04,\n",
       "        2.30395681e-03, 2.30395681e-03, 0.00000000e+00, 2.30395681e-03,\n",
       "        3.07194241e-03, 0.00000000e+00, 0.00000000e+00, 1.53597121e-03,\n",
       "        1.53597121e-03, 2.30395681e-03, 7.67985603e-04, 7.67985603e-04,\n",
       "        7.67985603e-04, 0.00000000e+00, 7.67985603e-04, 0.00000000e+00,\n",
       "        7.67985603e-04, 0.00000000e+00, 0.00000000e+00, 7.67985603e-04,\n",
       "        7.67985603e-04, 0.00000000e+00, 0.00000000e+00, 0.00000000e+00,\n",
       "        7.67985603e-04, 1.53597121e-03, 7.67985603e-04, 1.53597121e-03,\n",
       "        1.53597121e-03, 1.53597121e-03, 0.00000000e+00, 0.00000000e+00,\n",
       "        7.67985603e-04, 7.67985603e-04, 1.53597121e-03, 7.67985603e-04,\n",
       "        0.00000000e+00, 7.67985603e-04, 0.00000000e+00, 1.53597121e-03,\n",
       "        7.67985603e-04, 7.67985603e-04, 0.00000000e+00, 0.00000000e+00,\n",
       "        7.67985603e-04, 7.67985603e-04, 7.67985603e-04, 7.67985603e-04,\n",
       "        7.67985603e-04, 7.67985603e-04, 7.67985603e-04, 7.67985603e-04,\n",
       "        7.67985603e-04, 0.00000000e+00, 0.00000000e+00, 7.67985603e-04,\n",
       "        0.00000000e+00, 7.67985603e-04, 0.00000000e+00, 0.00000000e+00,\n",
       "        0.00000000e+00, 0.00000000e+00, 0.00000000e+00, 0.00000000e+00,\n",
       "        7.67985603e-04, 0.00000000e+00, 0.00000000e+00, 0.00000000e+00,\n",
       "        0.00000000e+00, 7.67985603e-04, 7.67985603e-04, 0.00000000e+00,\n",
       "        0.00000000e+00, 7.67985603e-04, 0.00000000e+00, 0.00000000e+00,\n",
       "        0.00000000e+00, 0.00000000e+00, 0.00000000e+00, 0.00000000e+00,\n",
       "        7.67985603e-04, 7.67985603e-04, 7.67985603e-04, 0.00000000e+00,\n",
       "        0.00000000e+00, 0.00000000e+00, 0.00000000e+00, 7.67985603e-04,\n",
       "        0.00000000e+00, 7.67985603e-04, 0.00000000e+00, 0.00000000e+00,\n",
       "        7.67985603e-04, 0.00000000e+00, 1.53597121e-03, 1.53597121e-03,\n",
       "        7.67985603e-04, 0.00000000e+00, 0.00000000e+00, 0.00000000e+00,\n",
       "        0.00000000e+00, 0.00000000e+00, 0.00000000e+00, 7.67985603e-04,\n",
       "        0.00000000e+00, 0.00000000e+00, 7.67985603e-04, 7.67985603e-04,\n",
       "        0.00000000e+00, 0.00000000e+00, 0.00000000e+00, 0.00000000e+00,\n",
       "        7.67985603e-04, 7.67985603e-04, 0.00000000e+00, 0.00000000e+00,\n",
       "        0.00000000e+00, 0.00000000e+00, 7.67985603e-04, 7.67985603e-04,\n",
       "        0.00000000e+00, 0.00000000e+00, 1.53597121e-03, 0.00000000e+00,\n",
       "        0.00000000e+00, 0.00000000e+00, 0.00000000e+00, 7.67985603e-04,\n",
       "        0.00000000e+00, 0.00000000e+00, 0.00000000e+00, 0.00000000e+00,\n",
       "        7.67985603e-04, 7.67985603e-04, 0.00000000e+00, 0.00000000e+00,\n",
       "        0.00000000e+00, 0.00000000e+00, 0.00000000e+00, 0.00000000e+00,\n",
       "        0.00000000e+00, 0.00000000e+00, 0.00000000e+00, 0.00000000e+00,\n",
       "        7.67985603e-04, 0.00000000e+00, 0.00000000e+00, 7.67985603e-04,\n",
       "        0.00000000e+00, 0.00000000e+00, 0.00000000e+00, 0.00000000e+00,\n",
       "        0.00000000e+00, 0.00000000e+00, 0.00000000e+00, 0.00000000e+00,\n",
       "        7.67985603e-04, 0.00000000e+00, 0.00000000e+00, 0.00000000e+00,\n",
       "        0.00000000e+00, 0.00000000e+00, 0.00000000e+00, 0.00000000e+00,\n",
       "        0.00000000e+00, 0.00000000e+00, 0.00000000e+00, 0.00000000e+00,\n",
       "        0.00000000e+00, 7.67985603e-04, 0.00000000e+00, 0.00000000e+00,\n",
       "        0.00000000e+00, 0.00000000e+00, 0.00000000e+00, 0.00000000e+00,\n",
       "        0.00000000e+00, 0.00000000e+00, 0.00000000e+00, 7.67985603e-04,\n",
       "        0.00000000e+00, 0.00000000e+00, 0.00000000e+00, 0.00000000e+00,\n",
       "        0.00000000e+00, 0.00000000e+00, 0.00000000e+00, 0.00000000e+00,\n",
       "        0.00000000e+00, 0.00000000e+00, 0.00000000e+00, 0.00000000e+00,\n",
       "        0.00000000e+00, 0.00000000e+00, 0.00000000e+00, 0.00000000e+00,\n",
       "        0.00000000e+00, 0.00000000e+00, 0.00000000e+00, 0.00000000e+00,\n",
       "        0.00000000e+00, 0.00000000e+00, 0.00000000e+00, 0.00000000e+00,\n",
       "        0.00000000e+00, 0.00000000e+00, 0.00000000e+00, 0.00000000e+00,\n",
       "        0.00000000e+00, 0.00000000e+00, 0.00000000e+00, 0.00000000e+00,\n",
       "        0.00000000e+00, 0.00000000e+00, 0.00000000e+00, 0.00000000e+00,\n",
       "        0.00000000e+00, 0.00000000e+00, 0.00000000e+00, 0.00000000e+00,\n",
       "        0.00000000e+00, 0.00000000e+00, 0.00000000e+00, 0.00000000e+00,\n",
       "        0.00000000e+00, 0.00000000e+00, 0.00000000e+00, 0.00000000e+00,\n",
       "        0.00000000e+00, 0.00000000e+00, 0.00000000e+00, 0.00000000e+00,\n",
       "        0.00000000e+00, 0.00000000e+00, 0.00000000e+00, 0.00000000e+00,\n",
       "        0.00000000e+00, 0.00000000e+00, 0.00000000e+00, 0.00000000e+00,\n",
       "        0.00000000e+00, 0.00000000e+00, 0.00000000e+00, 0.00000000e+00,\n",
       "        0.00000000e+00, 0.00000000e+00, 0.00000000e+00, 0.00000000e+00,\n",
       "        0.00000000e+00, 0.00000000e+00, 0.00000000e+00, 0.00000000e+00,\n",
       "        0.00000000e+00, 0.00000000e+00, 0.00000000e+00, 0.00000000e+00,\n",
       "        0.00000000e+00, 0.00000000e+00, 0.00000000e+00, 0.00000000e+00,\n",
       "        0.00000000e+00, 0.00000000e+00, 0.00000000e+00, 0.00000000e+00,\n",
       "        0.00000000e+00, 0.00000000e+00, 0.00000000e+00, 0.00000000e+00,\n",
       "        0.00000000e+00, 0.00000000e+00, 0.00000000e+00, 0.00000000e+00,\n",
       "        0.00000000e+00, 0.00000000e+00, 0.00000000e+00, 0.00000000e+00,\n",
       "        0.00000000e+00, 0.00000000e+00, 0.00000000e+00, 0.00000000e+00,\n",
       "        0.00000000e+00, 0.00000000e+00, 0.00000000e+00, 0.00000000e+00,\n",
       "        0.00000000e+00, 0.00000000e+00, 0.00000000e+00, 0.00000000e+00,\n",
       "        0.00000000e+00, 0.00000000e+00, 0.00000000e+00, 0.00000000e+00,\n",
       "        0.00000000e+00, 0.00000000e+00, 0.00000000e+00, 0.00000000e+00,\n",
       "        0.00000000e+00, 0.00000000e+00, 0.00000000e+00, 0.00000000e+00,\n",
       "        0.00000000e+00, 0.00000000e+00, 0.00000000e+00, 0.00000000e+00,\n",
       "        0.00000000e+00, 0.00000000e+00, 0.00000000e+00, 0.00000000e+00,\n",
       "        0.00000000e+00, 0.00000000e+00, 0.00000000e+00, 0.00000000e+00,\n",
       "        0.00000000e+00, 0.00000000e+00, 0.00000000e+00, 0.00000000e+00,\n",
       "        0.00000000e+00, 0.00000000e+00, 0.00000000e+00, 0.00000000e+00,\n",
       "        0.00000000e+00, 0.00000000e+00, 0.00000000e+00, 0.00000000e+00,\n",
       "        0.00000000e+00, 0.00000000e+00, 0.00000000e+00, 0.00000000e+00,\n",
       "        0.00000000e+00, 0.00000000e+00, 0.00000000e+00, 0.00000000e+00,\n",
       "        0.00000000e+00, 0.00000000e+00, 0.00000000e+00, 0.00000000e+00,\n",
       "        0.00000000e+00, 0.00000000e+00, 0.00000000e+00, 0.00000000e+00,\n",
       "        0.00000000e+00, 0.00000000e+00, 0.00000000e+00, 0.00000000e+00,\n",
       "        0.00000000e+00, 0.00000000e+00, 0.00000000e+00, 0.00000000e+00,\n",
       "        0.00000000e+00, 0.00000000e+00, 0.00000000e+00, 0.00000000e+00,\n",
       "        0.00000000e+00, 0.00000000e+00, 0.00000000e+00, 0.00000000e+00,\n",
       "        0.00000000e+00, 0.00000000e+00, 0.00000000e+00, 0.00000000e+00,\n",
       "        0.00000000e+00, 0.00000000e+00, 0.00000000e+00, 0.00000000e+00,\n",
       "        0.00000000e+00, 0.00000000e+00, 0.00000000e+00, 0.00000000e+00,\n",
       "        0.00000000e+00, 7.67985603e-04, 0.00000000e+00, 7.67985603e-04]),\n",
       " array([1.23579729, 1.23686815, 1.23793901, ..., 2.30451893, 2.30558979,\n",
       "        2.30666065], shape=(1001,)),\n",
       " <BarContainer object of 1000 artists>)"
      ]
     },
     "execution_count": 23,
     "metadata": {},
     "output_type": "execute_result"
    },
    {
     "data": {
      "image/png": "[encoded data removed]",
      "text/plain": [
       "<Figure size 640x480 with 1 Axes>"
      ]
     },
     "metadata": {},
     "output_type": "display_data"
    }
   ],
   "source": [
    "import matplotlib.pyplot as plt\n",
    "\n",
    "# setting data_nu_eff\n",
    "\n",
    "data_nu_eff = df['nu_eff_used_in_astrometry']\n",
    "\n",
    "plt.hist(data_nu_eff, bins=1000, density=True, alpha=0.6)\n"
   ]
  }
 ],
 "metadata": {
  "kernelspec": {
   "display_name": "gaia_venv",
   "language": "python",
   "name": "python3"
  },
  "language_info": {
   "codemirror_mode": {
    "name": "ipython",
    "version": 3
   },
   "file_extension": ".py",
   "mimetype": "text/x-python",
   "name": "python",
   "nbconvert_exporter": "python",
   "pygments_lexer": "ipython3",
   "version": "3.12.3"
  }
 },
 "nbformat": 4,
 "nbformat_minor": 2
}
