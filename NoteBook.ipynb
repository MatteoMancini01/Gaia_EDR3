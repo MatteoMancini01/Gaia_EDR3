{
 "cells": [
  {
   "cell_type": "markdown",
   "metadata": {},
   "source": [
    "# Importing Data \n",
    "\n",
    "Once the data is successfuly downloaded from [https://gea.esac.esa.int/archive/](https://gea.esac.esa.int/archive/), and correctly decompressed following the instroctions provided in [Neeed to add link to README from personal github](add-link), we can now import the data on Python and store it as a data frame using the package [pandas](https://pandas.pydata.org/)."
   ]
  },
  {
   "cell_type": "code",
   "execution_count": 5,
   "metadata": {},
   "outputs": [
    {
     "name": "stdout",
     "output_type": "stream",
     "text": [
      "  source_name_in_catalogue            source_id                 catalogue_name\n",
      "0      J174227.66-170055.3  4123935547888822656  AllWISE (Secrest et al. 2015)\n",
      "1      J075739.42-170217.3  5718208892558907648  AllWISE (Secrest et al. 2015)\n",
      "2      J075602.64-171829.5  5718174807695152384  AllWISE (Secrest et al. 2015)\n",
      "3         1194m167o0006708  5718012041318231680  Gaia-unWISE (Shu et al. 2019)\n",
      "4      J075642.64-171141.9  5718199855947920128  AllWISE (Secrest et al. 2015)\n"
     ]
    }
   ],
   "source": [
    "from astroquery.gaia import Gaia\n",
    "import pandas as pd\n",
    "\n",
    "# Query to get the astrometric properties of QSO-like objects\n",
    "query = \"\"\"\n",
    "SELECT \n",
    "    agn.source_id, \n",
    "    gs.ra, gs.dec, \n",
    "    gs.pmra, gs.pmdec, \n",
    "    gs.parallax, gs.parallax_error, \n",
    "    gs.ruwe, gs.phot_g_mean_mag \n",
    "FROM gaiadr3.agn_cross_id AS agn\n",
    "JOIN gaiadr3.gaia_source AS gs \n",
    "ON agn.source_id = gs.source_id\n",
    "WHERE gs.parallax < 5 * gs.parallax_error  -- Remove potential stars\n",
    "AND gs.ruwe < 1.4  -- Ensure good astrometric quality\n",
    "AND gs.phot_g_mean_mag < 21  -- Bright enough for good measurements\n",
    "\"\"\"\n",
    "\n",
    "# Launch query and download data\n",
    "job = Gaia.launch_job_async(query)\n",
    "result = job.get_results()\n",
    "\n",
    "# Save as CSV\n",
    "result.write(\"qso_full_data.csv\", format=\"csv\", overwrite=True)\n"
   ]
  },
  {
   "cell_type": "code",
   "execution_count": 12,
   "metadata": {},
   "outputs": [
    {
     "name": "stdout",
     "output_type": "stream",
     "text": [
      "        source_id         ra       dec      pmra     pmdec  parallax  \\\n",
      "0   3470333738112  45.075505  0.152316 -1.072371 -3.191011  0.366321   \n",
      "1   5944234902272  44.884761  0.164806 -0.121274  0.725026 -0.395659   \n",
      "2   6459630980096  44.910498  0.189649  0.217806 -0.316007 -0.626561   \n",
      "3   9517648372480  45.254655  0.228999 -0.552941 -1.895446 -0.917219   \n",
      "4  10892037246720  45.188575  0.282424 -0.098037 -0.120580  0.001630   \n",
      "\n",
      "   parallax_error      ruwe  phot_g_mean_mag  \n",
      "0        0.901633  0.889714        20.571114  \n",
      "1        1.340139  1.087911        20.704517  \n",
      "2        0.548536  1.020956        20.173105  \n",
      "3        1.507964  1.031971        20.634562  \n",
      "4        0.246332  0.974657        18.787239  \n"
     ]
    }
   ],
   "source": [
    "# Load into Pandas\n",
    "df = pd.read_csv(\"qso_full_data.csv\")\n",
    "print(df.head())  # Check the data"
   ]
  },
  {
   "cell_type": "markdown",
   "metadata": {},
   "source": [
    "### Column Content\n",
    "\n",
    "Before we procede, we need to understand what each column contains, to do so let us print the heading of each column."
   ]
  },
  {
   "cell_type": "code",
   "execution_count": 13,
   "metadata": {},
   "outputs": [
    {
     "name": "stdout",
     "output_type": "stream",
     "text": [
      "Index(['source_id', 'ra', 'dec', 'pmra', 'pmdec', 'parallax', 'parallax_error',\n",
      "       'ruwe', 'phot_g_mean_mag'],\n",
      "      dtype='object')\n"
     ]
    }
   ],
   "source": [
    "# Check column names\n",
    "print(df.columns)"
   ]
  },
  {
   "cell_type": "markdown",
   "metadata": {},
   "source": [
    "The output above, displays:\n",
    "\n",
    "1. <b>source_name_in_catalogue</b>, "
   ]
  },
  {
   "cell_type": "markdown",
   "metadata": {},
   "source": [
    "We want to make suere the data matches the description provided in the papaer, i.e. we expect there to be 1614173 sources which are identified as QSO-like objects. "
   ]
  },
  {
   "cell_type": "code",
   "execution_count": 14,
   "metadata": {},
   "outputs": [
    {
     "data": {
      "text/plain": [
       "(1596027, 9)"
      ]
     },
     "execution_count": 14,
     "metadata": {},
     "output_type": "execute_result"
    }
   ],
   "source": [
    "# Display the shape of the dataset\n",
    "df.shape"
   ]
  },
  {
   "cell_type": "markdown",
   "metadata": {},
   "source": [
    "As expected, the above output confirms that there are 1614173 QSO-like objects in the dataset."
   ]
  },
  {
   "cell_type": "markdown",
   "metadata": {},
   "source": [
    "# Visualising Data\n",
    "\n",
    "In this section we are going to reproduce some of the plots presented in the paper [Gaia Early Data Realease 3, Acceleration of the Solar System from Gaia astrometry](https://www.aanda.org/articles/aa/full_html/2021/05/aa39734-20/aa39734-20.html). "
   ]
  },
  {
   "cell_type": "code",
   "execution_count": 11,
   "metadata": {},
   "outputs": [
    {
     "data": {
      "text/plain": [
       "Index(['source_id', 'ra', 'dec', 'pmra', 'pmdec', 'parallax', 'parallax_error',\n",
       "       'ruwe', 'phot_g_mean_mag'],\n",
       "      dtype='object')"
      ]
     },
     "execution_count": 11,
     "metadata": {},
     "output_type": "execute_result"
    }
   ],
   "source": [
    "df.columns"
   ]
  },
  {
   "cell_type": "markdown",
   "metadata": {},
   "source": []
  }
 ],
 "metadata": {
  "kernelspec": {
   "display_name": "gaia_venv",
   "language": "python",
   "name": "python3"
  },
  "language_info": {
   "codemirror_mode": {
    "name": "ipython",
    "version": 3
   },
   "file_extension": ".py",
   "mimetype": "text/x-python",
   "name": "python",
   "nbconvert_exporter": "python",
   "pygments_lexer": "ipython3",
   "version": "3.12.3"
  }
 },
 "nbformat": 4,
 "nbformat_minor": 2
}
