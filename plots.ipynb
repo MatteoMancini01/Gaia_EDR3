{
 "cells": [
  {
   "cell_type": "markdown",
   "id": "89a1b48a",
   "metadata": {},
   "source": [
    "### Reproducting figure 7 in Acceleration of the Solar System from Gaia astrometry"
   ]
  },
  {
   "cell_type": "code",
   "execution_count": 2,
   "id": "042811f4",
   "metadata": {},
   "outputs": [
    {
     "name": "stderr",
     "output_type": "stream",
     "text": [
      "/root/Document/Gaia_Project/mem97/gaia_venv/lib/python3.12/site-packages/tqdm/auto.py:21: TqdmWarning: IProgress not found. Please update jupyter and ipywidgets. See https://ipywidgets.readthedocs.io/en/stable/user_install.html\n",
      "  from .autonotebook import tqdm as notebook_tqdm\n"
     ]
    }
   ],
   "source": [
    "import jax \n",
    "import jax.numpy as jnp\n",
    "import numpy as np\n",
    "from src.models.vsh_model import*\n",
    "import pandas as pd\n",
    "from src.models.configuration import*\n",
    "from src.data.data_utils import*\n",
    "import gc"
   ]
  },
  {
   "cell_type": "code",
   "execution_count": 3,
   "id": "14028097",
   "metadata": {},
   "outputs": [],
   "source": [
    "# Load data\n",
    "df = load_filtered_qso_df()\n",
    "angles, obs, error = config_data(df)"
   ]
  },
  {
   "cell_type": "markdown",
   "id": "c3bba6b2",
   "metadata": {},
   "source": [
    "Separating data in to upper and lower plane ($\\delta > 0$ and $\\delta<0$ respectivelly)"
   ]
  },
  {
   "cell_type": "code",
   "execution_count": 4,
   "id": "90f2ea54",
   "metadata": {},
   "outputs": [],
   "source": [
    "alpha = angles[0]\n",
    "delta = angles[1]\n",
    "\n",
    "# Upper plane\n",
    "mask_upper = delta>=0\n",
    "ra_upper = alpha[mask_upper]\n",
    "dec_upper = delta[mask_upper]\n",
    "\n",
    "angles_upper = np.stack([ra_upper, dec_upper])\n",
    "obs_upper = obs[:, mask_upper]\n",
    "error_upper = error[:, mask_upper]\n",
    "\n",
    "# Lower plane\n",
    "mask_lower = delta<0\n",
    "ra_lower = alpha[mask_lower]\n",
    "dec_lower = delta[mask_lower]\n",
    "\n",
    "angles_lower = np.stack([ra_lower, dec_lower])\n",
    "obs_lower = obs[:, mask_lower]\n",
    "error_lower = error[:, mask_lower]"
   ]
  },
  {
   "cell_type": "code",
   "execution_count": 5,
   "id": "e26880c8",
   "metadata": {},
   "outputs": [],
   "source": [
    "# Quick assert test\n",
    "assert len(angles_upper[0]) == len(obs_upper[0])\n",
    "assert len(obs_upper[0]) == len(error_upper[0])\n",
    "assert len(angles_lower[0]) == len(obs_lower[0])\n",
    "assert len(obs_lower[0]) == len(error_lower[0])"
   ]
  },
  {
   "cell_type": "markdown",
   "id": "90686959",
   "metadata": {},
   "source": [
    "# Use HMC Sampling"
   ]
  },
  {
   "cell_type": "code",
   "execution_count": 6,
   "id": "8cbdaada",
   "metadata": {},
   "outputs": [],
   "source": [
    "from numpyro.infer import MCMC, NUTS\n",
    "import numpyro.distributions as dist\n",
    "from numpyro.distributions import transforms\n",
    "import matplotlib.pyplot as plt"
   ]
  },
  {
   "cell_type": "code",
   "execution_count": 7,
   "id": "23b82c73",
   "metadata": {},
   "outputs": [],
   "source": [
    "def chi2_jit(angles, obs, error, theta, lmax):\n",
    "    return least_square(angles, obs, error, theta, lmax=lmax, grid=False)\n",
    "chi2_jit = jit(chi2_jit, static_argnames=['lmax'])\n",
    "\n",
    "\n",
    "def model_for_HMC(angles, obs, error, lmax):\n",
    "    total_params = count_vsh_coeffs(lmax)\n",
    "    \n",
    "    # Prior on all VSH coefficients (both toroidal and spheroidal)\n",
    "    theta = numpyro.sample(\"theta\", dist.Uniform(-.01, .01).expand([total_params]))\n",
    "    # Least-squares residuals: we assume Gaussian-distributed residuals\n",
    "    chi2_val = chi2_jit(angles, obs, error, theta, lmax=lmax)\n",
    "\n",
    "    # The log-likelihood is proportional to -0.5*chi^2\n",
    "    numpyro.factor(\"likelihood\", -0.5*chi2_val)\n",
    "\n",
    "n_s = 4000 # number of samples\n",
    "n_warmup = 2000 #  number of warmups \n",
    "n_chains = 4 # numbe of chains"
   ]
  },
  {
   "cell_type": "code",
   "execution_count": 8,
   "id": "e5ea4d00",
   "metadata": {},
   "outputs": [
    {
     "name": "stderr",
     "output_type": "stream",
     "text": [
      "/tmp/ipykernel_31748/3895959959.py:4: UserWarning: There are not enough devices to run parallel chains: expected 4 but got 1. Chains will be drawn sequentially. If you are running MCMC in CPU, consider using `numpyro.set_host_device_count(4)` at the beginning of your program. You can double-check how many devices are available in your system using `jax.local_device_count()`.\n",
      "  mcmc = MCMC(kernel, num_warmup=n_warmup, num_samples=n_s, num_chains=n_chains, progress_bar=True)\n",
      "warmup:   0%|          | 8/6000 [05:47<72:19:27, 43.45s/it, 127 steps of size 1.48e-01. acc. prob=0.58]\n"
     ]
    },
    {
     "ename": "KeyboardInterrupt",
     "evalue": "",
     "output_type": "error",
     "traceback": [
      "\u001b[0;31m---------------------------------------------------------------------------\u001b[0m",
      "\u001b[0;31mKeyboardInterrupt\u001b[0m                         Traceback (most recent call last)",
      "Cell \u001b[0;32mIn[8], line 5\u001b[0m\n\u001b[1;32m      3\u001b[0m kernel \u001b[38;5;241m=\u001b[39m NUTS(model_for_HMC, target_accept_prob\u001b[38;5;241m=\u001b[39m\u001b[38;5;241m0.75\u001b[39m) \u001b[38;5;66;03m# this is to make sure acceptance does not exceed 90%\u001b[39;00m\n\u001b[1;32m      4\u001b[0m mcmc \u001b[38;5;241m=\u001b[39m MCMC(kernel, num_warmup\u001b[38;5;241m=\u001b[39mn_warmup, num_samples\u001b[38;5;241m=\u001b[39mn_s, num_chains\u001b[38;5;241m=\u001b[39mn_chains, progress_bar\u001b[38;5;241m=\u001b[39m\u001b[38;5;28;01mTrue\u001b[39;00m)\n\u001b[0;32m----> 5\u001b[0m \u001b[43mmcmc\u001b[49m\u001b[38;5;241;43m.\u001b[39;49m\u001b[43mrun\u001b[49m\u001b[43m(\u001b[49m\u001b[43mrng_key\u001b[49m\u001b[43m,\u001b[49m\u001b[43m \u001b[49m\u001b[43mangles\u001b[49m\u001b[43m \u001b[49m\u001b[38;5;241;43m=\u001b[39;49m\u001b[43m \u001b[49m\u001b[43mangles_upper\u001b[49m\u001b[43m,\u001b[49m\u001b[43m \u001b[49m\u001b[43mobs\u001b[49m\u001b[43m \u001b[49m\u001b[38;5;241;43m=\u001b[39;49m\u001b[43m \u001b[49m\u001b[43mobs_upper\u001b[49m\u001b[43m,\u001b[49m\u001b[43m \u001b[49m\u001b[43merror\u001b[49m\u001b[43m \u001b[49m\u001b[38;5;241;43m=\u001b[39;49m\u001b[43m \u001b[49m\u001b[43merror_upper\u001b[49m\u001b[43m,\u001b[49m\u001b[43m \u001b[49m\u001b[43mlmax\u001b[49m\u001b[38;5;241;43m=\u001b[39;49m\u001b[38;5;241;43m10\u001b[39;49m\u001b[43m)\u001b[49m\n\u001b[1;32m      6\u001b[0m ps \u001b[38;5;241m=\u001b[39m mcmc\u001b[38;5;241m.\u001b[39mget_samples()\n",
      "File \u001b[0;32m~/Document/Gaia_Project/mem97/gaia_venv/lib/python3.12/site-packages/numpyro/infer/mcmc.py:706\u001b[0m, in \u001b[0;36mMCMC.run\u001b[0;34m(self, rng_key, extra_fields, init_params, *args, **kwargs)\u001b[0m\n\u001b[1;32m    704\u001b[0m \u001b[38;5;28;01melse\u001b[39;00m:\n\u001b[1;32m    705\u001b[0m     \u001b[38;5;28;01mif\u001b[39;00m \u001b[38;5;28mself\u001b[39m\u001b[38;5;241m.\u001b[39mchain_method \u001b[38;5;241m==\u001b[39m \u001b[38;5;124m\"\u001b[39m\u001b[38;5;124msequential\u001b[39m\u001b[38;5;124m\"\u001b[39m:\n\u001b[0;32m--> 706\u001b[0m         states, last_state \u001b[38;5;241m=\u001b[39m \u001b[43m_laxmap\u001b[49m\u001b[43m(\u001b[49m\u001b[43mpartial_map_fn\u001b[49m\u001b[43m,\u001b[49m\u001b[43m \u001b[49m\u001b[43mmap_args\u001b[49m\u001b[43m)\u001b[49m\n\u001b[1;32m    707\u001b[0m     \u001b[38;5;28;01melif\u001b[39;00m \u001b[38;5;28mself\u001b[39m\u001b[38;5;241m.\u001b[39mchain_method \u001b[38;5;241m==\u001b[39m \u001b[38;5;124m\"\u001b[39m\u001b[38;5;124mparallel\u001b[39m\u001b[38;5;124m\"\u001b[39m:\n\u001b[1;32m    708\u001b[0m         states, last_state \u001b[38;5;241m=\u001b[39m pmap(partial_map_fn)(map_args)\n",
      "File \u001b[0;32m~/Document/Gaia_Project/mem97/gaia_venv/lib/python3.12/site-packages/numpyro/infer/mcmc.py:177\u001b[0m, in \u001b[0;36m_laxmap\u001b[0;34m(f, xs)\u001b[0m\n\u001b[1;32m    175\u001b[0m \u001b[38;5;28;01mfor\u001b[39;00m i \u001b[38;5;129;01min\u001b[39;00m \u001b[38;5;28mrange\u001b[39m(n):\n\u001b[1;32m    176\u001b[0m     x \u001b[38;5;241m=\u001b[39m jit(_get_value_from_index)(xs, i)\n\u001b[0;32m--> 177\u001b[0m     ys\u001b[38;5;241m.\u001b[39mappend(\u001b[43mf\u001b[49m\u001b[43m(\u001b[49m\u001b[43mx\u001b[49m\u001b[43m)\u001b[49m)\n\u001b[1;32m    179\u001b[0m \u001b[38;5;28;01mreturn\u001b[39;00m jax\u001b[38;5;241m.\u001b[39mtree\u001b[38;5;241m.\u001b[39mmap(\u001b[38;5;28;01mlambda\u001b[39;00m \u001b[38;5;241m*\u001b[39margs: jnp\u001b[38;5;241m.\u001b[39mstack(args), \u001b[38;5;241m*\u001b[39mys)\n",
      "File \u001b[0;32m~/Document/Gaia_Project/mem97/gaia_venv/lib/python3.12/site-packages/numpyro/infer/mcmc.py:489\u001b[0m, in \u001b[0;36mMCMC._single_chain_mcmc\u001b[0;34m(self, init, args, kwargs, collect_fields, remove_sites)\u001b[0m\n\u001b[1;32m    483\u001b[0m collection_size \u001b[38;5;241m=\u001b[39m \u001b[38;5;28mself\u001b[39m\u001b[38;5;241m.\u001b[39m_collection_params[\u001b[38;5;124m\"\u001b[39m\u001b[38;5;124mcollection_size\u001b[39m\u001b[38;5;124m\"\u001b[39m]\n\u001b[1;32m    484\u001b[0m collection_size \u001b[38;5;241m=\u001b[39m (\n\u001b[1;32m    485\u001b[0m     collection_size\n\u001b[1;32m    486\u001b[0m     \u001b[38;5;28;01mif\u001b[39;00m collection_size \u001b[38;5;129;01mis\u001b[39;00m \u001b[38;5;28;01mNone\u001b[39;00m\n\u001b[1;32m    487\u001b[0m     \u001b[38;5;28;01melse\u001b[39;00m collection_size \u001b[38;5;241m/\u001b[39m\u001b[38;5;241m/\u001b[39m \u001b[38;5;28mself\u001b[39m\u001b[38;5;241m.\u001b[39mthinning\n\u001b[1;32m    488\u001b[0m )\n\u001b[0;32m--> 489\u001b[0m collect_vals \u001b[38;5;241m=\u001b[39m \u001b[43mfori_collect\u001b[49m\u001b[43m(\u001b[49m\n\u001b[1;32m    490\u001b[0m \u001b[43m    \u001b[49m\u001b[43mlower_idx\u001b[49m\u001b[43m,\u001b[49m\n\u001b[1;32m    491\u001b[0m \u001b[43m    \u001b[49m\u001b[43mupper_idx\u001b[49m\u001b[43m,\u001b[49m\n\u001b[1;32m    492\u001b[0m \u001b[43m    \u001b[49m\u001b[43msample_fn\u001b[49m\u001b[43m,\u001b[49m\n\u001b[1;32m    493\u001b[0m \u001b[43m    \u001b[49m\u001b[43minit_val\u001b[49m\u001b[43m,\u001b[49m\n\u001b[1;32m    494\u001b[0m \u001b[43m    \u001b[49m\u001b[43mtransform\u001b[49m\u001b[38;5;241;43m=\u001b[39;49m\u001b[43m_collect_and_postprocess\u001b[49m\u001b[43m(\u001b[49m\n\u001b[1;32m    495\u001b[0m \u001b[43m        \u001b[49m\u001b[43mpostprocess_fn\u001b[49m\u001b[43m,\u001b[49m\u001b[43m \u001b[49m\u001b[43mcollect_fields\u001b[49m\u001b[43m,\u001b[49m\u001b[43m \u001b[49m\u001b[43mremove_sites\u001b[49m\n\u001b[1;32m    496\u001b[0m \u001b[43m    \u001b[49m\u001b[43m)\u001b[49m\u001b[43m,\u001b[49m\n\u001b[1;32m    497\u001b[0m \u001b[43m    \u001b[49m\u001b[43mprogbar\u001b[49m\u001b[38;5;241;43m=\u001b[39;49m\u001b[38;5;28;43mself\u001b[39;49m\u001b[38;5;241;43m.\u001b[39;49m\u001b[43mprogress_bar\u001b[49m\u001b[43m,\u001b[49m\n\u001b[1;32m    498\u001b[0m \u001b[43m    \u001b[49m\u001b[43mreturn_last_val\u001b[49m\u001b[38;5;241;43m=\u001b[39;49m\u001b[38;5;28;43;01mTrue\u001b[39;49;00m\u001b[43m,\u001b[49m\n\u001b[1;32m    499\u001b[0m \u001b[43m    \u001b[49m\u001b[43mthinning\u001b[49m\u001b[38;5;241;43m=\u001b[39;49m\u001b[38;5;28;43mself\u001b[39;49m\u001b[38;5;241;43m.\u001b[39;49m\u001b[43mthinning\u001b[49m\u001b[43m,\u001b[49m\n\u001b[1;32m    500\u001b[0m \u001b[43m    \u001b[49m\u001b[43mcollection_size\u001b[49m\u001b[38;5;241;43m=\u001b[39;49m\u001b[43mcollection_size\u001b[49m\u001b[43m,\u001b[49m\n\u001b[1;32m    501\u001b[0m \u001b[43m    \u001b[49m\u001b[43mprogbar_desc\u001b[49m\u001b[38;5;241;43m=\u001b[39;49m\u001b[43mpartial\u001b[49m\u001b[43m(\u001b[49m\u001b[43m_get_progbar_desc_str\u001b[49m\u001b[43m,\u001b[49m\u001b[43m \u001b[49m\u001b[43mlower_idx\u001b[49m\u001b[43m,\u001b[49m\u001b[43m \u001b[49m\u001b[43mphase\u001b[49m\u001b[43m)\u001b[49m\u001b[43m,\u001b[49m\n\u001b[1;32m    502\u001b[0m \u001b[43m    \u001b[49m\u001b[43mdiagnostics_fn\u001b[49m\u001b[38;5;241;43m=\u001b[39;49m\u001b[43mdiagnostics\u001b[49m\u001b[43m,\u001b[49m\n\u001b[1;32m    503\u001b[0m \u001b[43m    \u001b[49m\u001b[43mnum_chains\u001b[49m\u001b[38;5;241;43m=\u001b[39;49m\u001b[38;5;28;43mself\u001b[39;49m\u001b[38;5;241;43m.\u001b[39;49m\u001b[43mnum_chains\u001b[49m\n\u001b[1;32m    504\u001b[0m \u001b[43m    \u001b[49m\u001b[38;5;28;43;01mif\u001b[39;49;00m\u001b[43m \u001b[49m\u001b[43m(\u001b[49m\u001b[38;5;28;43mcallable\u001b[39;49m\u001b[43m(\u001b[49m\u001b[38;5;28;43mself\u001b[39;49m\u001b[38;5;241;43m.\u001b[39;49m\u001b[43mchain_method\u001b[49m\u001b[43m)\u001b[49m\u001b[43m \u001b[49m\u001b[38;5;129;43;01mor\u001b[39;49;00m\u001b[43m \u001b[49m\u001b[38;5;28;43mself\u001b[39;49m\u001b[38;5;241;43m.\u001b[39;49m\u001b[43mchain_method\u001b[49m\u001b[43m \u001b[49m\u001b[38;5;241;43m==\u001b[39;49m\u001b[43m \u001b[49m\u001b[38;5;124;43m\"\u001b[39;49m\u001b[38;5;124;43mparallel\u001b[39;49m\u001b[38;5;124;43m\"\u001b[39;49m\u001b[43m)\u001b[49m\n\u001b[1;32m    505\u001b[0m \u001b[43m    \u001b[49m\u001b[38;5;28;43;01melse\u001b[39;49;00m\u001b[43m \u001b[49m\u001b[38;5;241;43m1\u001b[39;49m\u001b[43m,\u001b[49m\n\u001b[1;32m    506\u001b[0m \u001b[43m\u001b[49m\u001b[43m)\u001b[49m\n\u001b[1;32m    507\u001b[0m states, last_val \u001b[38;5;241m=\u001b[39m collect_vals\n\u001b[1;32m    508\u001b[0m \u001b[38;5;66;03m# Get first argument of type `HMCState`\u001b[39;00m\n",
      "File \u001b[0;32m~/Document/Gaia_Project/mem97/gaia_venv/lib/python3.12/site-packages/numpyro/util.py:399\u001b[0m, in \u001b[0;36mfori_collect\u001b[0;34m(lower, upper, body_fun, init_val, transform, progbar, return_last_val, collection_size, thinning, **progbar_opts)\u001b[0m\n\u001b[1;32m    397\u001b[0m \u001b[38;5;28;01mwith\u001b[39;00m tqdm\u001b[38;5;241m.\u001b[39mtrange(upper) \u001b[38;5;28;01mas\u001b[39;00m t:\n\u001b[1;32m    398\u001b[0m     \u001b[38;5;28;01mfor\u001b[39;00m i \u001b[38;5;129;01min\u001b[39;00m t:\n\u001b[0;32m--> 399\u001b[0m         vals \u001b[38;5;241m=\u001b[39m \u001b[43m_body_fn\u001b[49m\u001b[43m(\u001b[49m\u001b[43mi\u001b[49m\u001b[43m,\u001b[49m\u001b[43m \u001b[49m\u001b[38;5;241;43m*\u001b[39;49m\u001b[43mvals\u001b[49m\u001b[43m)\u001b[49m\n\u001b[1;32m    401\u001b[0m         t\u001b[38;5;241m.\u001b[39mset_description(progbar_desc(i), refresh\u001b[38;5;241m=\u001b[39m\u001b[38;5;28;01mFalse\u001b[39;00m)\n\u001b[1;32m    402\u001b[0m         \u001b[38;5;28;01mif\u001b[39;00m diagnostics_fn:\n",
      "File \u001b[0;32m~/Document/Gaia_Project/mem97/gaia_venv/lib/python3.12/site-packages/jax/_src/prng.py:328\u001b[0m, in \u001b[0;36mprngkeyarray_unflatten\u001b[0;34m(impl, children)\u001b[0m\n\u001b[1;32m    325\u001b[0m \u001b[38;5;28;01mdef\u001b[39;00m\u001b[38;5;250m \u001b[39m\u001b[38;5;21mprngkeyarray_flatten\u001b[39m(x):\n\u001b[1;32m    326\u001b[0m   \u001b[38;5;28;01mreturn\u001b[39;00m (x\u001b[38;5;241m.\u001b[39m_base_array,), x\u001b[38;5;241m.\u001b[39m_impl\n\u001b[0;32m--> 328\u001b[0m \u001b[38;5;28;01mdef\u001b[39;00m\u001b[38;5;250m \u001b[39m\u001b[38;5;21mprngkeyarray_unflatten\u001b[39m(impl, children):\n\u001b[1;32m    329\u001b[0m   base_array, \u001b[38;5;241m=\u001b[39m children\n\u001b[1;32m    330\u001b[0m   \u001b[38;5;28;01mreturn\u001b[39;00m PRNGKeyArray(impl, base_array)\n",
      "\u001b[0;31mKeyboardInterrupt\u001b[0m: "
     ]
    }
   ],
   "source": [
    "rng_key = jax.random.key(0)\n",
    "\n",
    "kernel = NUTS(model_for_HMC, target_accept_prob=0.75) # this is to make sure acceptance does not exceed 90%\n",
    "mcmc = MCMC(kernel, num_warmup=n_warmup, num_samples=n_s, num_chains=n_chains, progress_bar=True)\n",
    "mcmc.run(rng_key, angles = angles_upper, obs = obs_upper, error = error_upper, lmax=10)\n",
    "ps = mcmc.get_samples()\n"
   ]
  },
  {
   "cell_type": "markdown",
   "id": "fbe33bfb",
   "metadata": {},
   "source": [
    "### Upper Panel:"
   ]
  },
  {
   "cell_type": "code",
   "execution_count": null,
   "id": "901ea8fa",
   "metadata": {},
   "outputs": [],
   "source": [
    "max_ite = 10"
   ]
  },
  {
   "cell_type": "code",
   "execution_count": null,
   "id": "caa32a4e",
   "metadata": {},
   "outputs": [],
   "source": [
    "rng_key = jax.random.key(0)\n",
    "\n",
    "kernel = NUTS(model_for_HMC, target_accept_prob=0.75) # this is to make sure acceptance does not exceed 90%\n",
    "\n",
    "posterior_samples_upper = [] # collect posterior samples based on l\n",
    "for l in range(1, max_ite + 1):\n",
    "    print(f'l = {l}')\n",
    "    # Run sampling algoeithm (HMC)\n",
    "    mcmc = MCMC(kernel, num_warmup=n_warmup, num_samples=n_s, num_chains=n_chains, progress_bar=True)\n",
    "    mcmc.run(rng_key, angles = angles_upper, obs = obs_upper, error = error_upper, lmax=l)\n",
    "    ps = mcmc.get_samples()\n",
    "    posterior_samples_upper.append(ps)\n",
    "    \n",
    "    # Free memory after each iteration\n",
    "    del mcmc\n",
    "    gc.collect()\n",
    "    jax.clear_caches()"
   ]
  },
  {
   "cell_type": "markdown",
   "id": "1b34d6a4",
   "metadata": {},
   "source": [
    "### Lower Panel:"
   ]
  },
  {
   "cell_type": "code",
   "execution_count": null,
   "id": "00d0cbe1",
   "metadata": {},
   "outputs": [],
   "source": [
    "posterior_samples_lower = [] # collect posterior samples based on l\n",
    "for l in range(1, max_ite + 1):\n",
    "    print(f'l = {l}')\n",
    "    # Run sampling algoeithm (HMC)\n",
    "    mcmc = MCMC(kernel, num_warmup=n_warmup, num_samples=n_s, num_chains=n_chains, progress_bar=True)\n",
    "    mcmc.run(rng_key, angles = angles_lower, obs = obs_lower, error = error_lower, lmax=l)\n",
    "    ps = mcmc.get_samples()\n",
    "    posterior_samples_lower.append(ps)\n",
    "    \n",
    "    # Free memory after each iteration\n",
    "    del mcmc\n",
    "    gc.collect()\n",
    "    jax.clear_caches()"
   ]
  },
  {
   "cell_type": "code",
   "execution_count": null,
   "id": "f93494e8",
   "metadata": {},
   "outputs": [],
   "source": [
    "# Collecting coefficients and their respective errors\n",
    "\n",
    "# For upper panel:\n",
    "coef_pred_up = [jnp.mean(ps['theta'], axis=0) for ps in posterior_samples_upper]\n",
    "std_pred_up = [jnp.std(ps['theta'], axis=0) for ps in posterior_samples_upper]\n",
    "\n",
    "# For lower panel:\n",
    "coef_pred_low = [jnp.mean(ps['theta'], axis=0) for ps in posterior_samples_lower]\n",
    "std_pred_low = [jnp.std(ps['theta'], axis=0) for ps in posterior_samples_lower]"
   ]
  },
  {
   "cell_type": "code",
   "execution_count": null,
   "id": "9deeac59",
   "metadata": {},
   "outputs": [
    {
     "data": {
      "image/png": "[encoded data removed]",
      "text/plain": [
       "<Figure size 640x480 with 1 Axes>"
      ]
     },
     "metadata": {},
     "output_type": "display_data"
    }
   ],
   "source": [
    "lmax_values = [1,2,3,4,5,6,7,8,9,10]\n",
    "\n",
    "C0 = np.sqrt(8*np.pi/3)/1000\n",
    "C1 = np.sqrt(4*np.pi/3)/1000\n",
    "\n",
    "# Upper panel:\n",
    "gz_up, gz_error_up = [coef_pred_up[z][1]/C0 for z in range(0, max_ite)], [std_pred_up[z][1]/C0 for z in range(0,max_ite)]\n",
    "gx_up, gx_error_up = [-coef_pred_up[x][4]/C1 for x in range(0, max_ite)], [std_pred_up[x][4]/C1 for x in range(0,max_ite)]\n",
    "gy_up, gy_error_up = [coef_pred_up[y][5]/C1 for y in range(0,max_ite)], [std_pred_up[y][5]/C1 for y in range(0,max_ite)]\n",
    "\n",
    "plt.figure(figsize=(6.5, 4))  \n",
    "plt.errorbar(lmax_values, gx_up, yerr=gx_error_up, fmt='o', capsize=3, markersize=5, elinewidth=1, label=r'$g_x$-pred')\n",
    "plt.errorbar(lmax_values, gy_up, yerr=gy_error_up, fmt='o', capsize=3, markersize=5, elinewidth=1, label=r'$g_y$-pred')\n",
    "plt.errorbar(lmax_values, gz_up, yerr=gz_error_up, fmt='o', capsize=3, markersize=5, elinewidth=1, label=r'$g_z$-pred')\n",
    "\n",
    "#plt.title(\"Equatorial Upper Panel\")\n",
    "plt.xlabel(r'$l_{max}$')\n",
    "plt.ylabel(r'Equatorial Components [$\\mu$as/yr]')\n",
    "plt.legend(loc='center left', bbox_to_anchor=(1, 0.5))\n",
    "plt.xticks(lmax_values)\n",
    "plt.savefig(\"plots/main_plots/upper_plane.png\", dpi=300, bbox_inches='tight')\n",
    "plt.grid(axis='y', alpha=0.5)\n",
    "plt.show()\n",
    "\n",
    "# Lower panel:\n",
    "gz_low, gz_error_low = [coef_pred_low[z][1]/C0 for z in range(0,max_ite)], [std_pred_low[z][1]/C0 for z in range(0,max_ite)]\n",
    "gx_low, gx_error_low = [-coef_pred_low[x][4]/C1 for x in range(0,max_ite)], [std_pred_low[x][4]/C1 for x in range(0,max_ite)]\n",
    "gy_low, gy_error_low = [coef_pred_low[y][5]/C1 for y in range(0,8)], [std_pred_low[y][5]/C1 for y in range(0,8)]\n",
    "\n",
    "plt.figure(figsize=(6.5, 4))  \n",
    "plt.errorbar(lmax_values, gx_low, yerr=gx_error_low, fmt='o', capsize=3, markersize=5, elinewidth=1, label=r'$g_x$-pred')\n",
    "plt.errorbar(lmax_values, gy_low, yerr=gy_error_low, fmt='o', capsize=3, markersize=5, elinewidth=1, label=r'$g_y$-pred')\n",
    "plt.errorbar(lmax_values, gz_low, yerr=gz_error_low, fmt='o', capsize=3, markersize=5, elinewidth=1, label=r'$g_z$-pred')\n",
    "\n",
    "#plt.title(\"Equatorial Upper Panel\")\n",
    "plt.xlabel(r'$l_{max}$')\n",
    "plt.ylabel(r'Equatorial Components [$\\mu$as/yr]')\n",
    "plt.legend(loc='center left', bbox_to_anchor=(1, 0.5))\n",
    "plt.xticks(lmax_values)\n",
    "plt.savefig(\"plots/main_plots/lower_plane.png\", dpi=300, bbox_inches='tight')\n",
    "plt.grid(axis='y', alpha=0.5)\n",
    "plt.show()"
   ]
  }
 ],
 "metadata": {
  "kernelspec": {
   "display_name": "gaia_venv",
   "language": "python",
   "name": "python3"
  },
  "language_info": {
   "codemirror_mode": {
    "name": "ipython",
    "version": 3
   },
   "file_extension": ".py",
   "mimetype": "text/x-python",
   "name": "python",
   "nbconvert_exporter": "python",
   "pygments_lexer": "ipython3",
   "version": "3.12.3"
  }
 },
 "nbformat": 4,
 "nbformat_minor": 5
}
