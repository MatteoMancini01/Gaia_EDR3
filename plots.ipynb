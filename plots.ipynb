{
 "cells": [
  {
   "cell_type": "markdown",
   "id": "89a1b48a",
   "metadata": {},
   "source": [
    "### Reproducting figure 7 in Acceleration of the Solar System from Gaia astrometry"
   ]
  },
  {
   "cell_type": "code",
   "execution_count": null,
   "id": "c91393a9",
   "metadata": {},
   "outputs": [],
   "source": [
    "from src.data import data_download # Run Python file to download data"
   ]
  },
  {
   "cell_type": "code",
   "execution_count": 1,
   "id": "042811f4",
   "metadata": {},
   "outputs": [
    {
     "name": "stderr",
     "output_type": "stream",
     "text": [
      "/root/Document/Gaia_Project/mem97/gaia_venv/lib/python3.12/site-packages/tqdm/auto.py:21: TqdmWarning: IProgress not found. Please update jupyter and ipywidgets. See https://ipywidgets.readthedocs.io/en/stable/user_install.html\n",
      "  from .autonotebook import tqdm as notebook_tqdm\n"
     ]
    }
   ],
   "source": [
    "import jax \n",
    "import jax.numpy as jnp\n",
    "import numpy as np\n",
    "from src.models.vsh_model import*\n",
    "import pandas as pd\n",
    "from iminuit import Minuit # to perform least square\n",
    "from src.models.configuration import*\n",
    "from src.data.data_utils import*\n",
    "from tqdm import tqdm\n",
    "import gc"
   ]
  },
  {
   "cell_type": "code",
   "execution_count": 2,
   "id": "14028097",
   "metadata": {},
   "outputs": [],
   "source": [
    "# Load data\n",
    "df = load_qso_dataframe()\n",
    "angles, obs, error = config_data(df)"
   ]
  },
  {
   "cell_type": "markdown",
   "id": "c3bba6b2",
   "metadata": {},
   "source": [
    "Separating data in to upper and lower plane ($\\delta > 0$ and $\\delta<0$ respectivelly)\n",
    "\n",
    "## Upper Plane:"
   ]
  },
  {
   "cell_type": "code",
   "execution_count": 3,
   "id": "90f2ea54",
   "metadata": {},
   "outputs": [],
   "source": [
    "alpha = angles[0]\n",
    "delta = angles[1]\n",
    "\n",
    "mask = delta>=0\n",
    "ra_upper = alpha[mask]\n",
    "dec_upper = delta[mask]\n",
    "\n",
    "angles_upper = np.stack([ra_upper, dec_upper])\n",
    "obs_upper = obs[:, mask]\n",
    "error_upper = error[:, mask]"
   ]
  },
  {
   "cell_type": "code",
   "execution_count": 4,
   "id": "e26880c8",
   "metadata": {},
   "outputs": [],
   "source": [
    "assert len(angles_upper[0]) == len(obs_upper[0])\n",
    "assert len(obs_upper[0]) == len(error_upper[0])"
   ]
  },
  {
   "cell_type": "code",
   "execution_count": 5,
   "id": "69214b77",
   "metadata": {},
   "outputs": [],
   "source": [
    "def eval_loss(theta, lmax):\n",
    "    return least_square(angles_upper, obs_upper, error_upper, theta, lmax=lmax, grid=False)\n",
    "eval_loss = jit(eval_loss, static_argnames=['lmax'])\n",
    "\n",
    "def run_iminuit(lmax, t_bound, s_bound):\n",
    "\n",
    "    def least_square_wrapper(*theta_flat):\n",
    "        theta = jnp.array(theta_flat)\n",
    "        return float(eval_loss(theta, lmax)) \n",
    "\n",
    "    total_params = count_vsh_coeffs(lmax) \n",
    "    limits = vsh_minuit_limits(lmax, t_bound=t_bound, s_bound=s_bound)\n",
    "    \n",
    "    theta_init = jnp.zeros(total_params)    \n",
    "\n",
    "    m = Minuit(least_square_wrapper, *theta_init)\n",
    "\n",
    "    m.errordef = Minuit.LEAST_SQUARES\n",
    "    for i, name in enumerate(m.parameters):\n",
    "        m.limits[name] = limits[name]\n",
    "\n",
    "    m.migrad()\n",
    "\n",
    "    return m"
   ]
  },
  {
   "cell_type": "code",
   "execution_count": null,
   "id": "bf03c02f",
   "metadata": {},
   "outputs": [],
   "source": [
    "m_10m = run_iminuit(10, 0.08, 0.04)"
   ]
  },
  {
   "cell_type": "code",
   "execution_count": 6,
   "id": "c29b0804",
   "metadata": {},
   "outputs": [
    {
     "name": "stderr",
     "output_type": "stream",
     "text": [
      "Running Minuit fits:  50%|█████     | 1/2 [02:43<02:43, 163.27s/it]\n"
     ]
    },
    {
     "ename": "KeyboardInterrupt",
     "evalue": "",
     "output_type": "error",
     "traceback": [
      "\u001b[0;31m---------------------------------------------------------------------------\u001b[0m",
      "\u001b[0;31mKeyboardInterrupt\u001b[0m                         Traceback (most recent call last)",
      "Cell \u001b[0;32mIn[6], line 15\u001b[0m\n\u001b[1;32m     11\u001b[0m std_theta_fit \u001b[38;5;241m=\u001b[39m [std_m_1m]\n\u001b[1;32m     13\u001b[0m \u001b[38;5;28;01mfor\u001b[39;00m i \u001b[38;5;129;01min\u001b[39;00m tqdm(\u001b[38;5;28mrange\u001b[39m(\u001b[38;5;241m2\u001b[39m, \u001b[38;5;241m4\u001b[39m), desc\u001b[38;5;241m=\u001b[39m\u001b[38;5;124m\"\u001b[39m\u001b[38;5;124mRunning Minuit fits\u001b[39m\u001b[38;5;124m\"\u001b[39m): \u001b[38;5;66;03m# for l= 2, 3\u001b[39;00m\n\u001b[0;32m---> 15\u001b[0m     m \u001b[38;5;241m=\u001b[39m \u001b[43mrun_iminuit\u001b[49m\u001b[43m(\u001b[49m\u001b[43mi\u001b[49m\u001b[43m,\u001b[49m\u001b[43m \u001b[49m\u001b[38;5;241;43m0.05\u001b[39;49m\u001b[43m,\u001b[49m\u001b[43m \u001b[49m\u001b[38;5;241;43m0.01\u001b[39;49m\u001b[43m)\u001b[49m\n\u001b[1;32m     17\u001b[0m     theta_fit \u001b[38;5;241m=\u001b[39m np\u001b[38;5;241m.\u001b[39marray([m\u001b[38;5;241m.\u001b[39mvalues[name] \u001b[38;5;28;01mfor\u001b[39;00m name \u001b[38;5;129;01min\u001b[39;00m m\u001b[38;5;241m.\u001b[39mparameters])\n\u001b[1;32m     18\u001b[0m     fitted_thetas\u001b[38;5;241m.\u001b[39mappend(theta_fit)\n",
      "Cell \u001b[0;32mIn[5], line 22\u001b[0m, in \u001b[0;36mrun_iminuit\u001b[0;34m(lmax, t_bound, s_bound)\u001b[0m\n\u001b[1;32m     19\u001b[0m \u001b[38;5;28;01mfor\u001b[39;00m i, name \u001b[38;5;129;01min\u001b[39;00m \u001b[38;5;28menumerate\u001b[39m(m\u001b[38;5;241m.\u001b[39mparameters):\n\u001b[1;32m     20\u001b[0m     m\u001b[38;5;241m.\u001b[39mlimits[name] \u001b[38;5;241m=\u001b[39m limits[name]\n\u001b[0;32m---> 22\u001b[0m \u001b[43mm\u001b[49m\u001b[38;5;241;43m.\u001b[39;49m\u001b[43mmigrad\u001b[49m\u001b[43m(\u001b[49m\u001b[43m)\u001b[49m\n\u001b[1;32m     24\u001b[0m \u001b[38;5;28;01mreturn\u001b[39;00m m\n",
      "File \u001b[0;32m~/Document/Gaia_Project/mem97/gaia_venv/lib/python3.12/site-packages/iminuit/minuit.py:789\u001b[0m, in \u001b[0;36mMinuit.migrad\u001b[0;34m(self, ncall, iterate, use_simplex)\u001b[0m\n\u001b[1;32m    787\u001b[0m t \u001b[38;5;241m=\u001b[39m mutil\u001b[38;5;241m.\u001b[39m_Timer(\u001b[38;5;28mself\u001b[39m\u001b[38;5;241m.\u001b[39m_fmin)\n\u001b[1;32m    788\u001b[0m \u001b[38;5;28;01mwith\u001b[39;00m t:\n\u001b[0;32m--> 789\u001b[0m     fm \u001b[38;5;241m=\u001b[39m \u001b[43m_robust_low_level_fit\u001b[49m\u001b[43m(\u001b[49m\n\u001b[1;32m    790\u001b[0m \u001b[43m        \u001b[49m\u001b[38;5;28;43mself\u001b[39;49m\u001b[38;5;241;43m.\u001b[39;49m\u001b[43m_fcn\u001b[49m\u001b[43m,\u001b[49m\n\u001b[1;32m    791\u001b[0m \u001b[43m        \u001b[49m\u001b[38;5;28;43mself\u001b[39;49m\u001b[38;5;241;43m.\u001b[39;49m\u001b[43m_last_state\u001b[49m\u001b[43m,\u001b[49m\n\u001b[1;32m    792\u001b[0m \u001b[43m        \u001b[49m\u001b[43mreplace_none\u001b[49m\u001b[43m(\u001b[49m\u001b[43mncall\u001b[49m\u001b[43m,\u001b[49m\u001b[43m \u001b[49m\u001b[38;5;241;43m0\u001b[39;49m\u001b[43m)\u001b[49m\u001b[43m,\u001b[49m\n\u001b[1;32m    793\u001b[0m \u001b[43m        \u001b[49m\u001b[38;5;28;43mself\u001b[39;49m\u001b[38;5;241;43m.\u001b[39;49m\u001b[43m_strategy\u001b[49m\u001b[43m,\u001b[49m\n\u001b[1;32m    794\u001b[0m \u001b[43m        \u001b[49m\u001b[38;5;28;43mself\u001b[39;49m\u001b[38;5;241;43m.\u001b[39;49m\u001b[43m_tolerance\u001b[49m\u001b[43m,\u001b[49m\n\u001b[1;32m    795\u001b[0m \u001b[43m        \u001b[49m\u001b[38;5;28;43mself\u001b[39;49m\u001b[38;5;241;43m.\u001b[39;49m\u001b[43m_precision\u001b[49m\u001b[43m,\u001b[49m\n\u001b[1;32m    796\u001b[0m \u001b[43m        \u001b[49m\u001b[43miterate\u001b[49m\u001b[43m,\u001b[49m\n\u001b[1;32m    797\u001b[0m \u001b[43m        \u001b[49m\u001b[43muse_simplex\u001b[49m\u001b[43m,\u001b[49m\n\u001b[1;32m    798\u001b[0m \u001b[43m    \u001b[49m\u001b[43m)\u001b[49m\n\u001b[1;32m    800\u001b[0m \u001b[38;5;28mself\u001b[39m\u001b[38;5;241m.\u001b[39m_last_state \u001b[38;5;241m=\u001b[39m fm\u001b[38;5;241m.\u001b[39mstate\n\u001b[1;32m    802\u001b[0m \u001b[38;5;28mself\u001b[39m\u001b[38;5;241m.\u001b[39m_fmin \u001b[38;5;241m=\u001b[39m mutil\u001b[38;5;241m.\u001b[39mFMin(\n\u001b[1;32m    803\u001b[0m     fm,\n\u001b[1;32m    804\u001b[0m     \u001b[38;5;124m\"\u001b[39m\u001b[38;5;124mMigrad\u001b[39m\u001b[38;5;124m\"\u001b[39m,\n\u001b[0;32m   (...)\u001b[0m\n\u001b[1;32m    809\u001b[0m     t\u001b[38;5;241m.\u001b[39mvalue,\n\u001b[1;32m    810\u001b[0m )\n",
      "File \u001b[0;32m~/Document/Gaia_Project/mem97/gaia_venv/lib/python3.12/site-packages/iminuit/minuit.py:2791\u001b[0m, in \u001b[0;36m_robust_low_level_fit\u001b[0;34m(fcn, state, ncall, strategy, tolerance, precision, iterate, use_simplex)\u001b[0m\n\u001b[1;32m   2789\u001b[0m \u001b[38;5;28;01mif\u001b[39;00m precision \u001b[38;5;129;01mis\u001b[39;00m \u001b[38;5;129;01mnot\u001b[39;00m \u001b[38;5;28;01mNone\u001b[39;00m:\n\u001b[1;32m   2790\u001b[0m     simplex\u001b[38;5;241m.\u001b[39mprecision \u001b[38;5;241m=\u001b[39m precision\n\u001b[0;32m-> 2791\u001b[0m fm \u001b[38;5;241m=\u001b[39m \u001b[43msimplex\u001b[49m\u001b[43m(\u001b[49m\u001b[43mncall\u001b[49m\u001b[43m,\u001b[49m\u001b[43m \u001b[49m\u001b[43mtolerance\u001b[49m\u001b[43m)\u001b[49m\n\u001b[1;32m   2792\u001b[0m \u001b[38;5;66;03m# recreate MnMigrad instance to start from updated state\u001b[39;00m\n\u001b[1;32m   2793\u001b[0m migrad \u001b[38;5;241m=\u001b[39m MnMigrad(fcn, fm\u001b[38;5;241m.\u001b[39mstate, strategy)\n",
      "Cell \u001b[0;32mIn[5], line 9\u001b[0m, in \u001b[0;36mrun_iminuit.<locals>.least_square_wrapper\u001b[0;34m(*theta_flat)\u001b[0m\n\u001b[1;32m      7\u001b[0m \u001b[38;5;28;01mdef\u001b[39;00m\u001b[38;5;250m \u001b[39m\u001b[38;5;21mleast_square_wrapper\u001b[39m(\u001b[38;5;241m*\u001b[39mtheta_flat):\n\u001b[1;32m      8\u001b[0m     theta \u001b[38;5;241m=\u001b[39m jnp\u001b[38;5;241m.\u001b[39marray(theta_flat)\n\u001b[0;32m----> 9\u001b[0m     \u001b[38;5;28;01mreturn\u001b[39;00m \u001b[38;5;28;43mfloat\u001b[39;49m\u001b[43m(\u001b[49m\u001b[43meval_loss\u001b[49m\u001b[43m(\u001b[49m\u001b[43mtheta\u001b[49m\u001b[43m,\u001b[49m\u001b[43m \u001b[49m\u001b[43mlmax\u001b[49m\u001b[43m)\u001b[49m\u001b[43m)\u001b[49m\n",
      "File \u001b[0;32m~/Document/Gaia_Project/mem97/gaia_venv/lib/python3.12/site-packages/jax/_src/array.py:311\u001b[0m, in \u001b[0;36mArrayImpl.__float__\u001b[0;34m(self)\u001b[0m\n\u001b[1;32m    309\u001b[0m \u001b[38;5;28;01mdef\u001b[39;00m\u001b[38;5;250m \u001b[39m\u001b[38;5;21m__float__\u001b[39m(\u001b[38;5;28mself\u001b[39m):\n\u001b[1;32m    310\u001b[0m   core\u001b[38;5;241m.\u001b[39mcheck_scalar_conversion(\u001b[38;5;28mself\u001b[39m)\n\u001b[0;32m--> 311\u001b[0m   \u001b[38;5;28;01mreturn\u001b[39;00m \u001b[38;5;28;43mself\u001b[39;49m\u001b[38;5;241;43m.\u001b[39;49m\u001b[43m_value\u001b[49m\u001b[38;5;241m.\u001b[39m\u001b[38;5;21m__float__\u001b[39m()\n",
      "File \u001b[0;32m~/Document/Gaia_Project/mem97/gaia_venv/lib/python3.12/site-packages/jax/_src/profiler.py:334\u001b[0m, in \u001b[0;36mannotate_function.<locals>.wrapper\u001b[0;34m(*args, **kwargs)\u001b[0m\n\u001b[1;32m    331\u001b[0m \u001b[38;5;129m@wraps\u001b[39m(func)\n\u001b[1;32m    332\u001b[0m \u001b[38;5;28;01mdef\u001b[39;00m\u001b[38;5;250m \u001b[39m\u001b[38;5;21mwrapper\u001b[39m(\u001b[38;5;241m*\u001b[39margs, \u001b[38;5;241m*\u001b[39m\u001b[38;5;241m*\u001b[39mkwargs):\n\u001b[1;32m    333\u001b[0m   \u001b[38;5;28;01mwith\u001b[39;00m TraceAnnotation(name, \u001b[38;5;241m*\u001b[39m\u001b[38;5;241m*\u001b[39mdecorator_kwargs):\n\u001b[0;32m--> 334\u001b[0m     \u001b[38;5;28;01mreturn\u001b[39;00m \u001b[43mfunc\u001b[49m\u001b[43m(\u001b[49m\u001b[38;5;241;43m*\u001b[39;49m\u001b[43margs\u001b[49m\u001b[43m,\u001b[49m\u001b[43m \u001b[49m\u001b[38;5;241;43m*\u001b[39;49m\u001b[38;5;241;43m*\u001b[39;49m\u001b[43mkwargs\u001b[49m\u001b[43m)\u001b[49m\n",
      "File \u001b[0;32m~/Document/Gaia_Project/mem97/gaia_venv/lib/python3.12/site-packages/jax/_src/array.py:641\u001b[0m, in \u001b[0;36mArrayImpl._value\u001b[0;34m(self)\u001b[0m\n\u001b[1;32m    639\u001b[0m \u001b[38;5;28;01mif\u001b[39;00m \u001b[38;5;28mself\u001b[39m\u001b[38;5;241m.\u001b[39m_npy_value \u001b[38;5;129;01mis\u001b[39;00m \u001b[38;5;28;01mNone\u001b[39;00m:\n\u001b[1;32m    640\u001b[0m   \u001b[38;5;28;01mif\u001b[39;00m \u001b[38;5;28mself\u001b[39m\u001b[38;5;241m.\u001b[39mis_fully_replicated:\n\u001b[0;32m--> 641\u001b[0m     npy_value, did_copy \u001b[38;5;241m=\u001b[39m \u001b[38;5;28;43mself\u001b[39;49m\u001b[38;5;241;43m.\u001b[39;49m\u001b[43m_single_device_array_to_np_array_did_copy\u001b[49m\u001b[43m(\u001b[49m\u001b[43m)\u001b[49m\n\u001b[1;32m    642\u001b[0m     npy_value\u001b[38;5;241m.\u001b[39mflags\u001b[38;5;241m.\u001b[39mwriteable \u001b[38;5;241m=\u001b[39m \u001b[38;5;28;01mFalse\u001b[39;00m\n\u001b[1;32m    643\u001b[0m     \u001b[38;5;28;01mif\u001b[39;00m did_copy:\n",
      "\u001b[0;31mKeyboardInterrupt\u001b[0m: "
     ]
    }
   ],
   "source": [
    "m_1m = run_iminuit(1, 0.01, 0.0025) # for l=1\n",
    "\n",
    "param_m_1m = jnp.array([m_1m.values[name] for name in m_1m.parameters])\n",
    "std_m_1m = jnp.sqrt(jnp.diag(m_1m.covariance))\n",
    "\n",
    "del m_1m\n",
    "gc.collect()\n",
    "jax.clear_caches()\n",
    "\n",
    "fitted_thetas = [param_m_1m]\n",
    "std_theta_fit = [std_m_1m]\n",
    "\n",
    "for i in tqdm(range(2, 4), desc=\"Running Minuit fits\"): # for l= 2, 3\n",
    "\n",
    "    m = run_iminuit(i, 0.05, 0.01)\n",
    "\n",
    "    theta_fit = np.array([m.values[name] for name in m.parameters])\n",
    "    fitted_thetas.append(theta_fit)\n",
    "    std_theta_fit.append(np.sqrt(np.diag(m.covariance)))\n",
    "\n",
    "    del m\n",
    "    gc.collect()\n",
    "    jax.clear_caches()"
   ]
  },
  {
   "cell_type": "code",
   "execution_count": 7,
   "id": "d13a5723",
   "metadata": {},
   "outputs": [
    {
     "name": "stderr",
     "output_type": "stream",
     "text": [
      "Running Minuit fits:  43%|████▎     | 3/7 [56:32<1:15:23, 1130.75s/it]\n"
     ]
    },
    {
     "ename": "KeyboardInterrupt",
     "evalue": "",
     "output_type": "error",
     "traceback": [
      "\u001b[0;31m---------------------------------------------------------------------------\u001b[0m",
      "\u001b[0;31mKeyboardInterrupt\u001b[0m                         Traceback (most recent call last)",
      "Cell \u001b[0;32mIn[7], line 3\u001b[0m\n\u001b[1;32m      1\u001b[0m \u001b[38;5;28;01mfor\u001b[39;00m i \u001b[38;5;129;01min\u001b[39;00m tqdm(\u001b[38;5;28mrange\u001b[39m(\u001b[38;5;241m4\u001b[39m, \u001b[38;5;241m11\u001b[39m), desc\u001b[38;5;241m=\u001b[39m\u001b[38;5;124m\"\u001b[39m\u001b[38;5;124mRunning Minuit fits\u001b[39m\u001b[38;5;124m\"\u001b[39m): \u001b[38;5;66;03m# for l= 4, 5, ..., 10\u001b[39;00m\n\u001b[0;32m----> 3\u001b[0m     m \u001b[38;5;241m=\u001b[39m \u001b[43mrun_iminuit\u001b[49m\u001b[43m(\u001b[49m\u001b[43mi\u001b[49m\u001b[43m,\u001b[49m\u001b[43m \u001b[49m\u001b[38;5;241;43m0.08\u001b[39;49m\u001b[43m,\u001b[49m\u001b[43m \u001b[49m\u001b[38;5;241;43m0.04\u001b[39;49m\u001b[43m)\u001b[49m\n\u001b[1;32m      5\u001b[0m     theta_fit \u001b[38;5;241m=\u001b[39m np\u001b[38;5;241m.\u001b[39marray([m\u001b[38;5;241m.\u001b[39mvalues[name] \u001b[38;5;28;01mfor\u001b[39;00m name \u001b[38;5;129;01min\u001b[39;00m m\u001b[38;5;241m.\u001b[39mparameters])\n\u001b[1;32m      6\u001b[0m     fitted_thetas\u001b[38;5;241m.\u001b[39mappend(theta_fit)\n",
      "Cell \u001b[0;32mIn[5], line 22\u001b[0m, in \u001b[0;36mrun_iminuit\u001b[0;34m(lmax, t_bound, s_bound)\u001b[0m\n\u001b[1;32m     19\u001b[0m \u001b[38;5;28;01mfor\u001b[39;00m i, name \u001b[38;5;129;01min\u001b[39;00m \u001b[38;5;28menumerate\u001b[39m(m\u001b[38;5;241m.\u001b[39mparameters):\n\u001b[1;32m     20\u001b[0m     m\u001b[38;5;241m.\u001b[39mlimits[name] \u001b[38;5;241m=\u001b[39m limits[name]\n\u001b[0;32m---> 22\u001b[0m \u001b[43mm\u001b[49m\u001b[38;5;241;43m.\u001b[39;49m\u001b[43mmigrad\u001b[49m\u001b[43m(\u001b[49m\u001b[43m)\u001b[49m\n\u001b[1;32m     24\u001b[0m \u001b[38;5;28;01mreturn\u001b[39;00m m\n",
      "File \u001b[0;32m~/Document/Gaia_Project/mem97/gaia_venv/lib/python3.12/site-packages/iminuit/minuit.py:789\u001b[0m, in \u001b[0;36mMinuit.migrad\u001b[0;34m(self, ncall, iterate, use_simplex)\u001b[0m\n\u001b[1;32m    787\u001b[0m t \u001b[38;5;241m=\u001b[39m mutil\u001b[38;5;241m.\u001b[39m_Timer(\u001b[38;5;28mself\u001b[39m\u001b[38;5;241m.\u001b[39m_fmin)\n\u001b[1;32m    788\u001b[0m \u001b[38;5;28;01mwith\u001b[39;00m t:\n\u001b[0;32m--> 789\u001b[0m     fm \u001b[38;5;241m=\u001b[39m \u001b[43m_robust_low_level_fit\u001b[49m\u001b[43m(\u001b[49m\n\u001b[1;32m    790\u001b[0m \u001b[43m        \u001b[49m\u001b[38;5;28;43mself\u001b[39;49m\u001b[38;5;241;43m.\u001b[39;49m\u001b[43m_fcn\u001b[49m\u001b[43m,\u001b[49m\n\u001b[1;32m    791\u001b[0m \u001b[43m        \u001b[49m\u001b[38;5;28;43mself\u001b[39;49m\u001b[38;5;241;43m.\u001b[39;49m\u001b[43m_last_state\u001b[49m\u001b[43m,\u001b[49m\n\u001b[1;32m    792\u001b[0m \u001b[43m        \u001b[49m\u001b[43mreplace_none\u001b[49m\u001b[43m(\u001b[49m\u001b[43mncall\u001b[49m\u001b[43m,\u001b[49m\u001b[43m \u001b[49m\u001b[38;5;241;43m0\u001b[39;49m\u001b[43m)\u001b[49m\u001b[43m,\u001b[49m\n\u001b[1;32m    793\u001b[0m \u001b[43m        \u001b[49m\u001b[38;5;28;43mself\u001b[39;49m\u001b[38;5;241;43m.\u001b[39;49m\u001b[43m_strategy\u001b[49m\u001b[43m,\u001b[49m\n\u001b[1;32m    794\u001b[0m \u001b[43m        \u001b[49m\u001b[38;5;28;43mself\u001b[39;49m\u001b[38;5;241;43m.\u001b[39;49m\u001b[43m_tolerance\u001b[49m\u001b[43m,\u001b[49m\n\u001b[1;32m    795\u001b[0m \u001b[43m        \u001b[49m\u001b[38;5;28;43mself\u001b[39;49m\u001b[38;5;241;43m.\u001b[39;49m\u001b[43m_precision\u001b[49m\u001b[43m,\u001b[49m\n\u001b[1;32m    796\u001b[0m \u001b[43m        \u001b[49m\u001b[43miterate\u001b[49m\u001b[43m,\u001b[49m\n\u001b[1;32m    797\u001b[0m \u001b[43m        \u001b[49m\u001b[43muse_simplex\u001b[49m\u001b[43m,\u001b[49m\n\u001b[1;32m    798\u001b[0m \u001b[43m    \u001b[49m\u001b[43m)\u001b[49m\n\u001b[1;32m    800\u001b[0m \u001b[38;5;28mself\u001b[39m\u001b[38;5;241m.\u001b[39m_last_state \u001b[38;5;241m=\u001b[39m fm\u001b[38;5;241m.\u001b[39mstate\n\u001b[1;32m    802\u001b[0m \u001b[38;5;28mself\u001b[39m\u001b[38;5;241m.\u001b[39m_fmin \u001b[38;5;241m=\u001b[39m mutil\u001b[38;5;241m.\u001b[39mFMin(\n\u001b[1;32m    803\u001b[0m     fm,\n\u001b[1;32m    804\u001b[0m     \u001b[38;5;124m\"\u001b[39m\u001b[38;5;124mMigrad\u001b[39m\u001b[38;5;124m\"\u001b[39m,\n\u001b[0;32m   (...)\u001b[0m\n\u001b[1;32m    809\u001b[0m     t\u001b[38;5;241m.\u001b[39mvalue,\n\u001b[1;32m    810\u001b[0m )\n",
      "File \u001b[0;32m~/Document/Gaia_Project/mem97/gaia_venv/lib/python3.12/site-packages/iminuit/minuit.py:2791\u001b[0m, in \u001b[0;36m_robust_low_level_fit\u001b[0;34m(fcn, state, ncall, strategy, tolerance, precision, iterate, use_simplex)\u001b[0m\n\u001b[1;32m   2789\u001b[0m \u001b[38;5;28;01mif\u001b[39;00m precision \u001b[38;5;129;01mis\u001b[39;00m \u001b[38;5;129;01mnot\u001b[39;00m \u001b[38;5;28;01mNone\u001b[39;00m:\n\u001b[1;32m   2790\u001b[0m     simplex\u001b[38;5;241m.\u001b[39mprecision \u001b[38;5;241m=\u001b[39m precision\n\u001b[0;32m-> 2791\u001b[0m fm \u001b[38;5;241m=\u001b[39m \u001b[43msimplex\u001b[49m\u001b[43m(\u001b[49m\u001b[43mncall\u001b[49m\u001b[43m,\u001b[49m\u001b[43m \u001b[49m\u001b[43mtolerance\u001b[49m\u001b[43m)\u001b[49m\n\u001b[1;32m   2792\u001b[0m \u001b[38;5;66;03m# recreate MnMigrad instance to start from updated state\u001b[39;00m\n\u001b[1;32m   2793\u001b[0m migrad \u001b[38;5;241m=\u001b[39m MnMigrad(fcn, fm\u001b[38;5;241m.\u001b[39mstate, strategy)\n",
      "Cell \u001b[0;32mIn[5], line 9\u001b[0m, in \u001b[0;36mrun_iminuit.<locals>.least_square_wrapper\u001b[0;34m(*theta_flat)\u001b[0m\n\u001b[1;32m      7\u001b[0m \u001b[38;5;28;01mdef\u001b[39;00m\u001b[38;5;250m \u001b[39m\u001b[38;5;21mleast_square_wrapper\u001b[39m(\u001b[38;5;241m*\u001b[39mtheta_flat):\n\u001b[1;32m      8\u001b[0m     theta \u001b[38;5;241m=\u001b[39m jnp\u001b[38;5;241m.\u001b[39marray(theta_flat)\n\u001b[0;32m----> 9\u001b[0m     \u001b[38;5;28;01mreturn\u001b[39;00m \u001b[38;5;28;43mfloat\u001b[39;49m\u001b[43m(\u001b[49m\u001b[43meval_loss\u001b[49m\u001b[43m(\u001b[49m\u001b[43mtheta\u001b[49m\u001b[43m,\u001b[49m\u001b[43m \u001b[49m\u001b[43mlmax\u001b[49m\u001b[43m)\u001b[49m\u001b[43m)\u001b[49m\n",
      "File \u001b[0;32m~/Document/Gaia_Project/mem97/gaia_venv/lib/python3.12/site-packages/jax/_src/array.py:311\u001b[0m, in \u001b[0;36mArrayImpl.__float__\u001b[0;34m(self)\u001b[0m\n\u001b[1;32m    309\u001b[0m \u001b[38;5;28;01mdef\u001b[39;00m\u001b[38;5;250m \u001b[39m\u001b[38;5;21m__float__\u001b[39m(\u001b[38;5;28mself\u001b[39m):\n\u001b[1;32m    310\u001b[0m   core\u001b[38;5;241m.\u001b[39mcheck_scalar_conversion(\u001b[38;5;28mself\u001b[39m)\n\u001b[0;32m--> 311\u001b[0m   \u001b[38;5;28;01mreturn\u001b[39;00m \u001b[38;5;28;43mself\u001b[39;49m\u001b[38;5;241;43m.\u001b[39;49m\u001b[43m_value\u001b[49m\u001b[38;5;241m.\u001b[39m\u001b[38;5;21m__float__\u001b[39m()\n",
      "File \u001b[0;32m~/Document/Gaia_Project/mem97/gaia_venv/lib/python3.12/site-packages/jax/_src/profiler.py:334\u001b[0m, in \u001b[0;36mannotate_function.<locals>.wrapper\u001b[0;34m(*args, **kwargs)\u001b[0m\n\u001b[1;32m    331\u001b[0m \u001b[38;5;129m@wraps\u001b[39m(func)\n\u001b[1;32m    332\u001b[0m \u001b[38;5;28;01mdef\u001b[39;00m\u001b[38;5;250m \u001b[39m\u001b[38;5;21mwrapper\u001b[39m(\u001b[38;5;241m*\u001b[39margs, \u001b[38;5;241m*\u001b[39m\u001b[38;5;241m*\u001b[39mkwargs):\n\u001b[1;32m    333\u001b[0m   \u001b[38;5;28;01mwith\u001b[39;00m TraceAnnotation(name, \u001b[38;5;241m*\u001b[39m\u001b[38;5;241m*\u001b[39mdecorator_kwargs):\n\u001b[0;32m--> 334\u001b[0m     \u001b[38;5;28;01mreturn\u001b[39;00m \u001b[43mfunc\u001b[49m\u001b[43m(\u001b[49m\u001b[38;5;241;43m*\u001b[39;49m\u001b[43margs\u001b[49m\u001b[43m,\u001b[49m\u001b[43m \u001b[49m\u001b[38;5;241;43m*\u001b[39;49m\u001b[38;5;241;43m*\u001b[39;49m\u001b[43mkwargs\u001b[49m\u001b[43m)\u001b[49m\n",
      "File \u001b[0;32m~/Document/Gaia_Project/mem97/gaia_venv/lib/python3.12/site-packages/jax/_src/array.py:641\u001b[0m, in \u001b[0;36mArrayImpl._value\u001b[0;34m(self)\u001b[0m\n\u001b[1;32m    639\u001b[0m \u001b[38;5;28;01mif\u001b[39;00m \u001b[38;5;28mself\u001b[39m\u001b[38;5;241m.\u001b[39m_npy_value \u001b[38;5;129;01mis\u001b[39;00m \u001b[38;5;28;01mNone\u001b[39;00m:\n\u001b[1;32m    640\u001b[0m   \u001b[38;5;28;01mif\u001b[39;00m \u001b[38;5;28mself\u001b[39m\u001b[38;5;241m.\u001b[39mis_fully_replicated:\n\u001b[0;32m--> 641\u001b[0m     npy_value, did_copy \u001b[38;5;241m=\u001b[39m \u001b[38;5;28;43mself\u001b[39;49m\u001b[38;5;241;43m.\u001b[39;49m\u001b[43m_single_device_array_to_np_array_did_copy\u001b[49m\u001b[43m(\u001b[49m\u001b[43m)\u001b[49m\n\u001b[1;32m    642\u001b[0m     npy_value\u001b[38;5;241m.\u001b[39mflags\u001b[38;5;241m.\u001b[39mwriteable \u001b[38;5;241m=\u001b[39m \u001b[38;5;28;01mFalse\u001b[39;00m\n\u001b[1;32m    643\u001b[0m     \u001b[38;5;28;01mif\u001b[39;00m did_copy:\n",
      "\u001b[0;31mKeyboardInterrupt\u001b[0m: "
     ]
    }
   ],
   "source": [
    "for i in tqdm(range(4, 11), desc=\"Running Minuit fits\"): # for l= 4, 5, ..., 10\n",
    "\n",
    "    m = run_iminuit(i, 0.08, 0.04)\n",
    "\n",
    "    theta_fit = np.array([m.values[name] for name in m.parameters])\n",
    "    fitted_thetas.append(theta_fit)\n",
    "    std_theta_fit.append(np.sqrt(np.diag(m.covariance)))\n",
    "\n",
    "    del m\n",
    "    gc.collect()\n",
    "    jax.clear_caches()"
   ]
  },
  {
   "cell_type": "code",
   "execution_count": null,
   "id": "b9c855c9",
   "metadata": {},
   "outputs": [],
   "source": [
    "import matplotlib.pyplot as plt\n",
    "\n",
    "lmax_values = [1,2,3,4,5,6,7,8,9,10]\n",
    "\n",
    "s10_ls, er10_ls = [fitted_thetas[z][1] for z in range(0,10)], [std_theta_fit[z][1] for z in range(0,10)]\n",
    "s11r_ls, er11r_ls = [fitted_thetas[x][4] for x in range(0,10)], [std_theta_fit[x][4] for x in range(0,10)]\n",
    "s11i_ls, er11i_ls = [fitted_thetas[y][5] for y in range(0,10)], [std_theta_fit[y][5] for y in range(0,10)]\n",
    "\n",
    "C0 = np.sqrt(8*np.pi/3)\n",
    "C1 = np.sqrt(4*np.pi/3)\n",
    "\n",
    "gz, gz_error = s10_ls/C0, er10_ls/C0\n",
    "gx, gx_error = -s11r_ls/C1, er11r_ls/C1\n",
    "gy, gy_error = s11i_ls/C1, er11i_ls/C1\n",
    "\n",
    "\n",
    "plt.errorbar(lmax_values, gx, yerr=gx_error, fmt='o', capsize=3, markersize=5, elinewidth=1, label=r'$s_{11}^{R}$-pred')\n",
    "plt.errorbar(lmax_values, gy, yerr=gy_error, fmt='o', capsize=3, markersize=5, elinewidth=1, label=r'$s_{11}^i$-pred')\n",
    "plt.errorbar(lmax_values, gz, yerr=gz_error, fmt='o', capsize=3, markersize=5, elinewidth=1, label=r'$s_{10}$-pred')\n",
    "\n",
    "\n",
    "plt.title(\"Equatorial Upper Panel\")\n",
    "plt.xlabel(r'$l_{max}$')\n",
    "plt.ylabel(r'Equatorial Components [$\\mu$as/yr]')\n",
    "plt.legend(loc='center left', bbox_to_anchor=(1, 0.5))\n",
    "plt.xticks(lmax_values)\n",
    "plt.savefig(\"plots/main_plots/upper_plane.png\", dpi=300, bbox_inches='tight')\n",
    "plt.show()"
   ]
  },
  {
   "cell_type": "markdown",
   "id": "51ebe2f1",
   "metadata": {},
   "source": [
    "## Lower Plane:"
   ]
  },
  {
   "cell_type": "code",
   "execution_count": null,
   "id": "9be1a7a7",
   "metadata": {},
   "outputs": [],
   "source": [
    "alpha = angles[0]\n",
    "delta = angles[1]\n",
    "\n",
    "mask = delta<=0\n",
    "ra_lower = alpha[mask]\n",
    "dec_lower = delta[mask]\n",
    "\n",
    "angles_lower = np.stack([ra_lower, dec_lower])\n",
    "obs_lower = obs[:, mask]\n",
    "error_lower = error[:, mask]"
   ]
  },
  {
   "cell_type": "code",
   "execution_count": null,
   "id": "95eb7eab",
   "metadata": {},
   "outputs": [],
   "source": [
    "def eval_loss(theta, lmax):\n",
    "    return least_square(angles_lower, obs_lower, error_lower, theta, lmax=lmax, grid=False)\n",
    "eval_loss = jit(eval_loss, static_argnames=['lmax'])\n",
    "\n",
    "def run_iminuit(lmax, t_bound, s_bound):\n",
    "\n",
    "    def least_square_wrapper(*theta_flat):\n",
    "        theta = jnp.array(theta_flat)\n",
    "        return float(eval_loss(theta, lmax)) \n",
    "\n",
    "    total_params = count_vsh_coeffs(lmax) \n",
    "    limits = vsh_minuit_limits(lmax, t_bound=t_bound, s_bound=s_bound)\n",
    "    \n",
    "    theta_init = jnp.zeros(total_params)    \n",
    "\n",
    "    m = Minuit(least_square_wrapper, *theta_init)\n",
    "\n",
    "    m.errordef = Minuit.LEAST_SQUARES\n",
    "    for i, name in enumerate(m.parameters):\n",
    "        m.limits[name] = limits[name]\n",
    "\n",
    "    m.migrad()\n",
    "\n",
    "    return m"
   ]
  },
  {
   "cell_type": "code",
   "execution_count": null,
   "id": "db4f361a",
   "metadata": {},
   "outputs": [],
   "source": [
    "m_1m = run_iminuit(1, 0.01, 0.0025) # for l=1\n",
    "\n",
    "param_m_1m = jnp.array([m_1m.values[name] for name in m_1m.parameters])\n",
    "std_m_1m = jnp.sqrt(jnp.diag(m_1m.covariance))\n",
    "\n",
    "fitted_thetas = [param_m_1m]\n",
    "std_theta_fit = [std_m_1m]\n",
    "\n",
    "for i in tqdm(range(2, 4), desc=\"Running Minuit fits\"): # for l= 2, 3\n",
    "\n",
    "    m = run_iminuit(i, 0.05, 0.01)\n",
    "\n",
    "    theta_fit = jnp.array([m.values[name] for name in m.parameters])\n",
    "    fitted_thetas.append(theta_fit)\n",
    "    std_theta_fit.append(jnp.sqrt(jnp.diag(m.covariance)))\n",
    "\n",
    "    del m"
   ]
  },
  {
   "cell_type": "code",
   "execution_count": null,
   "id": "bd76b605",
   "metadata": {},
   "outputs": [],
   "source": [
    "for i in tqdm(range(4, 11), desc=\"Running Minuit fits\"): # for l= 4, 5, ..., 10\n",
    "\n",
    "    m = run_iminuit(i, 0.08, 0.04)\n",
    "\n",
    "    theta_fit = jnp.array([m.values[name] for name in m.parameters])\n",
    "    fitted_thetas.append(theta_fit)\n",
    "    std_theta_fit.append(jnp.sqrt(jnp.diag(m.covariance)))\n",
    "\n",
    "    del m"
   ]
  },
  {
   "cell_type": "code",
   "execution_count": null,
   "id": "3d64d6ca",
   "metadata": {},
   "outputs": [],
   "source": [
    "import matplotlib.pyplot as plt\n",
    "\n",
    "lmax_values = [1,2,3,4,5,6,7,8,9,10]\n",
    "\n",
    "s10_ls, er10_ls = [fitted_thetas[z][1] for z in range(0,10)], [std_theta_fit[z][1] for z in range(0,10)]\n",
    "s11r_ls, er11r_ls = [fitted_thetas[x][4] for x in range(0,10)], [std_theta_fit[x][4] for x in range(0,10)]\n",
    "s11i_ls, er11i_ls = [fitted_thetas[y][5] for y in range(0,10)], [std_theta_fit[y][5] for y in range(0,10)]\n",
    "\n",
    "C0 = np.sqrt(8*np.pi/3)\n",
    "C1 = np.sqrt(4*np.pi/3)\n",
    "\n",
    "gz, gz_error = s10_ls/C0, er10_ls/C0\n",
    "gx, gx_error = -s11r_ls/C1, er11r_ls/C1\n",
    "gy, gy_error = s11i_ls/C1, er11i_ls/C1\n",
    "\n",
    "\n",
    "plt.errorbar(lmax_values, gx, yerr=gx_error, fmt='o', capsize=3, markersize=5, elinewidth=1, label=r'$s_{11}^{R}$-pred')\n",
    "plt.errorbar(lmax_values, gy, yerr=gy_error, fmt='o', capsize=3, markersize=5, elinewidth=1, label=r'$s_{11}^i$-pred')\n",
    "plt.errorbar(lmax_values, gz, yerr=gz_error, fmt='o', capsize=3, markersize=5, elinewidth=1, label=r'$s_{10}$-pred')\n",
    "\n",
    "\n",
    "plt.title(\"Equatorial Lower Panel\")\n",
    "plt.xlabel(r'$l_{max}$')\n",
    "plt.ylabel(r'Equatorial Components [$\\mu$as/yr]')\n",
    "plt.legend(loc='center left', bbox_to_anchor=(1, 0.5))\n",
    "plt.xticks(lmax_values)\n",
    "plt.savefig(\"plots/main_plots/lower_plane.png\", dpi=300, bbox_inches='tight')\n",
    "plt.show()"
   ]
  }
 ],
 "metadata": {
  "kernelspec": {
   "display_name": "gaia_venv",
   "language": "python",
   "name": "python3"
  },
  "language_info": {
   "codemirror_mode": {
    "name": "ipython",
    "version": 3
   },
   "file_extension": ".py",
   "mimetype": "text/x-python",
   "name": "python",
   "nbconvert_exporter": "python",
   "pygments_lexer": "ipython3",
   "version": "3.12.3"
  }
 },
 "nbformat": 4,
 "nbformat_minor": 5
}
