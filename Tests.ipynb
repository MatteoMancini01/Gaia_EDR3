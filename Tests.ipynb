{
 "cells": [
  {
   "cell_type": "code",
   "execution_count": 1,
   "id": "24717aff",
   "metadata": {},
   "outputs": [],
   "source": [
    "from src.models.module3 import* # import all functins "
   ]
  },
  {
   "cell_type": "markdown",
   "id": "bc1f3b8f",
   "metadata": {},
   "source": [
    "We want to check if the follwoing formula for the associated Legendre function works:\n",
    "$$\n",
    "P_{l,-m}(x) = (-1)^m \\frac{(l-m)!}{(l+m)!}P_{lm}(x)\\tag{1}\n",
    "$$\n",
    "\n",
    "1. For a scalar input:"
   ]
  },
  {
   "cell_type": "code",
   "execution_count": 2,
   "id": "ef7f2eb0",
   "metadata": {},
   "outputs": [
    {
     "name": "stderr",
     "output_type": "stream",
     "text": [
      "WARNING:2025-05-06 22:29:31,486:jax._src.xla_bridge:909: An NVIDIA GPU may be present on this machine, but a CUDA-enabled jaxlib is not installed. Falling back to cpu.\n"
     ]
    },
    {
     "name": "stdout",
     "output_type": "stream",
     "text": [
      "Result from P_l,-m, for m=2, l=3 and x=2.0, output:-0.75\n",
      "Result from P_l,m with the adaptive factor, for m=2, l=3 and x=2.0, output:-0.75\n"
     ]
    }
   ],
   "source": [
    "# We want to test whether the defined function P_lm fulfils the conditions of Eq.1, when the input x is a scalar\n",
    "m = 2\n",
    "l = 3\n",
    "x = 2.\n",
    "func1 = P_lm(x,l,-m) # negative m\n",
    "func2 = (-1)**m*factorial(l-m)/factorial(l+m)*P_lm(x,l,m) # positive m\n",
    "\n",
    "assert round(func1, 3) == round(func2,3)\n",
    "print(f'Result from P_l,-m, for m={m}, l={l} and x={x}, output:{func1:.2f}')\n",
    "print(f'Result from P_l,m with the adaptive factor, for m={m}, l={l} and x={x}, output:{func1:.2f}')"
   ]
  },
  {
   "cell_type": "markdown",
   "id": "faf2f5d7",
   "metadata": {},
   "source": [
    "2. For a vactor input:"
   ]
  },
  {
   "cell_type": "code",
   "execution_count": 3,
   "id": "64760b3b",
   "metadata": {},
   "outputs": [
    {
     "name": "stdout",
     "output_type": "stream",
     "text": [
      "Result from P_l,-m, for m=2, l=3 and x=[-1.  1.  2.], output:[-0.          0.         -0.75000006]\n",
      "Result from P_l,m with the adaptive factor, for m=2, l=3 and x=[-1.  1.  2.], output:[-0.          0.         -0.75000006]\n"
     ]
    }
   ],
   "source": [
    "m = 2\n",
    "l = 3\n",
    "x = jnp.array([-1.,1.,2.])\n",
    "func1 = P_lm(x, l, -m) # negative m\n",
    "func2 = (-1)**m*factorial(l-m)/factorial(l+m)*P_lm(x,l,m)\n",
    "\n",
    "assert jnp.allclose(func1, func2)\n",
    "print(f'Result from P_l,-m, for m={m}, l={l} and x={x}, output:{func1}')\n",
    "print(f'Result from P_l,m with the adaptive factor, for m={m}, l={l} and x={x}, output:{func1}')"
   ]
  },
  {
   "cell_type": "markdown",
   "id": "f69d9649",
   "metadata": {},
   "source": [
    "The function `jax.numpy.allclose` checks if two given arrays are element-wise approximately equal, see [`jax.numpy.allclose`](https://docs.jax.dev/en/latest/_autosummary/jax.numpy.allclose.html)"
   ]
  },
  {
   "cell_type": "markdown",
   "id": "877bda28",
   "metadata": {},
   "source": [
    "Another property that we want to test, for the standard spherical function $Y_{lm}$, which is inherent to Eq. 1, is the following:\n",
    "$$\n",
    "Y_{l,-m}(\\alpha, \\delta) = (-1)^m Y^*_{lm}(\\alpha, \\delta)\\tag{2}\n",
    "$$\n",
    "where $Y^*_{lm}$ is the complex conjugate of $Y_{lm}$.\n",
    "\n",
    "Both $Y_{lm}(\\alpha, \\delta)$ and $Y^*_{lm}(\\alpha, \\delta)$ are coded as `Y_lm` and `Y_sml` repsectively.\n",
    "\n",
    "We want to test the property of Eq. 2 by:\n",
    "\n",
    "1. Setting $\\alpha$ and $\\delta$ as scalar inputs\n"
   ]
  },
  {
   "cell_type": "code",
   "execution_count": 4,
   "id": "bbeee5bf",
   "metadata": {},
   "outputs": [
    {
     "name": "stdout",
     "output_type": "stream",
     "text": [
      "(-0.3345233+5.848991e-08j)\n",
      "(-0.33452326+5.8489906e-08j)\n"
     ]
    }
   ],
   "source": [
    "m = 2\n",
    "l = 4\n",
    "\n",
    "Y1 = Y_lm(jnp.pi, 2*jnp.pi, l, -m)\n",
    "Y2 = Y_slm(jnp.pi, 2*jnp.pi, l, m)\n",
    "\n",
    "assert round(Y1.real, 3) == round((-1)**m*Y2.real, 3)\n",
    "assert round(Y1.imag, 3) == round((-1)**m*Y2.imag, 3)\n",
    "print(Y1)\n",
    "print((-1)**m*Y2)\n"
   ]
  },
  {
   "cell_type": "markdown",
   "id": "f9dbfefc",
   "metadata": {},
   "source": [
    "2. Setting $\\alpha \\rightarrow \\vec{\\alpha}$ and $\\delta \\rightarrow \\vec{\\delta}$ as array inputs"
   ]
  },
  {
   "cell_type": "code",
   "execution_count": 5,
   "id": "d77d384b",
   "metadata": {},
   "outputs": [],
   "source": [
    "deltas_input = jnp.array([0,jnp.pi,3/2*jnp.pi,3.35*jnp.pi])\n",
    "alphas_input = jnp.array([10*jnp.pi,-jnp.pi,4/3*jnp.pi,-3*jnp.pi])\n",
    "m = 2\n",
    "l = 4\n",
    "\n",
    "assert jnp.allclose(\n",
    "    Y_lm(alphas_input, deltas_input, l, -m),\n",
    "    (-1)**m * Y_slm(alphas_input, deltas_input, l, m)\n",
    ")\n"
   ]
  },
  {
   "cell_type": "markdown",
   "id": "a2c33674",
   "metadata": {},
   "source": [
    "Testing the toroidal function $T_{lm}(\\alpha, \\delta)$ and spheroidal function $S_{lm}(\\alpha, \\delta)$\n",
    "\n",
    "One can start by checking orthogonality, i.e.\n",
    "$$\n",
    "T_{lm}(\\alpha, \\delta) \\cdot S_{lm}(\\alpha, \\delta) = 0 \\tag{3}\n",
    "$$"
   ]
  },
  {
   "cell_type": "code",
   "execution_count": 6,
   "id": "b6fbc7bb",
   "metadata": {},
   "outputs": [
    {
     "name": "stdout",
     "output_type": "stream",
     "text": [
      "[[ 0.12724577-0.16061732j  0.15478925+0.04506164j  0.16054168-0.10308262j]\n",
      " [ 0.05423052-0.17592382j -0.08261796+0.09108476j -0.13820922-0.06325251j]]\n",
      "\n",
      "[[-0.1674544 -0.0017994j   0.18839084-0.18068649j -0.04891573-0.07618174j]\n",
      " [-0.13475163-0.02565471j  0.05654765+0.08197012j -0.08667658+0.18939178j]]\n"
     ]
    }
   ],
   "source": [
    "m = 2\n",
    "l = 3\n",
    "alpha = jnp.array([0.5,1.])\n",
    "delta = jnp.array([-4.,6.])\n",
    "\n",
    "T = T_lm(alpha, delta, l, m, grid=False)\n",
    "S = S_lm(alpha, delta, l, m, grid=False)\n",
    "print(T)\n",
    "print('')\n",
    "print(S)"
   ]
  },
  {
   "cell_type": "code",
   "execution_count": 7,
   "id": "30bde039",
   "metadata": {},
   "outputs": [
    {
     "name": "stdout",
     "output_type": "stream",
     "text": [
      "(2, 3)\n",
      "(2, 3)\n",
      "<class 'jaxlib.xla_extension.ArrayImpl'>\n",
      "<class 'jaxlib.xla_extension.ArrayImpl'>\n"
     ]
    }
   ],
   "source": [
    "print(T.shape)\n",
    "print(S.shape)\n",
    "print(type(T))\n",
    "print(type(S))"
   ]
  },
  {
   "cell_type": "code",
   "execution_count": 8,
   "id": "91dc708a",
   "metadata": {},
   "outputs": [
    {
     "name": "stdout",
     "output_type": "stream",
     "text": [
      "[1.8626451e-09+1.8626451e-09j 0.0000000e+00+0.0000000e+00j]\n",
      "True\n"
     ]
    }
   ],
   "source": [
    "dot_TS = jnp.sum(T * S, axis=1)\n",
    "print(dot_TS)\n",
    "print(jnp.allclose(dot_TS, 0.0, atol=1e-1))\n",
    "\n"
   ]
  },
  {
   "cell_type": "code",
   "execution_count": 9,
   "id": "cc83b1ea",
   "metadata": {},
   "outputs": [
    {
     "name": "stdout",
     "output_type": "stream",
     "text": [
      "Dot product T·S: [1.8626451e-09+1.8626451e-09j 0.0000000e+00+0.0000000e+00j]\n",
      "Are T and S orthogonal? True\n"
     ]
    }
   ],
   "source": [
    "\n",
    "\n",
    "T = T_lm(alpha, delta, l=3, m=2, grid=False)\n",
    "S = S_lm(alpha, delta, l=3, m=2, grid=False)\n",
    "\n",
    "dot_TS = jnp.sum(T * S, axis=1)\n",
    "print(\"Dot product T·S:\", dot_TS)\n",
    "\n",
    "print(\"Are T and S orthogonal?\", jnp.allclose(dot_TS, 0.0, atol=1e-1))\n"
   ]
  },
  {
   "cell_type": "code",
   "execution_count": 10,
   "id": "578c6a93",
   "metadata": {},
   "outputs": [
    {
     "name": "stdout",
     "output_type": "stream",
     "text": [
      "[1.8626451e-09+1.8626451e-09j 0.0000000e+00+0.0000000e+00j]\n",
      "[1.8626451e-09 0.0000000e+00]\n"
     ]
    }
   ],
   "source": [
    "print(jnp.einsum('ij,ij->i', T, S))  # -> complex array\n",
    "print(jnp.real(jnp.einsum('ij,ij->i', T, S)))"
   ]
  },
  {
   "cell_type": "code",
   "execution_count": 11,
   "id": "3634daf0",
   "metadata": {},
   "outputs": [
    {
     "name": "stdout",
     "output_type": "stream",
     "text": [
      "(1.8626451e-09+1.8626451e-09j)\n"
     ]
    },
    {
     "name": "stdout",
     "output_type": "stream",
     "text": [
      "[[-9.3132257e-10+3.7252903e-09j -1.0600109e-02+7.2955340e-02j]\n",
      " [-6.5624556e-03+7.5072184e-02j  2.7939677e-09+0.0000000e+00j]]\n"
     ]
    }
   ],
   "source": [
    "print(jnp.dot(T[0],S[0]))\n",
    "print(T@S.T)"
   ]
  },
  {
   "cell_type": "markdown",
   "id": "7cf3c86f",
   "metadata": {},
   "source": [
    "## Further Tests\n",
    "There are few more checks that we should do before proceeding to the next steps. These checks are the following integrals:\n",
    "$$\n",
    "\\int_\\Omega Y_{lm} \\cdot Y^*_{l'm'} d\\Omega = \\delta^{ll'}\\delta^{mm'} \\tag{4}\n",
    "$$\n",
    "$$\n",
    "\\int_\\Omega T_{lm} \\cdot T^*_{l'm'} d\\Omega = \\delta^{ll'}\\delta^{mm'} \\tag{5}\n",
    "$$\n",
    "$$\n",
    "\\int_\\Omega S_{lm} \\cdot S^*_{l'm'} d\\Omega = \\delta^{ll'}\\delta^{mm'} \\tag{6}\n",
    "$$\n",
    "Where you should not confuse $\\delta^{ij}$, being the Kronecker delta, with the variable $\\delta$, in all the above functions.\n",
    "To demonstrate this, for each of the above equations, we are going to use numerical integration, either the Trapezium or Simpson rule, and test for both $l=l'$, $m=m'$ (the result of each integral should be $\\approx 1$) and $l \\neq l'$ or $m\\neq m'$ (the result of each integra should be $\\approx 0$). \n",
    "\n",
    "Note:\n",
    "- $d\\Omega$ is short hand notation for $\\cos{\\delta}$ $d\\delta d\\alpha$\n",
    "- Where $\\alpha \\in [0, 2\\pi]$ and $\\delta \\in [-\\frac{\\pi}{2}, \\frac{\\pi}{2}]$\n",
    "- We expect the results of the integrals to be approximations of analytical solutions"
   ]
  },
  {
   "cell_type": "markdown",
   "id": "b23a7fba",
   "metadata": {},
   "source": [
    "### Testing code on Eq. 4\n",
    "$$\n",
    "\\int_\\Omega Y_{lm} \\cdot Y^*_{l'm'} d\\Omega = \\delta^{ll'}\\delta^{mm'} \n",
    "$$"
   ]
  },
  {
   "cell_type": "code",
   "execution_count": 12,
   "id": "99f72ee0",
   "metadata": {},
   "outputs": [],
   "source": [
    "from scipy.integrate import simpson\n",
    "from src.models.module3 import*"
   ]
  },
  {
   "cell_type": "markdown",
   "id": "aad6acca",
   "metadata": {},
   "source": [
    "1. By setting $l=l'$ and $m=m'$\n",
    "2. By setting $l \\neq l'$ and $m=m'$\n",
    "3. By setting $l = l'$ and $m\\neq m'$\n",
    "4. By setting $l \\neq l'$ and $m\\neq m'$\n",
    "\n",
    "This is done below with nested for-loops:"
   ]
  },
  {
   "cell_type": "code",
   "execution_count": 13,
   "id": "c2b592a3",
   "metadata": {},
   "outputs": [
    {
     "name": "stdout",
     "output_type": "stream",
     "text": [
      "Integral result for l=l'= 2 and m=m'= 1: (0.9999989435464491-3.2257804563898e-10j)\n",
      "Integral result for l=l'= 2, m=1 and m'=2: (1.0488134286732918e-10-3.586497078713799e-10j)\n",
      "Integral result for l=l'= 2, m=2 and m'=1: (1.0488134286732918e-10-1.8710243552748798e-11j)\n",
      "Integral result for l=l'= 2 and m=m'= 2: (1.0000001009261286-3.0320288234915567e-10j)\n",
      "Integral result for l=2, l'=3 and m=m'= 1: (-1.525421967939447e-06-3.2576361587996145e-10j)\n",
      "Integral result for l=2, l'=3, m=1 and m'=2: (-2.0702773544101216e-08+1.030257705963186e-07j)\n",
      "Integral result for l=2, l'=3, m=2 and m'=1: (2.651479663650161e-09+1.5980537342421067e-08j)\n",
      "Integral result for l=2, l'=3 and m=m'= 2: (-6.400612985476225e-09+6.311256877942759e-11j)\n",
      "Integral result for l=3, l'=2 and m=m'= 1: (-1.525421967939447e-06+6.777893352924174e-11j)\n",
      "Integral result for l=3, l'=2, m=1 and m'=2: (2.651479663650161e-09-1.5942668038021945e-08j)\n",
      "Integral result for l=3, l'=2, m=2 and m'=1: (-2.0702773544101216e-08-1.0253811804961143e-07j)\n",
      "Integral result for l=3, l'=2 and m=m'= 2: (-6.400612985476225e-09+7.536578534606036e-11j)\n",
      "Integral result for l=l'= 3 and m=m'= 1: (0.9999966697377609+8.498833049071269e-11j)\n",
      "Integral result for l=l'= 3, m=1 and m'=2: (2.222499810982064e-10-5.939635642222676e-10j)\n",
      "Integral result for l=l'= 3, m=2 and m'=1: (2.222499810982064e-10+3.217128074559715e-10j)\n",
      "Integral result for l=l'= 3 and m=m'= 2: (0.9999999465751395-3.8619418611939997e-10j)\n"
     ]
    }
   ],
   "source": [
    "# Define the grid for alpha and delta\n",
    "alpha = jnp.linspace(0., 2*jnp.pi, 100)\n",
    "delta = jnp.linspace(-jnp.pi/2, jnp.pi/2, 100)\n",
    "\n",
    "# Create 2D meshgrid\n",
    "A, D = jnp.meshgrid(alpha, delta, indexing='ij')  # shape: (100, 100)\n",
    "\n",
    "# Choose l and m\n",
    "l_list = [2,3]\n",
    "m_list = [1,2]\n",
    "\n",
    "for l in l_list:\n",
    "    for l2 in l_list:\n",
    "        for m in m_list:\n",
    "            for m2 in m_list:\n",
    "\n",
    "                # Evaluate the spherical harmonics and their conjugate\n",
    "                Y = Y_lm(A, D, l2, m2)\n",
    "                Y_conj = Y_slm(A,D,l,m)\n",
    "\n",
    "                # Compute integrand\n",
    "                integrand = Y*Y_conj*jnp.cos(D)  # cos(δ) is the Jacobian factor for dΩ\n",
    "\n",
    "                # Integrate over delta (axis=1), then over alpha (axis=0)\n",
    "                int_delta = simpson(integrand, jnp.array(delta), axis=1)\n",
    "                area = simpson(int_delta, jnp.array(alpha))\n",
    "\n",
    "                if l==l2 and m==m2:\n",
    "                    print(f\"Integral result for l=l'= {l} and m=m'= {m}:\", area)\n",
    "                elif l!=l2 and m==m2:\n",
    "                    print(f\"Integral result for l={l}, l'={l2} and m=m'= {m}:\", area)\n",
    "                elif l==l2 and m!=m2:\n",
    "                    print(f\"Integral result for l=l'= {l}, m={m} and m'={m2}:\", area)\n",
    "                else: \n",
    "                    print(f\"Integral result for l={l}, l'={l2}, m={m} and m'={m2}:\", area)\n"
   ]
  },
  {
   "cell_type": "markdown",
   "id": "a7de7e98",
   "metadata": {},
   "source": [
    "### Testing code on Eq. 5\n",
    "$$\n",
    "\\int_\\Omega T_{lm} \\cdot T^*_{l'm'} d\\Omega = \\delta^{ll'}\\delta^{mm'}\n",
    "$$\n",
    "Repeate the same process as before:"
   ]
  },
  {
   "cell_type": "code",
   "execution_count": 14,
   "id": "3f3ea8ee",
   "metadata": {},
   "outputs": [
    {
     "name": "stdout",
     "output_type": "stream",
     "text": [
      "Integral result for l=l'= 4 and m=m'= 3: (0.9999999150317018+2.3006672971437323e-11j)\n",
      "Integral result for l=l'= 4, m=3 and m'=4: (-1.1558164664984885e-10+1.368662155383596e-12j)\n",
      "Integral result for l=l'= 4, m=4 and m'=3: (-1.1558164664984885e-10+8.809687904049576e-11j)\n",
      "Integral result for l=l'= 4 and m=m'= 4: (0.9999999714310258+1.4068467182272592e-10j)\n",
      "Integral result for l=4, l'=5 and m=m'= 3: (-2.980751343987721e-08+3.40924202843914e-10j)\n",
      "Integral result for l=4, l'=5, m=3 and m'=4: (-9.229662535983896e-09+1.230722581049208e-07j)\n",
      "Integral result for l=4, l'=5, m=4 and m'=3: (-1.4467581202059349e-10+1.0154504053751495e-08j)\n",
      "Integral result for l=4, l'=5 and m=m'= 4: (-2.5049596138764555e-09-4.499428427243526e-11j)\n",
      "Integral result for l=5, l'=4 and m=m'= 3: (-2.980751343987721e-08-3.079302678381011e-10j)\n",
      "Integral result for l=5, l'=4, m=3 and m'=4: (-1.4467581202059349e-10-1.054882928186137e-08j)\n",
      "Integral result for l=5, l'=4, m=4 and m'=3: (-9.229662535983896e-09-1.2310582816560606e-07j)\n",
      "Integral result for l=5, l'=4 and m=m'= 4: (-2.5049596138764555e-09+2.4822125150414655e-10j)\n",
      "Integral result for l=l'= 5 and m=m'= 3: (0.9999999479050681+9.42632862826038e-13j)\n",
      "Integral result for l=l'= 5, m=3 and m'=4: (4.716667619383574e-10-3.989259060886435e-10j)\n",
      "Integral result for l=l'= 5, m=4 and m'=3: (4.716667619383574e-10+5.070316551479983e-10j)\n",
      "Integral result for l=l'= 5 and m=m'= 4: (0.9999999693626045+2.3730450760636633e-11j)\n"
     ]
    }
   ],
   "source": [
    "# Define the grid for alpha and delta\n",
    "alpha = jnp.linspace(0., 2*jnp.pi, 100)\n",
    "epsilon = 0\n",
    "delta = jnp.linspace(-jnp.pi/2 + epsilon, jnp.pi/2 - epsilon, 100)\n",
    "\n",
    "\n",
    "# Create 2D meshgrid\n",
    "A, D = alpha, delta # shape: (100, 100)\n",
    "\n",
    "# Choose l and m\n",
    "l_list = [4,5]\n",
    "m_list = [3,4]\n",
    "\n",
    "for l in l_list:\n",
    "    for l2 in l_list:\n",
    "        for m in m_list:\n",
    "            for m2 in m_list:\n",
    "\n",
    "                # Evaluate the spherical harmonics and their conjugate\n",
    "                T = T_lm(A, D, l2, m2)\n",
    "                T_conj = T_slm(A,D,l,m)\n",
    "\n",
    "                # Compute integrand\n",
    "                integrand = jnp.einsum(\"ijk,ijk->ij\", T, T_conj)*jnp.cos(D)  \n",
    "\n",
    "                # Integrate over delta (axis=1), then over alpha (axis=0)\n",
    "                int_delta = simpson(integrand, jnp.array(delta), axis=1)\n",
    "                area = simpson(int_delta, jnp.array(alpha))\n",
    "\n",
    "                if l==l2 and m==m2:\n",
    "                    print(f\"Integral result for l=l'= {l} and m=m'= {m}:\", area)\n",
    "                elif l!=l2 and m==m2:\n",
    "                    print(f\"Integral result for l={l}, l'={l2} and m=m'= {m}:\", area)\n",
    "                elif l==l2 and m!=m2:\n",
    "                    print(f\"Integral result for l=l'= {l}, m={m} and m'={m2}:\", area)\n",
    "                else: \n",
    "                    print(f\"Integral result for l={l}, l'={l2}, m={m} and m'={m2}:\", area)\n"
   ]
  },
  {
   "cell_type": "markdown",
   "id": "17121e0e",
   "metadata": {},
   "source": [
    "### Testing code on Eq. 6\n",
    "$$\n",
    "\\int_\\Omega S_{lm} \\cdot S^*_{l'm'} d\\Omega = \\delta^{ll'}\\delta^{mm'}\n",
    "$$\n",
    "Repeate the same process as before:"
   ]
  },
  {
   "cell_type": "code",
   "execution_count": 15,
   "id": "8c9f1b98",
   "metadata": {},
   "outputs": [
    {
     "name": "stdout",
     "output_type": "stream",
     "text": [
      "Integral result for l=l'= 4 and m=m'= 3: (0.9999999153531928-1.0202841368850801e-10j)\n",
      "Integral result for l=l'= 4, m=3 and m'=4: (2.5289605549063683e-10-6.475725282594186e-10j)\n",
      "Integral result for l=l'= 4, m=4 and m'=3: (2.5289605549063683e-10+1.8504269066679968e-10j)\n",
      "Integral result for l=l'= 4 and m=m'= 4: (0.9999999630322367+1.6460248730530143e-10j)\n",
      "Integral result for l=4, l'=5 and m=m'= 3: (-3.231299597009137e-08+2.2334304870805588e-10j)\n",
      "Integral result for l=4, l'=5, m=3 and m'=4: (-7.4035441111064415e-09+1.2244556348581584e-07j)\n",
      "Integral result for l=4, l'=5, m=4 and m'=3: (8.5604304916366e-10+1.1450714821588457e-08j)\n",
      "Integral result for l=4, l'=5 and m=m'= 4: (-1.0347208165618429e-09-1.808726767854214e-10j)\n",
      "Integral result for l=5, l'=4 and m=m'= 3: (-3.231299597009137e-08-1.7952472986256657e-10j)\n",
      "Integral result for l=5, l'=4, m=3 and m'=4: (8.5604304916366e-10-1.1328972680894065e-08j)\n",
      "Integral result for l=5, l'=4, m=4 and m'=3: (-7.4035441111064415e-09-1.2280953230845316e-07j)\n",
      "Integral result for l=5, l'=4 and m=m'= 4: (-1.0347208165618429e-09+6.329514549638673e-11j)\n",
      "Integral result for l=l'= 5 and m=m'= 3: (0.9999999426294971+2.5076918843927243e-10j)\n",
      "Integral result for l=l'= 5, m=3 and m'=4: (1.346982081404541e-10+9.45120784770123e-11j)\n",
      "Integral result for l=l'= 5, m=4 and m'=3: (1.346982081404541e-10+3.047423640069824e-10j)\n",
      "Integral result for l=l'= 5 and m=m'= 4: (0.9999999655711218+5.307131458304803e-11j)\n"
     ]
    }
   ],
   "source": [
    "# Define the grid for alpha and delta\n",
    "alpha = jnp.linspace(0., 2*jnp.pi, 100)\n",
    "epsilon = 0\n",
    "delta = jnp.linspace(-jnp.pi/2 + epsilon, jnp.pi/2 - epsilon, 100)\n",
    "\n",
    "\n",
    "# Create 2D meshgrid\n",
    "A, D = alpha, delta # shape: (100, 100)\n",
    "\n",
    "# Choose l and m\n",
    "l_list = [4,5]\n",
    "m_list = [3,4]\n",
    "\n",
    "for l in l_list:\n",
    "    for l2 in l_list:\n",
    "        for m in m_list:\n",
    "            for m2 in m_list:\n",
    "\n",
    "                # Evaluate the spherical harmonics and their conjugate\n",
    "                S = S_lm(A, D, l2, m2)\n",
    "                S_conj = S_slm(A,D,l,m)\n",
    "\n",
    "                # Compute integrand\n",
    "                integrand = jnp.einsum(\"ijk,ijk->ij\", S, S_conj)*jnp.cos(D)  \n",
    "\n",
    "                # Integrate over delta (axis=1), then over alpha (axis=0)\n",
    "                int_delta = simpson(integrand, jnp.array(delta), axis=1)\n",
    "                area = simpson(int_delta, jnp.array(alpha))\n",
    "\n",
    "                if l==l2 and m==m2:\n",
    "                    print(f\"Integral result for l=l'= {l} and m=m'= {m}:\", area)\n",
    "                elif l!=l2 and m==m2:\n",
    "                    print(f\"Integral result for l={l}, l'={l2} and m=m'= {m}:\", area)\n",
    "                elif l==l2 and m!=m2:\n",
    "                    print(f\"Integral result for l=l'= {l}, m={m} and m'={m2}:\", area)\n",
    "                else: \n",
    "                    print(f\"Integral result for l={l}, l'={l2}, m={m} and m'={m2}:\", area)"
   ]
  },
  {
   "cell_type": "markdown",
   "id": "8eb297e4",
   "metadata": {},
   "source": [
    "As we can observe from the above outputs, from all experiments, the condition given in equation 4,5 and 6 are satisfied. For all outputs where $l=l'$ and $m=m'$ the result of the integral is $\\approx 1$, while for all the other conditions i.e. [$l=l'$, $m \\neq m'$], [$l \\neq l'$, $m=m'$] or [$l \\neq l'$,$m \\neq m'$] the result of the integral is $\\approx 0$, as espected."
   ]
  },
  {
   "cell_type": "markdown",
   "id": "845fa35a",
   "metadata": {},
   "source": [
    "## Testing on Results from Appendex\n",
    "Tests:\n",
    "1. $T_{10} = \\frac{1}{2} \\sqrt{\\frac{3}{2\\pi}}\\left(\\cos{\\delta} \\vec{e_{\\alpha}}\\right)$\n",
    "2. $T_{31} = \\frac{1}{16} \\sqrt{\\frac{7}{\\pi}}\\left(\\sin{\\delta}(15\\sin^{2}{\\delta}-11)(\\cos{\\alpha} + i\\sin{\\alpha})\\vec{e_{\\alpha}} -(5\\sin^2{\\delta} - 1)(\\sin{\\alpha} - i\\cos{\\alpha})\\vec{e_{\\delta}}\\right)$\n",
    "3. $S_{10} = \\frac{1}{2} \\sqrt{\\frac{3}{2\\pi}}\\left(\\cos{\\delta} \\vec{e_{\\delta}}\\right)$\n",
    "4. $S_{31} = \\frac{1}{16} \\sqrt{\\frac{7}{\\pi}}\\left((5\\sin^{2}{\\delta}-1)(\\cos{\\alpha} - i\\sin{\\alpha})\\vec{e_{\\alpha}} +\\sin{\\delta}(15\\sin^{2}{\\delta}-11)(\\cos{\\alpha} + i\\sin{\\alpha})\\vec{e_{\\delta}}\\right)$"
   ]
  },
  {
   "cell_type": "code",
   "execution_count": 16,
   "id": "837c18ca",
   "metadata": {},
   "outputs": [],
   "source": [
    "alpha = 1.0  # arbitrary\n",
    "delta = 0.3  # away from pole, cos(delta) != 0\n",
    "\n",
    "def e_alpha(a, d): \n",
    "    return jnp.array([-jnp.sin(alpha)/jnp.cos(delta),jnp.cos(alpha)/jnp.cos(delta), 0.0])\n",
    "\n",
    "def e_delta(a, d): \n",
    "    return jnp.array([-jnp.cos(alpha)*jnp.sin(delta), -jnp.sin(alpha)*jnp.sin(delta), jnp.cos(delta)])"
   ]
  },
  {
   "cell_type": "code",
   "execution_count": 17,
   "id": "5725e7d3",
   "metadata": {},
   "outputs": [
    {
     "name": "stdout",
     "output_type": "stream",
     "text": [
      "Computed T_10: [-0.27773857+0.j  0.1783339 +0.j  0.        +0.j]\n",
      "True value: [-0.29072326  0.18667127  0.        ]\n",
      "Difference: [0.01298469 0.00833738 0.        ]\n"
     ]
    }
   ],
   "source": [
    "alpha = 1.0  # arbitrary\n",
    "delta = 0.3  # away from pole, cos(delta) != 0\n",
    "\n",
    "# Testing 1.\n",
    "T = T_lm(alpha, delta, 1, 0, grid=False)\n",
    "\n",
    "expected = 0.5*jnp.sqrt(3/(2*jnp.pi))*jnp.cos(delta)*e_alpha(alpha,delta)\n",
    "print(\"Computed T_10:\", T)\n",
    "print(\"True value:\", expected)\n",
    "print(\"Difference:\", jnp.abs(T - expected))\n"
   ]
  },
  {
   "cell_type": "code",
   "execution_count": 18,
   "id": "62e7b66e",
   "metadata": {},
   "outputs": [
    {
     "name": "stdout",
     "output_type": "stream",
     "text": [
      "Computed T_31: [ 0.11440103+0.19370048j -0.08898747-0.11440103j  0.0422493 -0.02712796j]\n",
      "True value: [ 0.12007959+0.20254433j -0.09263363-0.12007959j  0.04224929-0.02712796j]\n",
      "Difference: [-5.6785643e-03-0.00884385j  3.6461651e-03+0.00567856j\n",
      "  3.7252903e-09+0.j        ]\n"
     ]
    }
   ],
   "source": [
    "# Testing 2.\n",
    "T = T_lm(alpha, delta, 3, 1, grid=False)\n",
    "\n",
    "expected = (1/16)*jnp.sqrt(7/jnp.pi)*(jnp.sin(delta)*(15*jnp.sin(delta)**2 - 11)*(jnp.cos(alpha) + \n",
    "                1j*jnp.sin(alpha))*e_alpha(alpha,delta) - (5*jnp.sin(delta)**2 - 1)*(jnp.sin(alpha)\n",
    "                        - 1j*jnp.cos(alpha))*e_delta(alpha,delta))\n",
    "print(\"Computed T_31:\", T)\n",
    "print(\"True value:\", expected)\n",
    "print(\"Difference:\", T - expected)"
   ]
  },
  {
   "cell_type": "code",
   "execution_count": 19,
   "id": "b78cd788",
   "metadata": {},
   "outputs": [
    {
     "name": "stdout",
     "output_type": "stream",
     "text": [
      "Computed S_10: [-0.05270127+0.j -0.08207737+0.j  0.31532142+0.j]\n",
      "True value: [-0.05270127 -0.08207736  0.3153214 ]\n",
      "Difference: [3.7252903e-09 7.4505806e-09 2.9802322e-08]\n"
     ]
    }
   ],
   "source": [
    "# Testing 3.\n",
    "S = S_lm(alpha, delta, 1, 0, grid=False)\n",
    "\n",
    "expected = 0.5*jnp.sqrt(3/(2*jnp.pi))*jnp.cos(delta)*e_delta(alpha,delta)\n",
    "print(\"Computed S_10:\", S)\n",
    "print(\"True value:\", expected)\n",
    "print(\"Difference:\", jnp.abs(S - expected))"
   ]
  },
  {
   "cell_type": "code",
   "execution_count": 20,
   "id": "6220ef67",
   "metadata": {},
   "outputs": [
    {
     "name": "stdout",
     "output_type": "stream",
     "text": [
      "Computed S_31: [ 0.0602613 +0.01199998j  0.01199998+0.07124506j -0.13789833-0.21476392j]\n",
      "True value: [ 0.06200109+0.01088288j  0.01088287+0.07196235j -0.13789834-0.21476394j]\n",
      "Difference: [-1.7397925e-03+1.1171065e-03j  1.1171065e-03-7.1728975e-04j\n",
      "  1.4901161e-08+1.4901161e-08j]\n"
     ]
    }
   ],
   "source": [
    "# Testing 3.\n",
    "S = S_lm(alpha, delta, 3, 1, grid=False)\n",
    "\n",
    "expected = (1/16)*jnp.sqrt(7/jnp.pi)*(jnp.sin(delta)*(15*jnp.sin(delta)**2 - 11)*(jnp.cos(alpha) + \n",
    "                1j*jnp.sin(alpha))*e_delta(alpha,delta) + (5*jnp.sin(delta)**2 - 1)*(jnp.sin(alpha)\n",
    "                        - 1j*jnp.cos(alpha))*e_alpha(alpha,delta))\n",
    "print(\"Computed S_31:\", S)\n",
    "print(\"True value:\", expected)\n",
    "print(\"Difference:\", S - expected)"
   ]
  },
  {
   "cell_type": "code",
   "execution_count": 21,
   "id": "c820c550",
   "metadata": {},
   "outputs": [],
   "source": [
    "import timeit\n",
    "import math\n",
    "import matplotlib.pyplot as plt\n",
    "import numpy as np\n",
    "from functools import partial, lru_cache"
   ]
  },
  {
   "cell_type": "code",
   "execution_count": 22,
   "id": "ec5e27bb",
   "metadata": {},
   "outputs": [
    {
     "data": {
      "image/png": "[encoded data removed]",
      "text/plain": [
       "<Figure size 640x480 with 1 Axes>"
      ]
     },
     "metadata": {},
     "output_type": "display_data"
    }
   ],
   "source": [
    "time1 = []\n",
    "time2 = []\n",
    "space = []\n",
    "for i in range(0,101):\n",
    "    time01 = timeit.timeit('math.factorial(i)', globals=globals(), number=100000)\n",
    "    time02 = timeit.timeit('factorial(i)', globals=globals(), number=100000)\n",
    "    time1.append(time01)\n",
    "    time2.append(time02)\n",
    "    space.append(i)\n",
    "\n",
    "\n",
    "plt.plot(space, time1, label = 'math.factorial()')\n",
    "plt.plot(space, time2, label = 'math.factorial() with wrapper')\n",
    "plt.xlabel('n')\n",
    "plt.ylabel('Total run time (number=100000)')\n",
    "plt.title('Standard math.factorial vs lru_cache Wrapped Version')\n",
    "plt.legend()\n",
    "plt.grid(True)\n",
    "plt.show()"
   ]
  },
  {
   "cell_type": "code",
   "execution_count": 23,
   "id": "4f0612c1",
   "metadata": {},
   "outputs": [],
   "source": [
    "@lru_cache(maxsize=256)\n",
    "def make_legendre_polynomial(l: int):\n",
    "    def P_l_scalar(x_val):\n",
    "        sum0 = 0.\n",
    "        for k in range(0, l//2 + 1):\n",
    "            term = (-1)**k*factorial(2*l - 2*k)/(\n",
    "                2**l*factorial(k)*factorial(l - k)*factorial(l - 2*k)\n",
    "            ) * x_val**(l - 2*k)\n",
    "            sum0 += term\n",
    "        return sum0\n",
    "    return P_l_scalar\n",
    "\n",
    "def make_P_lm_scalar(l, m):\n",
    "    P_l = make_legendre_polynomial(l)\n",
    "    for _ in range(abs(m)):\n",
    "        P_l = jax.grad(P_l)\n",
    "\n",
    "    def P_lm(x_val):\n",
    "        base = P_l(x_val)\n",
    "        if m >= 0:\n",
    "            return (1 - x_val**2)**(m/2)*base\n",
    "        else:\n",
    "            prefactor = (-1)**(-m)*factorial(l + m)/factorial(l - m)\n",
    "            return prefactor * (1 - x_val**2)**(-m/2)*base\n",
    "    return jax.jit(P_lm)\n",
    "\n",
    "def P_lm(x, l, m):\n",
    "    P_lm_scalar = make_P_lm_scalar(l, m)\n",
    "\n",
    "    if jnp.ndim(x) == 0:\n",
    "        return P_lm_scalar(x)\n",
    "    elif jnp.ndim(x) == 1:\n",
    "        return jax.vmap(P_lm_scalar)(x)\n",
    "    elif jnp.ndim(x) == 2:\n",
    "        return jax.vmap(jax.vmap(P_lm_scalar))(x)\n",
    "    else:\n",
    "        raise ValueError(\"Unsupported input dimension for P_lm\")\n",
    "P_lm_wrapped = jax.jit(P_lm, static_argnames=[\"l\", \"m\"])"
   ]
  },
  {
   "cell_type": "code",
   "execution_count": 24,
   "id": "1d39daf4",
   "metadata": {},
   "outputs": [],
   "source": [
    "time_fixed_lm1 = []\n",
    "time_fixed_lm2 = []\n",
    "\n",
    "time_fixed_xm1 = []\n",
    "time_fixed_xm2 = []\n",
    "\n",
    "time_fixed_xl1 = []\n",
    "time_fixed_xl2 = []\n",
    "\n",
    "x_space = []\n",
    "l_space = []\n",
    "m_space = []\n",
    "\n",
    "for x in np.arange(-100.0, 101.0, 1.0):\n",
    "    x_space.append(x)\n",
    "\n",
    "    result = timeit.timeit(lambda: P_lm(x, 3, 2), number=10)\n",
    "    result_wrapped = timeit.timeit(lambda: P_lm_wrapped(x, 3, 2), number=10)\n",
    "\n",
    "    time_fixed_lm1.append(result)\n",
    "    time_fixed_lm2.append(result_wrapped)\n",
    "    "
   ]
  },
  {
   "cell_type": "code",
   "execution_count": 25,
   "id": "f5ed64a5",
   "metadata": {},
   "outputs": [
    {
     "data": {
      "image/png": "[encoded data removed]",
      "text/plain": [
       "<Figure size 640x480 with 1 Axes>"
      ]
     },
     "metadata": {},
     "output_type": "display_data"
    }
   ],
   "source": [
    "plt.plot(x_space, time_fixed_lm1, label='P_lm')\n",
    "plt.plot(x_space, time_fixed_lm2, label='P_lm_wrapped')\n",
    "plt.title('Testing Computation Time (number=10) Wrapped (with jit) vs Unwrapped P_lm')\n",
    "plt.xlabel('x')\n",
    "plt.ylabel('Time (s)')\n",
    "plt.legend()\n",
    "plt.grid()\n",
    "plt.show()"
   ]
  }
 ],
 "metadata": {
  "kernelspec": {
   "display_name": "gaia_venv",
   "language": "python",
   "name": "python3"
  },
  "language_info": {
   "codemirror_mode": {
    "name": "ipython",
    "version": 3
   },
   "file_extension": ".py",
   "mimetype": "text/x-python",
   "name": "python",
   "nbconvert_exporter": "python",
   "pygments_lexer": "ipython3",
   "version": "3.12.3"
  }
 },
 "nbformat": 4,
 "nbformat_minor": 5
}
